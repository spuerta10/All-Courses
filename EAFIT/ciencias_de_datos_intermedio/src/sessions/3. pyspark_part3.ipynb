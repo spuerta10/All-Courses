{
 "cells": [
  {
   "cell_type": "markdown",
   "metadata": {},
   "source": [
    "El sort en Spark no ordena las diferentes particiones.\n",
    "\n",
    "Si se desea ordenar las particiones se debe de usar order by. "
   ]
  },
  {
   "cell_type": "markdown",
   "metadata": {},
   "source": [
    "Pandas concatena por columnas por un indice, si el indice no coincide queda un dataframe desigual con nulos en los campos que no coinciden.\n",
    "\n",
    "En Spark solo se puede concatenar por filas. "
   ]
  },
  {
   "cell_type": "markdown",
   "metadata": {},
   "source": [
    "Usar mejor el metodo isnull() de pandas ya que reconoce mas tipos de datos nulos que posee python."
   ]
  },
  {
   "cell_type": "markdown",
   "metadata": {},
   "source": [
    "Para saber si la media tiene sentido calcular el coeficiente de variacion, segun la teoria la variacion a lo sumo deberia de ser del 5%."
   ]
  },
  {
   "cell_type": "markdown",
   "metadata": {},
   "source": [
    "Metodos de agregacion para calcular la media, std, min, max, entre otros"
   ]
  }
 ],
 "metadata": {
  "kernelspec": {
   "display_name": "Python 3.9.5 64-bit",
   "language": "python",
   "name": "python3"
  },
  "language_info": {
   "name": "python",
   "version": "3.9.5"
  },
  "orig_nbformat": 4,
  "vscode": {
   "interpreter": {
    "hash": "0d591c6e422414675974e227c13f5382000c440fedd3c5006ef2be5d887f0ba7"
   }
  }
 },
 "nbformat": 4,
 "nbformat_minor": 2
}
