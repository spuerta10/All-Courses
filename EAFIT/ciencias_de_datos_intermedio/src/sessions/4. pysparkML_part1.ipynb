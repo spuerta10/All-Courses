{
 "cells": [
  {
   "cell_type": "markdown",
   "id": "9f1f8b41",
   "metadata": {},
   "source": [
    "<img src=\"Apache_Spark_logo.svg.png\" height=\"300\" width=\"300\">"
   ]
  },
  {
   "cell_type": "markdown",
   "id": "03675432",
   "metadata": {},
   "source": [
    "# Packages"
   ]
  },
  {
   "cell_type": "code",
   "execution_count": 2,
   "id": "e4bdc140",
   "metadata": {
    "ExecuteTime": {
     "end_time": "2022-10-29T12:37:43.872183Z",
     "start_time": "2022-10-29T12:37:43.210875Z"
    }
   },
   "outputs": [],
   "source": [
    "import pandas as pd\n",
    "pd.set_option(\"display.max.columns\", 50)\n",
    "import findspark\n",
    "findspark.init()"
   ]
  },
  {
   "cell_type": "code",
   "execution_count": 23,
   "id": "bcc6f3ee",
   "metadata": {
    "ExecuteTime": {
     "end_time": "2022-10-29T12:47:46.755753Z",
     "start_time": "2022-10-29T12:47:46.741779Z"
    }
   },
   "outputs": [],
   "source": [
    "from pyspark.sql import SparkSession\n",
    "from pyspark.sql.types import StructType, StructField, StringType, FloatType, IntegerType\n",
    "from pyspark.sql.functions import countDistinct"
   ]
  },
  {
   "cell_type": "code",
   "execution_count": 17,
   "id": "1c41f86f",
   "metadata": {
    "ExecuteTime": {
     "end_time": "2022-10-29T12:46:01.198314Z",
     "start_time": "2022-10-29T12:46:01.180399Z"
    }
   },
   "outputs": [
    {
     "data": {
      "text/html": [
       "<style>pre { white-space: pre !important; }</style>"
      ],
      "text/plain": [
       "<IPython.core.display.HTML object>"
      ]
     },
     "metadata": {},
     "output_type": "display_data"
    }
   ],
   "source": [
    "from IPython.core.display import HTML\n",
    "display(HTML(\"<style>pre { white-space: pre !important; }</style>\"))"
   ]
  },
  {
   "cell_type": "markdown",
   "id": "5e7c7cfb",
   "metadata": {},
   "source": [
    "# Spark Session"
   ]
  },
  {
   "cell_type": "code",
   "execution_count": 4,
   "id": "8f71f09a",
   "metadata": {
    "ExecuteTime": {
     "end_time": "2022-10-29T12:39:19.261909Z",
     "start_time": "2022-10-29T12:39:14.302457Z"
    }
   },
   "outputs": [],
   "source": [
    "spark = (SparkSession.builder\n",
    "                     .appName(\"PysparkSession\")\n",
    "                     .getOrCreate())"
   ]
  },
  {
   "cell_type": "markdown",
   "id": "f6b07b79",
   "metadata": {},
   "source": [
    "# DataFrames"
   ]
  },
  {
   "cell_type": "markdown",
   "id": "1b1b1751",
   "metadata": {},
   "source": [
    "## Empty DataFrame"
   ]
  },
  {
   "cell_type": "markdown",
   "id": "deccf1ec",
   "metadata": {},
   "source": [
    "### Pandas"
   ]
  },
  {
   "cell_type": "code",
   "execution_count": 7,
   "id": "0148c2b4",
   "metadata": {
    "ExecuteTime": {
     "end_time": "2022-10-29T12:39:50.675578Z",
     "start_time": "2022-10-29T12:39:50.653550Z"
    }
   },
   "outputs": [
    {
     "data": {
      "text/html": [
       "<div>\n",
       "<style scoped>\n",
       "    .dataframe tbody tr th:only-of-type {\n",
       "        vertical-align: middle;\n",
       "    }\n",
       "\n",
       "    .dataframe tbody tr th {\n",
       "        vertical-align: top;\n",
       "    }\n",
       "\n",
       "    .dataframe thead th {\n",
       "        text-align: right;\n",
       "    }\n",
       "</style>\n",
       "<table border=\"1\" class=\"dataframe\">\n",
       "  <thead>\n",
       "    <tr style=\"text-align: right;\">\n",
       "      <th></th>\n",
       "    </tr>\n",
       "  </thead>\n",
       "  <tbody>\n",
       "  </tbody>\n",
       "</table>\n",
       "</div>"
      ],
      "text/plain": [
       "Empty DataFrame\n",
       "Columns: []\n",
       "Index: []"
      ]
     },
     "execution_count": 7,
     "metadata": {},
     "output_type": "execute_result"
    }
   ],
   "source": [
    "pd.DataFrame()"
   ]
  },
  {
   "cell_type": "code",
   "execution_count": 8,
   "id": "cc5a80e6",
   "metadata": {
    "ExecuteTime": {
     "end_time": "2022-10-29T12:40:21.101415Z",
     "start_time": "2022-10-29T12:40:21.080471Z"
    }
   },
   "outputs": [
    {
     "data": {
      "text/html": [
       "<div>\n",
       "<style scoped>\n",
       "    .dataframe tbody tr th:only-of-type {\n",
       "        vertical-align: middle;\n",
       "    }\n",
       "\n",
       "    .dataframe tbody tr th {\n",
       "        vertical-align: top;\n",
       "    }\n",
       "\n",
       "    .dataframe thead th {\n",
       "        text-align: right;\n",
       "    }\n",
       "</style>\n",
       "<table border=\"1\" class=\"dataframe\">\n",
       "  <thead>\n",
       "    <tr style=\"text-align: right;\">\n",
       "      <th></th>\n",
       "      <th>col_1</th>\n",
       "      <th>col_2</th>\n",
       "      <th>col_3</th>\n",
       "    </tr>\n",
       "  </thead>\n",
       "  <tbody>\n",
       "  </tbody>\n",
       "</table>\n",
       "</div>"
      ],
      "text/plain": [
       "Empty DataFrame\n",
       "Columns: [col_1, col_2, col_3]\n",
       "Index: []"
      ]
     },
     "execution_count": 8,
     "metadata": {},
     "output_type": "execute_result"
    }
   ],
   "source": [
    "cols = [\"col_1\", \"col_2\", \"col_3\"]\n",
    "df_pd = pd.DataFrame(columns = cols)\n",
    "df_pd"
   ]
  },
  {
   "cell_type": "markdown",
   "id": "9391d12e",
   "metadata": {},
   "source": [
    "### Pyspark"
   ]
  },
  {
   "cell_type": "code",
   "execution_count": 13,
   "id": "b99e8dd3",
   "metadata": {
    "ExecuteTime": {
     "end_time": "2022-10-29T12:42:41.670329Z",
     "start_time": "2022-10-29T12:42:34.829055Z"
    }
   },
   "outputs": [
    {
     "name": "stdout",
     "output_type": "stream",
     "text": [
      "++\n",
      "||\n",
      "++\n",
      "++\n",
      "\n"
     ]
    }
   ],
   "source": [
    "df_spark = spark.createDataFrame(df_pd, schema = StructType([]))\n",
    "df_spark.show()"
   ]
  },
  {
   "cell_type": "code",
   "execution_count": 14,
   "id": "2b602a64",
   "metadata": {
    "ExecuteTime": {
     "end_time": "2022-10-29T12:42:49.549496Z",
     "start_time": "2022-10-29T12:42:44.268315Z"
    }
   },
   "outputs": [
    {
     "name": "stdout",
     "output_type": "stream",
     "text": [
      "++\n",
      "||\n",
      "++\n",
      "++\n",
      "\n"
     ]
    }
   ],
   "source": [
    "df_spark = spark.createDataFrame(data = [], schema = StructType([]))\n",
    "df_spark.show()"
   ]
  },
  {
   "cell_type": "code",
   "execution_count": 15,
   "id": "b25cb1ae",
   "metadata": {
    "ExecuteTime": {
     "end_time": "2022-10-29T12:44:12.405285Z",
     "start_time": "2022-10-29T12:44:06.925142Z"
    }
   },
   "outputs": [
    {
     "name": "stdout",
     "output_type": "stream",
     "text": [
      "+-----+-----+-----+\n",
      "|col_1|col_2|col_3|\n",
      "+-----+-----+-----+\n",
      "+-----+-----+-----+\n",
      "\n"
     ]
    }
   ],
   "source": [
    "schema = StructType([\n",
    "    StructField(\"col_1\", StringType(), True),\n",
    "    StructField(\"col_2\", FloatType(), True),\n",
    "    StructField(\"col_3\", IntegerType(), True),\n",
    "])\n",
    "\n",
    "df_spark = spark.createDataFrame(data = [], schema = schema)\n",
    "df_spark.show()"
   ]
  },
  {
   "cell_type": "markdown",
   "id": "23ff63bd",
   "metadata": {},
   "source": [
    "## Count Distinct"
   ]
  },
  {
   "cell_type": "code",
   "execution_count": 18,
   "id": "d0ed00ae",
   "metadata": {
    "ExecuteTime": {
     "end_time": "2022-10-29T12:46:08.864222Z",
     "start_time": "2022-10-29T12:46:08.573002Z"
    }
   },
   "outputs": [
    {
     "name": "stdout",
     "output_type": "stream",
     "text": [
      "+---------+-----------------+-----------+---------+----------+------------+-----------+------------+---------------+----------+------+-----+------+-----------+-----------+----------------+-----------+-----------+----+------+-----------------+----------+--------+--------+-----------+-------+\n",
      "|symboling|normalized-losses|       make|fuel-type|aspiration|num-of-doors| body-style|drive-wheels|engine-location|wheel-base|length|width|height|curb-weight|engine-type|num-of-cylinders|engine-size|fuel-system|bore|stroke|compression-ratio|horsepower|peak-rpm|city-mpg|highway-mpg|  price|\n",
      "+---------+-----------------+-----------+---------+----------+------------+-----------+------------+---------------+----------+------+-----+------+-----------+-----------+----------------+-----------+-----------+----+------+-----------------+----------+--------+--------+-----------+-------+\n",
      "|        3|             null|alfa-romero|      gas|       std|         two|convertible|         rwd|          front|      88.6| 168.8| 64.1|  48.8|       2548|       dohc|            four|        130|       mpfi|3.47|  2.68|              9.0|     111.0|  5000.0|      21|         27|13495.0|\n",
      "|        3|             null|alfa-romero|      gas|       std|         two|convertible|         rwd|          front|      88.6| 168.8| 64.1|  48.8|       2548|       dohc|            four|        130|       mpfi|3.47|  2.68|              9.0|     111.0|  5000.0|      21|         27|16500.0|\n",
      "|        1|             null|alfa-romero|      gas|       std|         two|  hatchback|         rwd|          front|      94.5| 171.2| 65.5|  52.4|       2823|       ohcv|             six|        152|       mpfi|2.68|  3.47|              9.0|     154.0|  5000.0|      19|         26|16500.0|\n",
      "|        2|            164.0|       audi|      gas|       std|        four|      sedan|         fwd|          front|      99.8| 176.6| 66.2|  54.3|       2337|        ohc|            four|        109|       mpfi|3.19|   3.4|             10.0|     102.0|  5500.0|      24|         30|13950.0|\n",
      "|        2|            164.0|       audi|      gas|       std|        four|      sedan|         4wd|          front|      99.4| 176.6| 66.4|  54.3|       2824|        ohc|            five|        136|       mpfi|3.19|   3.4|              8.0|     115.0|  5500.0|      18|         22|17450.0|\n",
      "+---------+-----------------+-----------+---------+----------+------------+-----------+------------+---------------+----------+------+-----+------+-----------+-----------+----------------+-----------+-----------+----+------+-----------------+----------+--------+--------+-----------+-------+\n",
      "only showing top 5 rows\n",
      "\n"
     ]
    }
   ],
   "source": [
    "df_auto = spark.read.format(\"parquet\")\\\n",
    "                    .option(\"header\", True)\\\n",
    "                    .load(\"./datasets/Automobile_data.parquet\")\n",
    "df_auto.show(5)"
   ]
  },
  {
   "cell_type": "code",
   "execution_count": 22,
   "id": "29b417ae",
   "metadata": {
    "ExecuteTime": {
     "end_time": "2022-10-29T12:47:10.979100Z",
     "start_time": "2022-10-29T12:47:10.685888Z"
    }
   },
   "outputs": [
    {
     "data": {
      "text/plain": [
       "22"
      ]
     },
     "execution_count": 22,
     "metadata": {},
     "output_type": "execute_result"
    }
   ],
   "source": [
    "df_auto.select(\"make\").distinct().count()"
   ]
  },
  {
   "cell_type": "code",
   "execution_count": 26,
   "id": "8e434f11",
   "metadata": {
    "ExecuteTime": {
     "end_time": "2022-10-29T12:49:06.964223Z",
     "start_time": "2022-10-29T12:49:06.596899Z"
    }
   },
   "outputs": [
    {
     "name": "stdout",
     "output_type": "stream",
     "text": [
      "+-------------------+\n",
      "|count_distinct_make|\n",
      "+-------------------+\n",
      "|                 22|\n",
      "+-------------------+\n",
      "\n"
     ]
    },
    {
     "data": {
      "text/plain": [
       "22"
      ]
     },
     "execution_count": 26,
     "metadata": {},
     "output_type": "execute_result"
    }
   ],
   "source": [
    "df_auto.select(countDistinct(\"make\").alias(\"count_distinct_make\")).show()\n",
    "df_auto.select(countDistinct(\"make\").alias(\"count_distinct_make\")).collect()[0].__getitem__(\"count_distinct_make\")"
   ]
  },
  {
   "cell_type": "markdown",
   "id": "78719925",
   "metadata": {},
   "source": [
    "# Pyspark vs Pandas\n",
    "\n",
    "El aumento de los datos es inevitable y en los ultimos años esto ha sido evidente, lo cual aumenta la cantidad de tiempo \n",
    "de procesamiento de dichos datos, aunque existen herramientas que logran analizar y trabajar con dichos datos, tales como \n",
    "`Python` con `Pandas`, sin embargo, `Pandas` carga su marco de datos en la memoria, lo cual ocasiona que al tener grandes\n",
    "volumenes de datos, la memoria del PC no logra soprtar tanta información. Actualmente existen herramientas como \n",
    "`Apache Spark`, que al realizar una programación distribuida, logra obtener grandes procesamientos de datos a una gran \n",
    "velodicad, aunque sin dejar de lado que `Apache Spark`no e sun lenguaje de programación y que se pude ver limitado en\n",
    "algunos aspectos."
   ]
  },
  {
   "cell_type": "markdown",
   "id": "2b253b56",
   "metadata": {},
   "source": [
    "## Cuando utilizar Pyspark en lugar de Pandas\n",
    "\n",
    "Saber cuando utilizar una herramienta o la otra, puede ser comlicado, inclusive hasta el punto en las que algunos \n",
    "Científicos de Datos asumen que `Pyspark` es mejor que `Pandas`, pero esto no es del toso cierto,sin embargo, acá podemos \n",
    "ver una comparación sobre la cnatidad de GB que se puden caragr con `Pandas` y `Pyspark`:\n",
    "\n",
    "<img src=\"sp_1JPG.jpg\" height=\"600\" width=\"600\">\n",
    "\n",
    "**Nota:** la prueba se realizó bajo las siguientes especificaciones de Hardware:\n",
    "\n",
    "- **Número de núcleos de CPU:** 32 núcleos virtuales (16 núcleos físicos), CPU Intel Xeon E5–2686 v4 @ 2.30GHz\n",
    "- **Memoria del sistema:** 244 GB\n",
    "- **Disco local:** 4 SSD NVMe de 1900 GB\n",
    "\n",
    "En teoría `Pyspark` es hasta 100 veces más rápido que `Pandas`, sin embargo, tienen el mismo tiempo de ejecución para \n",
    "hasta cierta cantidad de GB, aunque, cuando se supera cierto límite de GB, sus tiempos de ejecución cambian, y es que\n",
    "Pandas se ve limitado por la memoria, a conntinuación, podemos observar la comapración en la siguiente gráfica:\n",
    "\n",
    "<img src=\"sp_2.jpg\" height=\"950\" width=\"950\">\n",
    "\n",
    "Para la fase inicial de hasta 20 GB, están teniendo la misma pendiente, pero a medida que aumenta el tamaño del archivo, \n",
    "`Pandas` se queda sin memoria y `PySpark` pudo completar el trabajo con éxito.\n",
    "\n",
    "Aunque `Pyspark` resultó siendo más rápiado que `Pandas` para grandes volúmenes de datos, al tener conjuntos de datos \n",
    "pequeños de 10-12 GB, puede preferir `Pandas` sobre `PySpark`, debido al mismo tiempo de ejecución y menos complejidad, y \n",
    "por encima de eso, debe trabajar con `PySpark`."
   ]
  },
  {
   "cell_type": "markdown",
   "id": "0556819b",
   "metadata": {},
   "source": [
    "# Artificial Intelligence\n",
    "\n",
    "<br>\n",
    "<img src=\"IA.jpg\" height = \"750\" width = \"750\">\n",
    "<br>"
   ]
  },
  {
   "cell_type": "markdown",
   "id": "b1622429",
   "metadata": {},
   "source": [
    "## Machine Learning\n",
    "\n",
    "<img src=\"MLearning.jpg\" height = \"500\" width = \"500\">\n",
    "\n",
    "El Machine Learning es una rama de la Inteligencia Artificial que, a través de algoritmos, dota a las \"máquinas\" \n",
    "la capacidad de identificar patrones en datos (o la capacidad de \"aprender\") y realizar predicciones.\n",
    "Este aprendizaje permite a las máquinas realizar tareas específicas como clasificación, forecasting, \n",
    "sistemas de recomendación y entre otros.\n",
    "\n",
    "Podemos utilizar el ML para:\n",
    "\n",
    "- Problemas para los cuales las soluciones existentes requieren una gran cantidad de trabajo.\n",
    "- Problemas complejos para los que no existe una solución con los métodos tradicionales.\n",
    "- Entornos fluctuantes.\n",
    "- Obtener información sobre problemas complejos y grandes cantidades de datos.\n",
    "\n",
    "Python y R son lenguajes de programación mas populares para el análisis de datos, machine leraning, IA, y deep learning\n",
    "\n",
    "<img src=\"R.jpg\" height = \"300\" width = \"300\">"
   ]
  },
  {
   "cell_type": "markdown",
   "id": "382ff0a8",
   "metadata": {},
   "source": [
    "## Tipos de algoritmos en ML\n",
    "Los sistemas de machine learning los clasificaremos de acuerdo a la relación que se establezca entre los datos de entrada y salida, además de la naturaleza continua o discreta de los datos. A continuación, podemos ver algunos de ellos:\n",
    "<br>\n",
    "<br>\n",
    "<img src=\"ML.png\" height = \"800\" width = \"800\">\n",
    "<br>"
   ]
  },
  {
   "cell_type": "markdown",
   "id": "c713fe18",
   "metadata": {},
   "source": [
    "## ML Build\n",
    "\n",
    "<img src=\"ml_2.jfif\" height = \"650\" width = \"650\">"
   ]
  },
  {
   "cell_type": "markdown",
   "id": "e813bb03",
   "metadata": {},
   "source": [
    "# ML end-to-end\n",
    "<br>\n",
    "<br>\n",
    "<img src=\"MLend.jpg\" height = \"750\" width = \"750\">"
   ]
  },
  {
   "cell_type": "markdown",
   "id": "c4102586",
   "metadata": {},
   "source": [
    "# EDA"
   ]
  },
  {
   "cell_type": "markdown",
   "id": "0cd49278",
   "metadata": {},
   "source": [
    "## Pyspark"
   ]
  },
  {
   "cell_type": "code",
   "execution_count": 27,
   "id": "1e175fbf",
   "metadata": {
    "ExecuteTime": {
     "end_time": "2022-10-29T15:35:49.507534Z",
     "start_time": "2022-10-29T15:35:48.691437Z"
    }
   },
   "outputs": [
    {
     "name": "stdout",
     "output_type": "stream",
     "text": [
      "+---------+-----------------+-----------+---------+----------+------------+-----------+------------+---------------+----------+------+-----+------+-----------+-----------+----------------+-----------+-----------+----+------+-----------------+----------+--------+--------+-----------+-------+\n",
      "|symboling|normalized-losses|       make|fuel-type|aspiration|num-of-doors| body-style|drive-wheels|engine-location|wheel-base|length|width|height|curb-weight|engine-type|num-of-cylinders|engine-size|fuel-system|bore|stroke|compression-ratio|horsepower|peak-rpm|city-mpg|highway-mpg|  price|\n",
      "+---------+-----------------+-----------+---------+----------+------------+-----------+------------+---------------+----------+------+-----+------+-----------+-----------+----------------+-----------+-----------+----+------+-----------------+----------+--------+--------+-----------+-------+\n",
      "|        3|             null|alfa-romero|      gas|       std|         two|convertible|         rwd|          front|      88.6| 168.8| 64.1|  48.8|       2548|       dohc|            four|        130|       mpfi|3.47|  2.68|              9.0|     111.0|  5000.0|      21|         27|13495.0|\n",
      "|        3|             null|alfa-romero|      gas|       std|         two|convertible|         rwd|          front|      88.6| 168.8| 64.1|  48.8|       2548|       dohc|            four|        130|       mpfi|3.47|  2.68|              9.0|     111.0|  5000.0|      21|         27|16500.0|\n",
      "|        1|             null|alfa-romero|      gas|       std|         two|  hatchback|         rwd|          front|      94.5| 171.2| 65.5|  52.4|       2823|       ohcv|             six|        152|       mpfi|2.68|  3.47|              9.0|     154.0|  5000.0|      19|         26|16500.0|\n",
      "|        2|            164.0|       audi|      gas|       std|        four|      sedan|         fwd|          front|      99.8| 176.6| 66.2|  54.3|       2337|        ohc|            four|        109|       mpfi|3.19|   3.4|             10.0|     102.0|  5500.0|      24|         30|13950.0|\n",
      "|        2|            164.0|       audi|      gas|       std|        four|      sedan|         4wd|          front|      99.4| 176.6| 66.4|  54.3|       2824|        ohc|            five|        136|       mpfi|3.19|   3.4|              8.0|     115.0|  5500.0|      18|         22|17450.0|\n",
      "+---------+-----------------+-----------+---------+----------+------------+-----------+------------+---------------+----------+------+-----+------+-----------+-----------+----------------+-----------+-----------+----+------+-----------------+----------+--------+--------+-----------+-------+\n",
      "only showing top 5 rows\n",
      "\n"
     ]
    }
   ],
   "source": [
    "df_auto = spark.read.format(\"parquet\")\\\n",
    "                    .option(\"header\", True)\\\n",
    "                    .load(\"./datasets/Automobile_data.parquet\")\n",
    "df_auto.show(5)"
   ]
  },
  {
   "cell_type": "code",
   "execution_count": 45,
   "id": "41e48ad0",
   "metadata": {
    "ExecuteTime": {
     "end_time": "2022-10-29T15:46:45.698924Z",
     "start_time": "2022-10-29T15:46:45.692940Z"
    }
   },
   "outputs": [],
   "source": [
    "from pyspark.sql.functions import col, rand, isnan, when, count, avg\n",
    "from pyspark.ml.stat import Correlation"
   ]
  },
  {
   "cell_type": "markdown",
   "id": "0d060eec",
   "metadata": {},
   "source": [
    "### Dtypes"
   ]
  },
  {
   "cell_type": "code",
   "execution_count": 30,
   "id": "53ccd010",
   "metadata": {
    "ExecuteTime": {
     "end_time": "2022-10-29T15:38:03.670608Z",
     "start_time": "2022-10-29T15:38:03.637188Z"
    }
   },
   "outputs": [
    {
     "name": "stdout",
     "output_type": "stream",
     "text": [
      "root\n",
      " |-- symboling: long (nullable = true)\n",
      " |-- normalized-losses: double (nullable = true)\n",
      " |-- make: string (nullable = true)\n",
      " |-- fuel-type: string (nullable = true)\n",
      " |-- aspiration: string (nullable = true)\n",
      " |-- num-of-doors: string (nullable = true)\n",
      " |-- body-style: string (nullable = true)\n",
      " |-- drive-wheels: string (nullable = true)\n",
      " |-- engine-location: string (nullable = true)\n",
      " |-- wheel-base: double (nullable = true)\n",
      " |-- length: double (nullable = true)\n",
      " |-- width: double (nullable = true)\n",
      " |-- height: double (nullable = true)\n",
      " |-- curb-weight: long (nullable = true)\n",
      " |-- engine-type: string (nullable = true)\n",
      " |-- num-of-cylinders: string (nullable = true)\n",
      " |-- engine-size: long (nullable = true)\n",
      " |-- fuel-system: string (nullable = true)\n",
      " |-- bore: double (nullable = true)\n",
      " |-- stroke: double (nullable = true)\n",
      " |-- compression-ratio: double (nullable = true)\n",
      " |-- horsepower: double (nullable = true)\n",
      " |-- peak-rpm: double (nullable = true)\n",
      " |-- city-mpg: long (nullable = true)\n",
      " |-- highway-mpg: long (nullable = true)\n",
      " |-- price: double (nullable = true)\n",
      "\n"
     ]
    }
   ],
   "source": [
    "df_auto.printSchema()"
   ]
  },
  {
   "cell_type": "markdown",
   "id": "200fc7b8",
   "metadata": {},
   "source": [
    "### Describe"
   ]
  },
  {
   "cell_type": "code",
   "execution_count": 32,
   "id": "954b8504",
   "metadata": {
    "ExecuteTime": {
     "end_time": "2022-10-29T15:38:31.809104Z",
     "start_time": "2022-10-29T15:38:31.092569Z"
    }
   },
   "outputs": [
    {
     "name": "stdout",
     "output_type": "stream",
     "text": [
      "+-------+------------------+-----------------+-----------+---------+----------+------------+-----------+------------+---------------+------------------+------------------+-----------------+------------------+------------------+-----------+----------------+------------------+-----------+------------------+------------------+------------------+------------------+-----------------+-----------------+-----------------+------------------+\n",
      "|summary|         symboling|normalized-losses|       make|fuel-type|aspiration|num-of-doors| body-style|drive-wheels|engine-location|        wheel-base|            length|            width|            height|       curb-weight|engine-type|num-of-cylinders|       engine-size|fuel-system|              bore|            stroke| compression-ratio|        horsepower|         peak-rpm|         city-mpg|      highway-mpg|             price|\n",
      "+-------+------------------+-----------------+-----------+---------+----------+------------+-----------+------------+---------------+------------------+------------------+-----------------+------------------+------------------+-----------+----------------+------------------+-----------+------------------+------------------+------------------+------------------+-----------------+-----------------+-----------------+------------------+\n",
      "|  count|               205|              164|        205|      205|       205|         203|        205|         205|            205|               205|               205|              205|               205|               205|        205|             205|               205|        205|               201|               201|               205|               203|              203|              205|              205|               201|\n",
      "|   mean|0.8341463414634146|            122.0|       null|     null|      null|        null|       null|        null|           null| 98.75658536585378|174.04926829268305|65.90780487804875|53.724878048780525|2555.5658536585365|       null|            null|126.90731707317073|       null|3.3297512437810957|3.2554228855721337|10.142536585365855|104.25615763546799|5125.369458128079|25.21951219512195|30.75121951219512|13207.129353233831|\n",
      "| stddev|1.2453068281055295|35.44216753055326|       null|     null|      null|        null|       null|        null|           null|6.0217756850255695|12.337288526555188|2.145203852687182| 2.443521969904905| 520.6802035016384|       null|            null|41.642693438179855|       null|0.2735387318295989|0.3167174533770312|3.9720403218632985| 39.71436878679357|479.3345598334159| 6.54214165300162|6.886443130941823| 7947.066341939271|\n",
      "|    min|                -2|             65.0|alfa-romero|   diesel|       std|        four|convertible|         4wd|          front|              86.6|             141.1|             60.3|              47.8|              1488|       dohc|           eight|                61|       1bbl|              2.54|              2.07|               7.0|              48.0|           4150.0|               13|               16|            5118.0|\n",
      "|    max|                 3|            256.0|      volvo|      gas|     turbo|         two|      wagon|         rwd|           rear|             120.9|             208.1|             72.3|              59.8|              4066|      rotor|             two|               326|       spfi|              3.94|              4.17|              23.0|             288.0|           6600.0|               49|               54|           45400.0|\n",
      "+-------+------------------+-----------------+-----------+---------+----------+------------+-----------+------------+---------------+------------------+------------------+-----------------+------------------+------------------+-----------+----------------+------------------+-----------+------------------+------------------+------------------+------------------+-----------------+-----------------+-----------------+------------------+\n",
      "\n"
     ]
    }
   ],
   "source": [
    "df_auto.describe().show()"
   ]
  },
  {
   "cell_type": "code",
   "execution_count": 33,
   "id": "1d6ce846",
   "metadata": {
    "ExecuteTime": {
     "end_time": "2022-10-29T15:38:54.724705Z",
     "start_time": "2022-10-29T15:38:54.493981Z"
    }
   },
   "outputs": [
    {
     "data": {
      "text/html": [
       "<div>\n",
       "<style scoped>\n",
       "    .dataframe tbody tr th:only-of-type {\n",
       "        vertical-align: middle;\n",
       "    }\n",
       "\n",
       "    .dataframe tbody tr th {\n",
       "        vertical-align: top;\n",
       "    }\n",
       "\n",
       "    .dataframe thead th {\n",
       "        text-align: right;\n",
       "    }\n",
       "</style>\n",
       "<table border=\"1\" class=\"dataframe\">\n",
       "  <thead>\n",
       "    <tr style=\"text-align: right;\">\n",
       "      <th></th>\n",
       "      <th>count</th>\n",
       "      <th>mean</th>\n",
       "      <th>std</th>\n",
       "      <th>min</th>\n",
       "      <th>25%</th>\n",
       "      <th>50%</th>\n",
       "      <th>75%</th>\n",
       "      <th>max</th>\n",
       "    </tr>\n",
       "  </thead>\n",
       "  <tbody>\n",
       "    <tr>\n",
       "      <th>symboling</th>\n",
       "      <td>205.0</td>\n",
       "      <td>0.834146</td>\n",
       "      <td>1.245307</td>\n",
       "      <td>-2.00</td>\n",
       "      <td>0.00</td>\n",
       "      <td>1.00</td>\n",
       "      <td>2.00</td>\n",
       "      <td>3.00</td>\n",
       "    </tr>\n",
       "    <tr>\n",
       "      <th>normalized-losses</th>\n",
       "      <td>164.0</td>\n",
       "      <td>122.000000</td>\n",
       "      <td>35.442168</td>\n",
       "      <td>65.00</td>\n",
       "      <td>94.00</td>\n",
       "      <td>115.00</td>\n",
       "      <td>150.00</td>\n",
       "      <td>256.00</td>\n",
       "    </tr>\n",
       "    <tr>\n",
       "      <th>wheel-base</th>\n",
       "      <td>205.0</td>\n",
       "      <td>98.756585</td>\n",
       "      <td>6.021776</td>\n",
       "      <td>86.60</td>\n",
       "      <td>94.50</td>\n",
       "      <td>97.00</td>\n",
       "      <td>102.40</td>\n",
       "      <td>120.90</td>\n",
       "    </tr>\n",
       "    <tr>\n",
       "      <th>length</th>\n",
       "      <td>205.0</td>\n",
       "      <td>174.049268</td>\n",
       "      <td>12.337289</td>\n",
       "      <td>141.10</td>\n",
       "      <td>166.30</td>\n",
       "      <td>173.20</td>\n",
       "      <td>183.10</td>\n",
       "      <td>208.10</td>\n",
       "    </tr>\n",
       "    <tr>\n",
       "      <th>width</th>\n",
       "      <td>205.0</td>\n",
       "      <td>65.907805</td>\n",
       "      <td>2.145204</td>\n",
       "      <td>60.30</td>\n",
       "      <td>64.10</td>\n",
       "      <td>65.50</td>\n",
       "      <td>66.90</td>\n",
       "      <td>72.30</td>\n",
       "    </tr>\n",
       "    <tr>\n",
       "      <th>height</th>\n",
       "      <td>205.0</td>\n",
       "      <td>53.724878</td>\n",
       "      <td>2.443522</td>\n",
       "      <td>47.80</td>\n",
       "      <td>52.00</td>\n",
       "      <td>54.10</td>\n",
       "      <td>55.50</td>\n",
       "      <td>59.80</td>\n",
       "    </tr>\n",
       "    <tr>\n",
       "      <th>curb-weight</th>\n",
       "      <td>205.0</td>\n",
       "      <td>2555.565854</td>\n",
       "      <td>520.680204</td>\n",
       "      <td>1488.00</td>\n",
       "      <td>2145.00</td>\n",
       "      <td>2414.00</td>\n",
       "      <td>2935.00</td>\n",
       "      <td>4066.00</td>\n",
       "    </tr>\n",
       "    <tr>\n",
       "      <th>engine-size</th>\n",
       "      <td>205.0</td>\n",
       "      <td>126.907317</td>\n",
       "      <td>41.642693</td>\n",
       "      <td>61.00</td>\n",
       "      <td>97.00</td>\n",
       "      <td>120.00</td>\n",
       "      <td>141.00</td>\n",
       "      <td>326.00</td>\n",
       "    </tr>\n",
       "    <tr>\n",
       "      <th>bore</th>\n",
       "      <td>201.0</td>\n",
       "      <td>3.329751</td>\n",
       "      <td>0.273539</td>\n",
       "      <td>2.54</td>\n",
       "      <td>3.15</td>\n",
       "      <td>3.31</td>\n",
       "      <td>3.59</td>\n",
       "      <td>3.94</td>\n",
       "    </tr>\n",
       "    <tr>\n",
       "      <th>stroke</th>\n",
       "      <td>201.0</td>\n",
       "      <td>3.255423</td>\n",
       "      <td>0.316717</td>\n",
       "      <td>2.07</td>\n",
       "      <td>3.11</td>\n",
       "      <td>3.29</td>\n",
       "      <td>3.41</td>\n",
       "      <td>4.17</td>\n",
       "    </tr>\n",
       "    <tr>\n",
       "      <th>compression-ratio</th>\n",
       "      <td>205.0</td>\n",
       "      <td>10.142537</td>\n",
       "      <td>3.972040</td>\n",
       "      <td>7.00</td>\n",
       "      <td>8.60</td>\n",
       "      <td>9.00</td>\n",
       "      <td>9.40</td>\n",
       "      <td>23.00</td>\n",
       "    </tr>\n",
       "    <tr>\n",
       "      <th>horsepower</th>\n",
       "      <td>203.0</td>\n",
       "      <td>104.256158</td>\n",
       "      <td>39.714369</td>\n",
       "      <td>48.00</td>\n",
       "      <td>70.00</td>\n",
       "      <td>95.00</td>\n",
       "      <td>116.00</td>\n",
       "      <td>288.00</td>\n",
       "    </tr>\n",
       "    <tr>\n",
       "      <th>peak-rpm</th>\n",
       "      <td>203.0</td>\n",
       "      <td>5125.369458</td>\n",
       "      <td>479.334560</td>\n",
       "      <td>4150.00</td>\n",
       "      <td>4800.00</td>\n",
       "      <td>5200.00</td>\n",
       "      <td>5500.00</td>\n",
       "      <td>6600.00</td>\n",
       "    </tr>\n",
       "    <tr>\n",
       "      <th>city-mpg</th>\n",
       "      <td>205.0</td>\n",
       "      <td>25.219512</td>\n",
       "      <td>6.542142</td>\n",
       "      <td>13.00</td>\n",
       "      <td>19.00</td>\n",
       "      <td>24.00</td>\n",
       "      <td>30.00</td>\n",
       "      <td>49.00</td>\n",
       "    </tr>\n",
       "    <tr>\n",
       "      <th>highway-mpg</th>\n",
       "      <td>205.0</td>\n",
       "      <td>30.751220</td>\n",
       "      <td>6.886443</td>\n",
       "      <td>16.00</td>\n",
       "      <td>25.00</td>\n",
       "      <td>30.00</td>\n",
       "      <td>34.00</td>\n",
       "      <td>54.00</td>\n",
       "    </tr>\n",
       "    <tr>\n",
       "      <th>price</th>\n",
       "      <td>201.0</td>\n",
       "      <td>13207.129353</td>\n",
       "      <td>7947.066342</td>\n",
       "      <td>5118.00</td>\n",
       "      <td>7775.00</td>\n",
       "      <td>10295.00</td>\n",
       "      <td>16500.00</td>\n",
       "      <td>45400.00</td>\n",
       "    </tr>\n",
       "  </tbody>\n",
       "</table>\n",
       "</div>"
      ],
      "text/plain": [
       "                   count          mean          std      min      25%  \\\n",
       "symboling          205.0      0.834146     1.245307    -2.00     0.00   \n",
       "normalized-losses  164.0    122.000000    35.442168    65.00    94.00   \n",
       "wheel-base         205.0     98.756585     6.021776    86.60    94.50   \n",
       "length             205.0    174.049268    12.337289   141.10   166.30   \n",
       "width              205.0     65.907805     2.145204    60.30    64.10   \n",
       "height             205.0     53.724878     2.443522    47.80    52.00   \n",
       "curb-weight        205.0   2555.565854   520.680204  1488.00  2145.00   \n",
       "engine-size        205.0    126.907317    41.642693    61.00    97.00   \n",
       "bore               201.0      3.329751     0.273539     2.54     3.15   \n",
       "stroke             201.0      3.255423     0.316717     2.07     3.11   \n",
       "compression-ratio  205.0     10.142537     3.972040     7.00     8.60   \n",
       "horsepower         203.0    104.256158    39.714369    48.00    70.00   \n",
       "peak-rpm           203.0   5125.369458   479.334560  4150.00  4800.00   \n",
       "city-mpg           205.0     25.219512     6.542142    13.00    19.00   \n",
       "highway-mpg        205.0     30.751220     6.886443    16.00    25.00   \n",
       "price              201.0  13207.129353  7947.066342  5118.00  7775.00   \n",
       "\n",
       "                        50%       75%       max  \n",
       "symboling              1.00      2.00      3.00  \n",
       "normalized-losses    115.00    150.00    256.00  \n",
       "wheel-base            97.00    102.40    120.90  \n",
       "length               173.20    183.10    208.10  \n",
       "width                 65.50     66.90     72.30  \n",
       "height                54.10     55.50     59.80  \n",
       "curb-weight         2414.00   2935.00   4066.00  \n",
       "engine-size          120.00    141.00    326.00  \n",
       "bore                   3.31      3.59      3.94  \n",
       "stroke                 3.29      3.41      4.17  \n",
       "compression-ratio      9.00      9.40     23.00  \n",
       "horsepower            95.00    116.00    288.00  \n",
       "peak-rpm            5200.00   5500.00   6600.00  \n",
       "city-mpg              24.00     30.00     49.00  \n",
       "highway-mpg           30.00     34.00     54.00  \n",
       "price              10295.00  16500.00  45400.00  "
      ]
     },
     "execution_count": 33,
     "metadata": {},
     "output_type": "execute_result"
    }
   ],
   "source": [
    "df_auto.toPandas().describe().T"
   ]
  },
  {
   "cell_type": "code",
   "execution_count": 35,
   "id": "112ab822",
   "metadata": {
    "ExecuteTime": {
     "end_time": "2022-10-29T15:39:29.457063Z",
     "start_time": "2022-10-29T15:39:29.285461Z"
    }
   },
   "outputs": [
    {
     "name": "stdout",
     "output_type": "stream",
     "text": [
      "+-------+------------------+\n",
      "|summary|        horsepower|\n",
      "+-------+------------------+\n",
      "|  count|               203|\n",
      "|   mean|104.25615763546799|\n",
      "| stddev| 39.71436878679357|\n",
      "|    min|              48.0|\n",
      "|    max|             288.0|\n",
      "+-------+------------------+\n",
      "\n"
     ]
    }
   ],
   "source": [
    "df_auto.describe([\"horsepower\"]).show()"
   ]
  },
  {
   "cell_type": "markdown",
   "id": "e79eacd2",
   "metadata": {},
   "source": [
    "### Handling Missing Values"
   ]
  },
  {
   "cell_type": "code",
   "execution_count": 41,
   "id": "84e20421",
   "metadata": {
    "ExecuteTime": {
     "end_time": "2022-10-29T15:43:24.348404Z",
     "start_time": "2022-10-29T15:43:23.964777Z"
    }
   },
   "outputs": [
    {
     "name": "stdout",
     "output_type": "stream",
     "text": [
      "+---------+-----------------+----+---------+----------+------------+----------+------------+---------------+----------+------+-----+------+-----------+-----------+----------------+-----------+-----------+----+------+-----------------+----------+--------+--------+-----------+-----+\n",
      "|symboling|normalized-losses|make|fuel-type|aspiration|num-of-doors|body-style|drive-wheels|engine-location|wheel-base|length|width|height|curb-weight|engine-type|num-of-cylinders|engine-size|fuel-system|bore|stroke|compression-ratio|horsepower|peak-rpm|city-mpg|highway-mpg|price|\n",
      "+---------+-----------------+----+---------+----------+------------+----------+------------+---------------+----------+------+-----+------+-----------+-----------+----------------+-----------+-----------+----+------+-----------------+----------+--------+--------+-----------+-----+\n",
      "|        0|               41|   0|        0|         0|           2|         0|           0|              0|         0|     0|    0|     0|          0|          0|               0|          0|          0|   4|     4|                0|         2|       2|       0|          0|    4|\n",
      "+---------+-----------------+----+---------+----------+------------+----------+------------+---------------+----------+------+-----+------+-----------+-----------+----------------+-----------+-----------+----+------+-----------------+----------+--------+--------+-----------+-----+\n",
      "\n"
     ]
    }
   ],
   "source": [
    "df_auto.select([\n",
    "    count(when(col(column).isNull(), column)).alias(column) for column in df_auto.columns\n",
    "]).show()"
   ]
  },
  {
   "cell_type": "code",
   "execution_count": 42,
   "id": "8ca535a1",
   "metadata": {
    "ExecuteTime": {
     "end_time": "2022-10-29T15:44:04.600335Z",
     "start_time": "2022-10-29T15:44:04.452748Z"
    }
   },
   "outputs": [
    {
     "name": "stdout",
     "output_type": "stream",
     "text": [
      "+-------+-----------------+\n",
      "|summary|normalized-losses|\n",
      "+-------+-----------------+\n",
      "|  count|              164|\n",
      "|   mean|            122.0|\n",
      "| stddev|35.44216753055326|\n",
      "|    min|             65.0|\n",
      "|    max|            256.0|\n",
      "+-------+-----------------+\n",
      "\n"
     ]
    }
   ],
   "source": [
    "df_auto.describe([\"normalized-losses\"]).show()"
   ]
  },
  {
   "cell_type": "markdown",
   "id": "13fc712e",
   "metadata": {},
   "source": [
    "#### Fillna"
   ]
  },
  {
   "cell_type": "code",
   "execution_count": 49,
   "id": "550c163e",
   "metadata": {
    "ExecuteTime": {
     "end_time": "2022-10-29T15:48:18.040713Z",
     "start_time": "2022-10-29T15:48:17.877952Z"
    }
   },
   "outputs": [],
   "source": [
    "media = df_auto.select(avg(\"normalized-losses\").alias(\"mean\")).collect()[0].__getitem__(\"mean\")\n",
    "df_auto = df_auto.na.fill(value = media, subset = \"normalized-losses\")"
   ]
  },
  {
   "cell_type": "code",
   "execution_count": 50,
   "id": "bc9c8169",
   "metadata": {
    "ExecuteTime": {
     "end_time": "2022-10-29T15:48:20.414221Z",
     "start_time": "2022-10-29T15:48:20.054030Z"
    }
   },
   "outputs": [
    {
     "name": "stdout",
     "output_type": "stream",
     "text": [
      "+---------+-----------------+----+---------+----------+------------+----------+------------+---------------+----------+------+-----+------+-----------+-----------+----------------+-----------+-----------+----+------+-----------------+----------+--------+--------+-----------+-----+\n",
      "|symboling|normalized-losses|make|fuel-type|aspiration|num-of-doors|body-style|drive-wheels|engine-location|wheel-base|length|width|height|curb-weight|engine-type|num-of-cylinders|engine-size|fuel-system|bore|stroke|compression-ratio|horsepower|peak-rpm|city-mpg|highway-mpg|price|\n",
      "+---------+-----------------+----+---------+----------+------------+----------+------------+---------------+----------+------+-----+------+-----------+-----------+----------------+-----------+-----------+----+------+-----------------+----------+--------+--------+-----------+-----+\n",
      "|        0|                0|   0|        0|         0|           2|         0|           0|              0|         0|     0|    0|     0|          0|          0|               0|          0|          0|   4|     4|                0|         2|       2|       0|          0|    4|\n",
      "+---------+-----------------+----+---------+----------+------------+----------+------------+---------------+----------+------+-----+------+-----------+-----------+----------------+-----------+-----------+----+------+-----------------+----------+--------+--------+-----------+-----+\n",
      "\n"
     ]
    }
   ],
   "source": [
    "df_auto.select([\n",
    "    count(when(col(column).isNull(), column)).alias(column) for column in df_auto.columns\n",
    "]).show()"
   ]
  },
  {
   "cell_type": "markdown",
   "id": "9065a356",
   "metadata": {},
   "source": [
    "#### Dropna"
   ]
  },
  {
   "cell_type": "code",
   "execution_count": 65,
   "id": "26476412",
   "metadata": {
    "ExecuteTime": {
     "end_time": "2022-10-29T15:57:22.198022Z",
     "start_time": "2022-10-29T15:57:21.820773Z"
    }
   },
   "outputs": [
    {
     "name": "stdout",
     "output_type": "stream",
     "text": [
      "+---------+-----------------+----+---------+----------+------------+----------+------------+---------------+----------+------+-----+------+-----------+-----------+----------------+-----------+-----------+----+------+-----------------+----------+--------+--------+-----------+-----+\n",
      "|symboling|normalized-losses|make|fuel-type|aspiration|num-of-doors|body-style|drive-wheels|engine-location|wheel-base|length|width|height|curb-weight|engine-type|num-of-cylinders|engine-size|fuel-system|bore|stroke|compression-ratio|horsepower|peak-rpm|city-mpg|highway-mpg|price|\n",
      "+---------+-----------------+----+---------+----------+------------+----------+------------+---------------+----------+------+-----+------+-----------+-----------+----------------+-----------+-----------+----+------+-----------------+----------+--------+--------+-----------+-----+\n",
      "|        0|                0|   0|        0|         0|           0|         0|           0|              0|         0|     0|    0|     0|          0|          0|               0|          0|          0|   0|     0|                0|         0|       0|       0|          0|    0|\n",
      "+---------+-----------------+----+---------+----------+------------+----------+------------+---------------+----------+------+-----+------+-----------+-----------+----------------+-----------+-----------+----+------+-----------------+----------+--------+--------+-----------+-----+\n",
      "\n"
     ]
    }
   ],
   "source": [
    "df_auto = df_auto.na.drop()\n",
    "df_auto.select([\n",
    "    count(when(col(column).isNull(), column)).alias(column) for column in df_auto.columns\n",
    "]).show()"
   ]
  },
  {
   "cell_type": "code",
   "execution_count": 67,
   "id": "1839f001",
   "metadata": {
    "ExecuteTime": {
     "end_time": "2022-10-29T15:59:53.487676Z",
     "start_time": "2022-10-29T15:59:53.341818Z"
    }
   },
   "outputs": [
    {
     "name": "stdout",
     "output_type": "stream",
     "text": [
      "+---------+-----------------+-----------+---------+----------+------------+-----------+------------+---------------+----------+------+-----+------+-----------+-----------+----------------+-----------+-----------+----+------+-----------------+----------+--------+--------+-----------+-------+\n",
      "|symboling|normalized-losses|       make|fuel-type|aspiration|num-of-doors| body-style|drive-wheels|engine-location|wheel-base|length|width|height|curb-weight|engine-type|num-of-cylinders|engine-size|fuel-system|bore|stroke|compression-ratio|horsepower|peak-rpm|city-mpg|highway-mpg|  price|\n",
      "+---------+-----------------+-----------+---------+----------+------------+-----------+------------+---------------+----------+------+-----+------+-----------+-----------+----------------+-----------+-----------+----+------+-----------------+----------+--------+--------+-----------+-------+\n",
      "|        3|            122.0|alfa-romero|      gas|       std|         two|convertible|         rwd|          front|      88.6| 168.8| 64.1|  48.8|       2548|       dohc|            four|        130|       mpfi|3.47|  2.68|              9.0|     111.0|  5000.0|      21|         27|13495.0|\n",
      "|        3|            122.0|alfa-romero|      gas|       std|         two|convertible|         rwd|          front|      88.6| 168.8| 64.1|  48.8|       2548|       dohc|            four|        130|       mpfi|3.47|  2.68|              9.0|     111.0|  5000.0|      21|         27|16500.0|\n",
      "|        1|            122.0|alfa-romero|      gas|       std|         two|  hatchback|         rwd|          front|      94.5| 171.2| 65.5|  52.4|       2823|       ohcv|             six|        152|       mpfi|2.68|  3.47|              9.0|     154.0|  5000.0|      19|         26|16500.0|\n",
      "|        2|            164.0|       audi|      gas|       std|        four|      sedan|         fwd|          front|      99.8| 176.6| 66.2|  54.3|       2337|        ohc|            four|        109|       mpfi|3.19|   3.4|             10.0|     102.0|  5500.0|      24|         30|13950.0|\n",
      "|        2|            164.0|       audi|      gas|       std|        four|      sedan|         4wd|          front|      99.4| 176.6| 66.4|  54.3|       2824|        ohc|            five|        136|       mpfi|3.19|   3.4|              8.0|     115.0|  5500.0|      18|         22|17450.0|\n",
      "|        2|            122.0|       audi|      gas|       std|         two|      sedan|         fwd|          front|      99.8| 177.3| 66.3|  53.1|       2507|        ohc|            five|        136|       mpfi|3.19|   3.4|              8.5|     110.0|  5500.0|      19|         25|15250.0|\n",
      "|        1|            158.0|       audi|      gas|       std|        four|      sedan|         fwd|          front|     105.8| 192.7| 71.4|  55.7|       2844|        ohc|            five|        136|       mpfi|3.19|   3.4|              8.5|     110.0|  5500.0|      19|         25|17710.0|\n",
      "|        1|            122.0|       audi|      gas|       std|        four|      wagon|         fwd|          front|     105.8| 192.7| 71.4|  55.7|       2954|        ohc|            five|        136|       mpfi|3.19|   3.4|              8.5|     110.0|  5500.0|      19|         25|18920.0|\n",
      "|        1|            158.0|       audi|      gas|     turbo|        four|      sedan|         fwd|          front|     105.8| 192.7| 71.4|  55.9|       3086|        ohc|            five|        131|       mpfi|3.13|   3.4|              8.3|     140.0|  5500.0|      17|         20|23875.0|\n",
      "|        2|            192.0|        bmw|      gas|       std|         two|      sedan|         rwd|          front|     101.2| 176.8| 64.8|  54.3|       2395|        ohc|            four|        108|       mpfi| 3.5|   2.8|              8.8|     101.0|  5800.0|      23|         29|16430.0|\n",
      "|        0|            192.0|        bmw|      gas|       std|        four|      sedan|         rwd|          front|     101.2| 176.8| 64.8|  54.3|       2395|        ohc|            four|        108|       mpfi| 3.5|   2.8|              8.8|     101.0|  5800.0|      23|         29|16925.0|\n",
      "|        0|            188.0|        bmw|      gas|       std|         two|      sedan|         rwd|          front|     101.2| 176.8| 64.8|  54.3|       2710|        ohc|             six|        164|       mpfi|3.31|  3.19|              9.0|     121.0|  4250.0|      21|         28|20970.0|\n",
      "|        0|            188.0|        bmw|      gas|       std|        four|      sedan|         rwd|          front|     101.2| 176.8| 64.8|  54.3|       2765|        ohc|             six|        164|       mpfi|3.31|  3.19|              9.0|     121.0|  4250.0|      21|         28|21105.0|\n",
      "|        1|            122.0|        bmw|      gas|       std|        four|      sedan|         rwd|          front|     103.5| 189.0| 66.9|  55.7|       3055|        ohc|             six|        164|       mpfi|3.31|  3.19|              9.0|     121.0|  4250.0|      20|         25|24565.0|\n",
      "|        0|            122.0|        bmw|      gas|       std|        four|      sedan|         rwd|          front|     103.5| 189.0| 66.9|  55.7|       3230|        ohc|             six|        209|       mpfi|3.62|  3.39|              8.0|     182.0|  5400.0|      16|         22|30760.0|\n",
      "|        0|            122.0|        bmw|      gas|       std|         two|      sedan|         rwd|          front|     103.5| 193.8| 67.9|  53.7|       3380|        ohc|             six|        209|       mpfi|3.62|  3.39|              8.0|     182.0|  5400.0|      16|         22|41315.0|\n",
      "|        0|            122.0|        bmw|      gas|       std|        four|      sedan|         rwd|          front|     110.0| 197.0| 70.9|  56.3|       3505|        ohc|             six|        209|       mpfi|3.62|  3.39|              8.0|     182.0|  5400.0|      15|         20|36880.0|\n",
      "|        2|            121.0|  chevrolet|      gas|       std|         two|  hatchback|         fwd|          front|      88.4| 141.1| 60.3|  53.2|       1488|          l|           three|         61|       2bbl|2.91|  3.03|              9.5|      48.0|  5100.0|      47|         53| 5151.0|\n",
      "|        1|             98.0|  chevrolet|      gas|       std|         two|  hatchback|         fwd|          front|      94.5| 155.9| 63.6|  52.0|       1874|        ohc|            four|         90|       2bbl|3.03|  3.11|              9.6|      70.0|  5400.0|      38|         43| 6295.0|\n",
      "|        0|             81.0|  chevrolet|      gas|       std|        four|      sedan|         fwd|          front|      94.5| 158.8| 63.6|  52.0|       1909|        ohc|            four|         90|       2bbl|3.03|  3.11|              9.6|      70.0|  5400.0|      38|         43| 6575.0|\n",
      "+---------+-----------------+-----------+---------+----------+------------+-----------+------------+---------------+----------+------+-----+------+-----------+-----------+----------------+-----------+-----------+----+------+-----------------+----------+--------+--------+-----------+-------+\n",
      "only showing top 20 rows\n",
      "\n"
     ]
    }
   ],
   "source": [
    "df_auto.show()"
   ]
  },
  {
   "cell_type": "markdown",
   "id": "200f5edc",
   "metadata": {},
   "source": [
    "### Statistics"
   ]
  },
  {
   "cell_type": "code",
   "execution_count": 69,
   "id": "3aaa6c9b",
   "metadata": {
    "ExecuteTime": {
     "end_time": "2022-10-29T16:00:56.884230Z",
     "start_time": "2022-10-29T16:00:56.741524Z"
    }
   },
   "outputs": [
    {
     "data": {
      "text/plain": [
       "0.8453249175361403"
      ]
     },
     "execution_count": 69,
     "metadata": {},
     "output_type": "execute_result"
    }
   ],
   "source": [
    "df_auto.stat.corr(\"engine-size\", \"horsepower\")"
   ]
  },
  {
   "cell_type": "markdown",
   "id": "21befe3c",
   "metadata": {},
   "source": [
    "## Pandas"
   ]
  },
  {
   "cell_type": "code",
   "execution_count": 52,
   "id": "7d13ff14",
   "metadata": {
    "ExecuteTime": {
     "end_time": "2022-10-29T15:50:59.284085Z",
     "start_time": "2022-10-29T15:50:59.150521Z"
    }
   },
   "outputs": [
    {
     "data": {
      "text/html": [
       "<div>\n",
       "<style scoped>\n",
       "    .dataframe tbody tr th:only-of-type {\n",
       "        vertical-align: middle;\n",
       "    }\n",
       "\n",
       "    .dataframe tbody tr th {\n",
       "        vertical-align: top;\n",
       "    }\n",
       "\n",
       "    .dataframe thead th {\n",
       "        text-align: right;\n",
       "    }\n",
       "</style>\n",
       "<table border=\"1\" class=\"dataframe\">\n",
       "  <thead>\n",
       "    <tr style=\"text-align: right;\">\n",
       "      <th></th>\n",
       "      <th>symboling</th>\n",
       "      <th>normalized-losses</th>\n",
       "      <th>make</th>\n",
       "      <th>fuel-type</th>\n",
       "      <th>aspiration</th>\n",
       "      <th>num-of-doors</th>\n",
       "      <th>body-style</th>\n",
       "      <th>drive-wheels</th>\n",
       "      <th>engine-location</th>\n",
       "      <th>wheel-base</th>\n",
       "      <th>length</th>\n",
       "      <th>width</th>\n",
       "      <th>height</th>\n",
       "      <th>curb-weight</th>\n",
       "      <th>engine-type</th>\n",
       "      <th>num-of-cylinders</th>\n",
       "      <th>engine-size</th>\n",
       "      <th>fuel-system</th>\n",
       "      <th>bore</th>\n",
       "      <th>stroke</th>\n",
       "      <th>compression-ratio</th>\n",
       "      <th>horsepower</th>\n",
       "      <th>peak-rpm</th>\n",
       "      <th>city-mpg</th>\n",
       "      <th>highway-mpg</th>\n",
       "      <th>price</th>\n",
       "    </tr>\n",
       "  </thead>\n",
       "  <tbody>\n",
       "    <tr>\n",
       "      <th>0</th>\n",
       "      <td>3</td>\n",
       "      <td>NaN</td>\n",
       "      <td>alfa-romero</td>\n",
       "      <td>gas</td>\n",
       "      <td>std</td>\n",
       "      <td>two</td>\n",
       "      <td>convertible</td>\n",
       "      <td>rwd</td>\n",
       "      <td>front</td>\n",
       "      <td>88.6</td>\n",
       "      <td>168.8</td>\n",
       "      <td>64.1</td>\n",
       "      <td>48.8</td>\n",
       "      <td>2548</td>\n",
       "      <td>dohc</td>\n",
       "      <td>four</td>\n",
       "      <td>130</td>\n",
       "      <td>mpfi</td>\n",
       "      <td>3.47</td>\n",
       "      <td>2.68</td>\n",
       "      <td>9.0</td>\n",
       "      <td>111.0</td>\n",
       "      <td>5000.0</td>\n",
       "      <td>21</td>\n",
       "      <td>27</td>\n",
       "      <td>13495.0</td>\n",
       "    </tr>\n",
       "    <tr>\n",
       "      <th>1</th>\n",
       "      <td>3</td>\n",
       "      <td>NaN</td>\n",
       "      <td>alfa-romero</td>\n",
       "      <td>gas</td>\n",
       "      <td>std</td>\n",
       "      <td>two</td>\n",
       "      <td>convertible</td>\n",
       "      <td>rwd</td>\n",
       "      <td>front</td>\n",
       "      <td>88.6</td>\n",
       "      <td>168.8</td>\n",
       "      <td>64.1</td>\n",
       "      <td>48.8</td>\n",
       "      <td>2548</td>\n",
       "      <td>dohc</td>\n",
       "      <td>four</td>\n",
       "      <td>130</td>\n",
       "      <td>mpfi</td>\n",
       "      <td>3.47</td>\n",
       "      <td>2.68</td>\n",
       "      <td>9.0</td>\n",
       "      <td>111.0</td>\n",
       "      <td>5000.0</td>\n",
       "      <td>21</td>\n",
       "      <td>27</td>\n",
       "      <td>16500.0</td>\n",
       "    </tr>\n",
       "    <tr>\n",
       "      <th>2</th>\n",
       "      <td>1</td>\n",
       "      <td>NaN</td>\n",
       "      <td>alfa-romero</td>\n",
       "      <td>gas</td>\n",
       "      <td>std</td>\n",
       "      <td>two</td>\n",
       "      <td>hatchback</td>\n",
       "      <td>rwd</td>\n",
       "      <td>front</td>\n",
       "      <td>94.5</td>\n",
       "      <td>171.2</td>\n",
       "      <td>65.5</td>\n",
       "      <td>52.4</td>\n",
       "      <td>2823</td>\n",
       "      <td>ohcv</td>\n",
       "      <td>six</td>\n",
       "      <td>152</td>\n",
       "      <td>mpfi</td>\n",
       "      <td>2.68</td>\n",
       "      <td>3.47</td>\n",
       "      <td>9.0</td>\n",
       "      <td>154.0</td>\n",
       "      <td>5000.0</td>\n",
       "      <td>19</td>\n",
       "      <td>26</td>\n",
       "      <td>16500.0</td>\n",
       "    </tr>\n",
       "  </tbody>\n",
       "</table>\n",
       "</div>"
      ],
      "text/plain": [
       "   symboling  normalized-losses         make fuel-type aspiration  \\\n",
       "0          3                NaN  alfa-romero       gas        std   \n",
       "1          3                NaN  alfa-romero       gas        std   \n",
       "2          1                NaN  alfa-romero       gas        std   \n",
       "\n",
       "  num-of-doors   body-style drive-wheels engine-location  wheel-base  length  \\\n",
       "0          two  convertible          rwd           front        88.6   168.8   \n",
       "1          two  convertible          rwd           front        88.6   168.8   \n",
       "2          two    hatchback          rwd           front        94.5   171.2   \n",
       "\n",
       "   width  height  curb-weight engine-type num-of-cylinders  engine-size  \\\n",
       "0   64.1    48.8         2548        dohc             four          130   \n",
       "1   64.1    48.8         2548        dohc             four          130   \n",
       "2   65.5    52.4         2823        ohcv              six          152   \n",
       "\n",
       "  fuel-system  bore  stroke  compression-ratio  horsepower  peak-rpm  \\\n",
       "0        mpfi  3.47    2.68                9.0       111.0    5000.0   \n",
       "1        mpfi  3.47    2.68                9.0       111.0    5000.0   \n",
       "2        mpfi  2.68    3.47                9.0       154.0    5000.0   \n",
       "\n",
       "   city-mpg  highway-mpg    price  \n",
       "0        21           27  13495.0  \n",
       "1        21           27  16500.0  \n",
       "2        19           26  16500.0  "
      ]
     },
     "execution_count": 52,
     "metadata": {},
     "output_type": "execute_result"
    }
   ],
   "source": [
    "df_auto_pd = pd.read_parquet(\"./datasets/Automobile_data.parquet\")\n",
    "df_auto_pd.head(3)"
   ]
  },
  {
   "cell_type": "markdown",
   "id": "7ae78384",
   "metadata": {},
   "source": [
    "### dtypes"
   ]
  },
  {
   "cell_type": "code",
   "execution_count": 56,
   "id": "18d21206",
   "metadata": {
    "ExecuteTime": {
     "end_time": "2022-10-29T15:51:41.563486Z",
     "start_time": "2022-10-29T15:51:41.541545Z"
    }
   },
   "outputs": [
    {
     "data": {
      "text/html": [
       "<div>\n",
       "<style scoped>\n",
       "    .dataframe tbody tr th:only-of-type {\n",
       "        vertical-align: middle;\n",
       "    }\n",
       "\n",
       "    .dataframe tbody tr th {\n",
       "        vertical-align: top;\n",
       "    }\n",
       "\n",
       "    .dataframe thead th {\n",
       "        text-align: right;\n",
       "    }\n",
       "</style>\n",
       "<table border=\"1\" class=\"dataframe\">\n",
       "  <thead>\n",
       "    <tr style=\"text-align: right;\">\n",
       "      <th></th>\n",
       "      <th>symboling</th>\n",
       "      <th>normalized-losses</th>\n",
       "      <th>make</th>\n",
       "      <th>fuel-type</th>\n",
       "      <th>aspiration</th>\n",
       "      <th>num-of-doors</th>\n",
       "      <th>body-style</th>\n",
       "      <th>drive-wheels</th>\n",
       "      <th>engine-location</th>\n",
       "      <th>wheel-base</th>\n",
       "      <th>length</th>\n",
       "      <th>width</th>\n",
       "      <th>height</th>\n",
       "      <th>curb-weight</th>\n",
       "      <th>engine-type</th>\n",
       "      <th>num-of-cylinders</th>\n",
       "      <th>engine-size</th>\n",
       "      <th>fuel-system</th>\n",
       "      <th>bore</th>\n",
       "      <th>stroke</th>\n",
       "      <th>compression-ratio</th>\n",
       "      <th>horsepower</th>\n",
       "      <th>peak-rpm</th>\n",
       "      <th>city-mpg</th>\n",
       "      <th>highway-mpg</th>\n",
       "      <th>price</th>\n",
       "    </tr>\n",
       "  </thead>\n",
       "  <tbody>\n",
       "    <tr>\n",
       "      <th>0</th>\n",
       "      <td>int64</td>\n",
       "      <td>float64</td>\n",
       "      <td>object</td>\n",
       "      <td>object</td>\n",
       "      <td>object</td>\n",
       "      <td>object</td>\n",
       "      <td>object</td>\n",
       "      <td>object</td>\n",
       "      <td>object</td>\n",
       "      <td>float64</td>\n",
       "      <td>float64</td>\n",
       "      <td>float64</td>\n",
       "      <td>float64</td>\n",
       "      <td>int64</td>\n",
       "      <td>object</td>\n",
       "      <td>object</td>\n",
       "      <td>int64</td>\n",
       "      <td>object</td>\n",
       "      <td>float64</td>\n",
       "      <td>float64</td>\n",
       "      <td>float64</td>\n",
       "      <td>float64</td>\n",
       "      <td>float64</td>\n",
       "      <td>int64</td>\n",
       "      <td>int64</td>\n",
       "      <td>float64</td>\n",
       "    </tr>\n",
       "  </tbody>\n",
       "</table>\n",
       "</div>"
      ],
      "text/plain": [
       "  symboling normalized-losses    make fuel-type aspiration num-of-doors  \\\n",
       "0     int64           float64  object    object     object       object   \n",
       "\n",
       "  body-style drive-wheels engine-location wheel-base   length    width  \\\n",
       "0     object       object          object    float64  float64  float64   \n",
       "\n",
       "    height curb-weight engine-type num-of-cylinders engine-size fuel-system  \\\n",
       "0  float64       int64      object           object       int64      object   \n",
       "\n",
       "      bore   stroke compression-ratio horsepower peak-rpm city-mpg  \\\n",
       "0  float64  float64           float64    float64  float64    int64   \n",
       "\n",
       "  highway-mpg    price  \n",
       "0       int64  float64  "
      ]
     },
     "execution_count": 56,
     "metadata": {},
     "output_type": "execute_result"
    }
   ],
   "source": [
    "pd.DataFrame(df_auto_pd.dtypes).T"
   ]
  },
  {
   "cell_type": "markdown",
   "id": "53991387",
   "metadata": {},
   "source": [
    "### Describe"
   ]
  },
  {
   "cell_type": "code",
   "execution_count": null,
   "id": "33d0e03d",
   "metadata": {
    "ExecuteTime": {
     "end_time": "2022-10-29T15:54:00.769883Z",
     "start_time": "2022-10-29T15:54:00.717000Z"
    }
   },
   "outputs": [],
   "source": [
    "df_describe = df_auto_pd.describe().T\n",
    "df_describe[\"CV\"] = (df_describe[\"std\"]/abs(df_describe[\"mean\"]))*100\n",
    "df_describe"
   ]
  },
  {
   "cell_type": "markdown",
   "id": "d33be8b3",
   "metadata": {},
   "source": [
    "### Handling Missing Values"
   ]
  },
  {
   "cell_type": "code",
   "execution_count": 63,
   "id": "9111e2cc",
   "metadata": {
    "ExecuteTime": {
     "end_time": "2022-10-29T15:54:47.494939Z",
     "start_time": "2022-10-29T15:54:47.467971Z"
    }
   },
   "outputs": [
    {
     "data": {
      "text/html": [
       "<div>\n",
       "<style scoped>\n",
       "    .dataframe tbody tr th:only-of-type {\n",
       "        vertical-align: middle;\n",
       "    }\n",
       "\n",
       "    .dataframe tbody tr th {\n",
       "        vertical-align: top;\n",
       "    }\n",
       "\n",
       "    .dataframe thead th {\n",
       "        text-align: right;\n",
       "    }\n",
       "</style>\n",
       "<table border=\"1\" class=\"dataframe\">\n",
       "  <thead>\n",
       "    <tr style=\"text-align: right;\">\n",
       "      <th></th>\n",
       "      <th>symboling</th>\n",
       "      <th>normalized-losses</th>\n",
       "      <th>make</th>\n",
       "      <th>fuel-type</th>\n",
       "      <th>aspiration</th>\n",
       "      <th>num-of-doors</th>\n",
       "      <th>body-style</th>\n",
       "      <th>drive-wheels</th>\n",
       "      <th>engine-location</th>\n",
       "      <th>wheel-base</th>\n",
       "      <th>length</th>\n",
       "      <th>width</th>\n",
       "      <th>height</th>\n",
       "      <th>curb-weight</th>\n",
       "      <th>engine-type</th>\n",
       "      <th>num-of-cylinders</th>\n",
       "      <th>engine-size</th>\n",
       "      <th>fuel-system</th>\n",
       "      <th>bore</th>\n",
       "      <th>stroke</th>\n",
       "      <th>compression-ratio</th>\n",
       "      <th>horsepower</th>\n",
       "      <th>peak-rpm</th>\n",
       "      <th>city-mpg</th>\n",
       "      <th>highway-mpg</th>\n",
       "      <th>price</th>\n",
       "    </tr>\n",
       "  </thead>\n",
       "  <tbody>\n",
       "    <tr>\n",
       "      <th>0</th>\n",
       "      <td>0</td>\n",
       "      <td>41</td>\n",
       "      <td>0</td>\n",
       "      <td>0</td>\n",
       "      <td>0</td>\n",
       "      <td>2</td>\n",
       "      <td>0</td>\n",
       "      <td>0</td>\n",
       "      <td>0</td>\n",
       "      <td>0</td>\n",
       "      <td>0</td>\n",
       "      <td>0</td>\n",
       "      <td>0</td>\n",
       "      <td>0</td>\n",
       "      <td>0</td>\n",
       "      <td>0</td>\n",
       "      <td>0</td>\n",
       "      <td>0</td>\n",
       "      <td>4</td>\n",
       "      <td>4</td>\n",
       "      <td>0</td>\n",
       "      <td>2</td>\n",
       "      <td>2</td>\n",
       "      <td>0</td>\n",
       "      <td>0</td>\n",
       "      <td>4</td>\n",
       "    </tr>\n",
       "  </tbody>\n",
       "</table>\n",
       "</div>"
      ],
      "text/plain": [
       "   symboling  normalized-losses  make  fuel-type  aspiration  num-of-doors  \\\n",
       "0          0                 41     0          0           0             2   \n",
       "\n",
       "   body-style  drive-wheels  engine-location  wheel-base  length  width  \\\n",
       "0           0             0                0           0       0      0   \n",
       "\n",
       "   height  curb-weight  engine-type  num-of-cylinders  engine-size  \\\n",
       "0       0            0            0                 0            0   \n",
       "\n",
       "   fuel-system  bore  stroke  compression-ratio  horsepower  peak-rpm  \\\n",
       "0            0     4       4                  0           2         2   \n",
       "\n",
       "   city-mpg  highway-mpg  price  \n",
       "0         0            0      4  "
      ]
     },
     "execution_count": 63,
     "metadata": {},
     "output_type": "execute_result"
    }
   ],
   "source": [
    "pd.DataFrame(df_auto_pd.isnull().sum()).T"
   ]
  },
  {
   "cell_type": "markdown",
   "id": "84e980df",
   "metadata": {},
   "source": [
    "#### Fillna"
   ]
  },
  {
   "cell_type": "code",
   "execution_count": 64,
   "id": "93d82d9a",
   "metadata": {
    "ExecuteTime": {
     "end_time": "2022-10-29T15:55:48.133345Z",
     "start_time": "2022-10-29T15:55:48.109355Z"
    }
   },
   "outputs": [
    {
     "data": {
      "text/html": [
       "<div>\n",
       "<style scoped>\n",
       "    .dataframe tbody tr th:only-of-type {\n",
       "        vertical-align: middle;\n",
       "    }\n",
       "\n",
       "    .dataframe tbody tr th {\n",
       "        vertical-align: top;\n",
       "    }\n",
       "\n",
       "    .dataframe thead th {\n",
       "        text-align: right;\n",
       "    }\n",
       "</style>\n",
       "<table border=\"1\" class=\"dataframe\">\n",
       "  <thead>\n",
       "    <tr style=\"text-align: right;\">\n",
       "      <th></th>\n",
       "      <th>symboling</th>\n",
       "      <th>normalized-losses</th>\n",
       "      <th>make</th>\n",
       "      <th>fuel-type</th>\n",
       "      <th>aspiration</th>\n",
       "      <th>num-of-doors</th>\n",
       "      <th>body-style</th>\n",
       "      <th>drive-wheels</th>\n",
       "      <th>engine-location</th>\n",
       "      <th>wheel-base</th>\n",
       "      <th>length</th>\n",
       "      <th>width</th>\n",
       "      <th>height</th>\n",
       "      <th>curb-weight</th>\n",
       "      <th>engine-type</th>\n",
       "      <th>num-of-cylinders</th>\n",
       "      <th>engine-size</th>\n",
       "      <th>fuel-system</th>\n",
       "      <th>bore</th>\n",
       "      <th>stroke</th>\n",
       "      <th>compression-ratio</th>\n",
       "      <th>horsepower</th>\n",
       "      <th>peak-rpm</th>\n",
       "      <th>city-mpg</th>\n",
       "      <th>highway-mpg</th>\n",
       "      <th>price</th>\n",
       "    </tr>\n",
       "  </thead>\n",
       "  <tbody>\n",
       "    <tr>\n",
       "      <th>0</th>\n",
       "      <td>0</td>\n",
       "      <td>0</td>\n",
       "      <td>0</td>\n",
       "      <td>0</td>\n",
       "      <td>0</td>\n",
       "      <td>2</td>\n",
       "      <td>0</td>\n",
       "      <td>0</td>\n",
       "      <td>0</td>\n",
       "      <td>0</td>\n",
       "      <td>0</td>\n",
       "      <td>0</td>\n",
       "      <td>0</td>\n",
       "      <td>0</td>\n",
       "      <td>0</td>\n",
       "      <td>0</td>\n",
       "      <td>0</td>\n",
       "      <td>0</td>\n",
       "      <td>4</td>\n",
       "      <td>4</td>\n",
       "      <td>0</td>\n",
       "      <td>2</td>\n",
       "      <td>2</td>\n",
       "      <td>0</td>\n",
       "      <td>0</td>\n",
       "      <td>4</td>\n",
       "    </tr>\n",
       "  </tbody>\n",
       "</table>\n",
       "</div>"
      ],
      "text/plain": [
       "   symboling  normalized-losses  make  fuel-type  aspiration  num-of-doors  \\\n",
       "0          0                  0     0          0           0             2   \n",
       "\n",
       "   body-style  drive-wheels  engine-location  wheel-base  length  width  \\\n",
       "0           0             0                0           0       0      0   \n",
       "\n",
       "   height  curb-weight  engine-type  num-of-cylinders  engine-size  \\\n",
       "0       0            0            0                 0            0   \n",
       "\n",
       "   fuel-system  bore  stroke  compression-ratio  horsepower  peak-rpm  \\\n",
       "0            0     4       4                  0           2         2   \n",
       "\n",
       "   city-mpg  highway-mpg  price  \n",
       "0         0            0      4  "
      ]
     },
     "execution_count": 64,
     "metadata": {},
     "output_type": "execute_result"
    }
   ],
   "source": [
    "df_auto_pd[\"normalized-losses\"] = df_auto_pd[\"normalized-losses\"].fillna(df_auto_pd[\"normalized-losses\"].mean())\n",
    "pd.DataFrame(df_auto_pd.isnull().sum()).T"
   ]
  },
  {
   "cell_type": "markdown",
   "id": "c0f86425",
   "metadata": {},
   "source": [
    "#### Dropna"
   ]
  },
  {
   "cell_type": "code",
   "execution_count": 66,
   "id": "c2c52719",
   "metadata": {
    "ExecuteTime": {
     "end_time": "2022-10-29T15:59:17.814216Z",
     "start_time": "2022-10-29T15:59:17.789282Z"
    }
   },
   "outputs": [
    {
     "data": {
      "text/html": [
       "<div>\n",
       "<style scoped>\n",
       "    .dataframe tbody tr th:only-of-type {\n",
       "        vertical-align: middle;\n",
       "    }\n",
       "\n",
       "    .dataframe tbody tr th {\n",
       "        vertical-align: top;\n",
       "    }\n",
       "\n",
       "    .dataframe thead th {\n",
       "        text-align: right;\n",
       "    }\n",
       "</style>\n",
       "<table border=\"1\" class=\"dataframe\">\n",
       "  <thead>\n",
       "    <tr style=\"text-align: right;\">\n",
       "      <th></th>\n",
       "      <th>symboling</th>\n",
       "      <th>normalized-losses</th>\n",
       "      <th>make</th>\n",
       "      <th>fuel-type</th>\n",
       "      <th>aspiration</th>\n",
       "      <th>num-of-doors</th>\n",
       "      <th>body-style</th>\n",
       "      <th>drive-wheels</th>\n",
       "      <th>engine-location</th>\n",
       "      <th>wheel-base</th>\n",
       "      <th>length</th>\n",
       "      <th>width</th>\n",
       "      <th>height</th>\n",
       "      <th>curb-weight</th>\n",
       "      <th>engine-type</th>\n",
       "      <th>num-of-cylinders</th>\n",
       "      <th>engine-size</th>\n",
       "      <th>fuel-system</th>\n",
       "      <th>bore</th>\n",
       "      <th>stroke</th>\n",
       "      <th>compression-ratio</th>\n",
       "      <th>horsepower</th>\n",
       "      <th>peak-rpm</th>\n",
       "      <th>city-mpg</th>\n",
       "      <th>highway-mpg</th>\n",
       "      <th>price</th>\n",
       "    </tr>\n",
       "  </thead>\n",
       "  <tbody>\n",
       "    <tr>\n",
       "      <th>0</th>\n",
       "      <td>0</td>\n",
       "      <td>0</td>\n",
       "      <td>0</td>\n",
       "      <td>0</td>\n",
       "      <td>0</td>\n",
       "      <td>0</td>\n",
       "      <td>0</td>\n",
       "      <td>0</td>\n",
       "      <td>0</td>\n",
       "      <td>0</td>\n",
       "      <td>0</td>\n",
       "      <td>0</td>\n",
       "      <td>0</td>\n",
       "      <td>0</td>\n",
       "      <td>0</td>\n",
       "      <td>0</td>\n",
       "      <td>0</td>\n",
       "      <td>0</td>\n",
       "      <td>0</td>\n",
       "      <td>0</td>\n",
       "      <td>0</td>\n",
       "      <td>0</td>\n",
       "      <td>0</td>\n",
       "      <td>0</td>\n",
       "      <td>0</td>\n",
       "      <td>0</td>\n",
       "    </tr>\n",
       "  </tbody>\n",
       "</table>\n",
       "</div>"
      ],
      "text/plain": [
       "   symboling  normalized-losses  make  fuel-type  aspiration  num-of-doors  \\\n",
       "0          0                  0     0          0           0             0   \n",
       "\n",
       "   body-style  drive-wheels  engine-location  wheel-base  length  width  \\\n",
       "0           0             0                0           0       0      0   \n",
       "\n",
       "   height  curb-weight  engine-type  num-of-cylinders  engine-size  \\\n",
       "0       0            0            0                 0            0   \n",
       "\n",
       "   fuel-system  bore  stroke  compression-ratio  horsepower  peak-rpm  \\\n",
       "0            0     0       0                  0           0         0   \n",
       "\n",
       "   city-mpg  highway-mpg  price  \n",
       "0         0            0      0  "
      ]
     },
     "execution_count": 66,
     "metadata": {},
     "output_type": "execute_result"
    }
   ],
   "source": [
    "df_auto_pd = df_auto_pd.dropna()\n",
    "pd.DataFrame(df_auto_pd.isnull().sum()).T"
   ]
  },
  {
   "cell_type": "markdown",
   "id": "b54ff550",
   "metadata": {},
   "source": [
    "# Build ML"
   ]
  },
  {
   "cell_type": "code",
   "execution_count": 71,
   "id": "cbeaf452",
   "metadata": {
    "ExecuteTime": {
     "end_time": "2022-10-29T16:16:53.781819Z",
     "start_time": "2022-10-29T16:16:53.549434Z"
    }
   },
   "outputs": [
    {
     "name": "stdout",
     "output_type": "stream",
     "text": [
      "+---------+-----------------+-----------+---------+----------+------------+-----------+------------+---------------+----------+------+-----+------+-----------+-----------+----------------+-----------+-----------+----+------+-----------------+----------+--------+--------+-----------+-------+\n",
      "|symboling|normalized-losses|       make|fuel-type|aspiration|num-of-doors| body-style|drive-wheels|engine-location|wheel-base|length|width|height|curb-weight|engine-type|num-of-cylinders|engine-size|fuel-system|bore|stroke|compression-ratio|horsepower|peak-rpm|city-mpg|highway-mpg|  price|\n",
      "+---------+-----------------+-----------+---------+----------+------------+-----------+------------+---------------+----------+------+-----+------+-----------+-----------+----------------+-----------+-----------+----+------+-----------------+----------+--------+--------+-----------+-------+\n",
      "|        3|            122.0|alfa-romero|      gas|       std|         two|convertible|         rwd|          front|      88.6| 168.8| 64.1|  48.8|       2548|       dohc|            four|        130|       mpfi|3.47|  2.68|              9.0|     111.0|  5000.0|      21|         27|13495.0|\n",
      "|        3|            122.0|alfa-romero|      gas|       std|         two|convertible|         rwd|          front|      88.6| 168.8| 64.1|  48.8|       2548|       dohc|            four|        130|       mpfi|3.47|  2.68|              9.0|     111.0|  5000.0|      21|         27|16500.0|\n",
      "|        1|            122.0|alfa-romero|      gas|       std|         two|  hatchback|         rwd|          front|      94.5| 171.2| 65.5|  52.4|       2823|       ohcv|             six|        152|       mpfi|2.68|  3.47|              9.0|     154.0|  5000.0|      19|         26|16500.0|\n",
      "|        2|            164.0|       audi|      gas|       std|        four|      sedan|         fwd|          front|      99.8| 176.6| 66.2|  54.3|       2337|        ohc|            four|        109|       mpfi|3.19|   3.4|             10.0|     102.0|  5500.0|      24|         30|13950.0|\n",
      "|        2|            164.0|       audi|      gas|       std|        four|      sedan|         4wd|          front|      99.4| 176.6| 66.4|  54.3|       2824|        ohc|            five|        136|       mpfi|3.19|   3.4|              8.0|     115.0|  5500.0|      18|         22|17450.0|\n",
      "+---------+-----------------+-----------+---------+----------+------------+-----------+------------+---------------+----------+------+-----+------+-----------+-----------+----------------+-----------+-----------+----+------+-----------------+----------+--------+--------+-----------+-------+\n",
      "only showing top 5 rows\n",
      "\n"
     ]
    }
   ],
   "source": [
    "df_auto.show(5)"
   ]
  },
  {
   "cell_type": "markdown",
   "id": "bf92aa67",
   "metadata": {},
   "source": [
    "## Featurization\n",
    "\n",
    "El proceso de caracterización, incluidas las tareas comunes, como el manejo de características categóricas y \n",
    "la normalización, la imputación de datos faltantes y la creación de una canalización de pasos de caracterización.\n",
    "\n",
    "- **Transformer:** Aplica una transformacion a una columna (codificar datos categoricos).\n",
    "- **Estimator:** Se utiliza para entrenar un modelo.\n",
    "- **Pipeline:** Es aquel que ejecuta los pasos para la normalizacion, featurization, y contrución de un modelo\n",
    "\n",
    "<img src=\"pipeline.jpg\" height=\"750\" width=\"750\">"
   ]
  },
  {
   "cell_type": "markdown",
   "id": "58dc05dc",
   "metadata": {},
   "source": [
    "### Pyspark"
   ]
  },
  {
   "cell_type": "code",
   "execution_count": 77,
   "id": "986499e4",
   "metadata": {
    "ExecuteTime": {
     "end_time": "2022-10-29T16:26:49.552446Z",
     "start_time": "2022-10-29T16:26:49.543469Z"
    }
   },
   "outputs": [],
   "source": [
    "from pyspark.ml.feature import OneHotEncoder, StringIndexer"
   ]
  },
  {
   "cell_type": "code",
   "execution_count": 80,
   "id": "64e716f2",
   "metadata": {
    "ExecuteTime": {
     "end_time": "2022-10-29T16:31:14.239975Z",
     "start_time": "2022-10-29T16:31:13.916812Z"
    }
   },
   "outputs": [
    {
     "name": "stdout",
     "output_type": "stream",
     "text": [
      "+-------------+\n",
      "|         make|\n",
      "+-------------+\n",
      "|       peugot|\n",
      "|       jaguar|\n",
      "|   mitsubishi|\n",
      "|       toyota|\n",
      "|         saab|\n",
      "|     plymouth|\n",
      "|         audi|\n",
      "|  alfa-romero|\n",
      "|          bmw|\n",
      "|        dodge|\n",
      "|        mazda|\n",
      "|mercedes-benz|\n",
      "|        isuzu|\n",
      "|      porsche|\n",
      "|    chevrolet|\n",
      "|        honda|\n",
      "|   volkswagen|\n",
      "|      mercury|\n",
      "|       nissan|\n",
      "|       subaru|\n",
      "+-------------+\n",
      "only showing top 20 rows\n",
      "\n"
     ]
    }
   ],
   "source": [
    "df_make = df_auto.select(\"make\").distinct()\n",
    "df_make.show()"
   ]
  },
  {
   "cell_type": "code",
   "execution_count": 91,
   "id": "6f76a3c7",
   "metadata": {
    "ExecuteTime": {
     "end_time": "2022-10-29T16:40:59.837232Z",
     "start_time": "2022-10-29T16:40:59.364692Z"
    }
   },
   "outputs": [
    {
     "name": "stdout",
     "output_type": "stream",
     "text": [
      "+-------------+----------+\n",
      "|         make|make_index|\n",
      "+-------------+----------+\n",
      "|       peugot|      13.0|\n",
      "|       jaguar|       7.0|\n",
      "|   mitsubishi|      11.0|\n",
      "|       toyota|      18.0|\n",
      "|         saab|      16.0|\n",
      "|     plymouth|      14.0|\n",
      "|         audi|       1.0|\n",
      "|  alfa-romero|       0.0|\n",
      "|          bmw|       2.0|\n",
      "|        dodge|       4.0|\n",
      "|        mazda|       8.0|\n",
      "|mercedes-benz|       9.0|\n",
      "|        isuzu|       6.0|\n",
      "|      porsche|      15.0|\n",
      "|    chevrolet|       3.0|\n",
      "|        honda|       5.0|\n",
      "|   volkswagen|      19.0|\n",
      "|      mercury|      10.0|\n",
      "|       nissan|      12.0|\n",
      "|       subaru|      17.0|\n",
      "|        volvo|      20.0|\n",
      "+-------------+----------+\n",
      "\n"
     ]
    }
   ],
   "source": [
    "indexer = StringIndexer(inputCol = \"make\", outputCol = \"make_index\")\n",
    "indexerModel = indexer.fit(df_make)\n",
    "index_df = indexerModel.transform(df_make)\n",
    "index_df.show(25)"
   ]
  },
  {
   "cell_type": "code",
   "execution_count": 86,
   "id": "d1ea652e",
   "metadata": {
    "ExecuteTime": {
     "end_time": "2022-10-29T16:35:45.600263Z",
     "start_time": "2022-10-29T16:35:45.597266Z"
    }
   },
   "outputs": [],
   "source": [
    "# encoder = OneHotEncoder(inputCol = \"make_index\", outputCol = \"make_encoder\")\n",
    "# encoderModel = encoder.fit(index_df)\n",
    "# encoder_df = encoderModel.transform(index_df)\n",
    "# encoder_df.show(21)"
   ]
  },
  {
   "cell_type": "markdown",
   "id": "c7c76b1d",
   "metadata": {},
   "source": [
    "### Pandas"
   ]
  },
  {
   "cell_type": "code",
   "execution_count": 88,
   "id": "781fa469",
   "metadata": {
    "ExecuteTime": {
     "end_time": "2022-10-29T16:37:20.302931Z",
     "start_time": "2022-10-29T16:37:19.405931Z"
    }
   },
   "outputs": [],
   "source": [
    "from sklearn.preprocessing import LabelEncoder"
   ]
  },
  {
   "cell_type": "code",
   "execution_count": 87,
   "id": "f7ce120d",
   "metadata": {
    "ExecuteTime": {
     "end_time": "2022-10-29T16:36:52.837461Z",
     "start_time": "2022-10-29T16:36:52.772636Z"
    }
   },
   "outputs": [
    {
     "data": {
      "text/html": [
       "<div>\n",
       "<style scoped>\n",
       "    .dataframe tbody tr th:only-of-type {\n",
       "        vertical-align: middle;\n",
       "    }\n",
       "\n",
       "    .dataframe tbody tr th {\n",
       "        vertical-align: top;\n",
       "    }\n",
       "\n",
       "    .dataframe thead th {\n",
       "        text-align: right;\n",
       "    }\n",
       "</style>\n",
       "<table border=\"1\" class=\"dataframe\">\n",
       "  <thead>\n",
       "    <tr style=\"text-align: right;\">\n",
       "      <th></th>\n",
       "      <th>symboling</th>\n",
       "      <th>normalized-losses</th>\n",
       "      <th>make</th>\n",
       "      <th>fuel-type</th>\n",
       "      <th>aspiration</th>\n",
       "      <th>num-of-doors</th>\n",
       "      <th>body-style</th>\n",
       "      <th>drive-wheels</th>\n",
       "      <th>engine-location</th>\n",
       "      <th>wheel-base</th>\n",
       "      <th>length</th>\n",
       "      <th>width</th>\n",
       "      <th>height</th>\n",
       "      <th>curb-weight</th>\n",
       "      <th>engine-type</th>\n",
       "      <th>num-of-cylinders</th>\n",
       "      <th>engine-size</th>\n",
       "      <th>fuel-system</th>\n",
       "      <th>bore</th>\n",
       "      <th>stroke</th>\n",
       "      <th>compression-ratio</th>\n",
       "      <th>horsepower</th>\n",
       "      <th>peak-rpm</th>\n",
       "      <th>city-mpg</th>\n",
       "      <th>highway-mpg</th>\n",
       "      <th>price</th>\n",
       "    </tr>\n",
       "  </thead>\n",
       "  <tbody>\n",
       "    <tr>\n",
       "      <th>0</th>\n",
       "      <td>3</td>\n",
       "      <td>122.0</td>\n",
       "      <td>alfa-romero</td>\n",
       "      <td>gas</td>\n",
       "      <td>std</td>\n",
       "      <td>two</td>\n",
       "      <td>convertible</td>\n",
       "      <td>rwd</td>\n",
       "      <td>front</td>\n",
       "      <td>88.6</td>\n",
       "      <td>168.8</td>\n",
       "      <td>64.1</td>\n",
       "      <td>48.8</td>\n",
       "      <td>2548</td>\n",
       "      <td>dohc</td>\n",
       "      <td>four</td>\n",
       "      <td>130</td>\n",
       "      <td>mpfi</td>\n",
       "      <td>3.47</td>\n",
       "      <td>2.68</td>\n",
       "      <td>9.0</td>\n",
       "      <td>111.0</td>\n",
       "      <td>5000.0</td>\n",
       "      <td>21</td>\n",
       "      <td>27</td>\n",
       "      <td>13495.0</td>\n",
       "    </tr>\n",
       "    <tr>\n",
       "      <th>1</th>\n",
       "      <td>3</td>\n",
       "      <td>122.0</td>\n",
       "      <td>alfa-romero</td>\n",
       "      <td>gas</td>\n",
       "      <td>std</td>\n",
       "      <td>two</td>\n",
       "      <td>convertible</td>\n",
       "      <td>rwd</td>\n",
       "      <td>front</td>\n",
       "      <td>88.6</td>\n",
       "      <td>168.8</td>\n",
       "      <td>64.1</td>\n",
       "      <td>48.8</td>\n",
       "      <td>2548</td>\n",
       "      <td>dohc</td>\n",
       "      <td>four</td>\n",
       "      <td>130</td>\n",
       "      <td>mpfi</td>\n",
       "      <td>3.47</td>\n",
       "      <td>2.68</td>\n",
       "      <td>9.0</td>\n",
       "      <td>111.0</td>\n",
       "      <td>5000.0</td>\n",
       "      <td>21</td>\n",
       "      <td>27</td>\n",
       "      <td>16500.0</td>\n",
       "    </tr>\n",
       "    <tr>\n",
       "      <th>2</th>\n",
       "      <td>1</td>\n",
       "      <td>122.0</td>\n",
       "      <td>alfa-romero</td>\n",
       "      <td>gas</td>\n",
       "      <td>std</td>\n",
       "      <td>two</td>\n",
       "      <td>hatchback</td>\n",
       "      <td>rwd</td>\n",
       "      <td>front</td>\n",
       "      <td>94.5</td>\n",
       "      <td>171.2</td>\n",
       "      <td>65.5</td>\n",
       "      <td>52.4</td>\n",
       "      <td>2823</td>\n",
       "      <td>ohcv</td>\n",
       "      <td>six</td>\n",
       "      <td>152</td>\n",
       "      <td>mpfi</td>\n",
       "      <td>2.68</td>\n",
       "      <td>3.47</td>\n",
       "      <td>9.0</td>\n",
       "      <td>154.0</td>\n",
       "      <td>5000.0</td>\n",
       "      <td>19</td>\n",
       "      <td>26</td>\n",
       "      <td>16500.0</td>\n",
       "    </tr>\n",
       "    <tr>\n",
       "      <th>3</th>\n",
       "      <td>2</td>\n",
       "      <td>164.0</td>\n",
       "      <td>audi</td>\n",
       "      <td>gas</td>\n",
       "      <td>std</td>\n",
       "      <td>four</td>\n",
       "      <td>sedan</td>\n",
       "      <td>fwd</td>\n",
       "      <td>front</td>\n",
       "      <td>99.8</td>\n",
       "      <td>176.6</td>\n",
       "      <td>66.2</td>\n",
       "      <td>54.3</td>\n",
       "      <td>2337</td>\n",
       "      <td>ohc</td>\n",
       "      <td>four</td>\n",
       "      <td>109</td>\n",
       "      <td>mpfi</td>\n",
       "      <td>3.19</td>\n",
       "      <td>3.40</td>\n",
       "      <td>10.0</td>\n",
       "      <td>102.0</td>\n",
       "      <td>5500.0</td>\n",
       "      <td>24</td>\n",
       "      <td>30</td>\n",
       "      <td>13950.0</td>\n",
       "    </tr>\n",
       "    <tr>\n",
       "      <th>4</th>\n",
       "      <td>2</td>\n",
       "      <td>164.0</td>\n",
       "      <td>audi</td>\n",
       "      <td>gas</td>\n",
       "      <td>std</td>\n",
       "      <td>four</td>\n",
       "      <td>sedan</td>\n",
       "      <td>4wd</td>\n",
       "      <td>front</td>\n",
       "      <td>99.4</td>\n",
       "      <td>176.6</td>\n",
       "      <td>66.4</td>\n",
       "      <td>54.3</td>\n",
       "      <td>2824</td>\n",
       "      <td>ohc</td>\n",
       "      <td>five</td>\n",
       "      <td>136</td>\n",
       "      <td>mpfi</td>\n",
       "      <td>3.19</td>\n",
       "      <td>3.40</td>\n",
       "      <td>8.0</td>\n",
       "      <td>115.0</td>\n",
       "      <td>5500.0</td>\n",
       "      <td>18</td>\n",
       "      <td>22</td>\n",
       "      <td>17450.0</td>\n",
       "    </tr>\n",
       "  </tbody>\n",
       "</table>\n",
       "</div>"
      ],
      "text/plain": [
       "   symboling  normalized-losses         make fuel-type aspiration  \\\n",
       "0          3              122.0  alfa-romero       gas        std   \n",
       "1          3              122.0  alfa-romero       gas        std   \n",
       "2          1              122.0  alfa-romero       gas        std   \n",
       "3          2              164.0         audi       gas        std   \n",
       "4          2              164.0         audi       gas        std   \n",
       "\n",
       "  num-of-doors   body-style drive-wheels engine-location  wheel-base  length  \\\n",
       "0          two  convertible          rwd           front        88.6   168.8   \n",
       "1          two  convertible          rwd           front        88.6   168.8   \n",
       "2          two    hatchback          rwd           front        94.5   171.2   \n",
       "3         four        sedan          fwd           front        99.8   176.6   \n",
       "4         four        sedan          4wd           front        99.4   176.6   \n",
       "\n",
       "   width  height  curb-weight engine-type num-of-cylinders  engine-size  \\\n",
       "0   64.1    48.8         2548        dohc             four          130   \n",
       "1   64.1    48.8         2548        dohc             four          130   \n",
       "2   65.5    52.4         2823        ohcv              six          152   \n",
       "3   66.2    54.3         2337         ohc             four          109   \n",
       "4   66.4    54.3         2824         ohc             five          136   \n",
       "\n",
       "  fuel-system  bore  stroke  compression-ratio  horsepower  peak-rpm  \\\n",
       "0        mpfi  3.47    2.68                9.0       111.0    5000.0   \n",
       "1        mpfi  3.47    2.68                9.0       111.0    5000.0   \n",
       "2        mpfi  2.68    3.47                9.0       154.0    5000.0   \n",
       "3        mpfi  3.19    3.40               10.0       102.0    5500.0   \n",
       "4        mpfi  3.19    3.40                8.0       115.0    5500.0   \n",
       "\n",
       "   city-mpg  highway-mpg    price  \n",
       "0        21           27  13495.0  \n",
       "1        21           27  16500.0  \n",
       "2        19           26  16500.0  \n",
       "3        24           30  13950.0  \n",
       "4        18           22  17450.0  "
      ]
     },
     "execution_count": 87,
     "metadata": {},
     "output_type": "execute_result"
    }
   ],
   "source": [
    "df_auto_pd.head()"
   ]
  },
  {
   "cell_type": "code",
   "execution_count": 90,
   "id": "b3887aca",
   "metadata": {
    "ExecuteTime": {
     "end_time": "2022-10-29T16:38:58.766975Z",
     "start_time": "2022-10-29T16:38:58.732067Z"
    }
   },
   "outputs": [
    {
     "data": {
      "text/html": [
       "<div>\n",
       "<style scoped>\n",
       "    .dataframe tbody tr th:only-of-type {\n",
       "        vertical-align: middle;\n",
       "    }\n",
       "\n",
       "    .dataframe tbody tr th {\n",
       "        vertical-align: top;\n",
       "    }\n",
       "\n",
       "    .dataframe thead th {\n",
       "        text-align: right;\n",
       "    }\n",
       "</style>\n",
       "<table border=\"1\" class=\"dataframe\">\n",
       "  <thead>\n",
       "    <tr style=\"text-align: right;\">\n",
       "      <th></th>\n",
       "      <th>make</th>\n",
       "      <th>fuel-type</th>\n",
       "      <th>aspiration</th>\n",
       "      <th>num-of-doors</th>\n",
       "      <th>body-style</th>\n",
       "      <th>drive-wheels</th>\n",
       "      <th>engine-location</th>\n",
       "      <th>engine-type</th>\n",
       "      <th>num-of-cylinders</th>\n",
       "      <th>fuel-system</th>\n",
       "    </tr>\n",
       "  </thead>\n",
       "  <tbody>\n",
       "    <tr>\n",
       "      <th>0</th>\n",
       "      <td>0</td>\n",
       "      <td>1</td>\n",
       "      <td>0</td>\n",
       "      <td>1</td>\n",
       "      <td>0</td>\n",
       "      <td>2</td>\n",
       "      <td>0</td>\n",
       "      <td>0</td>\n",
       "      <td>2</td>\n",
       "      <td>4</td>\n",
       "    </tr>\n",
       "    <tr>\n",
       "      <th>1</th>\n",
       "      <td>0</td>\n",
       "      <td>1</td>\n",
       "      <td>0</td>\n",
       "      <td>1</td>\n",
       "      <td>0</td>\n",
       "      <td>2</td>\n",
       "      <td>0</td>\n",
       "      <td>0</td>\n",
       "      <td>2</td>\n",
       "      <td>4</td>\n",
       "    </tr>\n",
       "    <tr>\n",
       "      <th>2</th>\n",
       "      <td>0</td>\n",
       "      <td>1</td>\n",
       "      <td>0</td>\n",
       "      <td>1</td>\n",
       "      <td>2</td>\n",
       "      <td>2</td>\n",
       "      <td>0</td>\n",
       "      <td>4</td>\n",
       "      <td>3</td>\n",
       "      <td>4</td>\n",
       "    </tr>\n",
       "    <tr>\n",
       "      <th>3</th>\n",
       "      <td>1</td>\n",
       "      <td>1</td>\n",
       "      <td>0</td>\n",
       "      <td>0</td>\n",
       "      <td>3</td>\n",
       "      <td>1</td>\n",
       "      <td>0</td>\n",
       "      <td>2</td>\n",
       "      <td>2</td>\n",
       "      <td>4</td>\n",
       "    </tr>\n",
       "    <tr>\n",
       "      <th>4</th>\n",
       "      <td>1</td>\n",
       "      <td>1</td>\n",
       "      <td>0</td>\n",
       "      <td>0</td>\n",
       "      <td>3</td>\n",
       "      <td>0</td>\n",
       "      <td>0</td>\n",
       "      <td>2</td>\n",
       "      <td>1</td>\n",
       "      <td>4</td>\n",
       "    </tr>\n",
       "    <tr>\n",
       "      <th>...</th>\n",
       "      <td>...</td>\n",
       "      <td>...</td>\n",
       "      <td>...</td>\n",
       "      <td>...</td>\n",
       "      <td>...</td>\n",
       "      <td>...</td>\n",
       "      <td>...</td>\n",
       "      <td>...</td>\n",
       "      <td>...</td>\n",
       "      <td>...</td>\n",
       "    </tr>\n",
       "    <tr>\n",
       "      <th>200</th>\n",
       "      <td>20</td>\n",
       "      <td>1</td>\n",
       "      <td>0</td>\n",
       "      <td>0</td>\n",
       "      <td>3</td>\n",
       "      <td>2</td>\n",
       "      <td>0</td>\n",
       "      <td>2</td>\n",
       "      <td>2</td>\n",
       "      <td>4</td>\n",
       "    </tr>\n",
       "    <tr>\n",
       "      <th>201</th>\n",
       "      <td>20</td>\n",
       "      <td>1</td>\n",
       "      <td>1</td>\n",
       "      <td>0</td>\n",
       "      <td>3</td>\n",
       "      <td>2</td>\n",
       "      <td>0</td>\n",
       "      <td>2</td>\n",
       "      <td>2</td>\n",
       "      <td>4</td>\n",
       "    </tr>\n",
       "    <tr>\n",
       "      <th>202</th>\n",
       "      <td>20</td>\n",
       "      <td>1</td>\n",
       "      <td>0</td>\n",
       "      <td>0</td>\n",
       "      <td>3</td>\n",
       "      <td>2</td>\n",
       "      <td>0</td>\n",
       "      <td>4</td>\n",
       "      <td>3</td>\n",
       "      <td>4</td>\n",
       "    </tr>\n",
       "    <tr>\n",
       "      <th>203</th>\n",
       "      <td>20</td>\n",
       "      <td>0</td>\n",
       "      <td>1</td>\n",
       "      <td>0</td>\n",
       "      <td>3</td>\n",
       "      <td>2</td>\n",
       "      <td>0</td>\n",
       "      <td>2</td>\n",
       "      <td>3</td>\n",
       "      <td>2</td>\n",
       "    </tr>\n",
       "    <tr>\n",
       "      <th>204</th>\n",
       "      <td>20</td>\n",
       "      <td>1</td>\n",
       "      <td>1</td>\n",
       "      <td>0</td>\n",
       "      <td>3</td>\n",
       "      <td>2</td>\n",
       "      <td>0</td>\n",
       "      <td>2</td>\n",
       "      <td>2</td>\n",
       "      <td>4</td>\n",
       "    </tr>\n",
       "  </tbody>\n",
       "</table>\n",
       "<p>193 rows × 10 columns</p>\n",
       "</div>"
      ],
      "text/plain": [
       "     make  fuel-type  aspiration  num-of-doors  body-style  drive-wheels  \\\n",
       "0       0          1           0             1           0             2   \n",
       "1       0          1           0             1           0             2   \n",
       "2       0          1           0             1           2             2   \n",
       "3       1          1           0             0           3             1   \n",
       "4       1          1           0             0           3             0   \n",
       "..    ...        ...         ...           ...         ...           ...   \n",
       "200    20          1           0             0           3             2   \n",
       "201    20          1           1             0           3             2   \n",
       "202    20          1           0             0           3             2   \n",
       "203    20          0           1             0           3             2   \n",
       "204    20          1           1             0           3             2   \n",
       "\n",
       "     engine-location  engine-type  num-of-cylinders  fuel-system  \n",
       "0                  0            0                 2            4  \n",
       "1                  0            0                 2            4  \n",
       "2                  0            4                 3            4  \n",
       "3                  0            2                 2            4  \n",
       "4                  0            2                 1            4  \n",
       "..               ...          ...               ...          ...  \n",
       "200                0            2                 2            4  \n",
       "201                0            2                 2            4  \n",
       "202                0            4                 3            4  \n",
       "203                0            2                 3            2  \n",
       "204                0            2                 2            4  \n",
       "\n",
       "[193 rows x 10 columns]"
      ]
     },
     "execution_count": 90,
     "metadata": {},
     "output_type": "execute_result"
    }
   ],
   "source": [
    "labelencoder = LabelEncoder()\n",
    "df_cat = df_auto_pd.select_dtypes(include = \"O\")\n",
    "df_cat = df_cat.apply(labelencoder.fit_transform)\n",
    "df_cat"
   ]
  },
  {
   "cell_type": "code",
   "execution_count": 92,
   "id": "4b8c959f",
   "metadata": {
    "ExecuteTime": {
     "end_time": "2022-10-29T16:43:00.818030Z",
     "start_time": "2022-10-29T16:43:00.781108Z"
    }
   },
   "outputs": [
    {
     "data": {
      "text/html": [
       "<div>\n",
       "<style scoped>\n",
       "    .dataframe tbody tr th:only-of-type {\n",
       "        vertical-align: middle;\n",
       "    }\n",
       "\n",
       "    .dataframe tbody tr th {\n",
       "        vertical-align: top;\n",
       "    }\n",
       "\n",
       "    .dataframe thead th {\n",
       "        text-align: right;\n",
       "    }\n",
       "</style>\n",
       "<table border=\"1\" class=\"dataframe\">\n",
       "  <thead>\n",
       "    <tr style=\"text-align: right;\">\n",
       "      <th></th>\n",
       "      <th>symboling</th>\n",
       "      <th>normalized-losses</th>\n",
       "      <th>wheel-base</th>\n",
       "      <th>length</th>\n",
       "      <th>width</th>\n",
       "      <th>height</th>\n",
       "      <th>curb-weight</th>\n",
       "      <th>engine-size</th>\n",
       "      <th>bore</th>\n",
       "      <th>stroke</th>\n",
       "      <th>compression-ratio</th>\n",
       "      <th>horsepower</th>\n",
       "      <th>peak-rpm</th>\n",
       "      <th>city-mpg</th>\n",
       "      <th>highway-mpg</th>\n",
       "      <th>price</th>\n",
       "    </tr>\n",
       "  </thead>\n",
       "  <tbody>\n",
       "    <tr>\n",
       "      <th>0</th>\n",
       "      <td>3</td>\n",
       "      <td>122.0</td>\n",
       "      <td>88.6</td>\n",
       "      <td>168.8</td>\n",
       "      <td>64.1</td>\n",
       "      <td>48.8</td>\n",
       "      <td>2548</td>\n",
       "      <td>130</td>\n",
       "      <td>3.47</td>\n",
       "      <td>2.68</td>\n",
       "      <td>9.0</td>\n",
       "      <td>111.0</td>\n",
       "      <td>5000.0</td>\n",
       "      <td>21</td>\n",
       "      <td>27</td>\n",
       "      <td>13495.0</td>\n",
       "    </tr>\n",
       "    <tr>\n",
       "      <th>1</th>\n",
       "      <td>3</td>\n",
       "      <td>122.0</td>\n",
       "      <td>88.6</td>\n",
       "      <td>168.8</td>\n",
       "      <td>64.1</td>\n",
       "      <td>48.8</td>\n",
       "      <td>2548</td>\n",
       "      <td>130</td>\n",
       "      <td>3.47</td>\n",
       "      <td>2.68</td>\n",
       "      <td>9.0</td>\n",
       "      <td>111.0</td>\n",
       "      <td>5000.0</td>\n",
       "      <td>21</td>\n",
       "      <td>27</td>\n",
       "      <td>16500.0</td>\n",
       "    </tr>\n",
       "    <tr>\n",
       "      <th>2</th>\n",
       "      <td>1</td>\n",
       "      <td>122.0</td>\n",
       "      <td>94.5</td>\n",
       "      <td>171.2</td>\n",
       "      <td>65.5</td>\n",
       "      <td>52.4</td>\n",
       "      <td>2823</td>\n",
       "      <td>152</td>\n",
       "      <td>2.68</td>\n",
       "      <td>3.47</td>\n",
       "      <td>9.0</td>\n",
       "      <td>154.0</td>\n",
       "      <td>5000.0</td>\n",
       "      <td>19</td>\n",
       "      <td>26</td>\n",
       "      <td>16500.0</td>\n",
       "    </tr>\n",
       "    <tr>\n",
       "      <th>3</th>\n",
       "      <td>2</td>\n",
       "      <td>164.0</td>\n",
       "      <td>99.8</td>\n",
       "      <td>176.6</td>\n",
       "      <td>66.2</td>\n",
       "      <td>54.3</td>\n",
       "      <td>2337</td>\n",
       "      <td>109</td>\n",
       "      <td>3.19</td>\n",
       "      <td>3.40</td>\n",
       "      <td>10.0</td>\n",
       "      <td>102.0</td>\n",
       "      <td>5500.0</td>\n",
       "      <td>24</td>\n",
       "      <td>30</td>\n",
       "      <td>13950.0</td>\n",
       "    </tr>\n",
       "    <tr>\n",
       "      <th>4</th>\n",
       "      <td>2</td>\n",
       "      <td>164.0</td>\n",
       "      <td>99.4</td>\n",
       "      <td>176.6</td>\n",
       "      <td>66.4</td>\n",
       "      <td>54.3</td>\n",
       "      <td>2824</td>\n",
       "      <td>136</td>\n",
       "      <td>3.19</td>\n",
       "      <td>3.40</td>\n",
       "      <td>8.0</td>\n",
       "      <td>115.0</td>\n",
       "      <td>5500.0</td>\n",
       "      <td>18</td>\n",
       "      <td>22</td>\n",
       "      <td>17450.0</td>\n",
       "    </tr>\n",
       "    <tr>\n",
       "      <th>...</th>\n",
       "      <td>...</td>\n",
       "      <td>...</td>\n",
       "      <td>...</td>\n",
       "      <td>...</td>\n",
       "      <td>...</td>\n",
       "      <td>...</td>\n",
       "      <td>...</td>\n",
       "      <td>...</td>\n",
       "      <td>...</td>\n",
       "      <td>...</td>\n",
       "      <td>...</td>\n",
       "      <td>...</td>\n",
       "      <td>...</td>\n",
       "      <td>...</td>\n",
       "      <td>...</td>\n",
       "      <td>...</td>\n",
       "    </tr>\n",
       "    <tr>\n",
       "      <th>200</th>\n",
       "      <td>-1</td>\n",
       "      <td>95.0</td>\n",
       "      <td>109.1</td>\n",
       "      <td>188.8</td>\n",
       "      <td>68.9</td>\n",
       "      <td>55.5</td>\n",
       "      <td>2952</td>\n",
       "      <td>141</td>\n",
       "      <td>3.78</td>\n",
       "      <td>3.15</td>\n",
       "      <td>9.5</td>\n",
       "      <td>114.0</td>\n",
       "      <td>5400.0</td>\n",
       "      <td>23</td>\n",
       "      <td>28</td>\n",
       "      <td>16845.0</td>\n",
       "    </tr>\n",
       "    <tr>\n",
       "      <th>201</th>\n",
       "      <td>-1</td>\n",
       "      <td>95.0</td>\n",
       "      <td>109.1</td>\n",
       "      <td>188.8</td>\n",
       "      <td>68.8</td>\n",
       "      <td>55.5</td>\n",
       "      <td>3049</td>\n",
       "      <td>141</td>\n",
       "      <td>3.78</td>\n",
       "      <td>3.15</td>\n",
       "      <td>8.7</td>\n",
       "      <td>160.0</td>\n",
       "      <td>5300.0</td>\n",
       "      <td>19</td>\n",
       "      <td>25</td>\n",
       "      <td>19045.0</td>\n",
       "    </tr>\n",
       "    <tr>\n",
       "      <th>202</th>\n",
       "      <td>-1</td>\n",
       "      <td>95.0</td>\n",
       "      <td>109.1</td>\n",
       "      <td>188.8</td>\n",
       "      <td>68.9</td>\n",
       "      <td>55.5</td>\n",
       "      <td>3012</td>\n",
       "      <td>173</td>\n",
       "      <td>3.58</td>\n",
       "      <td>2.87</td>\n",
       "      <td>8.8</td>\n",
       "      <td>134.0</td>\n",
       "      <td>5500.0</td>\n",
       "      <td>18</td>\n",
       "      <td>23</td>\n",
       "      <td>21485.0</td>\n",
       "    </tr>\n",
       "    <tr>\n",
       "      <th>203</th>\n",
       "      <td>-1</td>\n",
       "      <td>95.0</td>\n",
       "      <td>109.1</td>\n",
       "      <td>188.8</td>\n",
       "      <td>68.9</td>\n",
       "      <td>55.5</td>\n",
       "      <td>3217</td>\n",
       "      <td>145</td>\n",
       "      <td>3.01</td>\n",
       "      <td>3.40</td>\n",
       "      <td>23.0</td>\n",
       "      <td>106.0</td>\n",
       "      <td>4800.0</td>\n",
       "      <td>26</td>\n",
       "      <td>27</td>\n",
       "      <td>22470.0</td>\n",
       "    </tr>\n",
       "    <tr>\n",
       "      <th>204</th>\n",
       "      <td>-1</td>\n",
       "      <td>95.0</td>\n",
       "      <td>109.1</td>\n",
       "      <td>188.8</td>\n",
       "      <td>68.9</td>\n",
       "      <td>55.5</td>\n",
       "      <td>3062</td>\n",
       "      <td>141</td>\n",
       "      <td>3.78</td>\n",
       "      <td>3.15</td>\n",
       "      <td>9.5</td>\n",
       "      <td>114.0</td>\n",
       "      <td>5400.0</td>\n",
       "      <td>19</td>\n",
       "      <td>25</td>\n",
       "      <td>22625.0</td>\n",
       "    </tr>\n",
       "  </tbody>\n",
       "</table>\n",
       "<p>193 rows × 16 columns</p>\n",
       "</div>"
      ],
      "text/plain": [
       "     symboling  normalized-losses  wheel-base  length  width  height  \\\n",
       "0            3              122.0        88.6   168.8   64.1    48.8   \n",
       "1            3              122.0        88.6   168.8   64.1    48.8   \n",
       "2            1              122.0        94.5   171.2   65.5    52.4   \n",
       "3            2              164.0        99.8   176.6   66.2    54.3   \n",
       "4            2              164.0        99.4   176.6   66.4    54.3   \n",
       "..         ...                ...         ...     ...    ...     ...   \n",
       "200         -1               95.0       109.1   188.8   68.9    55.5   \n",
       "201         -1               95.0       109.1   188.8   68.8    55.5   \n",
       "202         -1               95.0       109.1   188.8   68.9    55.5   \n",
       "203         -1               95.0       109.1   188.8   68.9    55.5   \n",
       "204         -1               95.0       109.1   188.8   68.9    55.5   \n",
       "\n",
       "     curb-weight  engine-size  bore  stroke  compression-ratio  horsepower  \\\n",
       "0           2548          130  3.47    2.68                9.0       111.0   \n",
       "1           2548          130  3.47    2.68                9.0       111.0   \n",
       "2           2823          152  2.68    3.47                9.0       154.0   \n",
       "3           2337          109  3.19    3.40               10.0       102.0   \n",
       "4           2824          136  3.19    3.40                8.0       115.0   \n",
       "..           ...          ...   ...     ...                ...         ...   \n",
       "200         2952          141  3.78    3.15                9.5       114.0   \n",
       "201         3049          141  3.78    3.15                8.7       160.0   \n",
       "202         3012          173  3.58    2.87                8.8       134.0   \n",
       "203         3217          145  3.01    3.40               23.0       106.0   \n",
       "204         3062          141  3.78    3.15                9.5       114.0   \n",
       "\n",
       "     peak-rpm  city-mpg  highway-mpg    price  \n",
       "0      5000.0        21           27  13495.0  \n",
       "1      5000.0        21           27  16500.0  \n",
       "2      5000.0        19           26  16500.0  \n",
       "3      5500.0        24           30  13950.0  \n",
       "4      5500.0        18           22  17450.0  \n",
       "..        ...       ...          ...      ...  \n",
       "200    5400.0        23           28  16845.0  \n",
       "201    5300.0        19           25  19045.0  \n",
       "202    5500.0        18           23  21485.0  \n",
       "203    4800.0        26           27  22470.0  \n",
       "204    5400.0        19           25  22625.0  \n",
       "\n",
       "[193 rows x 16 columns]"
      ]
     },
     "execution_count": 92,
     "metadata": {},
     "output_type": "execute_result"
    }
   ],
   "source": [
    "df_num = df_auto_pd.select_dtypes(exclude = \"O\")\n",
    "df_num"
   ]
  },
  {
   "cell_type": "code",
   "execution_count": 93,
   "id": "c3e06632",
   "metadata": {
    "ExecuteTime": {
     "end_time": "2022-10-29T16:43:33.882317Z",
     "start_time": "2022-10-29T16:43:33.831056Z"
    },
    "scrolled": false
   },
   "outputs": [
    {
     "data": {
      "text/html": [
       "<div>\n",
       "<style scoped>\n",
       "    .dataframe tbody tr th:only-of-type {\n",
       "        vertical-align: middle;\n",
       "    }\n",
       "\n",
       "    .dataframe tbody tr th {\n",
       "        vertical-align: top;\n",
       "    }\n",
       "\n",
       "    .dataframe thead th {\n",
       "        text-align: right;\n",
       "    }\n",
       "</style>\n",
       "<table border=\"1\" class=\"dataframe\">\n",
       "  <thead>\n",
       "    <tr style=\"text-align: right;\">\n",
       "      <th></th>\n",
       "      <th>symboling</th>\n",
       "      <th>normalized-losses</th>\n",
       "      <th>wheel-base</th>\n",
       "      <th>length</th>\n",
       "      <th>width</th>\n",
       "      <th>height</th>\n",
       "      <th>curb-weight</th>\n",
       "      <th>engine-size</th>\n",
       "      <th>bore</th>\n",
       "      <th>stroke</th>\n",
       "      <th>compression-ratio</th>\n",
       "      <th>horsepower</th>\n",
       "      <th>peak-rpm</th>\n",
       "      <th>city-mpg</th>\n",
       "      <th>highway-mpg</th>\n",
       "      <th>price</th>\n",
       "      <th>make</th>\n",
       "      <th>fuel-type</th>\n",
       "      <th>aspiration</th>\n",
       "      <th>num-of-doors</th>\n",
       "      <th>body-style</th>\n",
       "      <th>drive-wheels</th>\n",
       "      <th>engine-location</th>\n",
       "      <th>engine-type</th>\n",
       "      <th>num-of-cylinders</th>\n",
       "      <th>fuel-system</th>\n",
       "    </tr>\n",
       "  </thead>\n",
       "  <tbody>\n",
       "    <tr>\n",
       "      <th>0</th>\n",
       "      <td>3</td>\n",
       "      <td>122.0</td>\n",
       "      <td>88.6</td>\n",
       "      <td>168.8</td>\n",
       "      <td>64.1</td>\n",
       "      <td>48.8</td>\n",
       "      <td>2548</td>\n",
       "      <td>130</td>\n",
       "      <td>3.47</td>\n",
       "      <td>2.68</td>\n",
       "      <td>9.0</td>\n",
       "      <td>111.0</td>\n",
       "      <td>5000.0</td>\n",
       "      <td>21</td>\n",
       "      <td>27</td>\n",
       "      <td>13495.0</td>\n",
       "      <td>0</td>\n",
       "      <td>1</td>\n",
       "      <td>0</td>\n",
       "      <td>1</td>\n",
       "      <td>0</td>\n",
       "      <td>2</td>\n",
       "      <td>0</td>\n",
       "      <td>0</td>\n",
       "      <td>2</td>\n",
       "      <td>4</td>\n",
       "    </tr>\n",
       "    <tr>\n",
       "      <th>1</th>\n",
       "      <td>3</td>\n",
       "      <td>122.0</td>\n",
       "      <td>88.6</td>\n",
       "      <td>168.8</td>\n",
       "      <td>64.1</td>\n",
       "      <td>48.8</td>\n",
       "      <td>2548</td>\n",
       "      <td>130</td>\n",
       "      <td>3.47</td>\n",
       "      <td>2.68</td>\n",
       "      <td>9.0</td>\n",
       "      <td>111.0</td>\n",
       "      <td>5000.0</td>\n",
       "      <td>21</td>\n",
       "      <td>27</td>\n",
       "      <td>16500.0</td>\n",
       "      <td>0</td>\n",
       "      <td>1</td>\n",
       "      <td>0</td>\n",
       "      <td>1</td>\n",
       "      <td>0</td>\n",
       "      <td>2</td>\n",
       "      <td>0</td>\n",
       "      <td>0</td>\n",
       "      <td>2</td>\n",
       "      <td>4</td>\n",
       "    </tr>\n",
       "    <tr>\n",
       "      <th>2</th>\n",
       "      <td>1</td>\n",
       "      <td>122.0</td>\n",
       "      <td>94.5</td>\n",
       "      <td>171.2</td>\n",
       "      <td>65.5</td>\n",
       "      <td>52.4</td>\n",
       "      <td>2823</td>\n",
       "      <td>152</td>\n",
       "      <td>2.68</td>\n",
       "      <td>3.47</td>\n",
       "      <td>9.0</td>\n",
       "      <td>154.0</td>\n",
       "      <td>5000.0</td>\n",
       "      <td>19</td>\n",
       "      <td>26</td>\n",
       "      <td>16500.0</td>\n",
       "      <td>0</td>\n",
       "      <td>1</td>\n",
       "      <td>0</td>\n",
       "      <td>1</td>\n",
       "      <td>2</td>\n",
       "      <td>2</td>\n",
       "      <td>0</td>\n",
       "      <td>4</td>\n",
       "      <td>3</td>\n",
       "      <td>4</td>\n",
       "    </tr>\n",
       "    <tr>\n",
       "      <th>3</th>\n",
       "      <td>2</td>\n",
       "      <td>164.0</td>\n",
       "      <td>99.8</td>\n",
       "      <td>176.6</td>\n",
       "      <td>66.2</td>\n",
       "      <td>54.3</td>\n",
       "      <td>2337</td>\n",
       "      <td>109</td>\n",
       "      <td>3.19</td>\n",
       "      <td>3.40</td>\n",
       "      <td>10.0</td>\n",
       "      <td>102.0</td>\n",
       "      <td>5500.0</td>\n",
       "      <td>24</td>\n",
       "      <td>30</td>\n",
       "      <td>13950.0</td>\n",
       "      <td>1</td>\n",
       "      <td>1</td>\n",
       "      <td>0</td>\n",
       "      <td>0</td>\n",
       "      <td>3</td>\n",
       "      <td>1</td>\n",
       "      <td>0</td>\n",
       "      <td>2</td>\n",
       "      <td>2</td>\n",
       "      <td>4</td>\n",
       "    </tr>\n",
       "    <tr>\n",
       "      <th>4</th>\n",
       "      <td>2</td>\n",
       "      <td>164.0</td>\n",
       "      <td>99.4</td>\n",
       "      <td>176.6</td>\n",
       "      <td>66.4</td>\n",
       "      <td>54.3</td>\n",
       "      <td>2824</td>\n",
       "      <td>136</td>\n",
       "      <td>3.19</td>\n",
       "      <td>3.40</td>\n",
       "      <td>8.0</td>\n",
       "      <td>115.0</td>\n",
       "      <td>5500.0</td>\n",
       "      <td>18</td>\n",
       "      <td>22</td>\n",
       "      <td>17450.0</td>\n",
       "      <td>1</td>\n",
       "      <td>1</td>\n",
       "      <td>0</td>\n",
       "      <td>0</td>\n",
       "      <td>3</td>\n",
       "      <td>0</td>\n",
       "      <td>0</td>\n",
       "      <td>2</td>\n",
       "      <td>1</td>\n",
       "      <td>4</td>\n",
       "    </tr>\n",
       "    <tr>\n",
       "      <th>...</th>\n",
       "      <td>...</td>\n",
       "      <td>...</td>\n",
       "      <td>...</td>\n",
       "      <td>...</td>\n",
       "      <td>...</td>\n",
       "      <td>...</td>\n",
       "      <td>...</td>\n",
       "      <td>...</td>\n",
       "      <td>...</td>\n",
       "      <td>...</td>\n",
       "      <td>...</td>\n",
       "      <td>...</td>\n",
       "      <td>...</td>\n",
       "      <td>...</td>\n",
       "      <td>...</td>\n",
       "      <td>...</td>\n",
       "      <td>...</td>\n",
       "      <td>...</td>\n",
       "      <td>...</td>\n",
       "      <td>...</td>\n",
       "      <td>...</td>\n",
       "      <td>...</td>\n",
       "      <td>...</td>\n",
       "      <td>...</td>\n",
       "      <td>...</td>\n",
       "      <td>...</td>\n",
       "    </tr>\n",
       "    <tr>\n",
       "      <th>200</th>\n",
       "      <td>-1</td>\n",
       "      <td>95.0</td>\n",
       "      <td>109.1</td>\n",
       "      <td>188.8</td>\n",
       "      <td>68.9</td>\n",
       "      <td>55.5</td>\n",
       "      <td>2952</td>\n",
       "      <td>141</td>\n",
       "      <td>3.78</td>\n",
       "      <td>3.15</td>\n",
       "      <td>9.5</td>\n",
       "      <td>114.0</td>\n",
       "      <td>5400.0</td>\n",
       "      <td>23</td>\n",
       "      <td>28</td>\n",
       "      <td>16845.0</td>\n",
       "      <td>20</td>\n",
       "      <td>1</td>\n",
       "      <td>0</td>\n",
       "      <td>0</td>\n",
       "      <td>3</td>\n",
       "      <td>2</td>\n",
       "      <td>0</td>\n",
       "      <td>2</td>\n",
       "      <td>2</td>\n",
       "      <td>4</td>\n",
       "    </tr>\n",
       "    <tr>\n",
       "      <th>201</th>\n",
       "      <td>-1</td>\n",
       "      <td>95.0</td>\n",
       "      <td>109.1</td>\n",
       "      <td>188.8</td>\n",
       "      <td>68.8</td>\n",
       "      <td>55.5</td>\n",
       "      <td>3049</td>\n",
       "      <td>141</td>\n",
       "      <td>3.78</td>\n",
       "      <td>3.15</td>\n",
       "      <td>8.7</td>\n",
       "      <td>160.0</td>\n",
       "      <td>5300.0</td>\n",
       "      <td>19</td>\n",
       "      <td>25</td>\n",
       "      <td>19045.0</td>\n",
       "      <td>20</td>\n",
       "      <td>1</td>\n",
       "      <td>1</td>\n",
       "      <td>0</td>\n",
       "      <td>3</td>\n",
       "      <td>2</td>\n",
       "      <td>0</td>\n",
       "      <td>2</td>\n",
       "      <td>2</td>\n",
       "      <td>4</td>\n",
       "    </tr>\n",
       "    <tr>\n",
       "      <th>202</th>\n",
       "      <td>-1</td>\n",
       "      <td>95.0</td>\n",
       "      <td>109.1</td>\n",
       "      <td>188.8</td>\n",
       "      <td>68.9</td>\n",
       "      <td>55.5</td>\n",
       "      <td>3012</td>\n",
       "      <td>173</td>\n",
       "      <td>3.58</td>\n",
       "      <td>2.87</td>\n",
       "      <td>8.8</td>\n",
       "      <td>134.0</td>\n",
       "      <td>5500.0</td>\n",
       "      <td>18</td>\n",
       "      <td>23</td>\n",
       "      <td>21485.0</td>\n",
       "      <td>20</td>\n",
       "      <td>1</td>\n",
       "      <td>0</td>\n",
       "      <td>0</td>\n",
       "      <td>3</td>\n",
       "      <td>2</td>\n",
       "      <td>0</td>\n",
       "      <td>4</td>\n",
       "      <td>3</td>\n",
       "      <td>4</td>\n",
       "    </tr>\n",
       "    <tr>\n",
       "      <th>203</th>\n",
       "      <td>-1</td>\n",
       "      <td>95.0</td>\n",
       "      <td>109.1</td>\n",
       "      <td>188.8</td>\n",
       "      <td>68.9</td>\n",
       "      <td>55.5</td>\n",
       "      <td>3217</td>\n",
       "      <td>145</td>\n",
       "      <td>3.01</td>\n",
       "      <td>3.40</td>\n",
       "      <td>23.0</td>\n",
       "      <td>106.0</td>\n",
       "      <td>4800.0</td>\n",
       "      <td>26</td>\n",
       "      <td>27</td>\n",
       "      <td>22470.0</td>\n",
       "      <td>20</td>\n",
       "      <td>0</td>\n",
       "      <td>1</td>\n",
       "      <td>0</td>\n",
       "      <td>3</td>\n",
       "      <td>2</td>\n",
       "      <td>0</td>\n",
       "      <td>2</td>\n",
       "      <td>3</td>\n",
       "      <td>2</td>\n",
       "    </tr>\n",
       "    <tr>\n",
       "      <th>204</th>\n",
       "      <td>-1</td>\n",
       "      <td>95.0</td>\n",
       "      <td>109.1</td>\n",
       "      <td>188.8</td>\n",
       "      <td>68.9</td>\n",
       "      <td>55.5</td>\n",
       "      <td>3062</td>\n",
       "      <td>141</td>\n",
       "      <td>3.78</td>\n",
       "      <td>3.15</td>\n",
       "      <td>9.5</td>\n",
       "      <td>114.0</td>\n",
       "      <td>5400.0</td>\n",
       "      <td>19</td>\n",
       "      <td>25</td>\n",
       "      <td>22625.0</td>\n",
       "      <td>20</td>\n",
       "      <td>1</td>\n",
       "      <td>1</td>\n",
       "      <td>0</td>\n",
       "      <td>3</td>\n",
       "      <td>2</td>\n",
       "      <td>0</td>\n",
       "      <td>2</td>\n",
       "      <td>2</td>\n",
       "      <td>4</td>\n",
       "    </tr>\n",
       "  </tbody>\n",
       "</table>\n",
       "<p>193 rows × 26 columns</p>\n",
       "</div>"
      ],
      "text/plain": [
       "     symboling  normalized-losses  wheel-base  length  width  height  \\\n",
       "0            3              122.0        88.6   168.8   64.1    48.8   \n",
       "1            3              122.0        88.6   168.8   64.1    48.8   \n",
       "2            1              122.0        94.5   171.2   65.5    52.4   \n",
       "3            2              164.0        99.8   176.6   66.2    54.3   \n",
       "4            2              164.0        99.4   176.6   66.4    54.3   \n",
       "..         ...                ...         ...     ...    ...     ...   \n",
       "200         -1               95.0       109.1   188.8   68.9    55.5   \n",
       "201         -1               95.0       109.1   188.8   68.8    55.5   \n",
       "202         -1               95.0       109.1   188.8   68.9    55.5   \n",
       "203         -1               95.0       109.1   188.8   68.9    55.5   \n",
       "204         -1               95.0       109.1   188.8   68.9    55.5   \n",
       "\n",
       "     curb-weight  engine-size  bore  stroke  compression-ratio  horsepower  \\\n",
       "0           2548          130  3.47    2.68                9.0       111.0   \n",
       "1           2548          130  3.47    2.68                9.0       111.0   \n",
       "2           2823          152  2.68    3.47                9.0       154.0   \n",
       "3           2337          109  3.19    3.40               10.0       102.0   \n",
       "4           2824          136  3.19    3.40                8.0       115.0   \n",
       "..           ...          ...   ...     ...                ...         ...   \n",
       "200         2952          141  3.78    3.15                9.5       114.0   \n",
       "201         3049          141  3.78    3.15                8.7       160.0   \n",
       "202         3012          173  3.58    2.87                8.8       134.0   \n",
       "203         3217          145  3.01    3.40               23.0       106.0   \n",
       "204         3062          141  3.78    3.15                9.5       114.0   \n",
       "\n",
       "     peak-rpm  city-mpg  highway-mpg    price  make  fuel-type  aspiration  \\\n",
       "0      5000.0        21           27  13495.0     0          1           0   \n",
       "1      5000.0        21           27  16500.0     0          1           0   \n",
       "2      5000.0        19           26  16500.0     0          1           0   \n",
       "3      5500.0        24           30  13950.0     1          1           0   \n",
       "4      5500.0        18           22  17450.0     1          1           0   \n",
       "..        ...       ...          ...      ...   ...        ...         ...   \n",
       "200    5400.0        23           28  16845.0    20          1           0   \n",
       "201    5300.0        19           25  19045.0    20          1           1   \n",
       "202    5500.0        18           23  21485.0    20          1           0   \n",
       "203    4800.0        26           27  22470.0    20          0           1   \n",
       "204    5400.0        19           25  22625.0    20          1           1   \n",
       "\n",
       "     num-of-doors  body-style  drive-wheels  engine-location  engine-type  \\\n",
       "0               1           0             2                0            0   \n",
       "1               1           0             2                0            0   \n",
       "2               1           2             2                0            4   \n",
       "3               0           3             1                0            2   \n",
       "4               0           3             0                0            2   \n",
       "..            ...         ...           ...              ...          ...   \n",
       "200             0           3             2                0            2   \n",
       "201             0           3             2                0            2   \n",
       "202             0           3             2                0            4   \n",
       "203             0           3             2                0            2   \n",
       "204             0           3             2                0            2   \n",
       "\n",
       "     num-of-cylinders  fuel-system  \n",
       "0                   2            4  \n",
       "1                   2            4  \n",
       "2                   3            4  \n",
       "3                   2            4  \n",
       "4                   1            4  \n",
       "..                ...          ...  \n",
       "200                 2            4  \n",
       "201                 2            4  \n",
       "202                 3            4  \n",
       "203                 3            2  \n",
       "204                 2            4  \n",
       "\n",
       "[193 rows x 26 columns]"
      ]
     },
     "execution_count": 93,
     "metadata": {},
     "output_type": "execute_result"
    }
   ],
   "source": [
    "df_end = pd.concat([df_num, df_cat], axis = 1)\n",
    "df_end"
   ]
  }
 ],
 "metadata": {
  "kernelspec": {
   "display_name": "Python 3 (ipykernel)",
   "language": "python",
   "name": "python3"
  },
  "language_info": {
   "codemirror_mode": {
    "name": "ipython",
    "version": 3
   },
   "file_extension": ".py",
   "mimetype": "text/x-python",
   "name": "python",
   "nbconvert_exporter": "python",
   "pygments_lexer": "ipython3",
   "version": "3.9.7"
  },
  "toc": {
   "base_numbering": 1,
   "nav_menu": {},
   "number_sections": true,
   "sideBar": true,
   "skip_h1_title": false,
   "title_cell": "Table of Contents",
   "title_sidebar": "Contents",
   "toc_cell": false,
   "toc_position": {
    "height": "calc(100% - 180px)",
    "left": "10px",
    "top": "150px",
    "width": "165px"
   },
   "toc_section_display": true,
   "toc_window_display": true
  },
  "varInspector": {
   "cols": {
    "lenName": 16,
    "lenType": 16,
    "lenVar": 40
   },
   "kernels_config": {
    "python": {
     "delete_cmd_postfix": "",
     "delete_cmd_prefix": "del ",
     "library": "var_list.py",
     "varRefreshCmd": "print(var_dic_list())"
    },
    "r": {
     "delete_cmd_postfix": ") ",
     "delete_cmd_prefix": "rm(",
     "library": "var_list.r",
     "varRefreshCmd": "cat(var_dic_list()) "
    }
   },
   "types_to_exclude": [
    "module",
    "function",
    "builtin_function_or_method",
    "instance",
    "_Feature"
   ],
   "window_display": false
  }
 },
 "nbformat": 4,
 "nbformat_minor": 5
}
