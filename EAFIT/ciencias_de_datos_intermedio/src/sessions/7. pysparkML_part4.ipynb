{
 "cells": [
  {
   "cell_type": "markdown",
   "id": "77f82728",
   "metadata": {},
   "source": [
    "# Pyspark ML\n",
    "\n",
    "<img src=\"spark_ml.JPG\" height=\"300\" width=\"300\">\n",
    "\n",
    "MLlib es la biblioteca de aprendizaje automático (ML) de Spark. Su objetivo es hacer que el aprendizaje automático práctico sea escalable y fácil. A un alto nivel, proporciona herramientas como:\n",
    "\n",
    "- **Algoritmos de ML:** algoritmos de aprendizaje comunes como clasificación, regresión, agrupamiento y filtrado colaborativo\n",
    "- **Caracterización:** extracción de características, transformación, reducción de dimensionalidad y selección\n",
    "- **Pipelines:** herramientas para construir, evaluar y ajustar ML Pipelines\n",
    "- **Persistencia:** guardar y cargar algoritmos, modelos y Pipelines\n",
    "- **Utilidades:** álgebra lineal, estadística, manejo de datos, etc."
   ]
  },
  {
   "cell_type": "markdown",
   "id": "e1fc8b85",
   "metadata": {},
   "source": [
    "# Import Spark"
   ]
  },
  {
   "cell_type": "code",
   "execution_count": 1,
   "id": "903ee440",
   "metadata": {
    "ExecuteTime": {
     "end_time": "2022-11-19T12:36:03.996846Z",
     "start_time": "2022-11-19T12:36:03.281024Z"
    }
   },
   "outputs": [
    {
     "data": {
      "text/html": [
       "<style>pre { white-space: pre !important; }</style>"
      ],
      "text/plain": [
       "<IPython.core.display.HTML object>"
      ]
     },
     "metadata": {},
     "output_type": "display_data"
    }
   ],
   "source": [
    "import findspark\n",
    "findspark.init()\n",
    "from pyspark.sql import SparkSession\n",
    "\n",
    "from IPython.core.display import HTML\n",
    "display(HTML(\"<style>pre { white-space: pre !important; }</style>\"))\n",
    "\n",
    "import pandas as pd"
   ]
  },
  {
   "cell_type": "code",
   "execution_count": 2,
   "id": "31e0e9a0",
   "metadata": {
    "ExecuteTime": {
     "end_time": "2022-11-19T12:36:14.736956Z",
     "start_time": "2022-11-19T12:36:04.359759Z"
    }
   },
   "outputs": [],
   "source": [
    "spark = (\n",
    "    SparkSession.builder\n",
    "        .appName(\"PysparkSession\")\n",
    "        .getOrCreate() ## Create Session\n",
    ") "
   ]
  },
  {
   "cell_type": "markdown",
   "id": "f968a143",
   "metadata": {
    "ExecuteTime": {
     "end_time": "2022-11-19T02:01:58.904232Z",
     "start_time": "2022-11-19T02:01:58.885282Z"
    }
   },
   "source": [
    "# Correlation Matrix "
   ]
  },
  {
   "cell_type": "code",
   "execution_count": 44,
   "id": "edef0941",
   "metadata": {
    "ExecuteTime": {
     "end_time": "2022-11-19T13:12:13.873474Z",
     "start_time": "2022-11-19T13:12:13.859484Z"
    }
   },
   "outputs": [],
   "source": [
    "from pyspark.ml.stat import Correlation\n",
    "from pyspark.ml.feature import VectorAssembler"
   ]
  },
  {
   "cell_type": "code",
   "execution_count": 3,
   "id": "3c040fbd",
   "metadata": {
    "ExecuteTime": {
     "end_time": "2022-11-19T12:44:50.365773Z",
     "start_time": "2022-11-19T12:44:44.178187Z"
    }
   },
   "outputs": [
    {
     "name": "stdout",
     "output_type": "stream",
     "text": [
      "+---------+-----------------+-----------+---------+----------+------------+-----------+------------+---------------+----------+------+-----+------+-----------+-----------+----------------+-----------+-----------+----+------+-----------------+----------+--------+--------+-----------+-------+\n",
      "|symboling|normalized-losses|       make|fuel-type|aspiration|num-of-doors| body-style|drive-wheels|engine-location|wheel-base|length|width|height|curb-weight|engine-type|num-of-cylinders|engine-size|fuel-system|bore|stroke|compression-ratio|horsepower|peak-rpm|city-mpg|highway-mpg|  price|\n",
      "+---------+-----------------+-----------+---------+----------+------------+-----------+------------+---------------+----------+------+-----+------+-----------+-----------+----------------+-----------+-----------+----+------+-----------------+----------+--------+--------+-----------+-------+\n",
      "|        3|             null|alfa-romero|      gas|       std|         two|convertible|         rwd|          front|      88.6| 168.8| 64.1|  48.8|       2548|       dohc|            four|        130|       mpfi|3.47|  2.68|              9.0|     111.0|  5000.0|      21|         27|13495.0|\n",
      "|        3|             null|alfa-romero|      gas|       std|         two|convertible|         rwd|          front|      88.6| 168.8| 64.1|  48.8|       2548|       dohc|            four|        130|       mpfi|3.47|  2.68|              9.0|     111.0|  5000.0|      21|         27|16500.0|\n",
      "|        1|             null|alfa-romero|      gas|       std|         two|  hatchback|         rwd|          front|      94.5| 171.2| 65.5|  52.4|       2823|       ohcv|             six|        152|       mpfi|2.68|  3.47|              9.0|     154.0|  5000.0|      19|         26|16500.0|\n",
      "|        2|            164.0|       audi|      gas|       std|        four|      sedan|         fwd|          front|      99.8| 176.6| 66.2|  54.3|       2337|        ohc|            four|        109|       mpfi|3.19|   3.4|             10.0|     102.0|  5500.0|      24|         30|13950.0|\n",
      "|        2|            164.0|       audi|      gas|       std|        four|      sedan|         4wd|          front|      99.4| 176.6| 66.4|  54.3|       2824|        ohc|            five|        136|       mpfi|3.19|   3.4|              8.0|     115.0|  5500.0|      18|         22|17450.0|\n",
      "+---------+-----------------+-----------+---------+----------+------------+-----------+------------+---------------+----------+------+-----+------+-----------+-----------+----------------+-----------+-----------+----+------+-----------------+----------+--------+--------+-----------+-------+\n",
      "only showing top 5 rows\n",
      "\n"
     ]
    }
   ],
   "source": [
    "df_auto = spark.read.format(\"parquet\").option(\"header\", True).load(\"./datasets/automobile_data.parquet\")\n",
    "df_auto.show(5)"
   ]
  },
  {
   "cell_type": "code",
   "execution_count": 36,
   "id": "51651307",
   "metadata": {
    "ExecuteTime": {
     "end_time": "2022-11-19T13:02:35.239268Z",
     "start_time": "2022-11-19T13:02:35.234309Z"
    }
   },
   "outputs": [],
   "source": [
    "# types_col = str(df_auto.dtypes).replace(\"(\", \"\").replace(\")\", \"\")\\\n",
    "#                                .replace(\"'\", \"\").replace(\"[\", \"\")\\\n",
    "#                                .replace(\"]\", \"\").split(\",\")\n",
    "\n",
    "# types_col = list(map(lambda x: x.lstrip(), types_col))\n",
    "\n",
    "# def Convert(lst):\n",
    "#     res_dct = {lst[i]: lst[i + 1] for i in range(0, len(lst), 2)}\n",
    "#     return res_dct\n",
    "\n",
    "# df_types = pd.DataFrame([Convert(types_col)]).T.reset_index().rename(columns = {0: \"Types\", \"index\": \"columns\"})\n",
    "# df_types_num = df_types.query(\"Types != 'string'\")\n",
    "# list_num = df_types_num[\"columns\"].values.tolist()\n",
    "# df_types_num.head()"
   ]
  },
  {
   "cell_type": "code",
   "execution_count": 43,
   "id": "05b0f1de",
   "metadata": {
    "ExecuteTime": {
     "end_time": "2022-11-19T13:03:55.240341Z",
     "start_time": "2022-11-19T13:03:55.226379Z"
    }
   },
   "outputs": [
    {
     "data": {
      "text/html": [
       "<div>\n",
       "<style scoped>\n",
       "    .dataframe tbody tr th:only-of-type {\n",
       "        vertical-align: middle;\n",
       "    }\n",
       "\n",
       "    .dataframe tbody tr th {\n",
       "        vertical-align: top;\n",
       "    }\n",
       "\n",
       "    .dataframe thead th {\n",
       "        text-align: right;\n",
       "    }\n",
       "</style>\n",
       "<table border=\"1\" class=\"dataframe\">\n",
       "  <thead>\n",
       "    <tr style=\"text-align: right;\">\n",
       "      <th></th>\n",
       "      <th>columns</th>\n",
       "      <th>Types</th>\n",
       "    </tr>\n",
       "  </thead>\n",
       "  <tbody>\n",
       "    <tr>\n",
       "      <th>0</th>\n",
       "      <td>symboling</td>\n",
       "      <td>bigint</td>\n",
       "    </tr>\n",
       "    <tr>\n",
       "      <th>1</th>\n",
       "      <td>normalized-losses</td>\n",
       "      <td>double</td>\n",
       "    </tr>\n",
       "    <tr>\n",
       "      <th>9</th>\n",
       "      <td>wheel-base</td>\n",
       "      <td>double</td>\n",
       "    </tr>\n",
       "    <tr>\n",
       "      <th>10</th>\n",
       "      <td>length</td>\n",
       "      <td>double</td>\n",
       "    </tr>\n",
       "    <tr>\n",
       "      <th>11</th>\n",
       "      <td>width</td>\n",
       "      <td>double</td>\n",
       "    </tr>\n",
       "  </tbody>\n",
       "</table>\n",
       "</div>"
      ],
      "text/plain": [
       "              columns   Types\n",
       "0           symboling  bigint\n",
       "1   normalized-losses  double\n",
       "9          wheel-base  double\n",
       "10             length  double\n",
       "11              width  double"
      ]
     },
     "execution_count": 43,
     "metadata": {},
     "output_type": "execute_result"
    }
   ],
   "source": [
    "df_types = pd.DataFrame(data = df_auto.dtypes).rename(columns = {0: \"columns\", 1: \"Types\"})\n",
    "df_types_num = df_types.query(\"Types != 'string'\")\n",
    "list_num = df_types_num[\"columns\"].values.tolist()\n",
    "df_types_num.head()"
   ]
  },
  {
   "cell_type": "code",
   "execution_count": 56,
   "id": "ec2436dd",
   "metadata": {
    "ExecuteTime": {
     "end_time": "2022-11-19T13:17:01.253084Z",
     "start_time": "2022-11-19T13:17:01.080185Z"
    }
   },
   "outputs": [
    {
     "name": "stdout",
     "output_type": "stream",
     "text": [
      "+---------+-----------------+----------+------+-----+------+-----------+-----------+----+------+-----------------+----------+--------+--------+-----------+-------+\n",
      "|symboling|normalized-losses|wheel-base|length|width|height|curb-weight|engine-size|bore|stroke|compression-ratio|horsepower|peak-rpm|city-mpg|highway-mpg|  price|\n",
      "+---------+-----------------+----------+------+-----+------+-----------+-----------+----+------+-----------------+----------+--------+--------+-----------+-------+\n",
      "|        3|             null|      88.6| 168.8| 64.1|  48.8|       2548|        130|3.47|  2.68|              9.0|     111.0|  5000.0|      21|         27|13495.0|\n",
      "|        3|             null|      88.6| 168.8| 64.1|  48.8|       2548|        130|3.47|  2.68|              9.0|     111.0|  5000.0|      21|         27|16500.0|\n",
      "|        1|             null|      94.5| 171.2| 65.5|  52.4|       2823|        152|2.68|  3.47|              9.0|     154.0|  5000.0|      19|         26|16500.0|\n",
      "+---------+-----------------+----------+------+-----+------+-----------+-----------+----+------+-----------------+----------+--------+--------+-----------+-------+\n",
      "only showing top 3 rows\n",
      "\n"
     ]
    }
   ],
   "source": [
    "df_auto_num = df_auto[list_num]\n",
    "df_auto_num.show(3)"
   ]
  },
  {
   "cell_type": "code",
   "execution_count": 98,
   "id": "a83daa64",
   "metadata": {
    "ExecuteTime": {
     "end_time": "2022-11-19T13:31:15.775308Z",
     "start_time": "2022-11-19T13:31:15.666518Z"
    }
   },
   "outputs": [
    {
     "name": "stdout",
     "output_type": "stream",
     "text": [
      "+---------+-----------------+----------+------+-----+------+-----------+-----------+----+------+-----------------+----------+--------+--------+-----------+-------+\n",
      "|symboling|normalized-losses|wheel-base|length|width|height|curb-weight|engine-size|bore|stroke|compression-ratio|horsepower|peak-rpm|city-mpg|highway-mpg|  price|\n",
      "+---------+-----------------+----------+------+-----+------+-----------+-----------+----+------+-----------------+----------+--------+--------+-----------+-------+\n",
      "|        2|            164.0|      99.8| 176.6| 66.2|  54.3|       2337|        109|3.19|   3.4|             10.0|     102.0|  5500.0|      24|         30|13950.0|\n",
      "|        2|            164.0|      99.4| 176.6| 66.4|  54.3|       2824|        136|3.19|   3.4|              8.0|     115.0|  5500.0|      18|         22|17450.0|\n",
      "|        1|            158.0|     105.8| 192.7| 71.4|  55.7|       2844|        136|3.19|   3.4|              8.5|     110.0|  5500.0|      19|         25|17710.0|\n",
      "|        1|            158.0|     105.8| 192.7| 71.4|  55.9|       3086|        131|3.13|   3.4|              8.3|     140.0|  5500.0|      17|         20|23875.0|\n",
      "|        2|            192.0|     101.2| 176.8| 64.8|  54.3|       2395|        108| 3.5|   2.8|              8.8|     101.0|  5800.0|      23|         29|16430.0|\n",
      "|        0|            192.0|     101.2| 176.8| 64.8|  54.3|       2395|        108| 3.5|   2.8|              8.8|     101.0|  5800.0|      23|         29|16925.0|\n",
      "|        0|            188.0|     101.2| 176.8| 64.8|  54.3|       2710|        164|3.31|  3.19|              9.0|     121.0|  4250.0|      21|         28|20970.0|\n",
      "|        0|            188.0|     101.2| 176.8| 64.8|  54.3|       2765|        164|3.31|  3.19|              9.0|     121.0|  4250.0|      21|         28|21105.0|\n",
      "|        2|            121.0|      88.4| 141.1| 60.3|  53.2|       1488|         61|2.91|  3.03|              9.5|      48.0|  5100.0|      47|         53| 5151.0|\n",
      "|        1|             98.0|      94.5| 155.9| 63.6|  52.0|       1874|         90|3.03|  3.11|              9.6|      70.0|  5400.0|      38|         43| 6295.0|\n",
      "|        0|             81.0|      94.5| 158.8| 63.6|  52.0|       1909|         90|3.03|  3.11|              9.6|      70.0|  5400.0|      38|         43| 6575.0|\n",
      "|        1|            118.0|      93.7| 157.3| 63.8|  50.8|       1876|         90|2.97|  3.23|             9.41|      68.0|  5500.0|      37|         41| 5572.0|\n",
      "|        1|            118.0|      93.7| 157.3| 63.8|  50.8|       1876|         90|2.97|  3.23|              9.4|      68.0|  5500.0|      31|         38| 6377.0|\n",
      "|        1|            118.0|      93.7| 157.3| 63.8|  50.8|       2128|         98|3.03|  3.39|              7.6|     102.0|  5500.0|      24|         30| 7957.0|\n",
      "|        1|            148.0|      93.7| 157.3| 63.8|  50.6|       1967|         90|2.97|  3.23|              9.4|      68.0|  5500.0|      31|         38| 6229.0|\n",
      "|        1|            148.0|      93.7| 157.3| 63.8|  50.6|       1989|         90|2.97|  3.23|              9.4|      68.0|  5500.0|      31|         38| 6692.0|\n",
      "|        1|            148.0|      93.7| 157.3| 63.8|  50.6|       1989|         90|2.97|  3.23|              9.4|      68.0|  5500.0|      31|         38| 7609.0|\n",
      "|        1|            148.0|      93.7| 157.3| 63.8|  50.6|       2191|         98|3.03|  3.39|              7.6|     102.0|  5500.0|      24|         30| 8558.0|\n",
      "|       -1|            110.0|     103.3| 174.6| 64.6|  59.8|       2535|        122|3.34|  3.46|              8.5|      88.0|  5000.0|      24|         30| 8921.0|\n",
      "|        3|            145.0|      95.9| 173.2| 66.3|  50.2|       2811|        156| 3.6|   3.9|              7.0|     145.0|  5000.0|      19|         24|12964.0|\n",
      "+---------+-----------------+----------+------+-----+------+-----------+-----------+----+------+-----------------+----------+--------+--------+-----------+-------+\n",
      "only showing top 20 rows\n",
      "\n"
     ]
    }
   ],
   "source": [
    "df_auto_num_drop = df_auto_num.na.drop()\n",
    "df_auto_num_drop.show()"
   ]
  },
  {
   "cell_type": "markdown",
   "id": "49b346b0",
   "metadata": {},
   "source": [
    "## Vector Assembler\n",
    "\n",
    "VectorAssembleres un transformador que combina una lista dada de columnas en un solo vector columna. \n",
    "Es útil para combinar características sin procesar y características generadas por diferentes transformadores \n",
    "de características en un solo vector de características, para entrenar modelos de ML como regresión logística \n",
    "y decisión trees.acepta los siguientes tipos de columna de entrada: todos los tipos numéricos, tipo booleano, \n",
    "y tipo vectorial. en resumen un Vector Assembler construye una columna adicional donde cada fila contiene un a lista\n",
    "con los valores de todas las columnas\n",
    "\n"
   ]
  },
  {
   "cell_type": "code",
   "execution_count": 99,
   "id": "296ad782",
   "metadata": {
    "ExecuteTime": {
     "end_time": "2022-11-19T13:31:37.969656Z",
     "start_time": "2022-11-19T13:31:37.955695Z"
    }
   },
   "outputs": [
    {
     "name": "stdout",
     "output_type": "stream",
     "text": [
      "['symboling', 'normalized-losses', 'wheel-base', 'length', 'width', 'height', 'curb-weight', 'engine-size', 'bore', 'stroke', 'compression-ratio', 'horsepower', 'peak-rpm', 'city-mpg', 'highway-mpg', 'price']\n"
     ]
    }
   ],
   "source": [
    "print(list_num)"
   ]
  },
  {
   "cell_type": "code",
   "execution_count": 48,
   "id": "330bc1ec",
   "metadata": {
    "ExecuteTime": {
     "end_time": "2022-11-19T13:13:57.090102Z",
     "start_time": "2022-11-19T13:13:57.021133Z"
    }
   },
   "outputs": [
    {
     "data": {
      "text/plain": [
       "VectorAssembler_4905238424e2"
      ]
     },
     "execution_count": 48,
     "metadata": {},
     "output_type": "execute_result"
    }
   ],
   "source": [
    "assembler = VectorAssembler(inputCols = list_num, outputCol = \"features\")\n",
    "assembler"
   ]
  },
  {
   "cell_type": "code",
   "execution_count": 60,
   "id": "c7bfcda7",
   "metadata": {
    "ExecuteTime": {
     "end_time": "2022-11-19T13:17:52.472075Z",
     "start_time": "2022-11-19T13:17:52.185801Z"
    }
   },
   "outputs": [
    {
     "name": "stdout",
     "output_type": "stream",
     "text": [
      "+---------+-----------------+----------+------+-----+------+-----------+-----------+----+------+-----------------+----------+--------+--------+-----------+-------+--------------------+\n",
      "|symboling|normalized-losses|wheel-base|length|width|height|curb-weight|engine-size|bore|stroke|compression-ratio|horsepower|peak-rpm|city-mpg|highway-mpg|  price|            features|\n",
      "+---------+-----------------+----------+------+-----+------+-----------+-----------+----+------+-----------------+----------+--------+--------+-----------+-------+--------------------+\n",
      "|        2|            164.0|      99.8| 176.6| 66.2|  54.3|       2337|        109|3.19|   3.4|             10.0|     102.0|  5500.0|      24|         30|13950.0|[2.0,164.0,99.8,1...|\n",
      "|        2|            164.0|      99.4| 176.6| 66.4|  54.3|       2824|        136|3.19|   3.4|              8.0|     115.0|  5500.0|      18|         22|17450.0|[2.0,164.0,99.4,1...|\n",
      "|        1|            158.0|     105.8| 192.7| 71.4|  55.7|       2844|        136|3.19|   3.4|              8.5|     110.0|  5500.0|      19|         25|17710.0|[1.0,158.0,105.8,...|\n",
      "|        1|            158.0|     105.8| 192.7| 71.4|  55.9|       3086|        131|3.13|   3.4|              8.3|     140.0|  5500.0|      17|         20|23875.0|[1.0,158.0,105.8,...|\n",
      "|        2|            192.0|     101.2| 176.8| 64.8|  54.3|       2395|        108| 3.5|   2.8|              8.8|     101.0|  5800.0|      23|         29|16430.0|[2.0,192.0,101.2,...|\n",
      "+---------+-----------------+----------+------+-----+------+-----------+-----------+----+------+-----------------+----------+--------+--------+-----------+-------+--------------------+\n",
      "only showing top 5 rows\n",
      "\n"
     ]
    }
   ],
   "source": [
    "df_auto_num_drop = assembler.transform(df_auto_num_drop)\n",
    "df_auto_num_drop.show(5)"
   ]
  },
  {
   "cell_type": "code",
   "execution_count": 100,
   "id": "d0bb730a",
   "metadata": {
    "ExecuteTime": {
     "end_time": "2022-11-19T13:31:53.777220Z",
     "start_time": "2022-11-19T13:31:53.475023Z"
    }
   },
   "outputs": [
    {
     "name": "stdout",
     "output_type": "stream",
     "text": [
      "DenseMatrix([[ 1.        ,  0.51838797, -0.52046477, -0.33621705, -0.21984964,\n",
      "              -0.47399437, -0.25237234, -0.11023843, -0.25701277, -0.02053884,\n",
      "              -0.13902179, -0.00366866,  0.19979781,  0.08891209,  0.14930948,\n",
      "              -0.16332929],\n",
      "             [ 0.51838797,  1.        , -0.06400101,  0.02911438,  0.1048565 ,\n",
      "              -0.41708077,  0.12286025,  0.2038412 , -0.03616694,  0.06562699,\n",
      "              -0.12997093,  0.29090559,  0.24067647, -0.23693364, -0.18969131,\n",
      "               0.19992385],\n",
      "             [-0.52046477, -0.06400101,  1.        ,  0.87196801,  0.81593501,\n",
      "               0.55876376,  0.81050693,  0.6504878 ,  0.58048403,  0.16401196,\n",
      "               0.2939676 ,  0.51450686, -0.29249053, -0.5766354 , -0.60826982,\n",
      "               0.7347888 ],\n",
      "             [-0.33621705,  0.02911438,  0.87196801,  1.        ,  0.83918412,\n",
      "               0.50515596,  0.87035496,  0.72666638,  0.64905924,  0.11604912,\n",
      "               0.18896778,  0.66672597, -0.23910434, -0.71687663, -0.71783122,\n",
      "               0.76032275],\n",
      "             [-0.21984964,  0.1048565 ,  0.81593501,  0.83918412,  1.        ,\n",
      "               0.29840309,  0.87064933,  0.7800176 ,  0.57504802,  0.19289103,\n",
      "               0.26153025,  0.67877892, -0.23590633, -0.6621225 , -0.68936743,\n",
      "               0.8433157 ],\n",
      "             [-0.47399437, -0.41708077,  0.55876376,  0.50515596,  0.29840309,\n",
      "               1.        ,  0.36936307,  0.11650514,  0.26150092, -0.09536437,\n",
      "               0.23743151,  0.03226392, -0.25123623, -0.19455902, -0.22164557,\n",
      "               0.24750024],\n",
      "             [-0.25237234,  0.12286025,  0.81050693,  0.87035496,  0.87064933,\n",
      "               0.36936307,  1.        ,  0.88884736,  0.64664028,  0.17169132,\n",
      "               0.22651275,  0.78850942, -0.26208551, -0.75953792, -0.78716702,\n",
      "               0.89380953],\n",
      "             [-0.11023843,  0.2038412 ,  0.6504878 ,  0.72666638,  0.7800176 ,\n",
      "               0.11650514,  0.88884736,  1.        ,  0.59733622,  0.29669314,\n",
      "               0.14356771,  0.80985478, -0.28726007, -0.69588958, -0.71136436,\n",
      "               0.84172481],\n",
      "             [-0.25701277, -0.03616694,  0.58048403,  0.64905924,  0.57504802,\n",
      "               0.26150092,  0.64664028,  0.59733622,  1.        , -0.10546407,\n",
      "               0.01921597,  0.5571074 , -0.31584138, -0.58561823, -0.58672907,\n",
      "               0.53489078],\n",
      "             [-0.02053884,  0.06562699,  0.16401196,  0.11604912,  0.19289103,\n",
      "              -0.09536437,  0.17169132,  0.29669314, -0.10546407,  1.        ,\n",
      "               0.24089481,  0.14931499, -0.00856899, -0.02138083, -0.01397408,\n",
      "               0.15879823],\n",
      "             [-0.13902179, -0.12997093,  0.2939676 ,  0.18896778,  0.26153025,\n",
      "               0.23743151,  0.22651275,  0.14356771,  0.01921597,  0.24089481,\n",
      "               1.        , -0.16289361, -0.41872632,  0.27951325,  0.22244152,\n",
      "               0.21094844],\n",
      "             [-0.00366866,  0.29090559,  0.51450686,  0.66672597,  0.67877892,\n",
      "               0.03226392,  0.78850942,  0.80985478,  0.5571074 ,  0.14931499,\n",
      "              -0.16289361,  1.        ,  0.07493182, -0.83717978, -0.8279725 ,\n",
      "               0.75858227],\n",
      "             [ 0.19979781,  0.24067647, -0.29249053, -0.23910434, -0.23590633,\n",
      "              -0.25123623, -0.26208551, -0.28726007, -0.31584138, -0.00856899,\n",
      "              -0.41872632,  0.07493182,  1.        , -0.05493781, -0.03437238,\n",
      "              -0.17397006],\n",
      "             [ 0.08891209, -0.23693364, -0.5766354 , -0.71687663, -0.6621225 ,\n",
      "              -0.19455902, -0.75953792, -0.69588958, -0.58561823, -0.02138083,\n",
      "               0.27951325, -0.83717978, -0.05493781,  1.        ,  0.9719968 ,\n",
      "              -0.69009981],\n",
      "             [ 0.14930948, -0.18969131, -0.60826982, -0.71783122, -0.68936743,\n",
      "              -0.22164557, -0.78716702, -0.71136436, -0.58672907, -0.01397408,\n",
      "               0.22244152, -0.8279725 , -0.03437238,  0.9719968 ,  1.        ,\n",
      "              -0.7183144 ],\n",
      "             [-0.16332929,  0.19992385,  0.7347888 ,  0.76032275,  0.8433157 ,\n",
      "               0.24750024,  0.89380953,  0.84172481,  0.53489078,  0.15879823,\n",
      "               0.21094844,  0.75858227, -0.17397006, -0.69009981, -0.7183144 ,\n",
      "               1.        ]])\n"
     ]
    }
   ],
   "source": [
    "df_fil = df_auto_num_drop[list_num]\n",
    "assembler = VectorAssembler(inputCols = list_num, outputCol = \"features\")\n",
    "df_fil = assembler.transform(df_fil)\n",
    "\n",
    "pearson_corr = Correlation.corr(df_fil, \"features\", \"pearson\").collect()[0][0]\n",
    "print(pearson_corr)"
   ]
  },
  {
   "cell_type": "markdown",
   "id": "3c5e33c6",
   "metadata": {},
   "source": [
    "# Preprocessing"
   ]
  },
  {
   "cell_type": "markdown",
   "id": "4f862b0d",
   "metadata": {},
   "source": [
    "## Standard Scaler o Z-score\n",
    "\n",
    "- Es el proceso de transformar los datos de tal manera que la media de cada columna sea igual a cero, y la desviación estándar de cada columna sea igual a uno. De esta manera, se obtiene la misma escala para todas las columnas\n",
    "- Es una buena práctica estandarizar los datos de entrada que utiliza para la regresión logística, aunque en muchos casos no es necesario. La estandarización podría mejorar el rendimiento del algoritmo.\n",
    "- El rango de los datos se ajsuta a cada variable, su rango no es fijo\n",
    "- Normalmente se utiliza cuando no se desea que los datos atipicos tengan demasiada influencia\n",
    "- Esta tecnica hace que la media de cada variable tienda a 0 y su desviacion estandar tienda a 1\n",
    "\n",
    "<img src=\"standard.PNG\" height = \"200\" width = \"200\">"
   ]
  },
  {
   "cell_type": "markdown",
   "id": "23c0a64d",
   "metadata": {},
   "source": [
    "### Pandas"
   ]
  },
  {
   "cell_type": "code",
   "execution_count": 101,
   "id": "2eac6fc8",
   "metadata": {
    "ExecuteTime": {
     "end_time": "2022-11-19T13:37:42.823340Z",
     "start_time": "2022-11-19T13:37:42.068325Z"
    }
   },
   "outputs": [],
   "source": [
    "from sklearn.preprocessing import StandardScaler"
   ]
  },
  {
   "cell_type": "code",
   "execution_count": 105,
   "id": "6485e6e5",
   "metadata": {
    "ExecuteTime": {
     "end_time": "2022-11-19T13:44:17.796587Z",
     "start_time": "2022-11-19T13:44:17.626756Z"
    }
   },
   "outputs": [
    {
     "data": {
      "text/html": [
       "<div>\n",
       "<style scoped>\n",
       "    .dataframe tbody tr th:only-of-type {\n",
       "        vertical-align: middle;\n",
       "    }\n",
       "\n",
       "    .dataframe tbody tr th {\n",
       "        vertical-align: top;\n",
       "    }\n",
       "\n",
       "    .dataframe thead th {\n",
       "        text-align: right;\n",
       "    }\n",
       "</style>\n",
       "<table border=\"1\" class=\"dataframe\">\n",
       "  <thead>\n",
       "    <tr style=\"text-align: right;\">\n",
       "      <th></th>\n",
       "      <th>symboling</th>\n",
       "      <th>normalized-losses</th>\n",
       "      <th>make</th>\n",
       "      <th>fuel-type</th>\n",
       "      <th>aspiration</th>\n",
       "      <th>num-of-doors</th>\n",
       "      <th>body-style</th>\n",
       "      <th>drive-wheels</th>\n",
       "      <th>engine-location</th>\n",
       "      <th>wheel-base</th>\n",
       "      <th>...</th>\n",
       "      <th>engine-size</th>\n",
       "      <th>fuel-system</th>\n",
       "      <th>bore</th>\n",
       "      <th>stroke</th>\n",
       "      <th>compression-ratio</th>\n",
       "      <th>horsepower</th>\n",
       "      <th>peak-rpm</th>\n",
       "      <th>city-mpg</th>\n",
       "      <th>highway-mpg</th>\n",
       "      <th>price</th>\n",
       "    </tr>\n",
       "  </thead>\n",
       "  <tbody>\n",
       "    <tr>\n",
       "      <th>0</th>\n",
       "      <td>3</td>\n",
       "      <td>NaN</td>\n",
       "      <td>alfa-romero</td>\n",
       "      <td>gas</td>\n",
       "      <td>std</td>\n",
       "      <td>two</td>\n",
       "      <td>convertible</td>\n",
       "      <td>rwd</td>\n",
       "      <td>front</td>\n",
       "      <td>88.6</td>\n",
       "      <td>...</td>\n",
       "      <td>130</td>\n",
       "      <td>mpfi</td>\n",
       "      <td>3.47</td>\n",
       "      <td>2.68</td>\n",
       "      <td>9.0</td>\n",
       "      <td>111.0</td>\n",
       "      <td>5000.0</td>\n",
       "      <td>21</td>\n",
       "      <td>27</td>\n",
       "      <td>13495.0</td>\n",
       "    </tr>\n",
       "    <tr>\n",
       "      <th>1</th>\n",
       "      <td>3</td>\n",
       "      <td>NaN</td>\n",
       "      <td>alfa-romero</td>\n",
       "      <td>gas</td>\n",
       "      <td>std</td>\n",
       "      <td>two</td>\n",
       "      <td>convertible</td>\n",
       "      <td>rwd</td>\n",
       "      <td>front</td>\n",
       "      <td>88.6</td>\n",
       "      <td>...</td>\n",
       "      <td>130</td>\n",
       "      <td>mpfi</td>\n",
       "      <td>3.47</td>\n",
       "      <td>2.68</td>\n",
       "      <td>9.0</td>\n",
       "      <td>111.0</td>\n",
       "      <td>5000.0</td>\n",
       "      <td>21</td>\n",
       "      <td>27</td>\n",
       "      <td>16500.0</td>\n",
       "    </tr>\n",
       "    <tr>\n",
       "      <th>2</th>\n",
       "      <td>1</td>\n",
       "      <td>NaN</td>\n",
       "      <td>alfa-romero</td>\n",
       "      <td>gas</td>\n",
       "      <td>std</td>\n",
       "      <td>two</td>\n",
       "      <td>hatchback</td>\n",
       "      <td>rwd</td>\n",
       "      <td>front</td>\n",
       "      <td>94.5</td>\n",
       "      <td>...</td>\n",
       "      <td>152</td>\n",
       "      <td>mpfi</td>\n",
       "      <td>2.68</td>\n",
       "      <td>3.47</td>\n",
       "      <td>9.0</td>\n",
       "      <td>154.0</td>\n",
       "      <td>5000.0</td>\n",
       "      <td>19</td>\n",
       "      <td>26</td>\n",
       "      <td>16500.0</td>\n",
       "    </tr>\n",
       "    <tr>\n",
       "      <th>3</th>\n",
       "      <td>2</td>\n",
       "      <td>164.0</td>\n",
       "      <td>audi</td>\n",
       "      <td>gas</td>\n",
       "      <td>std</td>\n",
       "      <td>four</td>\n",
       "      <td>sedan</td>\n",
       "      <td>fwd</td>\n",
       "      <td>front</td>\n",
       "      <td>99.8</td>\n",
       "      <td>...</td>\n",
       "      <td>109</td>\n",
       "      <td>mpfi</td>\n",
       "      <td>3.19</td>\n",
       "      <td>3.40</td>\n",
       "      <td>10.0</td>\n",
       "      <td>102.0</td>\n",
       "      <td>5500.0</td>\n",
       "      <td>24</td>\n",
       "      <td>30</td>\n",
       "      <td>13950.0</td>\n",
       "    </tr>\n",
       "    <tr>\n",
       "      <th>4</th>\n",
       "      <td>2</td>\n",
       "      <td>164.0</td>\n",
       "      <td>audi</td>\n",
       "      <td>gas</td>\n",
       "      <td>std</td>\n",
       "      <td>four</td>\n",
       "      <td>sedan</td>\n",
       "      <td>4wd</td>\n",
       "      <td>front</td>\n",
       "      <td>99.4</td>\n",
       "      <td>...</td>\n",
       "      <td>136</td>\n",
       "      <td>mpfi</td>\n",
       "      <td>3.19</td>\n",
       "      <td>3.40</td>\n",
       "      <td>8.0</td>\n",
       "      <td>115.0</td>\n",
       "      <td>5500.0</td>\n",
       "      <td>18</td>\n",
       "      <td>22</td>\n",
       "      <td>17450.0</td>\n",
       "    </tr>\n",
       "  </tbody>\n",
       "</table>\n",
       "<p>5 rows × 26 columns</p>\n",
       "</div>"
      ],
      "text/plain": [
       "   symboling  normalized-losses         make fuel-type aspiration  \\\n",
       "0          3                NaN  alfa-romero       gas        std   \n",
       "1          3                NaN  alfa-romero       gas        std   \n",
       "2          1                NaN  alfa-romero       gas        std   \n",
       "3          2              164.0         audi       gas        std   \n",
       "4          2              164.0         audi       gas        std   \n",
       "\n",
       "  num-of-doors   body-style drive-wheels engine-location  wheel-base  ...  \\\n",
       "0          two  convertible          rwd           front        88.6  ...   \n",
       "1          two  convertible          rwd           front        88.6  ...   \n",
       "2          two    hatchback          rwd           front        94.5  ...   \n",
       "3         four        sedan          fwd           front        99.8  ...   \n",
       "4         four        sedan          4wd           front        99.4  ...   \n",
       "\n",
       "   engine-size  fuel-system  bore  stroke compression-ratio horsepower  \\\n",
       "0          130         mpfi  3.47    2.68               9.0      111.0   \n",
       "1          130         mpfi  3.47    2.68               9.0      111.0   \n",
       "2          152         mpfi  2.68    3.47               9.0      154.0   \n",
       "3          109         mpfi  3.19    3.40              10.0      102.0   \n",
       "4          136         mpfi  3.19    3.40               8.0      115.0   \n",
       "\n",
       "   peak-rpm city-mpg  highway-mpg    price  \n",
       "0    5000.0       21           27  13495.0  \n",
       "1    5000.0       21           27  16500.0  \n",
       "2    5000.0       19           26  16500.0  \n",
       "3    5500.0       24           30  13950.0  \n",
       "4    5500.0       18           22  17450.0  \n",
       "\n",
       "[5 rows x 26 columns]"
      ]
     },
     "execution_count": 105,
     "metadata": {},
     "output_type": "execute_result"
    }
   ],
   "source": [
    "df_auto_pd = spark.read.format(\"parquet\").option(\"header\", True).load(\"./datasets/automobile_data.parquet\").toPandas()\n",
    "df_auto_pd.head()"
   ]
  },
  {
   "cell_type": "code",
   "execution_count": 108,
   "id": "3eef7172",
   "metadata": {
    "ExecuteTime": {
     "end_time": "2022-11-19T13:45:45.139411Z",
     "start_time": "2022-11-19T13:45:45.108391Z"
    }
   },
   "outputs": [
    {
     "data": {
      "text/html": [
       "<div>\n",
       "<style scoped>\n",
       "    .dataframe tbody tr th:only-of-type {\n",
       "        vertical-align: middle;\n",
       "    }\n",
       "\n",
       "    .dataframe tbody tr th {\n",
       "        vertical-align: top;\n",
       "    }\n",
       "\n",
       "    .dataframe thead th {\n",
       "        text-align: right;\n",
       "    }\n",
       "</style>\n",
       "<table border=\"1\" class=\"dataframe\">\n",
       "  <thead>\n",
       "    <tr style=\"text-align: right;\">\n",
       "      <th></th>\n",
       "      <th>symboling</th>\n",
       "      <th>normalized-losses</th>\n",
       "      <th>wheel-base</th>\n",
       "      <th>length</th>\n",
       "      <th>width</th>\n",
       "      <th>height</th>\n",
       "      <th>curb-weight</th>\n",
       "      <th>engine-size</th>\n",
       "      <th>bore</th>\n",
       "      <th>stroke</th>\n",
       "      <th>compression-ratio</th>\n",
       "      <th>horsepower</th>\n",
       "      <th>peak-rpm</th>\n",
       "      <th>city-mpg</th>\n",
       "      <th>highway-mpg</th>\n",
       "      <th>price</th>\n",
       "    </tr>\n",
       "  </thead>\n",
       "  <tbody>\n",
       "    <tr>\n",
       "      <th>3</th>\n",
       "      <td>2</td>\n",
       "      <td>164.0</td>\n",
       "      <td>99.8</td>\n",
       "      <td>176.6</td>\n",
       "      <td>66.2</td>\n",
       "      <td>54.3</td>\n",
       "      <td>2337</td>\n",
       "      <td>109</td>\n",
       "      <td>3.19</td>\n",
       "      <td>3.4</td>\n",
       "      <td>10.0</td>\n",
       "      <td>102.0</td>\n",
       "      <td>5500.0</td>\n",
       "      <td>24</td>\n",
       "      <td>30</td>\n",
       "      <td>13950.0</td>\n",
       "    </tr>\n",
       "    <tr>\n",
       "      <th>4</th>\n",
       "      <td>2</td>\n",
       "      <td>164.0</td>\n",
       "      <td>99.4</td>\n",
       "      <td>176.6</td>\n",
       "      <td>66.4</td>\n",
       "      <td>54.3</td>\n",
       "      <td>2824</td>\n",
       "      <td>136</td>\n",
       "      <td>3.19</td>\n",
       "      <td>3.4</td>\n",
       "      <td>8.0</td>\n",
       "      <td>115.0</td>\n",
       "      <td>5500.0</td>\n",
       "      <td>18</td>\n",
       "      <td>22</td>\n",
       "      <td>17450.0</td>\n",
       "    </tr>\n",
       "    <tr>\n",
       "      <th>6</th>\n",
       "      <td>1</td>\n",
       "      <td>158.0</td>\n",
       "      <td>105.8</td>\n",
       "      <td>192.7</td>\n",
       "      <td>71.4</td>\n",
       "      <td>55.7</td>\n",
       "      <td>2844</td>\n",
       "      <td>136</td>\n",
       "      <td>3.19</td>\n",
       "      <td>3.4</td>\n",
       "      <td>8.5</td>\n",
       "      <td>110.0</td>\n",
       "      <td>5500.0</td>\n",
       "      <td>19</td>\n",
       "      <td>25</td>\n",
       "      <td>17710.0</td>\n",
       "    </tr>\n",
       "    <tr>\n",
       "      <th>8</th>\n",
       "      <td>1</td>\n",
       "      <td>158.0</td>\n",
       "      <td>105.8</td>\n",
       "      <td>192.7</td>\n",
       "      <td>71.4</td>\n",
       "      <td>55.9</td>\n",
       "      <td>3086</td>\n",
       "      <td>131</td>\n",
       "      <td>3.13</td>\n",
       "      <td>3.4</td>\n",
       "      <td>8.3</td>\n",
       "      <td>140.0</td>\n",
       "      <td>5500.0</td>\n",
       "      <td>17</td>\n",
       "      <td>20</td>\n",
       "      <td>23875.0</td>\n",
       "    </tr>\n",
       "    <tr>\n",
       "      <th>10</th>\n",
       "      <td>2</td>\n",
       "      <td>192.0</td>\n",
       "      <td>101.2</td>\n",
       "      <td>176.8</td>\n",
       "      <td>64.8</td>\n",
       "      <td>54.3</td>\n",
       "      <td>2395</td>\n",
       "      <td>108</td>\n",
       "      <td>3.50</td>\n",
       "      <td>2.8</td>\n",
       "      <td>8.8</td>\n",
       "      <td>101.0</td>\n",
       "      <td>5800.0</td>\n",
       "      <td>23</td>\n",
       "      <td>29</td>\n",
       "      <td>16430.0</td>\n",
       "    </tr>\n",
       "  </tbody>\n",
       "</table>\n",
       "</div>"
      ],
      "text/plain": [
       "    symboling  normalized-losses  wheel-base  length  width  height  \\\n",
       "3           2              164.0        99.8   176.6   66.2    54.3   \n",
       "4           2              164.0        99.4   176.6   66.4    54.3   \n",
       "6           1              158.0       105.8   192.7   71.4    55.7   \n",
       "8           1              158.0       105.8   192.7   71.4    55.9   \n",
       "10          2              192.0       101.2   176.8   64.8    54.3   \n",
       "\n",
       "    curb-weight  engine-size  bore  stroke  compression-ratio  horsepower  \\\n",
       "3          2337          109  3.19     3.4               10.0       102.0   \n",
       "4          2824          136  3.19     3.4                8.0       115.0   \n",
       "6          2844          136  3.19     3.4                8.5       110.0   \n",
       "8          3086          131  3.13     3.4                8.3       140.0   \n",
       "10         2395          108  3.50     2.8                8.8       101.0   \n",
       "\n",
       "    peak-rpm  city-mpg  highway-mpg    price  \n",
       "3     5500.0        24           30  13950.0  \n",
       "4     5500.0        18           22  17450.0  \n",
       "6     5500.0        19           25  17710.0  \n",
       "8     5500.0        17           20  23875.0  \n",
       "10    5800.0        23           29  16430.0  "
      ]
     },
     "execution_count": 108,
     "metadata": {},
     "output_type": "execute_result"
    }
   ],
   "source": [
    "df_auto_pd_num = df_auto_pd.select_dtypes(exclude = \"object\")\n",
    "df_auto_pd_num = df_auto_pd_num.dropna()\n",
    "df_auto_pd_num.head()"
   ]
  },
  {
   "cell_type": "code",
   "execution_count": 109,
   "id": "79343dd6",
   "metadata": {
    "ExecuteTime": {
     "end_time": "2022-11-19T13:45:47.379875Z",
     "start_time": "2022-11-19T13:45:47.369872Z"
    }
   },
   "outputs": [
    {
     "data": {
      "text/html": [
       "<style>#sk-container-id-2 {color: black;background-color: white;}#sk-container-id-2 pre{padding: 0;}#sk-container-id-2 div.sk-toggleable {background-color: white;}#sk-container-id-2 label.sk-toggleable__label {cursor: pointer;display: block;width: 100%;margin-bottom: 0;padding: 0.3em;box-sizing: border-box;text-align: center;}#sk-container-id-2 label.sk-toggleable__label-arrow:before {content: \"▸\";float: left;margin-right: 0.25em;color: #696969;}#sk-container-id-2 label.sk-toggleable__label-arrow:hover:before {color: black;}#sk-container-id-2 div.sk-estimator:hover label.sk-toggleable__label-arrow:before {color: black;}#sk-container-id-2 div.sk-toggleable__content {max-height: 0;max-width: 0;overflow: hidden;text-align: left;background-color: #f0f8ff;}#sk-container-id-2 div.sk-toggleable__content pre {margin: 0.2em;color: black;border-radius: 0.25em;background-color: #f0f8ff;}#sk-container-id-2 input.sk-toggleable__control:checked~div.sk-toggleable__content {max-height: 200px;max-width: 100%;overflow: auto;}#sk-container-id-2 input.sk-toggleable__control:checked~label.sk-toggleable__label-arrow:before {content: \"▾\";}#sk-container-id-2 div.sk-estimator input.sk-toggleable__control:checked~label.sk-toggleable__label {background-color: #d4ebff;}#sk-container-id-2 div.sk-label input.sk-toggleable__control:checked~label.sk-toggleable__label {background-color: #d4ebff;}#sk-container-id-2 input.sk-hidden--visually {border: 0;clip: rect(1px 1px 1px 1px);clip: rect(1px, 1px, 1px, 1px);height: 1px;margin: -1px;overflow: hidden;padding: 0;position: absolute;width: 1px;}#sk-container-id-2 div.sk-estimator {font-family: monospace;background-color: #f0f8ff;border: 1px dotted black;border-radius: 0.25em;box-sizing: border-box;margin-bottom: 0.5em;}#sk-container-id-2 div.sk-estimator:hover {background-color: #d4ebff;}#sk-container-id-2 div.sk-parallel-item::after {content: \"\";width: 100%;border-bottom: 1px solid gray;flex-grow: 1;}#sk-container-id-2 div.sk-label:hover label.sk-toggleable__label {background-color: #d4ebff;}#sk-container-id-2 div.sk-serial::before {content: \"\";position: absolute;border-left: 1px solid gray;box-sizing: border-box;top: 0;bottom: 0;left: 50%;z-index: 0;}#sk-container-id-2 div.sk-serial {display: flex;flex-direction: column;align-items: center;background-color: white;padding-right: 0.2em;padding-left: 0.2em;position: relative;}#sk-container-id-2 div.sk-item {position: relative;z-index: 1;}#sk-container-id-2 div.sk-parallel {display: flex;align-items: stretch;justify-content: center;background-color: white;position: relative;}#sk-container-id-2 div.sk-item::before, #sk-container-id-2 div.sk-parallel-item::before {content: \"\";position: absolute;border-left: 1px solid gray;box-sizing: border-box;top: 0;bottom: 0;left: 50%;z-index: -1;}#sk-container-id-2 div.sk-parallel-item {display: flex;flex-direction: column;z-index: 1;position: relative;background-color: white;}#sk-container-id-2 div.sk-parallel-item:first-child::after {align-self: flex-end;width: 50%;}#sk-container-id-2 div.sk-parallel-item:last-child::after {align-self: flex-start;width: 50%;}#sk-container-id-2 div.sk-parallel-item:only-child::after {width: 0;}#sk-container-id-2 div.sk-dashed-wrapped {border: 1px dashed gray;margin: 0 0.4em 0.5em 0.4em;box-sizing: border-box;padding-bottom: 0.4em;background-color: white;}#sk-container-id-2 div.sk-label label {font-family: monospace;font-weight: bold;display: inline-block;line-height: 1.2em;}#sk-container-id-2 div.sk-label-container {text-align: center;}#sk-container-id-2 div.sk-container {/* jupyter's `normalize.less` sets `[hidden] { display: none; }` but bootstrap.min.css set `[hidden] { display: none !important; }` so we also need the `!important` here to be able to override the default hidden behavior on the sphinx rendered scikit-learn.org. See: https://github.com/scikit-learn/scikit-learn/issues/21755 */display: inline-block !important;position: relative;}#sk-container-id-2 div.sk-text-repr-fallback {display: none;}</style><div id=\"sk-container-id-2\" class=\"sk-top-container\"><div class=\"sk-text-repr-fallback\"><pre>StandardScaler()</pre><b>In a Jupyter environment, please rerun this cell to show the HTML representation or trust the notebook. <br />On GitHub, the HTML representation is unable to render, please try loading this page with nbviewer.org.</b></div><div class=\"sk-container\" hidden><div class=\"sk-item\"><div class=\"sk-estimator sk-toggleable\"><input class=\"sk-toggleable__control sk-hidden--visually\" id=\"sk-estimator-id-2\" type=\"checkbox\" checked><label for=\"sk-estimator-id-2\" class=\"sk-toggleable__label sk-toggleable__label-arrow\">StandardScaler</label><div class=\"sk-toggleable__content\"><pre>StandardScaler()</pre></div></div></div></div></div>"
      ],
      "text/plain": [
       "StandardScaler()"
      ]
     },
     "execution_count": 109,
     "metadata": {},
     "output_type": "execute_result"
    }
   ],
   "source": [
    "scaler = StandardScaler()\n",
    "scaler"
   ]
  },
  {
   "cell_type": "code",
   "execution_count": 115,
   "id": "9159403e",
   "metadata": {
    "ExecuteTime": {
     "end_time": "2022-11-19T14:52:22.978153Z",
     "start_time": "2022-11-19T14:52:22.923062Z"
    }
   },
   "outputs": [
    {
     "data": {
      "text/plain": [
       "array([[ 1.06469263,  1.20312243,  0.30390372, ..., -0.41342425,\n",
       "        -0.32219564,  0.43150225],\n",
       "       [ 1.06469263,  1.20312243,  0.22619761, ..., -1.4031681 ,\n",
       "        -1.56814855,  1.03025998],\n",
       "       [ 0.22137173,  1.03406542,  1.46949528, ..., -1.23821079,\n",
       "        -1.10091621,  1.07473913],\n",
       "       ...,\n",
       "       [-1.46527006, -0.74103326,  2.11057064, ..., -1.4031681 ,\n",
       "        -1.41240444,  1.72054212],\n",
       "       [-1.46527006, -0.74103326,  2.11057064, ..., -0.08350964,\n",
       "        -0.78942798,  1.88904965],\n",
       "       [-1.46527006, -0.74103326,  2.11057064, ..., -1.23821079,\n",
       "        -1.10091621,  1.91556607]])"
      ]
     },
     "execution_count": 115,
     "metadata": {},
     "output_type": "execute_result"
    }
   ],
   "source": [
    "df_auto_pd_num_scaler = scaler.fit_transform(df_auto_pd_num)\n",
    "df_auto_pd_num_scaler"
   ]
  },
  {
   "cell_type": "code",
   "execution_count": 116,
   "id": "02786996",
   "metadata": {
    "ExecuteTime": {
     "end_time": "2022-11-19T14:53:34.874201Z",
     "start_time": "2022-11-19T14:53:34.838267Z"
    }
   },
   "outputs": [
    {
     "data": {
      "text/html": [
       "<div>\n",
       "<style scoped>\n",
       "    .dataframe tbody tr th:only-of-type {\n",
       "        vertical-align: middle;\n",
       "    }\n",
       "\n",
       "    .dataframe tbody tr th {\n",
       "        vertical-align: top;\n",
       "    }\n",
       "\n",
       "    .dataframe thead th {\n",
       "        text-align: right;\n",
       "    }\n",
       "</style>\n",
       "<table border=\"1\" class=\"dataframe\">\n",
       "  <thead>\n",
       "    <tr style=\"text-align: right;\">\n",
       "      <th></th>\n",
       "      <th>symboling</th>\n",
       "      <th>normalized-losses</th>\n",
       "      <th>wheel-base</th>\n",
       "      <th>length</th>\n",
       "      <th>width</th>\n",
       "      <th>height</th>\n",
       "      <th>curb-weight</th>\n",
       "      <th>engine-size</th>\n",
       "      <th>bore</th>\n",
       "      <th>stroke</th>\n",
       "      <th>compression-ratio</th>\n",
       "      <th>horsepower</th>\n",
       "      <th>peak-rpm</th>\n",
       "      <th>city-mpg</th>\n",
       "      <th>highway-mpg</th>\n",
       "      <th>price</th>\n",
       "    </tr>\n",
       "  </thead>\n",
       "  <tbody>\n",
       "    <tr>\n",
       "      <th>0</th>\n",
       "      <td>1.064693</td>\n",
       "      <td>1.203122</td>\n",
       "      <td>0.303904</td>\n",
       "      <td>0.371817</td>\n",
       "      <td>0.311066</td>\n",
       "      <td>0.185615</td>\n",
       "      <td>-0.255427</td>\n",
       "      <td>-0.332951</td>\n",
       "      <td>-0.406878</td>\n",
       "      <td>0.554700</td>\n",
       "      <td>-0.037497</td>\n",
       "      <td>0.200623</td>\n",
       "      <td>0.827343</td>\n",
       "      <td>-0.413424</td>\n",
       "      <td>-0.322196</td>\n",
       "      <td>0.431502</td>\n",
       "    </tr>\n",
       "    <tr>\n",
       "      <th>1</th>\n",
       "      <td>1.064693</td>\n",
       "      <td>1.203122</td>\n",
       "      <td>0.226198</td>\n",
       "      <td>0.371817</td>\n",
       "      <td>0.414111</td>\n",
       "      <td>0.185615</td>\n",
       "      <td>0.760441</td>\n",
       "      <td>0.557668</td>\n",
       "      <td>-0.406878</td>\n",
       "      <td>0.554700</td>\n",
       "      <td>-0.554245</td>\n",
       "      <td>0.626436</td>\n",
       "      <td>0.827343</td>\n",
       "      <td>-1.403168</td>\n",
       "      <td>-1.568149</td>\n",
       "      <td>1.030260</td>\n",
       "    </tr>\n",
       "    <tr>\n",
       "      <th>2</th>\n",
       "      <td>0.221372</td>\n",
       "      <td>1.034065</td>\n",
       "      <td>1.469495</td>\n",
       "      <td>1.770271</td>\n",
       "      <td>2.990229</td>\n",
       "      <td>0.802496</td>\n",
       "      <td>0.802161</td>\n",
       "      <td>0.557668</td>\n",
       "      <td>-0.406878</td>\n",
       "      <td>0.554700</td>\n",
       "      <td>-0.425058</td>\n",
       "      <td>0.462662</td>\n",
       "      <td>0.827343</td>\n",
       "      <td>-1.238211</td>\n",
       "      <td>-1.100916</td>\n",
       "      <td>1.074739</td>\n",
       "    </tr>\n",
       "    <tr>\n",
       "      <th>3</th>\n",
       "      <td>0.221372</td>\n",
       "      <td>1.034065</td>\n",
       "      <td>1.469495</td>\n",
       "      <td>1.770271</td>\n",
       "      <td>2.990229</td>\n",
       "      <td>0.890622</td>\n",
       "      <td>1.306966</td>\n",
       "      <td>0.392738</td>\n",
       "      <td>-0.632009</td>\n",
       "      <td>0.554700</td>\n",
       "      <td>-0.476733</td>\n",
       "      <td>1.445307</td>\n",
       "      <td>0.827343</td>\n",
       "      <td>-1.568125</td>\n",
       "      <td>-1.879637</td>\n",
       "      <td>2.129408</td>\n",
       "    </tr>\n",
       "    <tr>\n",
       "      <th>4</th>\n",
       "      <td>1.064693</td>\n",
       "      <td>1.992055</td>\n",
       "      <td>0.575875</td>\n",
       "      <td>0.389189</td>\n",
       "      <td>-0.410247</td>\n",
       "      <td>0.185615</td>\n",
       "      <td>-0.134441</td>\n",
       "      <td>-0.365937</td>\n",
       "      <td>0.756300</td>\n",
       "      <td>-1.491064</td>\n",
       "      <td>-0.347546</td>\n",
       "      <td>0.167868</td>\n",
       "      <td>1.474126</td>\n",
       "      <td>-0.578382</td>\n",
       "      <td>-0.477940</td>\n",
       "      <td>0.855765</td>\n",
       "    </tr>\n",
       "    <tr>\n",
       "      <th>...</th>\n",
       "      <td>...</td>\n",
       "      <td>...</td>\n",
       "      <td>...</td>\n",
       "      <td>...</td>\n",
       "      <td>...</td>\n",
       "      <td>...</td>\n",
       "      <td>...</td>\n",
       "      <td>...</td>\n",
       "      <td>...</td>\n",
       "      <td>...</td>\n",
       "      <td>...</td>\n",
       "      <td>...</td>\n",
       "      <td>...</td>\n",
       "      <td>...</td>\n",
       "      <td>...</td>\n",
       "      <td>...</td>\n",
       "    </tr>\n",
       "    <tr>\n",
       "      <th>155</th>\n",
       "      <td>-1.465270</td>\n",
       "      <td>-0.741033</td>\n",
       "      <td>2.110571</td>\n",
       "      <td>1.431515</td>\n",
       "      <td>1.702170</td>\n",
       "      <td>0.714370</td>\n",
       "      <td>1.027446</td>\n",
       "      <td>0.722597</td>\n",
       "      <td>1.806913</td>\n",
       "      <td>-0.297701</td>\n",
       "      <td>-0.166684</td>\n",
       "      <td>0.593681</td>\n",
       "      <td>0.611749</td>\n",
       "      <td>-0.578382</td>\n",
       "      <td>-0.633684</td>\n",
       "      <td>0.926760</td>\n",
       "    </tr>\n",
       "    <tr>\n",
       "      <th>156</th>\n",
       "      <td>-1.465270</td>\n",
       "      <td>-0.741033</td>\n",
       "      <td>2.110571</td>\n",
       "      <td>1.431515</td>\n",
       "      <td>1.650648</td>\n",
       "      <td>0.714370</td>\n",
       "      <td>1.229785</td>\n",
       "      <td>0.722597</td>\n",
       "      <td>1.806913</td>\n",
       "      <td>-0.297701</td>\n",
       "      <td>-0.373383</td>\n",
       "      <td>2.100403</td>\n",
       "      <td>0.396154</td>\n",
       "      <td>-1.238211</td>\n",
       "      <td>-1.100916</td>\n",
       "      <td>1.303122</td>\n",
       "    </tr>\n",
       "    <tr>\n",
       "      <th>157</th>\n",
       "      <td>-1.465270</td>\n",
       "      <td>-0.741033</td>\n",
       "      <td>2.110571</td>\n",
       "      <td>1.431515</td>\n",
       "      <td>1.702170</td>\n",
       "      <td>0.714370</td>\n",
       "      <td>1.152604</td>\n",
       "      <td>1.778145</td>\n",
       "      <td>1.056476</td>\n",
       "      <td>-1.252391</td>\n",
       "      <td>-0.347546</td>\n",
       "      <td>1.248778</td>\n",
       "      <td>0.827343</td>\n",
       "      <td>-1.403168</td>\n",
       "      <td>-1.412404</td>\n",
       "      <td>1.720542</td>\n",
       "    </tr>\n",
       "    <tr>\n",
       "      <th>158</th>\n",
       "      <td>-1.465270</td>\n",
       "      <td>-0.741033</td>\n",
       "      <td>2.110571</td>\n",
       "      <td>1.431515</td>\n",
       "      <td>1.702170</td>\n",
       "      <td>0.714370</td>\n",
       "      <td>1.580229</td>\n",
       "      <td>0.854540</td>\n",
       "      <td>-1.082272</td>\n",
       "      <td>0.554700</td>\n",
       "      <td>3.321368</td>\n",
       "      <td>0.331643</td>\n",
       "      <td>-0.681817</td>\n",
       "      <td>-0.083510</td>\n",
       "      <td>-0.789428</td>\n",
       "      <td>1.889050</td>\n",
       "    </tr>\n",
       "    <tr>\n",
       "      <th>159</th>\n",
       "      <td>-1.465270</td>\n",
       "      <td>-0.741033</td>\n",
       "      <td>2.110571</td>\n",
       "      <td>1.431515</td>\n",
       "      <td>1.702170</td>\n",
       "      <td>0.714370</td>\n",
       "      <td>1.256903</td>\n",
       "      <td>0.722597</td>\n",
       "      <td>1.806913</td>\n",
       "      <td>-0.297701</td>\n",
       "      <td>-0.166684</td>\n",
       "      <td>0.593681</td>\n",
       "      <td>0.611749</td>\n",
       "      <td>-1.238211</td>\n",
       "      <td>-1.100916</td>\n",
       "      <td>1.915566</td>\n",
       "    </tr>\n",
       "  </tbody>\n",
       "</table>\n",
       "<p>160 rows × 16 columns</p>\n",
       "</div>"
      ],
      "text/plain": [
       "     symboling  normalized-losses  wheel-base    length     width    height  \\\n",
       "0     1.064693           1.203122    0.303904  0.371817  0.311066  0.185615   \n",
       "1     1.064693           1.203122    0.226198  0.371817  0.414111  0.185615   \n",
       "2     0.221372           1.034065    1.469495  1.770271  2.990229  0.802496   \n",
       "3     0.221372           1.034065    1.469495  1.770271  2.990229  0.890622   \n",
       "4     1.064693           1.992055    0.575875  0.389189 -0.410247  0.185615   \n",
       "..         ...                ...         ...       ...       ...       ...   \n",
       "155  -1.465270          -0.741033    2.110571  1.431515  1.702170  0.714370   \n",
       "156  -1.465270          -0.741033    2.110571  1.431515  1.650648  0.714370   \n",
       "157  -1.465270          -0.741033    2.110571  1.431515  1.702170  0.714370   \n",
       "158  -1.465270          -0.741033    2.110571  1.431515  1.702170  0.714370   \n",
       "159  -1.465270          -0.741033    2.110571  1.431515  1.702170  0.714370   \n",
       "\n",
       "     curb-weight  engine-size      bore    stroke  compression-ratio  \\\n",
       "0      -0.255427    -0.332951 -0.406878  0.554700          -0.037497   \n",
       "1       0.760441     0.557668 -0.406878  0.554700          -0.554245   \n",
       "2       0.802161     0.557668 -0.406878  0.554700          -0.425058   \n",
       "3       1.306966     0.392738 -0.632009  0.554700          -0.476733   \n",
       "4      -0.134441    -0.365937  0.756300 -1.491064          -0.347546   \n",
       "..           ...          ...       ...       ...                ...   \n",
       "155     1.027446     0.722597  1.806913 -0.297701          -0.166684   \n",
       "156     1.229785     0.722597  1.806913 -0.297701          -0.373383   \n",
       "157     1.152604     1.778145  1.056476 -1.252391          -0.347546   \n",
       "158     1.580229     0.854540 -1.082272  0.554700           3.321368   \n",
       "159     1.256903     0.722597  1.806913 -0.297701          -0.166684   \n",
       "\n",
       "     horsepower  peak-rpm  city-mpg  highway-mpg     price  \n",
       "0      0.200623  0.827343 -0.413424    -0.322196  0.431502  \n",
       "1      0.626436  0.827343 -1.403168    -1.568149  1.030260  \n",
       "2      0.462662  0.827343 -1.238211    -1.100916  1.074739  \n",
       "3      1.445307  0.827343 -1.568125    -1.879637  2.129408  \n",
       "4      0.167868  1.474126 -0.578382    -0.477940  0.855765  \n",
       "..          ...       ...       ...          ...       ...  \n",
       "155    0.593681  0.611749 -0.578382    -0.633684  0.926760  \n",
       "156    2.100403  0.396154 -1.238211    -1.100916  1.303122  \n",
       "157    1.248778  0.827343 -1.403168    -1.412404  1.720542  \n",
       "158    0.331643 -0.681817 -0.083510    -0.789428  1.889050  \n",
       "159    0.593681  0.611749 -1.238211    -1.100916  1.915566  \n",
       "\n",
       "[160 rows x 16 columns]"
      ]
     },
     "execution_count": 116,
     "metadata": {},
     "output_type": "execute_result"
    }
   ],
   "source": [
    "pd.DataFrame(df_auto_pd_num_scaler, columns = df_auto_pd_num.columns.tolist())"
   ]
  },
  {
   "cell_type": "markdown",
   "id": "9acf2977",
   "metadata": {
    "ExecuteTime": {
     "end_time": "2022-11-19T03:23:24.416843Z",
     "start_time": "2022-11-19T03:23:24.408767Z"
    }
   },
   "source": [
    "### Pyspark"
   ]
  },
  {
   "cell_type": "code",
   "execution_count": 117,
   "id": "ffb0401a",
   "metadata": {
    "ExecuteTime": {
     "end_time": "2022-11-19T14:55:25.859380Z",
     "start_time": "2022-11-19T14:55:25.839416Z"
    }
   },
   "outputs": [],
   "source": [
    "from pyspark.ml.feature import StandardScaler"
   ]
  },
  {
   "cell_type": "code",
   "execution_count": 119,
   "id": "b1f32276",
   "metadata": {
    "ExecuteTime": {
     "end_time": "2022-11-19T14:56:21.543281Z",
     "start_time": "2022-11-19T14:56:21.358626Z"
    }
   },
   "outputs": [
    {
     "name": "stdout",
     "output_type": "stream",
     "text": [
      "+---------+-----------------+----------+------+-----+------+-----------+-----------+----+------+-----------------+----------+--------+--------+-----------+-------+--------------------+\n",
      "|symboling|normalized-losses|wheel-base|length|width|height|curb-weight|engine-size|bore|stroke|compression-ratio|horsepower|peak-rpm|city-mpg|highway-mpg|  price|            features|\n",
      "+---------+-----------------+----------+------+-----+------+-----------+-----------+----+------+-----------------+----------+--------+--------+-----------+-------+--------------------+\n",
      "|        2|            164.0|      99.8| 176.6| 66.2|  54.3|       2337|        109|3.19|   3.4|             10.0|     102.0|  5500.0|      24|         30|13950.0|[2.0,164.0,99.8,1...|\n",
      "|        2|            164.0|      99.4| 176.6| 66.4|  54.3|       2824|        136|3.19|   3.4|              8.0|     115.0|  5500.0|      18|         22|17450.0|[2.0,164.0,99.4,1...|\n",
      "|        1|            158.0|     105.8| 192.7| 71.4|  55.7|       2844|        136|3.19|   3.4|              8.5|     110.0|  5500.0|      19|         25|17710.0|[1.0,158.0,105.8,...|\n",
      "|        1|            158.0|     105.8| 192.7| 71.4|  55.9|       3086|        131|3.13|   3.4|              8.3|     140.0|  5500.0|      17|         20|23875.0|[1.0,158.0,105.8,...|\n",
      "|        2|            192.0|     101.2| 176.8| 64.8|  54.3|       2395|        108| 3.5|   2.8|              8.8|     101.0|  5800.0|      23|         29|16430.0|[2.0,192.0,101.2,...|\n",
      "+---------+-----------------+----------+------+-----+------+-----------+-----------+----+------+-----------------+----------+--------+--------+-----------+-------+--------------------+\n",
      "only showing top 5 rows\n",
      "\n"
     ]
    }
   ],
   "source": [
    "df_fil = df_auto_num_drop[list_num]\n",
    "assembler = VectorAssembler(inputCols = list_num, outputCol = \"features\")\n",
    "df_fil = assembler.transform(df_fil)\n",
    "df_fil.show(5)"
   ]
  },
  {
   "cell_type": "code",
   "execution_count": 133,
   "id": "8d7019a6",
   "metadata": {
    "ExecuteTime": {
     "end_time": "2022-11-19T15:13:48.228068Z",
     "start_time": "2022-11-19T15:13:48.030227Z"
    }
   },
   "outputs": [
    {
     "name": "stdout",
     "output_type": "stream",
     "text": [
      "+---------+-----------------+----------+------+-----+------+-----------+-----------+----+------+-----------------+----------+--------+--------+-----------+-------+--------------------+--------------------+\n",
      "|symboling|normalized-losses|wheel-base|length|width|height|curb-weight|engine-size|bore|stroke|compression-ratio|horsepower|peak-rpm|city-mpg|highway-mpg|  price|            features|     features_scaler|\n",
      "+---------+-----------------+----------+------+-----+------+-----------+-----------+----+------+-----------------+----------+--------+--------+-----------+-------+--------------------+--------------------+\n",
      "|        2|            164.0|      99.8| 176.6| 66.2|  54.3|       2337|        109|3.19|   3.4|             10.0|     102.0|  5500.0|      24|         30|13950.0|[2.0,164.0,99.8,1...|[1.06136025068367...|\n",
      "|        2|            164.0|      99.4| 176.6| 66.4|  54.3|       2824|        136|3.19|   3.4|              8.0|     115.0|  5500.0|      18|         22|17450.0|[2.0,164.0,99.4,1...|[1.06136025068367...|\n",
      "|        1|            158.0|     105.8| 192.7| 71.4|  55.7|       2844|        136|3.19|   3.4|              8.5|     110.0|  5500.0|      19|         25|17710.0|[1.0,158.0,105.8,...|[0.22067886400353...|\n",
      "|        1|            158.0|     105.8| 192.7| 71.4|  55.9|       3086|        131|3.13|   3.4|              8.3|     140.0|  5500.0|      17|         20|23875.0|[1.0,158.0,105.8,...|[0.22067886400353...|\n",
      "|        2|            192.0|     101.2| 176.8| 64.8|  54.3|       2395|        108| 3.5|   2.8|              8.8|     101.0|  5800.0|      23|         29|16430.0|[2.0,192.0,101.2,...|[1.06136025068367...|\n",
      "+---------+-----------------+----------+------+-----+------+-----------+-----------+----+------+-----------------+----------+--------+--------+-----------+-------+--------------------+--------------------+\n",
      "only showing top 5 rows\n",
      "\n"
     ]
    }
   ],
   "source": [
    "scaler_spark = StandardScaler(inputCol = \"features\", \n",
    "                              outputCol = \"features_scaler\", \n",
    "                              withStd = True, \n",
    "                              withMean = True)\n",
    "\n",
    "scaler_model = scaler_spark.fit(df_fil)\n",
    "df_fil_scaler = scaler_model.transform(df_fil)\n",
    "df_fil_scaler.show(5)"
   ]
  },
  {
   "cell_type": "markdown",
   "id": "1ed9e0df",
   "metadata": {},
   "source": [
    "## Min Max Scaler\n",
    "\n",
    "- Usa un rango que se calcula como la diferencia entre el maximo y el minimo, esta formula implemeta para cada valor la resta del minimo y a ese valor se divide por el rango\n",
    "- Esta aplicacion es util ya que conserva la forma de la distribucion original\n",
    "- Conserva los datos atipicos, es decir que no se ven influenciados por el escalamiento\n",
    "- Deja cada variable entre un rango de 0 y 1\n"
   ]
  },
  {
   "cell_type": "markdown",
   "id": "9d4ab1db",
   "metadata": {},
   "source": [
    "### Pandas"
   ]
  },
  {
   "cell_type": "code",
   "execution_count": 127,
   "id": "61caaa3f",
   "metadata": {
    "ExecuteTime": {
     "end_time": "2022-11-19T15:05:49.319347Z",
     "start_time": "2022-11-19T15:05:49.311188Z"
    }
   },
   "outputs": [],
   "source": [
    "from sklearn.preprocessing import MinMaxScaler"
   ]
  },
  {
   "cell_type": "code",
   "execution_count": 128,
   "id": "9db51c86",
   "metadata": {
    "ExecuteTime": {
     "end_time": "2022-11-19T15:06:37.927444Z",
     "start_time": "2022-11-19T15:06:37.918258Z"
    }
   },
   "outputs": [
    {
     "data": {
      "text/plain": [
       "array([[0.8       , 0.51832461, 0.45517241, ..., 0.26470588, 0.33333333,\n",
       "        0.29500969],\n",
       "       [0.8       , 0.51832461, 0.44137931, ..., 0.08823529, 0.11111111,\n",
       "        0.41191796],\n",
       "       [0.6       , 0.48691099, 0.66206897, ..., 0.11764706, 0.19444444,\n",
       "        0.42060258],\n",
       "       ...,\n",
       "       [0.2       , 0.15706806, 0.77586207, ..., 0.08823529, 0.13888889,\n",
       "        0.54669651],\n",
       "       [0.2       , 0.15706806, 0.77586207, ..., 0.32352941, 0.25      ,\n",
       "        0.57959784],\n",
       "       [0.2       , 0.15706806, 0.77586207, ..., 0.11764706, 0.19444444,\n",
       "        0.5847752 ]])"
      ]
     },
     "execution_count": 128,
     "metadata": {},
     "output_type": "execute_result"
    }
   ],
   "source": [
    "min_max = MinMaxScaler()\n",
    "df_min_max = min_max.fit_transform(df_auto_pd_num)\n",
    "df_min_max"
   ]
  },
  {
   "cell_type": "code",
   "execution_count": 129,
   "id": "f38851ac",
   "metadata": {
    "ExecuteTime": {
     "end_time": "2022-11-19T15:06:53.803881Z",
     "start_time": "2022-11-19T15:06:53.765985Z"
    }
   },
   "outputs": [
    {
     "data": {
      "text/html": [
       "<div>\n",
       "<style scoped>\n",
       "    .dataframe tbody tr th:only-of-type {\n",
       "        vertical-align: middle;\n",
       "    }\n",
       "\n",
       "    .dataframe tbody tr th {\n",
       "        vertical-align: top;\n",
       "    }\n",
       "\n",
       "    .dataframe thead th {\n",
       "        text-align: right;\n",
       "    }\n",
       "</style>\n",
       "<table border=\"1\" class=\"dataframe\">\n",
       "  <thead>\n",
       "    <tr style=\"text-align: right;\">\n",
       "      <th></th>\n",
       "      <th>symboling</th>\n",
       "      <th>normalized-losses</th>\n",
       "      <th>wheel-base</th>\n",
       "      <th>length</th>\n",
       "      <th>width</th>\n",
       "      <th>height</th>\n",
       "      <th>curb-weight</th>\n",
       "      <th>engine-size</th>\n",
       "      <th>bore</th>\n",
       "      <th>stroke</th>\n",
       "      <th>compression-ratio</th>\n",
       "      <th>horsepower</th>\n",
       "      <th>peak-rpm</th>\n",
       "      <th>city-mpg</th>\n",
       "      <th>highway-mpg</th>\n",
       "      <th>price</th>\n",
       "    </tr>\n",
       "  </thead>\n",
       "  <tbody>\n",
       "    <tr>\n",
       "      <th>0</th>\n",
       "      <td>0.8</td>\n",
       "      <td>0.518325</td>\n",
       "      <td>0.455172</td>\n",
       "      <td>0.577236</td>\n",
       "      <td>0.517544</td>\n",
       "      <td>0.471154</td>\n",
       "      <td>0.329325</td>\n",
       "      <td>0.243655</td>\n",
       "      <td>0.464286</td>\n",
       "      <td>0.633333</td>\n",
       "      <td>0.18750</td>\n",
       "      <td>0.355263</td>\n",
       "      <td>0.551020</td>\n",
       "      <td>0.264706</td>\n",
       "      <td>0.333333</td>\n",
       "      <td>0.295010</td>\n",
       "    </tr>\n",
       "    <tr>\n",
       "      <th>1</th>\n",
       "      <td>0.8</td>\n",
       "      <td>0.518325</td>\n",
       "      <td>0.441379</td>\n",
       "      <td>0.577236</td>\n",
       "      <td>0.535088</td>\n",
       "      <td>0.471154</td>\n",
       "      <td>0.518231</td>\n",
       "      <td>0.380711</td>\n",
       "      <td>0.464286</td>\n",
       "      <td>0.633333</td>\n",
       "      <td>0.06250</td>\n",
       "      <td>0.440789</td>\n",
       "      <td>0.551020</td>\n",
       "      <td>0.088235</td>\n",
       "      <td>0.111111</td>\n",
       "      <td>0.411918</td>\n",
       "    </tr>\n",
       "    <tr>\n",
       "      <th>2</th>\n",
       "      <td>0.6</td>\n",
       "      <td>0.486911</td>\n",
       "      <td>0.662069</td>\n",
       "      <td>0.839024</td>\n",
       "      <td>0.973684</td>\n",
       "      <td>0.605769</td>\n",
       "      <td>0.525989</td>\n",
       "      <td>0.380711</td>\n",
       "      <td>0.464286</td>\n",
       "      <td>0.633333</td>\n",
       "      <td>0.09375</td>\n",
       "      <td>0.407895</td>\n",
       "      <td>0.551020</td>\n",
       "      <td>0.117647</td>\n",
       "      <td>0.194444</td>\n",
       "      <td>0.420603</td>\n",
       "    </tr>\n",
       "    <tr>\n",
       "      <th>3</th>\n",
       "      <td>0.6</td>\n",
       "      <td>0.486911</td>\n",
       "      <td>0.662069</td>\n",
       "      <td>0.839024</td>\n",
       "      <td>0.973684</td>\n",
       "      <td>0.625000</td>\n",
       "      <td>0.619860</td>\n",
       "      <td>0.355330</td>\n",
       "      <td>0.421429</td>\n",
       "      <td>0.633333</td>\n",
       "      <td>0.08125</td>\n",
       "      <td>0.605263</td>\n",
       "      <td>0.551020</td>\n",
       "      <td>0.058824</td>\n",
       "      <td>0.055556</td>\n",
       "      <td>0.626528</td>\n",
       "    </tr>\n",
       "    <tr>\n",
       "      <th>4</th>\n",
       "      <td>0.8</td>\n",
       "      <td>0.664921</td>\n",
       "      <td>0.503448</td>\n",
       "      <td>0.580488</td>\n",
       "      <td>0.394737</td>\n",
       "      <td>0.471154</td>\n",
       "      <td>0.351823</td>\n",
       "      <td>0.238579</td>\n",
       "      <td>0.685714</td>\n",
       "      <td>0.347619</td>\n",
       "      <td>0.11250</td>\n",
       "      <td>0.348684</td>\n",
       "      <td>0.673469</td>\n",
       "      <td>0.235294</td>\n",
       "      <td>0.305556</td>\n",
       "      <td>0.377848</td>\n",
       "    </tr>\n",
       "    <tr>\n",
       "      <th>...</th>\n",
       "      <td>...</td>\n",
       "      <td>...</td>\n",
       "      <td>...</td>\n",
       "      <td>...</td>\n",
       "      <td>...</td>\n",
       "      <td>...</td>\n",
       "      <td>...</td>\n",
       "      <td>...</td>\n",
       "      <td>...</td>\n",
       "      <td>...</td>\n",
       "      <td>...</td>\n",
       "      <td>...</td>\n",
       "      <td>...</td>\n",
       "      <td>...</td>\n",
       "      <td>...</td>\n",
       "      <td>...</td>\n",
       "    </tr>\n",
       "    <tr>\n",
       "      <th>155</th>\n",
       "      <td>0.2</td>\n",
       "      <td>0.157068</td>\n",
       "      <td>0.775862</td>\n",
       "      <td>0.775610</td>\n",
       "      <td>0.754386</td>\n",
       "      <td>0.586538</td>\n",
       "      <td>0.567882</td>\n",
       "      <td>0.406091</td>\n",
       "      <td>0.885714</td>\n",
       "      <td>0.514286</td>\n",
       "      <td>0.15625</td>\n",
       "      <td>0.434211</td>\n",
       "      <td>0.510204</td>\n",
       "      <td>0.235294</td>\n",
       "      <td>0.277778</td>\n",
       "      <td>0.391710</td>\n",
       "    </tr>\n",
       "    <tr>\n",
       "      <th>156</th>\n",
       "      <td>0.2</td>\n",
       "      <td>0.157068</td>\n",
       "      <td>0.775862</td>\n",
       "      <td>0.775610</td>\n",
       "      <td>0.745614</td>\n",
       "      <td>0.586538</td>\n",
       "      <td>0.605508</td>\n",
       "      <td>0.406091</td>\n",
       "      <td>0.885714</td>\n",
       "      <td>0.514286</td>\n",
       "      <td>0.10625</td>\n",
       "      <td>0.736842</td>\n",
       "      <td>0.469388</td>\n",
       "      <td>0.117647</td>\n",
       "      <td>0.194444</td>\n",
       "      <td>0.465195</td>\n",
       "    </tr>\n",
       "    <tr>\n",
       "      <th>157</th>\n",
       "      <td>0.2</td>\n",
       "      <td>0.157068</td>\n",
       "      <td>0.775862</td>\n",
       "      <td>0.775610</td>\n",
       "      <td>0.754386</td>\n",
       "      <td>0.586538</td>\n",
       "      <td>0.591156</td>\n",
       "      <td>0.568528</td>\n",
       "      <td>0.742857</td>\n",
       "      <td>0.380952</td>\n",
       "      <td>0.11250</td>\n",
       "      <td>0.565789</td>\n",
       "      <td>0.551020</td>\n",
       "      <td>0.088235</td>\n",
       "      <td>0.138889</td>\n",
       "      <td>0.546697</td>\n",
       "    </tr>\n",
       "    <tr>\n",
       "      <th>158</th>\n",
       "      <td>0.2</td>\n",
       "      <td>0.157068</td>\n",
       "      <td>0.775862</td>\n",
       "      <td>0.775610</td>\n",
       "      <td>0.754386</td>\n",
       "      <td>0.586538</td>\n",
       "      <td>0.670675</td>\n",
       "      <td>0.426396</td>\n",
       "      <td>0.335714</td>\n",
       "      <td>0.633333</td>\n",
       "      <td>1.00000</td>\n",
       "      <td>0.381579</td>\n",
       "      <td>0.265306</td>\n",
       "      <td>0.323529</td>\n",
       "      <td>0.250000</td>\n",
       "      <td>0.579598</td>\n",
       "    </tr>\n",
       "    <tr>\n",
       "      <th>159</th>\n",
       "      <td>0.2</td>\n",
       "      <td>0.157068</td>\n",
       "      <td>0.775862</td>\n",
       "      <td>0.775610</td>\n",
       "      <td>0.754386</td>\n",
       "      <td>0.586538</td>\n",
       "      <td>0.610551</td>\n",
       "      <td>0.406091</td>\n",
       "      <td>0.885714</td>\n",
       "      <td>0.514286</td>\n",
       "      <td>0.15625</td>\n",
       "      <td>0.434211</td>\n",
       "      <td>0.510204</td>\n",
       "      <td>0.117647</td>\n",
       "      <td>0.194444</td>\n",
       "      <td>0.584775</td>\n",
       "    </tr>\n",
       "  </tbody>\n",
       "</table>\n",
       "<p>160 rows × 16 columns</p>\n",
       "</div>"
      ],
      "text/plain": [
       "     symboling  normalized-losses  wheel-base    length     width    height  \\\n",
       "0          0.8           0.518325    0.455172  0.577236  0.517544  0.471154   \n",
       "1          0.8           0.518325    0.441379  0.577236  0.535088  0.471154   \n",
       "2          0.6           0.486911    0.662069  0.839024  0.973684  0.605769   \n",
       "3          0.6           0.486911    0.662069  0.839024  0.973684  0.625000   \n",
       "4          0.8           0.664921    0.503448  0.580488  0.394737  0.471154   \n",
       "..         ...                ...         ...       ...       ...       ...   \n",
       "155        0.2           0.157068    0.775862  0.775610  0.754386  0.586538   \n",
       "156        0.2           0.157068    0.775862  0.775610  0.745614  0.586538   \n",
       "157        0.2           0.157068    0.775862  0.775610  0.754386  0.586538   \n",
       "158        0.2           0.157068    0.775862  0.775610  0.754386  0.586538   \n",
       "159        0.2           0.157068    0.775862  0.775610  0.754386  0.586538   \n",
       "\n",
       "     curb-weight  engine-size      bore    stroke  compression-ratio  \\\n",
       "0       0.329325     0.243655  0.464286  0.633333            0.18750   \n",
       "1       0.518231     0.380711  0.464286  0.633333            0.06250   \n",
       "2       0.525989     0.380711  0.464286  0.633333            0.09375   \n",
       "3       0.619860     0.355330  0.421429  0.633333            0.08125   \n",
       "4       0.351823     0.238579  0.685714  0.347619            0.11250   \n",
       "..           ...          ...       ...       ...                ...   \n",
       "155     0.567882     0.406091  0.885714  0.514286            0.15625   \n",
       "156     0.605508     0.406091  0.885714  0.514286            0.10625   \n",
       "157     0.591156     0.568528  0.742857  0.380952            0.11250   \n",
       "158     0.670675     0.426396  0.335714  0.633333            1.00000   \n",
       "159     0.610551     0.406091  0.885714  0.514286            0.15625   \n",
       "\n",
       "     horsepower  peak-rpm  city-mpg  highway-mpg     price  \n",
       "0      0.355263  0.551020  0.264706     0.333333  0.295010  \n",
       "1      0.440789  0.551020  0.088235     0.111111  0.411918  \n",
       "2      0.407895  0.551020  0.117647     0.194444  0.420603  \n",
       "3      0.605263  0.551020  0.058824     0.055556  0.626528  \n",
       "4      0.348684  0.673469  0.235294     0.305556  0.377848  \n",
       "..          ...       ...       ...          ...       ...  \n",
       "155    0.434211  0.510204  0.235294     0.277778  0.391710  \n",
       "156    0.736842  0.469388  0.117647     0.194444  0.465195  \n",
       "157    0.565789  0.551020  0.088235     0.138889  0.546697  \n",
       "158    0.381579  0.265306  0.323529     0.250000  0.579598  \n",
       "159    0.434211  0.510204  0.117647     0.194444  0.584775  \n",
       "\n",
       "[160 rows x 16 columns]"
      ]
     },
     "execution_count": 129,
     "metadata": {},
     "output_type": "execute_result"
    }
   ],
   "source": [
    "pd.DataFrame(df_min_max, columns = df_auto_pd_num.columns.tolist())"
   ]
  },
  {
   "cell_type": "markdown",
   "id": "26a80305",
   "metadata": {},
   "source": [
    "### Pyspark"
   ]
  },
  {
   "cell_type": "code",
   "execution_count": 130,
   "id": "27b65bac",
   "metadata": {
    "ExecuteTime": {
     "end_time": "2022-11-19T15:11:26.783777Z",
     "start_time": "2022-11-19T15:11:26.765780Z"
    }
   },
   "outputs": [],
   "source": [
    "from pyspark.ml.feature import MinMaxScaler"
   ]
  },
  {
   "cell_type": "code",
   "execution_count": 132,
   "id": "5cb45c47",
   "metadata": {
    "ExecuteTime": {
     "end_time": "2022-11-19T15:13:13.882732Z",
     "start_time": "2022-11-19T15:13:13.662629Z"
    }
   },
   "outputs": [
    {
     "name": "stdout",
     "output_type": "stream",
     "text": [
      "+---------+-----------------+----------+------+-----+------+-----------+-----------+----+------+-----------------+----------+--------+--------+-----------+-------+--------------------+--------------------+\n",
      "|symboling|normalized-losses|wheel-base|length|width|height|curb-weight|engine-size|bore|stroke|compression-ratio|horsepower|peak-rpm|city-mpg|highway-mpg|  price|            features|     features_minmax|\n",
      "+---------+-----------------+----------+------+-----+------+-----------+-----------+----+------+-----------------+----------+--------+--------+-----------+-------+--------------------+--------------------+\n",
      "|        2|            164.0|      99.8| 176.6| 66.2|  54.3|       2337|        109|3.19|   3.4|             10.0|     102.0|  5500.0|      24|         30|13950.0|[2.0,164.0,99.8,1...|[0.8,0.5183246073...|\n",
      "|        2|            164.0|      99.4| 176.6| 66.4|  54.3|       2824|        136|3.19|   3.4|              8.0|     115.0|  5500.0|      18|         22|17450.0|[2.0,164.0,99.4,1...|[0.8,0.5183246073...|\n",
      "|        1|            158.0|     105.8| 192.7| 71.4|  55.7|       2844|        136|3.19|   3.4|              8.5|     110.0|  5500.0|      19|         25|17710.0|[1.0,158.0,105.8,...|[0.60000000000000...|\n",
      "|        1|            158.0|     105.8| 192.7| 71.4|  55.9|       3086|        131|3.13|   3.4|              8.3|     140.0|  5500.0|      17|         20|23875.0|[1.0,158.0,105.8,...|[0.60000000000000...|\n",
      "|        2|            192.0|     101.2| 176.8| 64.8|  54.3|       2395|        108| 3.5|   2.8|              8.8|     101.0|  5800.0|      23|         29|16430.0|[2.0,192.0,101.2,...|[0.8,0.6649214659...|\n",
      "+---------+-----------------+----------+------+-----+------+-----------+-----------+----+------+-----------------+----------+--------+--------+-----------+-------+--------------------+--------------------+\n",
      "only showing top 5 rows\n",
      "\n"
     ]
    }
   ],
   "source": [
    "minmax_spark = MinMaxScaler(inputCol = \"features\", outputCol = \"features_minmax\")\n",
    "minmax_model = minmax_spark.fit(df_fil)\n",
    "df_fil_minmax = minmax_model.transform(df_fil)\n",
    "df_fil_minmax.show(5)"
   ]
  },
  {
   "cell_type": "markdown",
   "id": "80aa1fb2",
   "metadata": {},
   "source": [
    "## Encoder"
   ]
  },
  {
   "cell_type": "code",
   "execution_count": 134,
   "id": "a8748658",
   "metadata": {
    "ExecuteTime": {
     "end_time": "2022-11-19T15:14:47.761745Z",
     "start_time": "2022-11-19T15:14:47.751744Z"
    }
   },
   "outputs": [],
   "source": [
    "from pyspark.ml.feature import StringIndexer"
   ]
  },
  {
   "cell_type": "code",
   "execution_count": 135,
   "id": "d51c51d1",
   "metadata": {
    "ExecuteTime": {
     "end_time": "2022-11-19T15:15:59.384062Z",
     "start_time": "2022-11-19T15:15:54.048461Z"
    }
   },
   "outputs": [
    {
     "name": "stdout",
     "output_type": "stream",
     "text": [
      "+---+--------+\n",
      "| id|category|\n",
      "+---+--------+\n",
      "|  0|       a|\n",
      "|  1|       b|\n",
      "|  2|       c|\n",
      "|  3|       a|\n",
      "|  4|       a|\n",
      "|  5|       c|\n",
      "+---+--------+\n",
      "\n"
     ]
    }
   ],
   "source": [
    "df = spark.createDataFrame(\n",
    "    [(0, \"a\"), (1, \"b\"), (2, \"c\"), (3, \"a\"), (4, \"a\"), (5, \"c\")],\n",
    "    [\"id\", \"category\"])\n",
    "\n",
    "df.show()"
   ]
  },
  {
   "cell_type": "code",
   "execution_count": 136,
   "id": "475aff31",
   "metadata": {
    "ExecuteTime": {
     "end_time": "2022-11-19T15:18:01.111069Z",
     "start_time": "2022-11-19T15:17:50.823167Z"
    }
   },
   "outputs": [
    {
     "name": "stdout",
     "output_type": "stream",
     "text": [
      "+---+--------+------------+\n",
      "| id|category|category_num|\n",
      "+---+--------+------------+\n",
      "|  0|       a|         0.0|\n",
      "|  1|       b|         2.0|\n",
      "|  2|       c|         1.0|\n",
      "|  3|       a|         0.0|\n",
      "|  4|       a|         0.0|\n",
      "|  5|       c|         1.0|\n",
      "+---+--------+------------+\n",
      "\n"
     ]
    }
   ],
   "source": [
    "indexer = StringIndexer(inputCol = \"category\", outputCol = \"category_num\")\n",
    "df_indexed = indexer.fit(df).transform(df)\n",
    "df_indexed.show()"
   ]
  },
  {
   "cell_type": "code",
   "execution_count": 137,
   "id": "e68a9d0f",
   "metadata": {
    "ExecuteTime": {
     "end_time": "2022-11-19T15:20:27.686428Z",
     "start_time": "2022-11-19T15:20:27.526616Z"
    }
   },
   "outputs": [
    {
     "name": "stdout",
     "output_type": "stream",
     "text": [
      "+---------+-----------------+-----------+---------+----------+------------+-----------+------------+---------------+----------+------+-----+------+-----------+-----------+----------------+-----------+-----------+----+------+-----------------+----------+--------+--------+-----------+-------+\n",
      "|symboling|normalized-losses|       make|fuel-type|aspiration|num-of-doors| body-style|drive-wheels|engine-location|wheel-base|length|width|height|curb-weight|engine-type|num-of-cylinders|engine-size|fuel-system|bore|stroke|compression-ratio|horsepower|peak-rpm|city-mpg|highway-mpg|  price|\n",
      "+---------+-----------------+-----------+---------+----------+------------+-----------+------------+---------------+----------+------+-----+------+-----------+-----------+----------------+-----------+-----------+----+------+-----------------+----------+--------+--------+-----------+-------+\n",
      "|        3|             null|alfa-romero|      gas|       std|         two|convertible|         rwd|          front|      88.6| 168.8| 64.1|  48.8|       2548|       dohc|            four|        130|       mpfi|3.47|  2.68|              9.0|     111.0|  5000.0|      21|         27|13495.0|\n",
      "|        3|             null|alfa-romero|      gas|       std|         two|convertible|         rwd|          front|      88.6| 168.8| 64.1|  48.8|       2548|       dohc|            four|        130|       mpfi|3.47|  2.68|              9.0|     111.0|  5000.0|      21|         27|16500.0|\n",
      "|        1|             null|alfa-romero|      gas|       std|         two|  hatchback|         rwd|          front|      94.5| 171.2| 65.5|  52.4|       2823|       ohcv|             six|        152|       mpfi|2.68|  3.47|              9.0|     154.0|  5000.0|      19|         26|16500.0|\n",
      "+---------+-----------------+-----------+---------+----------+------------+-----------+------------+---------------+----------+------+-----+------+-----------+-----------+----------------+-----------+-----------+----+------+-----------------+----------+--------+--------+-----------+-------+\n",
      "only showing top 3 rows\n",
      "\n"
     ]
    }
   ],
   "source": [
    "df_auto_pd = spark.read.format(\"parquet\").option(\"header\", True).load(\"./datasets/automobile_data.parquet\")\n",
    "df_auto_pd.show(3)"
   ]
  },
  {
   "cell_type": "code",
   "execution_count": 142,
   "id": "30a1d6c3",
   "metadata": {
    "ExecuteTime": {
     "end_time": "2022-11-19T15:22:48.408222Z",
     "start_time": "2022-11-19T15:22:48.207140Z"
    }
   },
   "outputs": [
    {
     "name": "stdout",
     "output_type": "stream",
     "text": [
      "+---------+-----------------+-----------+---------+----------+------------+-----------+------------+---------------+----------+------+-----+------+-----------+-----------+----------------+-----------+-----------+----+------+-----------------+----------+--------+--------+-----------+-------+-------------+\n",
      "|symboling|normalized-losses|       make|fuel-type|aspiration|num-of-doors| body-style|drive-wheels|engine-location|wheel-base|length|width|height|curb-weight|engine-type|num-of-cylinders|engine-size|fuel-system|bore|stroke|compression-ratio|horsepower|peak-rpm|city-mpg|highway-mpg|  price|fuel_type_num|\n",
      "+---------+-----------------+-----------+---------+----------+------------+-----------+------------+---------------+----------+------+-----+------+-----------+-----------+----------------+-----------+-----------+----+------+-----------------+----------+--------+--------+-----------+-------+-------------+\n",
      "|        3|             null|alfa-romero|      gas|       std|         two|convertible|         rwd|          front|      88.6| 168.8| 64.1|  48.8|       2548|       dohc|            four|        130|       mpfi|3.47|  2.68|              9.0|     111.0|  5000.0|      21|         27|13495.0|          0.0|\n",
      "|        3|             null|alfa-romero|      gas|       std|         two|convertible|         rwd|          front|      88.6| 168.8| 64.1|  48.8|       2548|       dohc|            four|        130|       mpfi|3.47|  2.68|              9.0|     111.0|  5000.0|      21|         27|16500.0|          0.0|\n",
      "|        1|             null|alfa-romero|      gas|       std|         two|  hatchback|         rwd|          front|      94.5| 171.2| 65.5|  52.4|       2823|       ohcv|             six|        152|       mpfi|2.68|  3.47|              9.0|     154.0|  5000.0|      19|         26|16500.0|          0.0|\n",
      "+---------+-----------------+-----------+---------+----------+------------+-----------+------------+---------------+----------+------+-----+------+-----------+-----------+----------------+-----------+-----------+----+------+-----------------+----------+--------+--------+-----------+-------+-------------+\n",
      "only showing top 3 rows\n",
      "\n"
     ]
    }
   ],
   "source": [
    "indexer = StringIndexer(inputCol = \"fuel-type\", outputCol = \"fuel_type_num\")\n",
    "df_auto_pd_indexed = indexer.fit(df_auto_pd).transform(df_auto_pd)\n",
    "df_auto_pd_indexed.show(3)"
   ]
  },
  {
   "cell_type": "code",
   "execution_count": 143,
   "id": "d1225434",
   "metadata": {
    "ExecuteTime": {
     "end_time": "2022-11-19T15:23:26.678285Z",
     "start_time": "2022-11-19T15:23:26.376625Z"
    }
   },
   "outputs": [
    {
     "name": "stdout",
     "output_type": "stream",
     "text": [
      "+---------+-----------------+-----------+---------+----------+------------+-----------+------------+---------------+----------+------+-----+------+-----------+-----------+----------------+-----------+-----------+----+------+-----------------+----------+--------+--------+-----------+-------+-------------+---------------+\n",
      "|symboling|normalized-losses|       make|fuel-type|aspiration|num-of-doors| body-style|drive-wheels|engine-location|wheel-base|length|width|height|curb-weight|engine-type|num-of-cylinders|engine-size|fuel-system|bore|stroke|compression-ratio|horsepower|peak-rpm|city-mpg|highway-mpg|  price|fuel_type_num|fuel_system_num|\n",
      "+---------+-----------------+-----------+---------+----------+------------+-----------+------------+---------------+----------+------+-----+------+-----------+-----------+----------------+-----------+-----------+----+------+-----------------+----------+--------+--------+-----------+-------+-------------+---------------+\n",
      "|        3|             null|alfa-romero|      gas|       std|         two|convertible|         rwd|          front|      88.6| 168.8| 64.1|  48.8|       2548|       dohc|            four|        130|       mpfi|3.47|  2.68|              9.0|     111.0|  5000.0|      21|         27|13495.0|          0.0|            0.0|\n",
      "|        3|             null|alfa-romero|      gas|       std|         two|convertible|         rwd|          front|      88.6| 168.8| 64.1|  48.8|       2548|       dohc|            four|        130|       mpfi|3.47|  2.68|              9.0|     111.0|  5000.0|      21|         27|16500.0|          0.0|            0.0|\n",
      "|        1|             null|alfa-romero|      gas|       std|         two|  hatchback|         rwd|          front|      94.5| 171.2| 65.5|  52.4|       2823|       ohcv|             six|        152|       mpfi|2.68|  3.47|              9.0|     154.0|  5000.0|      19|         26|16500.0|          0.0|            0.0|\n",
      "|        2|            164.0|       audi|      gas|       std|        four|      sedan|         fwd|          front|      99.8| 176.6| 66.2|  54.3|       2337|        ohc|            four|        109|       mpfi|3.19|   3.4|             10.0|     102.0|  5500.0|      24|         30|13950.0|          0.0|            0.0|\n",
      "|        2|            164.0|       audi|      gas|       std|        four|      sedan|         4wd|          front|      99.4| 176.6| 66.4|  54.3|       2824|        ohc|            five|        136|       mpfi|3.19|   3.4|              8.0|     115.0|  5500.0|      18|         22|17450.0|          0.0|            0.0|\n",
      "+---------+-----------------+-----------+---------+----------+------------+-----------+------------+---------------+----------+------+-----+------+-----------+-----------+----------------+-----------+-----------+----+------+-----------------+----------+--------+--------+-----------+-------+-------------+---------------+\n",
      "only showing top 5 rows\n",
      "\n"
     ]
    }
   ],
   "source": [
    "indexer = StringIndexer(inputCol = \"fuel-system\", outputCol = \"fuel_system_num\")\n",
    "df_auto_pd_indexed = indexer.fit(df_auto_pd_indexed).transform(df_auto_pd_indexed)\n",
    "df_auto_pd_indexed.show(5)"
   ]
  },
  {
   "cell_type": "markdown",
   "id": "77605834",
   "metadata": {},
   "source": [
    "### Ejercicio \n",
    "\n",
    "Realizar un label encoder para cada columna utilizando String indexer y utilizando Pandas"
   ]
  },
  {
   "cell_type": "code",
   "execution_count": 144,
   "id": "b514175e",
   "metadata": {
    "ExecuteTime": {
     "end_time": "2022-11-19T15:24:06.600371Z",
     "start_time": "2022-11-19T15:24:06.453760Z"
    }
   },
   "outputs": [
    {
     "name": "stdout",
     "output_type": "stream",
     "text": [
      "+---------+-----------------+-----------+---------+----------+------------+-----------+------------+---------------+----------+------+-----+------+-----------+-----------+----------------+-----------+-----------+----+------+-----------------+----------+--------+--------+-----------+-------+\n",
      "|symboling|normalized-losses|       make|fuel-type|aspiration|num-of-doors| body-style|drive-wheels|engine-location|wheel-base|length|width|height|curb-weight|engine-type|num-of-cylinders|engine-size|fuel-system|bore|stroke|compression-ratio|horsepower|peak-rpm|city-mpg|highway-mpg|  price|\n",
      "+---------+-----------------+-----------+---------+----------+------------+-----------+------------+---------------+----------+------+-----+------+-----------+-----------+----------------+-----------+-----------+----+------+-----------------+----------+--------+--------+-----------+-------+\n",
      "|        3|             null|alfa-romero|      gas|       std|         two|convertible|         rwd|          front|      88.6| 168.8| 64.1|  48.8|       2548|       dohc|            four|        130|       mpfi|3.47|  2.68|              9.0|     111.0|  5000.0|      21|         27|13495.0|\n",
      "|        3|             null|alfa-romero|      gas|       std|         two|convertible|         rwd|          front|      88.6| 168.8| 64.1|  48.8|       2548|       dohc|            four|        130|       mpfi|3.47|  2.68|              9.0|     111.0|  5000.0|      21|         27|16500.0|\n",
      "|        1|             null|alfa-romero|      gas|       std|         two|  hatchback|         rwd|          front|      94.5| 171.2| 65.5|  52.4|       2823|       ohcv|             six|        152|       mpfi|2.68|  3.47|              9.0|     154.0|  5000.0|      19|         26|16500.0|\n",
      "+---------+-----------------+-----------+---------+----------+------------+-----------+------------+---------------+----------+------+-----+------+-----------+-----------+----------------+-----------+-----------+----+------+-----------------+----------+--------+--------+-----------+-------+\n",
      "only showing top 3 rows\n",
      "\n"
     ]
    }
   ],
   "source": [
    "df_auto_pd = spark.read.format(\"parquet\").option(\"header\", True).load(\"./datasets/automobile_data.parquet\")\n",
    "df_auto_pd.show(3)"
   ]
  },
  {
   "cell_type": "code",
   "execution_count": 147,
   "id": "e8400536",
   "metadata": {
    "ExecuteTime": {
     "end_time": "2022-11-19T15:25:02.619559Z",
     "start_time": "2022-11-19T15:25:02.606576Z"
    }
   },
   "outputs": [
    {
     "data": {
      "text/html": [
       "<div>\n",
       "<style scoped>\n",
       "    .dataframe tbody tr th:only-of-type {\n",
       "        vertical-align: middle;\n",
       "    }\n",
       "\n",
       "    .dataframe tbody tr th {\n",
       "        vertical-align: top;\n",
       "    }\n",
       "\n",
       "    .dataframe thead th {\n",
       "        text-align: right;\n",
       "    }\n",
       "</style>\n",
       "<table border=\"1\" class=\"dataframe\">\n",
       "  <thead>\n",
       "    <tr style=\"text-align: right;\">\n",
       "      <th></th>\n",
       "      <th>columns</th>\n",
       "      <th>Types</th>\n",
       "    </tr>\n",
       "  </thead>\n",
       "  <tbody>\n",
       "    <tr>\n",
       "      <th>2</th>\n",
       "      <td>make</td>\n",
       "      <td>string</td>\n",
       "    </tr>\n",
       "    <tr>\n",
       "      <th>3</th>\n",
       "      <td>fuel-type</td>\n",
       "      <td>string</td>\n",
       "    </tr>\n",
       "    <tr>\n",
       "      <th>4</th>\n",
       "      <td>aspiration</td>\n",
       "      <td>string</td>\n",
       "    </tr>\n",
       "    <tr>\n",
       "      <th>5</th>\n",
       "      <td>num-of-doors</td>\n",
       "      <td>string</td>\n",
       "    </tr>\n",
       "    <tr>\n",
       "      <th>6</th>\n",
       "      <td>body-style</td>\n",
       "      <td>string</td>\n",
       "    </tr>\n",
       "  </tbody>\n",
       "</table>\n",
       "</div>"
      ],
      "text/plain": [
       "        columns   Types\n",
       "2          make  string\n",
       "3     fuel-type  string\n",
       "4    aspiration  string\n",
       "5  num-of-doors  string\n",
       "6    body-style  string"
      ]
     },
     "execution_count": 147,
     "metadata": {},
     "output_type": "execute_result"
    }
   ],
   "source": [
    "df_types = pd.DataFrame(data = df_auto_pd.dtypes).rename(columns = {0: \"columns\", 1: \"Types\"})\n",
    "df_types_num = df_types.query(\"Types == 'string'\")\n",
    "list_cat = df_types_num[\"columns\"].values.tolist()\n",
    "df_types_num.head()"
   ]
  },
  {
   "cell_type": "code",
   "execution_count": 148,
   "id": "bc3e8fa0",
   "metadata": {
    "ExecuteTime": {
     "end_time": "2022-11-19T15:25:06.014404Z",
     "start_time": "2022-11-19T15:25:06.007389Z"
    }
   },
   "outputs": [
    {
     "data": {
      "text/plain": [
       "['make',\n",
       " 'fuel-type',\n",
       " 'aspiration',\n",
       " 'num-of-doors',\n",
       " 'body-style',\n",
       " 'drive-wheels',\n",
       " 'engine-location',\n",
       " 'engine-type',\n",
       " 'num-of-cylinders',\n",
       " 'fuel-system']"
      ]
     },
     "execution_count": 148,
     "metadata": {},
     "output_type": "execute_result"
    }
   ],
   "source": [
    "list_cat"
   ]
  },
  {
   "cell_type": "code",
   "execution_count": 169,
   "id": "fab1a19e",
   "metadata": {
    "ExecuteTime": {
     "end_time": "2022-11-19T16:14:20.195655Z",
     "start_time": "2022-11-19T16:14:19.032283Z"
    }
   },
   "outputs": [],
   "source": [
    "df_auto_spark = spark.read.format(\"parquet\").option(\"header\", True).load(\"./datasets/automobile_data.parquet\")\n",
    "\n",
    "df_types = pd.DataFrame(data = df_auto_spark.dtypes).rename(columns = {0: \"Column\", 1: \"Types\"})\n",
    "df_cat = df_types[df_types[\"Types\"] == \"string\"]\n",
    "list_cat = df_cat[\"Column\"].values.tolist()\n",
    "\n",
    "for col in list_cat:\n",
    "    \n",
    "    indexer = StringIndexer(inputCol = col, outputCol = col + \"_num\")\n",
    "    df_auto_spark = indexer.fit(df_auto_spark).transform(df_auto_spark)\n",
    "    df_auto_spark = df_auto_spark.drop(col)"
   ]
  },
  {
   "cell_type": "code",
   "execution_count": 170,
   "id": "79497ece",
   "metadata": {
    "ExecuteTime": {
     "end_time": "2022-11-19T16:14:24.499034Z",
     "start_time": "2022-11-19T16:14:24.331246Z"
    }
   },
   "outputs": [
    {
     "name": "stdout",
     "output_type": "stream",
     "text": [
      "+---------+-----------------+----------+------+-----+------+-----------+-----------+----+------+-----------------+----------+--------+--------+-----------+-------+--------+-------------+--------------+----------------+--------------+----------------+-------------------+---------------+--------------------+---------------+\n",
      "|symboling|normalized-losses|wheel-base|length|width|height|curb-weight|engine-size|bore|stroke|compression-ratio|horsepower|peak-rpm|city-mpg|highway-mpg|  price|make_num|fuel-type_num|aspiration_num|num-of-doors_num|body-style_num|drive-wheels_num|engine-location_num|engine-type_num|num-of-cylinders_num|fuel-system_num|\n",
      "+---------+-----------------+----------+------+-----+------+-----------+-----------+----+------+-----------------+----------+--------+--------+-----------+-------+--------+-------------+--------------+----------------+--------------+----------------+-------------------+---------------+--------------------+---------------+\n",
      "|        3|             null|      88.6| 168.8| 64.1|  48.8|       2548|        130|3.47|  2.68|              9.0|     111.0|  5000.0|      21|         27|13495.0|    17.0|          0.0|           0.0|             1.0|           4.0|             1.0|                0.0|            3.0|                 0.0|            0.0|\n",
      "|        3|             null|      88.6| 168.8| 64.1|  48.8|       2548|        130|3.47|  2.68|              9.0|     111.0|  5000.0|      21|         27|16500.0|    17.0|          0.0|           0.0|             1.0|           4.0|             1.0|                0.0|            3.0|                 0.0|            0.0|\n",
      "|        1|             null|      94.5| 171.2| 65.5|  52.4|       2823|        152|2.68|  3.47|              9.0|     154.0|  5000.0|      19|         26|16500.0|    17.0|          0.0|           0.0|             1.0|           1.0|             1.0|                0.0|            2.0|                 1.0|            0.0|\n",
      "|        2|            164.0|      99.8| 176.6| 66.2|  54.3|       2337|        109|3.19|   3.4|             10.0|     102.0|  5500.0|      24|         30|13950.0|    12.0|          0.0|           0.0|             0.0|           0.0|             0.0|                0.0|            0.0|                 0.0|            0.0|\n",
      "|        2|            164.0|      99.4| 176.6| 66.4|  54.3|       2824|        136|3.19|   3.4|              8.0|     115.0|  5500.0|      18|         22|17450.0|    12.0|          0.0|           0.0|             0.0|           0.0|             2.0|                0.0|            0.0|                 2.0|            0.0|\n",
      "+---------+-----------------+----------+------+-----+------+-----------+-----------+----+------+-----------------+----------+--------+--------+-----------+-------+--------+-------------+--------------+----------------+--------------+----------------+-------------------+---------------+--------------------+---------------+\n",
      "only showing top 5 rows\n",
      "\n"
     ]
    }
   ],
   "source": [
    "df_auto_spark.show(5)"
   ]
  }
 ],
 "metadata": {
  "kernelspec": {
   "display_name": "Python 3 (ipykernel)",
   "language": "python",
   "name": "python3"
  },
  "language_info": {
   "codemirror_mode": {
    "name": "ipython",
    "version": 3
   },
   "file_extension": ".py",
   "mimetype": "text/x-python",
   "name": "python",
   "nbconvert_exporter": "python",
   "pygments_lexer": "ipython3",
   "version": "3.9.7"
  },
  "toc": {
   "base_numbering": 1,
   "nav_menu": {},
   "number_sections": true,
   "sideBar": true,
   "skip_h1_title": false,
   "title_cell": "Table of Contents",
   "title_sidebar": "Contents",
   "toc_cell": false,
   "toc_position": {
    "height": "calc(100% - 180px)",
    "left": "10px",
    "top": "150px",
    "width": "165px"
   },
   "toc_section_display": true,
   "toc_window_display": true
  },
  "varInspector": {
   "cols": {
    "lenName": 16,
    "lenType": 16,
    "lenVar": 40
   },
   "kernels_config": {
    "python": {
     "delete_cmd_postfix": "",
     "delete_cmd_prefix": "del ",
     "library": "var_list.py",
     "varRefreshCmd": "print(var_dic_list())"
    },
    "r": {
     "delete_cmd_postfix": ") ",
     "delete_cmd_prefix": "rm(",
     "library": "var_list.r",
     "varRefreshCmd": "cat(var_dic_list()) "
    }
   },
   "types_to_exclude": [
    "module",
    "function",
    "builtin_function_or_method",
    "instance",
    "_Feature"
   ],
   "window_display": false
  }
 },
 "nbformat": 4,
 "nbformat_minor": 5
}
