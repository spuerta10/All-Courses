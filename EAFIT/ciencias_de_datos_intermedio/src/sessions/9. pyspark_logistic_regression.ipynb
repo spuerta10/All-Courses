{
 "cells": [
  {
   "cell_type": "code",
   "execution_count": 122,
   "metadata": {},
   "outputs": [],
   "source": [
    "from pyspark.sql import SparkSession\n",
    "from pyspark.ml.feature import StringIndexer, VectorAssembler, StandardScaler\n",
    "from pyspark.sql.types import StructType, StructField, StringType, LongType, DoubleType, IntegerType, DateType #tipos de datos para elaboracion del schema\n",
    "from pyspark.ml.classification import LogisticRegression\n",
    "from pyspark.sql.functions import lit\n",
    "from pyspark.ml.evaluation import BinaryClassificationEvaluator"
   ]
  },
  {
   "cell_type": "code",
   "execution_count": 89,
   "metadata": {},
   "outputs": [],
   "source": [
    "spark = SparkSession.builder.appName(\"session\").getOrCreate() #creando la sesion de spark"
   ]
  },
  {
   "cell_type": "code",
   "execution_count": 90,
   "metadata": {},
   "outputs": [],
   "source": [
    "#funcion que retorna PySpark Schema (lista de schemas de las columnas)\n",
    "def schema(cols_schema: dict) -> StructType:\n",
    "    \"\"\"Define the schema of the dataframe\n",
    "\n",
    "    Args:\n",
    "        cols_schema (dict): Dictionary with the columns and its types\n",
    "\n",
    "    Returns:\n",
    "        StructType: Schema of the dataframe\n",
    "    \"\"\"\n",
    "    return StructType([StructField(key,\n",
    "                                cols_schema[key][0],\n",
    "                                cols_schema[key][1]) for key in cols_schema.keys()])"
   ]
  },
  {
   "cell_type": "code",
   "execution_count": 91,
   "metadata": {},
   "outputs": [],
   "source": [
    "#definiendo el esquema del set de datos\n",
    "schema = StructType(\n",
    "    [\n",
    "        StructField(\"person_age\",DoubleType(),True),\n",
    "        StructField(\"person_income\",DoubleType(),True),\n",
    "        StructField(\"person_home_ownership\",StringType(),True),\n",
    "        StructField(\"person_emp_length\",DoubleType(),True),\n",
    "        StructField(\"loan_intent\",StringType(),True),\n",
    "        StructField(\"loan_grade\",StringType(),True),\n",
    "        StructField(\"loan_amnt\",DoubleType(), True),\n",
    "        StructField(\"loan_int_rate\",DoubleType(), True),\n",
    "        StructField(\"loan_status\",DoubleType(), True),\n",
    "        StructField(\"loan_percent_income\",DoubleType(), True),\n",
    "        StructField(\"cb_person_default_on_file\",StringType(), True),\n",
    "        StructField(\"cb_person_cred_hist_length\",DoubleType(),True),\n",
    "    ]\n",
    ")"
   ]
  },
  {
   "cell_type": "code",
   "execution_count": 92,
   "metadata": {},
   "outputs": [],
   "source": [
    "df = spark.read.csv(\"./creditInfo.csv\", header=True, sep = \",\", schema = schema)"
   ]
  },
  {
   "cell_type": "code",
   "execution_count": 93,
   "metadata": {},
   "outputs": [],
   "source": [
    "cat_columns = [column for column, type in df.dtypes if type in ['string']]"
   ]
  },
  {
   "cell_type": "code",
   "execution_count": 94,
   "metadata": {},
   "outputs": [],
   "source": [
    "num_data = df\n",
    "for cat in cat_columns:\n",
    "    encoder = StringIndexer(inputCol=cat, outputCol=f\"num_{cat}\")\n",
    "    num_data = encoder.fit(num_data).transform(num_data)"
   ]
  },
  {
   "cell_type": "code",
   "execution_count": 95,
   "metadata": {},
   "outputs": [],
   "source": [
    "num_data = num_data.dropna()"
   ]
  },
  {
   "cell_type": "code",
   "execution_count": 96,
   "metadata": {},
   "outputs": [],
   "source": [
    "num_cols = [column for column, type in num_data.dtypes if type in ['double'] and column != \"loan_grade\"]\n",
    "df_assembled = VectorAssembler(inputCols = num_cols, outputCol=\"features\").transform(num_data)"
   ]
  },
  {
   "cell_type": "code",
   "execution_count": 97,
   "metadata": {},
   "outputs": [],
   "source": [
    "scaler = StandardScaler(inputCol=\"features\",\n",
    "                        outputCol=\"features_scaled\",\n",
    "                        withMean=True,\n",
    "                        withStd=True)"
   ]
  },
  {
   "cell_type": "code",
   "execution_count": 98,
   "metadata": {},
   "outputs": [
    {
     "name": "stdout",
     "output_type": "stream",
     "text": [
      "+----------+-------------+---------------------+-----------------+-----------+----------+---------+-------------+-----------+-------------------+-------------------------+--------------------------+-------------------------+---------------+--------------+-----------------------------+--------------------+--------------------+\n",
      "|person_age|person_income|person_home_ownership|person_emp_length|loan_intent|loan_grade|loan_amnt|loan_int_rate|loan_status|loan_percent_income|cb_person_default_on_file|cb_person_cred_hist_length|num_person_home_ownership|num_loan_intent|num_loan_grade|num_cb_person_default_on_file|            features|     features_scaled|\n",
      "+----------+-------------+---------------------+-----------------+-----------+----------+---------+-------------+-----------+-------------------+-------------------------+--------------------------+-------------------------+---------------+--------------+-----------------------------+--------------------+--------------------+\n",
      "|      22.0|      59000.0|                 RENT|            123.0|   PERSONAL|         D|  35000.0|        16.02|        1.0|               0.59|                        Y|                       3.0|                      0.0|            3.0|           3.0|                          1.0|[22.0,59000.0,123...|[-0.9075777212863...|\n",
      "|      21.0|       9600.0|                  OWN|              5.0|  EDUCATION|         B|   1000.0|        11.14|        0.0|                0.1|                        N|                       2.0|                      2.0|            0.0|           1.0|                          0.0|[21.0,9600.0,5.0,...|[-1.0660452536136...|\n",
      "|      25.0|       9600.0|             MORTGAGE|              1.0|    MEDICAL|         C|   5500.0|        12.87|        1.0|               0.57|                        N|                       3.0|                      1.0|            1.0|           2.0|                          0.0|[25.0,9600.0,1.0,...|[-0.4321751243043...|\n",
      "|      23.0|      65500.0|                 RENT|              4.0|    MEDICAL|         C|  35000.0|        15.23|        1.0|               0.53|                        N|                       2.0|                      0.0|            1.0|           2.0|                          0.0|[23.0,65500.0,4.0...|[-0.7491101889590...|\n",
      "|      24.0|      54400.0|                 RENT|              8.0|    MEDICAL|         C|  35000.0|        14.27|        1.0|               0.55|                        Y|                       4.0|                      0.0|            1.0|           2.0|                          1.0|[24.0,54400.0,8.0...|[-0.5906426566317...|\n",
      "+----------+-------------+---------------------+-----------------+-----------+----------+---------+-------------+-----------+-------------------+-------------------------+--------------------------+-------------------------+---------------+--------------+-----------------------------+--------------------+--------------------+\n",
      "only showing top 5 rows\n",
      "\n"
     ]
    }
   ],
   "source": [
    "normalized = scaler.fit(df_assembled).transform(df_assembled)\n",
    "normalized.show(5)"
   ]
  },
  {
   "cell_type": "code",
   "execution_count": 99,
   "metadata": {},
   "outputs": [],
   "source": [
    "train, test = normalized.randomSplit([0.8, 0.2])"
   ]
  },
  {
   "cell_type": "code",
   "execution_count": 103,
   "metadata": {},
   "outputs": [],
   "source": [
    "lr = LogisticRegression(maxIter=10, regParam=0.3, elasticNetParam=0.8, featuresCol = \"features_scaled\", labelCol = \"num_loan_grade\")\n",
    "lr_model = lr.fit(train)"
   ]
  },
  {
   "cell_type": "code",
   "execution_count": 117,
   "metadata": {},
   "outputs": [],
   "source": [
    "#predicciones del modelo\n",
    "predict = lr_model.transform(test)"
   ]
  },
  {
   "cell_type": "code",
   "execution_count": 125,
   "metadata": {},
   "outputs": [
    {
     "data": {
      "text/plain": [
       "DataFrame[prediction: double]"
      ]
     },
     "execution_count": 125,
     "metadata": {},
     "output_type": "execute_result"
    }
   ],
   "source": [
    "predict.select(\"prediction\")"
   ]
  },
  {
   "cell_type": "code",
   "execution_count": 127,
   "metadata": {},
   "outputs": [
    {
     "name": "stdout",
     "output_type": "stream",
     "text": [
      "AUC score is: 0.8889600409836065\n"
     ]
    }
   ],
   "source": [
    "#evaluacion del modelo\n",
    "eval = BinaryClassificationEvaluator(rawPredictionCol=\"prediction\", labelCol=\"num_loan_grade\")  \n",
    "predict.select(\"num_loan_grade\", \"prediction\")  \n",
    "AUC = eval.evaluate(predict)\n",
    "print(f\"AUC score is: {AUC}\")"
   ]
  }
 ],
 "metadata": {
  "kernelspec": {
   "display_name": "Python 3.9.13 64-bit (microsoft store)",
   "language": "python",
   "name": "python3"
  },
  "language_info": {
   "codemirror_mode": {
    "name": "ipython",
    "version": 3
   },
   "file_extension": ".py",
   "mimetype": "text/x-python",
   "name": "python",
   "nbconvert_exporter": "python",
   "pygments_lexer": "ipython3",
   "version": "3.9.13"
  },
  "orig_nbformat": 4,
  "vscode": {
   "interpreter": {
    "hash": "4b5f06bd50d7817547348b63c182d0d1cbac86248b3a5b27901e5974acced38f"
   }
  }
 },
 "nbformat": 4,
 "nbformat_minor": 2
}
