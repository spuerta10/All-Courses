{
 "cells": [
  {
   "cell_type": "markdown",
   "id": "a1c82e62",
   "metadata": {},
   "source": [
    "El presente notebook contiene una limpieza de los datos con el fin de un posterior uso en un modelo."
   ]
  },
  {
   "cell_type": "code",
   "execution_count": 468,
   "id": "3c2b7abe",
   "metadata": {},
   "outputs": [],
   "source": [
    "import pandas as pd\n",
    "import numpy as np\n",
    "from os import path, getcwd\n",
    "from typing import Dict\n"
   ]
  },
  {
   "cell_type": "code",
   "execution_count": 469,
   "id": "bef77e72",
   "metadata": {},
   "outputs": [],
   "source": [
    "df= pd.read_excel('./data/Caso 01 - Cobranza Sector Financiero.xlsx')"
   ]
  },
  {
   "cell_type": "code",
   "execution_count": 470,
   "id": "a30d855d",
   "metadata": {},
   "outputs": [],
   "source": [
    "import findspark\n",
    "findspark.init()"
   ]
  },
  {
   "cell_type": "code",
   "execution_count": 471,
   "id": "7e072558",
   "metadata": {},
   "outputs": [
    {
     "data": {
      "text/html": [
       "<style>pre { white-space: pre !important; }</style>"
      ],
      "text/plain": [
       "<IPython.core.display.HTML object>"
      ]
     },
     "metadata": {},
     "output_type": "display_data"
    }
   ],
   "source": [
    "from pyspark.sql import SparkSession\n",
    "from IPython.core.display import HTML\n",
    "\n",
    "display(HTML(\"<style>pre { white-space: pre !important; }</style>\"))"
   ]
  },
  {
   "cell_type": "code",
   "execution_count": 472,
   "id": "e7495ad3",
   "metadata": {},
   "outputs": [],
   "source": [
    "from pyspark.sql.types import StructType, StructField, IntegerType, StringType, FloatType, DoubleType , LongType, DateType\n",
    "from pyspark.sql.functions import col, desc, asc, isnan, when, count, avg, min, max"
   ]
  },
  {
   "cell_type": "code",
   "execution_count": 473,
   "id": "ea4fdcc5",
   "metadata": {},
   "outputs": [],
   "source": [
    "spark = SparkSession.builder.appName(\"PysparkSession\")\\\n",
    "                            .config(\"spark.shuffle.sql.partitions\", 5)\\\n",
    "                            .getOrCreate()"
   ]
  },
  {
   "cell_type": "code",
   "execution_count": 474,
   "id": "3c3b53fc",
   "metadata": {},
   "outputs": [
    {
     "data": {
      "text/html": [
       "\n",
       "            <div>\n",
       "                <p><b>SparkSession - in-memory</b></p>\n",
       "                \n",
       "        <div>\n",
       "            <p><b>SparkContext</b></p>\n",
       "\n",
       "            <p><a href=\"http://10.161.34.248:4040\">Spark UI</a></p>\n",
       "\n",
       "            <dl>\n",
       "              <dt>Version</dt>\n",
       "                <dd><code>v3.2.2</code></dd>\n",
       "              <dt>Master</dt>\n",
       "                <dd><code>local[*]</code></dd>\n",
       "              <dt>AppName</dt>\n",
       "                <dd><code>PysparkSession</code></dd>\n",
       "            </dl>\n",
       "        </div>\n",
       "        \n",
       "            </div>\n",
       "        "
      ],
      "text/plain": [
       "<pyspark.sql.session.SparkSession at 0x1a46c35cd60>"
      ]
     },
     "execution_count": 474,
     "metadata": {},
     "output_type": "execute_result"
    }
   ],
   "source": [
    "spark"
   ]
  },
  {
   "cell_type": "code",
   "execution_count": 475,
   "id": "b57a755d",
   "metadata": {},
   "outputs": [],
   "source": [
    "file_name='Caso 01 - Cobranza Sector Financiero.xlsx'"
   ]
  },
  {
   "cell_type": "code",
   "execution_count": 476,
   "id": "1d213936",
   "metadata": {},
   "outputs": [],
   "source": [
    "file_base_name: str = file_name.rsplit('.', maxsplit=1)[0]"
   ]
  },
  {
   "cell_type": "code",
   "execution_count": 477,
   "id": "11ddd04a",
   "metadata": {},
   "outputs": [],
   "source": [
    "files_path: str = path.join(getcwd(), 'data')"
   ]
  },
  {
   "cell_type": "code",
   "execution_count": 478,
   "id": "a4f5622e",
   "metadata": {},
   "outputs": [
    {
     "data": {
      "text/plain": [
       "'C:\\\\Users\\\\LENOVO\\\\hackathon\\\\data'"
      ]
     },
     "execution_count": 478,
     "metadata": {},
     "output_type": "execute_result"
    }
   ],
   "source": [
    "files_path"
   ]
  },
  {
   "cell_type": "code",
   "execution_count": 479,
   "id": "e0fe036f",
   "metadata": {},
   "outputs": [],
   "source": [
    "cols_schemas: Dict[str, dict] = {\n",
    "    \"Consecutivo Documento Deudor\": {\n",
    "        \"new_name\": \"consecutivo_documento_deudor\",\n",
    "        \"type\": IntegerType(),\n",
    "        \"nullable\": False\n",
    "    },\n",
    "    \"Nit\": {\n",
    "        \"new_name\": \"nit\",\n",
    "        \"type\": IntegerType(),\n",
    "        \"nullable\": False\n",
    "    },\n",
    "    \"Nombres\": {\n",
    "        \"new_name\": \"nombres\",\n",
    "        \"type\": StringType(),\n",
    "        \"nullable\": True\n",
    "    },\n",
    "    \"Numero Documento\": {\n",
    "        \"new_name\": \"numero_documento\",\n",
    "        \"type\": IntegerType(),\n",
    "        \"nullable\": True\n",
    "    },\n",
    "    \"Tipo De Producto\": {\n",
    "        \"new_name\": \"tipo_producto\",\n",
    "        \"type\": IntegerType(),\n",
    "        \"nullable\": True\n",
    "    },\n",
    "    \"PRODUCTO\": {\n",
    "        \"new_name\": \"producto\",\n",
    "        \"type\": StringType(),\n",
    "        \"nullable\": False\n",
    "    },\n",
    "    \"Valor Obligacion\": {\n",
    "        \"new_name\": \"valor_obligacion\",\n",
    "        \"type\": DoubleType(),\n",
    "        \"nullable\": False\n",
    "    },\n",
    "    \"Valor Vencido\": {\n",
    "        \"new_name\": \"valor_vencido\",\n",
    "        \"type\": DoubleType(),\n",
    "        \"nullable\": False\n",
    "    },\n",
    "    \"Regional\": {\n",
    "        \"new_name\": \"regional\",\n",
    "        \"type\": IntegerType(),\n",
    "        \"nullable\": False\n",
    "    },\n",
    "    \"REGION\": {\n",
    "        \"new_name\": \"region\",\n",
    "        \"type\": StringType(),\n",
    "        \"nullable\": False\n",
    "    },\n",
    "    \"Abogado\": {\n",
    "        \"new_name\": \"abogado\",\n",
    "        \"type\": IntegerType(),\n",
    "        \"nullable\": False\n",
    "    },\n",
    "    \"Dias Mora\": {\n",
    "        \"new_name\": \"dias_mora\",\n",
    "        \"type\": IntegerType(),\n",
    "        \"nullable\": False\n",
    "    },\n",
    "    \"FRANJA\": {\n",
    "        \"new_name\": \"franja\",\n",
    "        \"type\": StringType(),\n",
    "        \"nullable\": False\n",
    "    },\n",
    "    \"Fecha Traslado Para Cobro\": {\n",
    "        \"new_name\": \"fecha_traslado_cobro\",\n",
    "        \"type\": DateType(),\n",
    "        \"nullable\": False\n",
    "    },\n",
    "    \"Fecha Ultima Facturacion\": {\n",
    "        \"new_name\": \"fecha_ultima_facturacion\",\n",
    "        \"type\": DateType(),\n",
    "        \"nullable\": False\n",
    "    },\n",
    "    \"Segmento\": {\n",
    "        \"new_name\": \"segmento\",\n",
    "        \"type\": StringType(),\n",
    "        \"nullable\": False\n",
    "    },\n",
    "    \"Oficina Radicacion\": {\n",
    "        \"new_name\": \"oficina_radicacion\",\n",
    "        \"type\": IntegerType(),\n",
    "        \"nullable\": False\n",
    "    },\n",
    "    \"Red\": {\n",
    "        \"new_name\": \"red\",\n",
    "        \"type\": IntegerType(),\n",
    "        \"nullable\": False\n",
    "    },\n",
    "    \"Cuadrante\": {\n",
    "        \"new_name\": \"cuadrante\",\n",
    "        \"type\": StringType(),\n",
    "        \"nullable\": False\n",
    "    },\n",
    "    \"Descripcion Causal\": {\n",
    "        \"new_name\": \"descripcion_causal\",\n",
    "        \"type\": StringType(),\n",
    "        \"nullable\": False\n",
    "    },\n",
    "    \"Calificacion Real\": {\n",
    "        \"new_name\": \"calificacion_real\",\n",
    "        \"type\": IntegerType(),\n",
    "        \"nullable\": False\n",
    "    },\n",
    "    \"Fecha De Perfeccionamiento\": {\n",
    "        \"new_name\": \"fecha_Perfeccionamiento\",\n",
    "        \"type\": DateType(),\n",
    "        \"nullable\": False\n",
    "    },\n",
    "    \"Endeudamiento\": {\n",
    "        \"new_name\": \"endeudamiento\",\n",
    "        \"type\": FloatType(),\n",
    "        \"nullable\": False\n",
    "    },\n",
    "    \"Rango endeudamiento\": {\n",
    "        \"new_name\": \"rango_endeudamiento\",\n",
    "        \"type\": StringType(),\n",
    "        \"nullable\": False\n",
    "    },\n",
    "    \"Sector Economico\": {\n",
    "        \"new_name\": \"sector_economico\",\n",
    "        \"type\": StringType(),\n",
    "        \"nullable\": False\n",
    "    },\n",
    "    \"Profesion\": {\n",
    "        \"new_name\": \"profesion\",\n",
    "        \"type\": StringType(),\n",
    "        \"nullable\": False\n",
    "    },\n",
    "    \"Ocupacion\": {\n",
    "        \"new_name\": \"ocupacion\",\n",
    "        \"type\": StringType(),\n",
    "        \"nullable\": False\n",
    "    },\n",
    "}"
   ]
  },
  {
   "cell_type": "code",
   "execution_count": 480,
   "id": "f07c4a5c",
   "metadata": {},
   "outputs": [],
   "source": [
    "df: pd.DataFrame = pd.read_excel(path.join(files_path, file_name), engine='openpyxl')"
   ]
  },
  {
   "cell_type": "code",
   "execution_count": 481,
   "id": "43325fb9",
   "metadata": {},
   "outputs": [],
   "source": [
    "csv_path = path.join(files_path, file_base_name + \".csv\")"
   ]
  },
  {
   "cell_type": "code",
   "execution_count": 482,
   "id": "57ece10c",
   "metadata": {},
   "outputs": [],
   "source": [
    "df.to_csv(csv_path, index=False)"
   ]
  },
  {
   "cell_type": "code",
   "execution_count": 483,
   "id": "0d90d862",
   "metadata": {},
   "outputs": [
    {
     "data": {
      "text/plain": [
       "Index(['Consecutivo Documento Deudor', 'Nit', 'Nombres', 'Numero Documento',\n",
       "       'Tipo De Producto', 'PRODUCTO', 'Valor Obligacion', 'Valor Vencido',\n",
       "       'Regional', 'REGION', 'Abogado', 'Dias Mora', 'FRANJA',\n",
       "       'Fecha Traslado Para Cobro', 'Fecha Ultima Facturacion', 'Segmento',\n",
       "       'Oficina Radicacion', 'Red', 'Cuadrante', 'Descripcion Causal',\n",
       "       'Calificacion Real', 'Fecha De Perfeccionamiento', 'Endeudamiento',\n",
       "       'Rango endeudamiento', 'Sector Economico', 'Profesion', 'Ocupacion'],\n",
       "      dtype='object')"
      ]
     },
     "execution_count": 483,
     "metadata": {},
     "output_type": "execute_result"
    }
   ],
   "source": [
    "df.columns"
   ]
  },
  {
   "cell_type": "code",
   "execution_count": 484,
   "id": "7fbcb588",
   "metadata": {},
   "outputs": [],
   "source": [
    "del df"
   ]
  },
  {
   "cell_type": "code",
   "execution_count": 485,
   "id": "aff70932",
   "metadata": {},
   "outputs": [],
   "source": [
    "def schema() -> StructType:\n",
    "    return StructType([\n",
    "        StructField(cols_schemas[key]['new_name'], \n",
    "                    cols_schemas[key][\"type\"], \n",
    "                    cols_schemas[key][\"nullable\"]) \n",
    "        for key in cols_schemas.keys()\n",
    "    ])"
   ]
  },
  {
   "cell_type": "code",
   "execution_count": 486,
   "id": "5f762c72",
   "metadata": {},
   "outputs": [],
   "source": [
    "df_spark = spark.read.format('csv')\\\n",
    "                     .options(header='True') \\\n",
    "                     .option('delimiter', ',') \\\n",
    "                     .schema(schema())\\\n",
    "                     .csv(csv_path)"
   ]
  },
  {
   "cell_type": "code",
   "execution_count": 487,
   "id": "c26f8094",
   "metadata": {},
   "outputs": [
    {
     "name": "stdout",
     "output_type": "stream",
     "text": [
      "root\n",
      " |-- consecutivo_documento_deudor: integer (nullable = true)\n",
      " |-- nit: integer (nullable = true)\n",
      " |-- nombres: string (nullable = true)\n",
      " |-- numero_documento: integer (nullable = true)\n",
      " |-- tipo_producto: integer (nullable = true)\n",
      " |-- producto: string (nullable = true)\n",
      " |-- valor_obligacion: double (nullable = true)\n",
      " |-- valor_vencido: double (nullable = true)\n",
      " |-- regional: integer (nullable = true)\n",
      " |-- region: string (nullable = true)\n",
      " |-- abogado: integer (nullable = true)\n",
      " |-- dias_mora: integer (nullable = true)\n",
      " |-- franja: string (nullable = true)\n",
      " |-- fecha_traslado_cobro: date (nullable = true)\n",
      " |-- fecha_ultima_facturacion: date (nullable = true)\n",
      " |-- segmento: string (nullable = true)\n",
      " |-- oficina_radicacion: integer (nullable = true)\n",
      " |-- red: integer (nullable = true)\n",
      " |-- cuadrante: string (nullable = true)\n",
      " |-- descripcion_causal: string (nullable = true)\n",
      " |-- calificacion_real: integer (nullable = true)\n",
      " |-- fecha_Perfeccionamiento: date (nullable = true)\n",
      " |-- endeudamiento: float (nullable = true)\n",
      " |-- rango_endeudamiento: string (nullable = true)\n",
      " |-- sector_economico: string (nullable = true)\n",
      " |-- profesion: string (nullable = true)\n",
      " |-- ocupacion: string (nullable = true)\n",
      "\n"
     ]
    }
   ],
   "source": [
    "df_spark.printSchema()"
   ]
  },
  {
   "cell_type": "code",
   "execution_count": 488,
   "id": "e64c533e",
   "metadata": {},
   "outputs": [
    {
     "name": "stdout",
     "output_type": "stream",
     "text": [
      "+----------------------------+---+-------+----------------+-------------+-------------------+----------------+-------------+--------+---------+-------+---------+------+--------------------+------------------------+-------------+------------------+---+--------------------+--------------------+-----------------+-----------------------+-------------+-------------------+--------------------+-------------+-------------+\n",
      "|consecutivo_documento_deudor|nit|nombres|numero_documento|tipo_producto|           producto|valor_obligacion|valor_vencido|regional|   region|abogado|dias_mora|franja|fecha_traslado_cobro|fecha_ultima_facturacion|     segmento|oficina_radicacion|red|           cuadrante|  descripcion_causal|calificacion_real|fecha_Perfeccionamiento|endeudamiento|rango_endeudamiento|    sector_economico|    profesion|    ocupacion|\n",
      "+----------------------------+---+-------+----------------+-------------+-------------------+----------------+-------------+--------+---------+-------+---------+------+--------------------+------------------------+-------------+------------------+---+--------------------+--------------------+-----------------+-----------------------+-------------+-------------------+--------------------+-------------+-------------+\n",
      "|                    28768192| 18|   null|            null|            3|TARJETAS DE CREDITO|       5637605.0|     152093.0|    2099|   BOGOTA| 109978|       30|   <30|          2015-06-03|              2015-05-29|PERSONAL PLUS|                31|  1|TIENE VOLUNTAD Y ...|           CALAMIDAD|                2|             1978-12-06|    5637605.0|2015-01-01 00:00:00|                null|SIN PROFESION|   SIN OFICIO|\n",
      "|                     2712044| 22|   null|            null|            5|            CONSUMO|         40584.0|      40584.0|    2099|   BOGOTA| 109976|      110|91-120|          2015-06-23|              0001-01-01|PERSONAL PLUS|               461|  1|       SIN CUADRANTE|  SIN CAUSAL DE MORA|                3|             2015-03-11|      40584.0|                <1M|                null|SIN PROFESION|   SIN OFICIO|\n",
      "|                    13587837| 23|   null|            null|            3|TARJETAS DE CREDITO|       2786178.0|     547088.0|    3099|      SUR| 109978|       60| 31-60|          2015-05-31|              2015-06-26|     PERSONAS|               813|  1|TIENE VOLUNTAD Y ...|RETRASO EN PAGO D...|                1|             2003-03-27|    7747280.0|2015-01-01 00:00:00|                null|SIN PROFESION|     JUBILADO|\n",
      "|                    23479925| 46|   null|            null|            3|TARJETAS DE CREDITO|       5904653.0|    1455631.0|    2099|   BOGOTA| 109978|       90| 61-90|          2015-05-31|              2015-06-26|        PYMES|               612|  1|NO TIENE VOLUNTAD...|            DESCUIDO|                1|             1990-09-01|    5904653.0|2015-01-01 00:00:00|                null|SIN PROFESION|   SIN OFICIO|\n",
      "|                     2712382| 92|   null|            null|            5|            CONSUMO|       2221125.0|    2221125.0|    6399|   CENTRO| 109978|       48| 31-60|          2015-05-29|              0001-01-01|PERSONAL PLUS|                57|  1|TIENE VOLUNTAD Y ...|            DESCUIDO|                2|             2015-05-12|    2221125.0|2015-01-01 00:00:00|        AGROPECUARIO|   AGRICULTOR|      TAXISTA|\n",
      "|                     1683416|104|   null|            null|            3|TARJETAS DE CREDITO|        610840.0|     349729.0|    4599|   CARIBE| 109978|       60| 31-60|          2015-05-31|              2015-06-26|PERSONAL PLUS|               516|  1|NO TIENE VOLUNTAD...|INGRESOS INSUFICI...|                0|             1972-10-01|     610840.0|                <1M|MADERAS Y SUS PRO...|     CONTADOR|   SIN OFICIO|\n",
      "|                     4270407|106|   null|            null|            3|TARJETAS DE CREDITO|       1527464.0|    1527464.0|    1099|ANTIOQUIA| 109978|       60| 31-60|          2015-05-01|              2015-06-26|PERSONAL PLUS|                 6|  1|TIENE VOLUNTAD Y ...|            DESCUIDO|                1|             2004-12-03|    1574242.0|2015-01-01 00:00:00|TEXTILES Y CONFEC...|ADMINISTRADOR|   SIN OFICIO|\n",
      "|                    21947686|119|   null|            null|            3|TARJETAS DE CREDITO|       4310924.0|    1239257.0|    2099|   BOGOTA| 109978|       60| 31-60|          2015-05-30|              2015-06-25|PERSONAL PLUS|                54|  1|TIENE VOLUNTAD Y ...|            DESCUIDO|                1|             1998-08-27|    4310924.0|2015-01-01 00:00:00|                null|SIN PROFESION|   SIN OFICIO|\n",
      "|                     2712477|120|   null|            null|            5|            CONSUMO|       1110042.0|    1110042.0|    6199|   CENTRO| 109978|       19|   <30|          2015-06-27|              0001-01-01|    MICROPYME|                88|  1|TIENE VOLUNTAD Y ...|INGRESOS INSUFICI...|                1|             2015-06-10|    8878707.0|2015-01-01 00:00:00|CONSTRUCCION, CEM...|SIN PROFESION|INDEPENDIENTE|\n",
      "|                    19927288|129|   null|            null|            3|TARJETAS DE CREDITO|       5228504.0|     547011.0|    3099|      SUR| 109978|       60| 31-60|          2015-05-23|              2015-06-19|PERSONAL PLUS|               829|  1|TIENE VOLUNTAD Y ...|EXTRACTO NO ENTRE...|                1|             2011-04-29|  1.3101168E7|2015-01-01 00:00:00|                null|SIN PROFESION|   SIN OFICIO|\n",
      "|                    27276578|156|   null|            null|            3|TARJETAS DE CREDITO|       5565488.0|     882256.0|    1099|ANTIOQUIA| 109978|       30|   <30|          2015-06-03|              2015-05-29|PERSONAL PLUS|               430|  1|TIENE VOLUNTAD Y ...|DISMINUCION DE SA...|                2|             2014-05-16|    5565488.0|2015-01-01 00:00:00|                null|SIN PROFESION|   SIN OFICIO|\n",
      "|                    24078684|178|   null|            null|            6|            CONSUMO|       3846462.0|     148001.0|    2099|   BOGOTA| 109970|       32| 31-60|          2015-06-27|              2015-06-26|PERSONAL PLUS|               233|  1|       SIN CUADRANTE|            DESCUIDO|                2|             2013-01-09|    3846462.0|2015-01-01 00:00:00|                null|SIN PROFESION|   SIN OFICIO|\n",
      "|                    27276891|224|   null|            null|            3|TARJETAS DE CREDITO|        874684.0|     874684.0|    2099|   BOGOTA| 109976|      120|91-120|          2015-06-25|              2015-06-19|     PERSONAS|               229|  1|       SIN CUADRANTE|  SIN CAUSAL DE MORA|                2|             2014-05-16|     874684.0|                <1M|                null|SIN PROFESION|   SIN OFICIO|\n",
      "|                    22239451|252|   null|            null|            3|TARJETAS DE CREDITO|       3056330.0|     584128.0|    2099|   BOGOTA| 109978|       30|   <30|          2015-06-28|              2015-06-26|    MICROPYME|                40|  1|       SIN CUADRANTE|  SIN CAUSAL DE MORA|                1|             2008-11-14|    3056330.0|2015-01-01 00:00:00|                null|SIN PROFESION|   SIN OFICIO|\n",
      "|                    25865935|277|   null|            null|            3|TARJETAS DE CREDITO|       1449341.0|     125650.0|    3099|      SUR| 109978|       60| 31-60|          2015-05-23|              2015-06-19|PERSONAL PLUS|               813|  1|TIENE VOLUNTAD Y ...|  RECLAMO EN TRAMITE|                1|             2013-10-09|    6654086.0|2015-01-01 00:00:00|                null|SIN PROFESION|   SIN OFICIO|\n",
      "|                    20431067|291|   null|            null|            3|TARJETAS DE CREDITO|       4249842.0|    4249842.0|    2099|   BOGOTA| 109976|      120|91-120|          2015-06-03|              2015-05-29|PERSONAL PLUS|               201|  1|TIENE VOLUNTAD Y ...|INGRESOS INSUFICI...|                2|             2010-03-16|    4277895.0|2015-01-01 00:00:00|SERVICIOS FINANCI...|     PROFESOR|INDEPENDIENTE|\n",
      "|                     1930041|306|   null|            null|            3|TARJETAS DE CREDITO|       2985123.0|     240968.0|    2099|   BOGOTA| 109978|       30|   <30|          2015-06-28|              2015-06-26|PERSONAL PLUS|               223|  1|TIENE VOLUNTAD Y ...|            DESCUIDO|                2|             2003-06-06|    4502557.0|2015-01-01 00:00:00|  SERVICIOS PUBLICOS|ADMINISTRADOR|     JUBILADO|\n",
      "|                    29240426|306|   null|            null|            3|TARJETAS DE CREDITO|        671155.0|      74622.0|    2099|   BOGOTA| 109978|       30|   <30|          2015-06-28|              2015-06-26|PERSONAL PLUS|               223|  1|TIENE VOLUNTAD Y ...|            DESCUIDO|                2|             2001-04-03|    4502557.0|2015-01-01 00:00:00|  SERVICIOS PUBLICOS|ADMINISTRADOR|     JUBILADO|\n",
      "|                    21362395|310|   null|            null|            3|TARJETAS DE CREDITO|       9798237.0|    3187717.0|    2099|   BOGOTA| 109978|       60| 31-60|          2015-06-27|              2015-06-25|        PYMES|                35|  1|TIENE VOLUNTAD Y ...|  CUENTAS POR COBRAR|                3|             1994-09-01|  4.8463048E7|              15-50|                null|SIN PROFESION|   SIN OFICIO|\n",
      "|                    17682668|310|   null|            null|            4|            CONSUMO|     2.0167562E7|    5764921.0|    2099|   BOGOTA| 109978|       73| 61-90|          2015-06-08|              2015-06-26|        PYMES|                35|  1|TIENE VOLUNTAD Y ...|  CUENTAS POR COBRAR|                3|             2011-03-18|  4.8463048E7|              15-50|                null|SIN PROFESION|   SIN OFICIO|\n",
      "+----------------------------+---+-------+----------------+-------------+-------------------+----------------+-------------+--------+---------+-------+---------+------+--------------------+------------------------+-------------+------------------+---+--------------------+--------------------+-----------------+-----------------------+-------------+-------------------+--------------------+-------------+-------------+\n",
      "only showing top 20 rows\n",
      "\n"
     ]
    }
   ],
   "source": [
    "df_spark.show()"
   ]
  },
  {
   "cell_type": "code",
   "execution_count": 489,
   "id": "d1a4cd22",
   "metadata": {},
   "outputs": [
    {
     "name": "stdout",
     "output_type": "stream",
     "text": [
      "+----------------------------+---+-------+----------------+-------------+--------+----------------+-------------+--------+------+-------+---------+------+--------------------+------------------------+--------+------------------+---+---------+------------------+-----------------+-----------------------+-------------+-------------------+----------------+---------+---------+\n",
      "|consecutivo_documento_deudor|nit|nombres|numero_documento|tipo_producto|producto|valor_obligacion|valor_vencido|regional|region|abogado|dias_mora|franja|fecha_traslado_cobro|fecha_ultima_facturacion|segmento|oficina_radicacion|red|cuadrante|descripcion_causal|calificacion_real|fecha_Perfeccionamiento|endeudamiento|rango_endeudamiento|sector_economico|profesion|ocupacion|\n",
      "+----------------------------+---+-------+----------------+-------------+--------+----------------+-------------+--------+------+-------+---------+------+--------------------+------------------------+--------+------------------+---+---------+------------------+-----------------+-----------------------+-------------+-------------------+----------------+---------+---------+\n",
      "|                           0|  0|  89247|           89247|            0|       0|               0|            0|       0|     0|      0|        0|     0|                   7|                    8859|       9|                 0|  0|     1500|               285|                0|                      0|            0|                  0|           50701|      587|      185|\n",
      "+----------------------------+---+-------+----------------+-------------+--------+----------------+-------------+--------+------+-------+---------+------+--------------------+------------------------+--------+------------------+---+---------+------------------+-----------------+-----------------------+-------------+-------------------+----------------+---------+---------+\n",
      "\n"
     ]
    }
   ],
   "source": [
    "from pyspark.sql.functions import col, desc, asc, isnan, when, count, avg, min, max\n",
    "\n",
    "df_spark.select([\n",
    "    count(when(col(column).isNull(), column)).alias(column) for column in df_spark.columns   \n",
    "]).show()"
   ]
  },
  {
   "cell_type": "code",
   "execution_count": 490,
   "id": "dbd83599",
   "metadata": {},
   "outputs": [],
   "source": [
    "drop_cols = ['nit', 'nombres', 'numero_documento', 'sector_economico']"
   ]
  },
  {
   "cell_type": "code",
   "execution_count": 491,
   "id": "db1371ca",
   "metadata": {},
   "outputs": [],
   "source": [
    "df_spark_new = df_spark"
   ]
  },
  {
   "cell_type": "code",
   "execution_count": 492,
   "id": "7666c39c",
   "metadata": {},
   "outputs": [],
   "source": [
    "for col in drop_cols:\n",
    "    df_spark_new = df_spark_new.drop(col)"
   ]
  },
  {
   "cell_type": "code",
   "execution_count": 493,
   "id": "b63ac9ab",
   "metadata": {},
   "outputs": [],
   "source": [
    "clean_cols = [\"fecha_ultima_facturacion\", 'fecha_traslado_cobro', 'segmento', 'producto', 'region']"
   ]
  },
  {
   "cell_type": "code",
   "execution_count": 494,
   "id": "9abd7342",
   "metadata": {},
   "outputs": [],
   "source": [
    "for col in clean_cols:\n",
    "    df_spark_new = df_spark_new.na.drop(subset = [col], how = \"all\")"
   ]
  },
  {
   "cell_type": "code",
   "execution_count": 495,
   "id": "15e297a0",
   "metadata": {},
   "outputs": [
    {
     "name": "stdout",
     "output_type": "stream",
     "text": [
      "+----------------------------+-------------+--------+----------------+-------------+--------+------+-------+---------+------+--------------------+------------------------+--------+------------------+---+---------+------------------+-----------------+-----------------------+-------------+-------------------+---------+---------+\n",
      "|consecutivo_documento_deudor|tipo_producto|producto|valor_obligacion|valor_vencido|regional|region|abogado|dias_mora|franja|fecha_traslado_cobro|fecha_ultima_facturacion|segmento|oficina_radicacion|red|cuadrante|descripcion_causal|calificacion_real|fecha_Perfeccionamiento|endeudamiento|rango_endeudamiento|profesion|ocupacion|\n",
      "+----------------------------+-------------+--------+----------------+-------------+--------+------+-------+---------+------+--------------------+------------------------+--------+------------------+---+---------+------------------+-----------------+-----------------------+-------------+-------------------+---------+---------+\n",
      "|                           0|            0|       0|               0|            0|       0|     0|      0|        0|     0|                   0|                       0|       0|                 0|  0|     1463|               263|                0|                      0|            0|                  0|      521|      134|\n",
      "+----------------------------+-------------+--------+----------------+-------------+--------+------+-------+---------+------+--------------------+------------------------+--------+------------------+---+---------+------------------+-----------------+-----------------------+-------------+-------------------+---------+---------+\n",
      "\n"
     ]
    }
   ],
   "source": [
    "from pyspark.sql.functions import col, desc, asc, isnan, when, count, avg, min, max\n",
    "\n",
    "df_spark_new.select([\n",
    "    count(when(col(column).isNull(), column)).alias(column) for column in df_spark_new.columns   \n",
    "]).show()"
   ]
  },
  {
   "cell_type": "code",
   "execution_count": 496,
   "id": "fe4662ff",
   "metadata": {},
   "outputs": [
    {
     "name": "stdout",
     "output_type": "stream",
     "text": [
      "+----------------------------+-------------+-------------------+----------------+-------------+--------+---------+-------+---------+------+--------------------+------------------------+-------------+------------------+---+--------------------+--------------------+-----------------+-----------------------+-------------+-------------------+-------------+-------------+\n",
      "|consecutivo_documento_deudor|tipo_producto|           producto|valor_obligacion|valor_vencido|regional|   region|abogado|dias_mora|franja|fecha_traslado_cobro|fecha_ultima_facturacion|     segmento|oficina_radicacion|red|           cuadrante|  descripcion_causal|calificacion_real|fecha_Perfeccionamiento|endeudamiento|rango_endeudamiento|    profesion|    ocupacion|\n",
      "+----------------------------+-------------+-------------------+----------------+-------------+--------+---------+-------+---------+------+--------------------+------------------------+-------------+------------------+---+--------------------+--------------------+-----------------+-----------------------+-------------+-------------------+-------------+-------------+\n",
      "|                    28768192|            3|TARJETAS DE CREDITO|       5637605.0|     152093.0|    2099|   BOGOTA| 109978|       30|   <30|          2015-06-03|              2015-05-29|PERSONAL PLUS|                31|  1|TIENE VOLUNTAD Y ...|           CALAMIDAD|                2|             1978-12-06|    5637605.0|2015-01-01 00:00:00|SIN PROFESION|   SIN OFICIO|\n",
      "|                     2712044|            5|            CONSUMO|         40584.0|      40584.0|    2099|   BOGOTA| 109976|      110|91-120|          2015-06-23|              0001-01-01|PERSONAL PLUS|               461|  1|       SIN CUADRANTE|  SIN CAUSAL DE MORA|                3|             2015-03-11|      40584.0|                <1M|SIN PROFESION|   SIN OFICIO|\n",
      "|                    13587837|            3|TARJETAS DE CREDITO|       2786178.0|     547088.0|    3099|      SUR| 109978|       60| 31-60|          2015-05-31|              2015-06-26|     PERSONAS|               813|  1|TIENE VOLUNTAD Y ...|RETRASO EN PAGO D...|                1|             2003-03-27|    7747280.0|2015-01-01 00:00:00|SIN PROFESION|     JUBILADO|\n",
      "|                    23479925|            3|TARJETAS DE CREDITO|       5904653.0|    1455631.0|    2099|   BOGOTA| 109978|       90| 61-90|          2015-05-31|              2015-06-26|        PYMES|               612|  1|NO TIENE VOLUNTAD...|            DESCUIDO|                1|             1990-09-01|    5904653.0|2015-01-01 00:00:00|SIN PROFESION|   SIN OFICIO|\n",
      "|                     2712382|            5|            CONSUMO|       2221125.0|    2221125.0|    6399|   CENTRO| 109978|       48| 31-60|          2015-05-29|              0001-01-01|PERSONAL PLUS|                57|  1|TIENE VOLUNTAD Y ...|            DESCUIDO|                2|             2015-05-12|    2221125.0|2015-01-01 00:00:00|   AGRICULTOR|      TAXISTA|\n",
      "|                     1683416|            3|TARJETAS DE CREDITO|        610840.0|     349729.0|    4599|   CARIBE| 109978|       60| 31-60|          2015-05-31|              2015-06-26|PERSONAL PLUS|               516|  1|NO TIENE VOLUNTAD...|INGRESOS INSUFICI...|                0|             1972-10-01|     610840.0|                <1M|     CONTADOR|   SIN OFICIO|\n",
      "|                     4270407|            3|TARJETAS DE CREDITO|       1527464.0|    1527464.0|    1099|ANTIOQUIA| 109978|       60| 31-60|          2015-05-01|              2015-06-26|PERSONAL PLUS|                 6|  1|TIENE VOLUNTAD Y ...|            DESCUIDO|                1|             2004-12-03|    1574242.0|2015-01-01 00:00:00|ADMINISTRADOR|   SIN OFICIO|\n",
      "|                    21947686|            3|TARJETAS DE CREDITO|       4310924.0|    1239257.0|    2099|   BOGOTA| 109978|       60| 31-60|          2015-05-30|              2015-06-25|PERSONAL PLUS|                54|  1|TIENE VOLUNTAD Y ...|            DESCUIDO|                1|             1998-08-27|    4310924.0|2015-01-01 00:00:00|SIN PROFESION|   SIN OFICIO|\n",
      "|                     2712477|            5|            CONSUMO|       1110042.0|    1110042.0|    6199|   CENTRO| 109978|       19|   <30|          2015-06-27|              0001-01-01|    MICROPYME|                88|  1|TIENE VOLUNTAD Y ...|INGRESOS INSUFICI...|                1|             2015-06-10|    8878707.0|2015-01-01 00:00:00|SIN PROFESION|INDEPENDIENTE|\n",
      "|                    19927288|            3|TARJETAS DE CREDITO|       5228504.0|     547011.0|    3099|      SUR| 109978|       60| 31-60|          2015-05-23|              2015-06-19|PERSONAL PLUS|               829|  1|TIENE VOLUNTAD Y ...|EXTRACTO NO ENTRE...|                1|             2011-04-29|  1.3101168E7|2015-01-01 00:00:00|SIN PROFESION|   SIN OFICIO|\n",
      "|                    27276578|            3|TARJETAS DE CREDITO|       5565488.0|     882256.0|    1099|ANTIOQUIA| 109978|       30|   <30|          2015-06-03|              2015-05-29|PERSONAL PLUS|               430|  1|TIENE VOLUNTAD Y ...|DISMINUCION DE SA...|                2|             2014-05-16|    5565488.0|2015-01-01 00:00:00|SIN PROFESION|   SIN OFICIO|\n",
      "|                    24078684|            6|            CONSUMO|       3846462.0|     148001.0|    2099|   BOGOTA| 109970|       32| 31-60|          2015-06-27|              2015-06-26|PERSONAL PLUS|               233|  1|       SIN CUADRANTE|            DESCUIDO|                2|             2013-01-09|    3846462.0|2015-01-01 00:00:00|SIN PROFESION|   SIN OFICIO|\n",
      "|                    27276891|            3|TARJETAS DE CREDITO|        874684.0|     874684.0|    2099|   BOGOTA| 109976|      120|91-120|          2015-06-25|              2015-06-19|     PERSONAS|               229|  1|       SIN CUADRANTE|  SIN CAUSAL DE MORA|                2|             2014-05-16|     874684.0|                <1M|SIN PROFESION|   SIN OFICIO|\n",
      "|                    22239451|            3|TARJETAS DE CREDITO|       3056330.0|     584128.0|    2099|   BOGOTA| 109978|       30|   <30|          2015-06-28|              2015-06-26|    MICROPYME|                40|  1|       SIN CUADRANTE|  SIN CAUSAL DE MORA|                1|             2008-11-14|    3056330.0|2015-01-01 00:00:00|SIN PROFESION|   SIN OFICIO|\n",
      "|                    25865935|            3|TARJETAS DE CREDITO|       1449341.0|     125650.0|    3099|      SUR| 109978|       60| 31-60|          2015-05-23|              2015-06-19|PERSONAL PLUS|               813|  1|TIENE VOLUNTAD Y ...|  RECLAMO EN TRAMITE|                1|             2013-10-09|    6654086.0|2015-01-01 00:00:00|SIN PROFESION|   SIN OFICIO|\n",
      "|                    20431067|            3|TARJETAS DE CREDITO|       4249842.0|    4249842.0|    2099|   BOGOTA| 109976|      120|91-120|          2015-06-03|              2015-05-29|PERSONAL PLUS|               201|  1|TIENE VOLUNTAD Y ...|INGRESOS INSUFICI...|                2|             2010-03-16|    4277895.0|2015-01-01 00:00:00|     PROFESOR|INDEPENDIENTE|\n",
      "|                     1930041|            3|TARJETAS DE CREDITO|       2985123.0|     240968.0|    2099|   BOGOTA| 109978|       30|   <30|          2015-06-28|              2015-06-26|PERSONAL PLUS|               223|  1|TIENE VOLUNTAD Y ...|            DESCUIDO|                2|             2003-06-06|    4502557.0|2015-01-01 00:00:00|ADMINISTRADOR|     JUBILADO|\n",
      "|                    29240426|            3|TARJETAS DE CREDITO|        671155.0|      74622.0|    2099|   BOGOTA| 109978|       30|   <30|          2015-06-28|              2015-06-26|PERSONAL PLUS|               223|  1|TIENE VOLUNTAD Y ...|            DESCUIDO|                2|             2001-04-03|    4502557.0|2015-01-01 00:00:00|ADMINISTRADOR|     JUBILADO|\n",
      "|                    21362395|            3|TARJETAS DE CREDITO|       9798237.0|    3187717.0|    2099|   BOGOTA| 109978|       60| 31-60|          2015-06-27|              2015-06-25|        PYMES|                35|  1|TIENE VOLUNTAD Y ...|  CUENTAS POR COBRAR|                3|             1994-09-01|  4.8463048E7|              15-50|SIN PROFESION|   SIN OFICIO|\n",
      "|                    17682668|            4|            CONSUMO|     2.0167562E7|    5764921.0|    2099|   BOGOTA| 109978|       73| 61-90|          2015-06-08|              2015-06-26|        PYMES|                35|  1|TIENE VOLUNTAD Y ...|  CUENTAS POR COBRAR|                3|             2011-03-18|  4.8463048E7|              15-50|SIN PROFESION|   SIN OFICIO|\n",
      "+----------------------------+-------------+-------------------+----------------+-------------+--------+---------+-------+---------+------+--------------------+------------------------+-------------+------------------+---+--------------------+--------------------+-----------------+-----------------------+-------------+-------------------+-------------+-------------+\n",
      "only showing top 20 rows\n",
      "\n"
     ]
    }
   ],
   "source": [
    "df_spark_new.show()"
   ]
  },
  {
   "cell_type": "code",
   "execution_count": 497,
   "id": "eeebbf88",
   "metadata": {},
   "outputs": [],
   "source": [
    "def mode_pyspark(df_spark, list_required):\n",
    "    dic_moda = {}\n",
    "\n",
    "    list_dic = []\n",
    "\n",
    "    for item,_ in df_spark.dtypes:\n",
    "\n",
    "        try:\n",
    "            if item in list_required:\n",
    "                key , value = item+'_Moda', df_spark.filter(col(item).isNotNull()).groupBy(item)\\\n",
    "                                                                                  .count()\\\n",
    "                                                                                  .orderBy(\"count\", ascending=False)\\\n",
    "                                                                                  .collect()[0]\\\n",
    "                                                                                  .__getitem__(item)\n",
    "                dic_moda[key] = value\n",
    "        except:\n",
    "            pass\n",
    "\n",
    "    return dic_moda"
   ]
  },
  {
   "cell_type": "code",
   "execution_count": 498,
   "id": "d2a10fc3",
   "metadata": {},
   "outputs": [],
   "source": [
    "modas=mode_pyspark(df_spark_new, ['cuadrante', 'ocupacion', 'profesion', 'descripcion'])"
   ]
  },
  {
   "cell_type": "code",
   "execution_count": 499,
   "id": "0570c1e7",
   "metadata": {},
   "outputs": [
    {
     "data": {
      "text/plain": [
       "{'cuadrante_Moda': 'TIENE VOLUNTAD Y TIENE CAPACIDAD REDUCIDA',\n",
       " 'profesion_Moda': 'SIN PROFESION',\n",
       " 'ocupacion_Moda': 'SIN OFICIO'}"
      ]
     },
     "execution_count": 499,
     "metadata": {},
     "output_type": "execute_result"
    }
   ],
   "source": [
    "modas"
   ]
  },
  {
   "cell_type": "code",
   "execution_count": 500,
   "id": "2392d481",
   "metadata": {},
   "outputs": [],
   "source": [
    "df_spark_new = df_spark_new.drop('descripcion_causal')"
   ]
  },
  {
   "cell_type": "code",
   "execution_count": 501,
   "id": "f43acde2",
   "metadata": {},
   "outputs": [],
   "source": [
    "df_spark_new = df_spark_new.withColumn(\"cuadrante\", when(df_spark_new[\"cuadrante\"].isNull(), modas['cuadrante_Moda']).otherwise(df_spark_new[\"cuadrante\"]))"
   ]
  },
  {
   "cell_type": "code",
   "execution_count": 502,
   "id": "e6c8fc47",
   "metadata": {},
   "outputs": [],
   "source": [
    "df_spark_new = df_spark_new.withColumn(\"ocupacion\", when(df_spark_new[\"ocupacion\"].isNull(), modas['ocupacion_Moda']).otherwise(df_spark_new[\"ocupacion\"]))"
   ]
  },
  {
   "cell_type": "code",
   "execution_count": 503,
   "id": "cedac06a",
   "metadata": {},
   "outputs": [],
   "source": [
    "df_spark_new = df_spark_new.withColumn(\"profesion\", when(df_spark_new[\"profesion\"].isNull(), modas['profesion_Moda']).otherwise(df_spark_new[\"profesion\"]))"
   ]
  },
  {
   "cell_type": "code",
   "execution_count": 504,
   "id": "7f2031c7",
   "metadata": {},
   "outputs": [
    {
     "name": "stdout",
     "output_type": "stream",
     "text": [
      "+----------------------------+-------------+-------------------+----------------+-------------+--------+---------+-------+---------+------+--------------------+------------------------+-------------+------------------+---+--------------------+-----------------+-----------------------+-------------+-------------------+-------------+-------------+\n",
      "|consecutivo_documento_deudor|tipo_producto|           producto|valor_obligacion|valor_vencido|regional|   region|abogado|dias_mora|franja|fecha_traslado_cobro|fecha_ultima_facturacion|     segmento|oficina_radicacion|red|           cuadrante|calificacion_real|fecha_Perfeccionamiento|endeudamiento|rango_endeudamiento|    profesion|    ocupacion|\n",
      "+----------------------------+-------------+-------------------+----------------+-------------+--------+---------+-------+---------+------+--------------------+------------------------+-------------+------------------+---+--------------------+-----------------+-----------------------+-------------+-------------------+-------------+-------------+\n",
      "|                    28768192|            3|TARJETAS DE CREDITO|       5637605.0|     152093.0|    2099|   BOGOTA| 109978|       30|   <30|          2015-06-03|              2015-05-29|PERSONAL PLUS|                31|  1|TIENE VOLUNTAD Y ...|                2|             1978-12-06|    5637605.0|2015-01-01 00:00:00|SIN PROFESION|   SIN OFICIO|\n",
      "|                     2712044|            5|            CONSUMO|         40584.0|      40584.0|    2099|   BOGOTA| 109976|      110|91-120|          2015-06-23|              0001-01-01|PERSONAL PLUS|               461|  1|       SIN CUADRANTE|                3|             2015-03-11|      40584.0|                <1M|SIN PROFESION|   SIN OFICIO|\n",
      "|                    13587837|            3|TARJETAS DE CREDITO|       2786178.0|     547088.0|    3099|      SUR| 109978|       60| 31-60|          2015-05-31|              2015-06-26|     PERSONAS|               813|  1|TIENE VOLUNTAD Y ...|                1|             2003-03-27|    7747280.0|2015-01-01 00:00:00|SIN PROFESION|     JUBILADO|\n",
      "|                    23479925|            3|TARJETAS DE CREDITO|       5904653.0|    1455631.0|    2099|   BOGOTA| 109978|       90| 61-90|          2015-05-31|              2015-06-26|        PYMES|               612|  1|NO TIENE VOLUNTAD...|                1|             1990-09-01|    5904653.0|2015-01-01 00:00:00|SIN PROFESION|   SIN OFICIO|\n",
      "|                     2712382|            5|            CONSUMO|       2221125.0|    2221125.0|    6399|   CENTRO| 109978|       48| 31-60|          2015-05-29|              0001-01-01|PERSONAL PLUS|                57|  1|TIENE VOLUNTAD Y ...|                2|             2015-05-12|    2221125.0|2015-01-01 00:00:00|   AGRICULTOR|      TAXISTA|\n",
      "|                     1683416|            3|TARJETAS DE CREDITO|        610840.0|     349729.0|    4599|   CARIBE| 109978|       60| 31-60|          2015-05-31|              2015-06-26|PERSONAL PLUS|               516|  1|NO TIENE VOLUNTAD...|                0|             1972-10-01|     610840.0|                <1M|     CONTADOR|   SIN OFICIO|\n",
      "|                     4270407|            3|TARJETAS DE CREDITO|       1527464.0|    1527464.0|    1099|ANTIOQUIA| 109978|       60| 31-60|          2015-05-01|              2015-06-26|PERSONAL PLUS|                 6|  1|TIENE VOLUNTAD Y ...|                1|             2004-12-03|    1574242.0|2015-01-01 00:00:00|ADMINISTRADOR|   SIN OFICIO|\n",
      "|                    21947686|            3|TARJETAS DE CREDITO|       4310924.0|    1239257.0|    2099|   BOGOTA| 109978|       60| 31-60|          2015-05-30|              2015-06-25|PERSONAL PLUS|                54|  1|TIENE VOLUNTAD Y ...|                1|             1998-08-27|    4310924.0|2015-01-01 00:00:00|SIN PROFESION|   SIN OFICIO|\n",
      "|                     2712477|            5|            CONSUMO|       1110042.0|    1110042.0|    6199|   CENTRO| 109978|       19|   <30|          2015-06-27|              0001-01-01|    MICROPYME|                88|  1|TIENE VOLUNTAD Y ...|                1|             2015-06-10|    8878707.0|2015-01-01 00:00:00|SIN PROFESION|INDEPENDIENTE|\n",
      "|                    19927288|            3|TARJETAS DE CREDITO|       5228504.0|     547011.0|    3099|      SUR| 109978|       60| 31-60|          2015-05-23|              2015-06-19|PERSONAL PLUS|               829|  1|TIENE VOLUNTAD Y ...|                1|             2011-04-29|  1.3101168E7|2015-01-01 00:00:00|SIN PROFESION|   SIN OFICIO|\n",
      "|                    27276578|            3|TARJETAS DE CREDITO|       5565488.0|     882256.0|    1099|ANTIOQUIA| 109978|       30|   <30|          2015-06-03|              2015-05-29|PERSONAL PLUS|               430|  1|TIENE VOLUNTAD Y ...|                2|             2014-05-16|    5565488.0|2015-01-01 00:00:00|SIN PROFESION|   SIN OFICIO|\n",
      "|                    24078684|            6|            CONSUMO|       3846462.0|     148001.0|    2099|   BOGOTA| 109970|       32| 31-60|          2015-06-27|              2015-06-26|PERSONAL PLUS|               233|  1|       SIN CUADRANTE|                2|             2013-01-09|    3846462.0|2015-01-01 00:00:00|SIN PROFESION|   SIN OFICIO|\n",
      "|                    27276891|            3|TARJETAS DE CREDITO|        874684.0|     874684.0|    2099|   BOGOTA| 109976|      120|91-120|          2015-06-25|              2015-06-19|     PERSONAS|               229|  1|       SIN CUADRANTE|                2|             2014-05-16|     874684.0|                <1M|SIN PROFESION|   SIN OFICIO|\n",
      "|                    22239451|            3|TARJETAS DE CREDITO|       3056330.0|     584128.0|    2099|   BOGOTA| 109978|       30|   <30|          2015-06-28|              2015-06-26|    MICROPYME|                40|  1|       SIN CUADRANTE|                1|             2008-11-14|    3056330.0|2015-01-01 00:00:00|SIN PROFESION|   SIN OFICIO|\n",
      "|                    25865935|            3|TARJETAS DE CREDITO|       1449341.0|     125650.0|    3099|      SUR| 109978|       60| 31-60|          2015-05-23|              2015-06-19|PERSONAL PLUS|               813|  1|TIENE VOLUNTAD Y ...|                1|             2013-10-09|    6654086.0|2015-01-01 00:00:00|SIN PROFESION|   SIN OFICIO|\n",
      "|                    20431067|            3|TARJETAS DE CREDITO|       4249842.0|    4249842.0|    2099|   BOGOTA| 109976|      120|91-120|          2015-06-03|              2015-05-29|PERSONAL PLUS|               201|  1|TIENE VOLUNTAD Y ...|                2|             2010-03-16|    4277895.0|2015-01-01 00:00:00|     PROFESOR|INDEPENDIENTE|\n",
      "|                     1930041|            3|TARJETAS DE CREDITO|       2985123.0|     240968.0|    2099|   BOGOTA| 109978|       30|   <30|          2015-06-28|              2015-06-26|PERSONAL PLUS|               223|  1|TIENE VOLUNTAD Y ...|                2|             2003-06-06|    4502557.0|2015-01-01 00:00:00|ADMINISTRADOR|     JUBILADO|\n",
      "|                    29240426|            3|TARJETAS DE CREDITO|        671155.0|      74622.0|    2099|   BOGOTA| 109978|       30|   <30|          2015-06-28|              2015-06-26|PERSONAL PLUS|               223|  1|TIENE VOLUNTAD Y ...|                2|             2001-04-03|    4502557.0|2015-01-01 00:00:00|ADMINISTRADOR|     JUBILADO|\n",
      "|                    21362395|            3|TARJETAS DE CREDITO|       9798237.0|    3187717.0|    2099|   BOGOTA| 109978|       60| 31-60|          2015-06-27|              2015-06-25|        PYMES|                35|  1|TIENE VOLUNTAD Y ...|                3|             1994-09-01|  4.8463048E7|              15-50|SIN PROFESION|   SIN OFICIO|\n",
      "|                    17682668|            4|            CONSUMO|     2.0167562E7|    5764921.0|    2099|   BOGOTA| 109978|       73| 61-90|          2015-06-08|              2015-06-26|        PYMES|                35|  1|TIENE VOLUNTAD Y ...|                3|             2011-03-18|  4.8463048E7|              15-50|SIN PROFESION|   SIN OFICIO|\n",
      "+----------------------------+-------------+-------------------+----------------+-------------+--------+---------+-------+---------+------+--------------------+------------------------+-------------+------------------+---+--------------------+-----------------+-----------------------+-------------+-------------------+-------------+-------------+\n",
      "only showing top 20 rows\n",
      "\n"
     ]
    }
   ],
   "source": [
    "df_spark_new.show()"
   ]
  },
  {
   "cell_type": "code",
   "execution_count": 505,
   "id": "b04c114c",
   "metadata": {},
   "outputs": [
    {
     "name": "stdout",
     "output_type": "stream",
     "text": [
      "+----------------------------+-------------+--------+----------------+-------------+--------+------+-------+---------+------+--------------------+------------------------+--------+------------------+---+---------+-----------------+-----------------------+-------------+-------------------+---------+---------+\n",
      "|consecutivo_documento_deudor|tipo_producto|producto|valor_obligacion|valor_vencido|regional|region|abogado|dias_mora|franja|fecha_traslado_cobro|fecha_ultima_facturacion|segmento|oficina_radicacion|red|cuadrante|calificacion_real|fecha_Perfeccionamiento|endeudamiento|rango_endeudamiento|profesion|ocupacion|\n",
      "+----------------------------+-------------+--------+----------------+-------------+--------+------+-------+---------+------+--------------------+------------------------+--------+------------------+---+---------+-----------------+-----------------------+-------------+-------------------+---------+---------+\n",
      "|                           0|            0|       0|               0|            0|       0|     0|      0|        0|     0|                   0|                       0|       0|                 0|  0|        0|                0|                      0|            0|                  0|        0|        0|\n",
      "+----------------------------+-------------+--------+----------------+-------------+--------+------+-------+---------+------+--------------------+------------------------+--------+------------------+---+---------+-----------------+-----------------------+-------------+-------------------+---------+---------+\n",
      "\n"
     ]
    }
   ],
   "source": [
    "from pyspark.sql.functions import col, desc, asc, isnan, when, count, avg, min, max\n",
    "\n",
    "df_spark_new.select([\n",
    "    count(when(col(column).isNull(), column)).alias(column) for column in df_spark_new.columns   \n",
    "]).show()"
   ]
  },
  {
   "cell_type": "code",
   "execution_count": null,
   "id": "d6eb8bf3",
   "metadata": {},
   "outputs": [],
   "source": []
  }
 ],
 "metadata": {
  "kernelspec": {
   "display_name": "Python 3 (ipykernel)",
   "language": "python",
   "name": "python3"
  },
  "language_info": {
   "codemirror_mode": {
    "name": "ipython",
    "version": 3
   },
   "file_extension": ".py",
   "mimetype": "text/x-python",
   "name": "python",
   "nbconvert_exporter": "python",
   "pygments_lexer": "ipython3",
   "version": "3.9.7"
  }
 },
 "nbformat": 4,
 "nbformat_minor": 5
}
