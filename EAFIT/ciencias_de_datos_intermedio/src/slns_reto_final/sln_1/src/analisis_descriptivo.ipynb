{
 "cells": [
  {
   "cell_type": "markdown",
   "id": "4c55c44b",
   "metadata": {},
   "source": [
    "El presente notebook contiene los procesos y métodos llevados a cabo para hacer un análisis descriptivo de las variables. Las conclusiones de esto se pueden ver en la presentación que se adjunta."
   ]
  },
  {
   "cell_type": "code",
   "execution_count": 219,
   "id": "3c2b7abe",
   "metadata": {},
   "outputs": [],
   "source": [
    "import pandas as pd\n",
    "import numpy as np\n",
    "from os import path, getcwd\n",
    "from typing import Dict\n"
   ]
  },
  {
   "cell_type": "code",
   "execution_count": 220,
   "id": "bef77e72",
   "metadata": {},
   "outputs": [],
   "source": [
    "df= pd.read_excel('./data/Caso 01 - Cobranza Sector Financiero.xlsx')"
   ]
  },
  {
   "cell_type": "code",
   "execution_count": 221,
   "id": "a30d855d",
   "metadata": {},
   "outputs": [],
   "source": [
    "import findspark\n",
    "findspark.init()"
   ]
  },
  {
   "cell_type": "code",
   "execution_count": 222,
   "id": "7e072558",
   "metadata": {},
   "outputs": [
    {
     "data": {
      "text/html": [
       "<style>pre { white-space: pre !important; }</style>"
      ],
      "text/plain": [
       "<IPython.core.display.HTML object>"
      ]
     },
     "metadata": {},
     "output_type": "display_data"
    }
   ],
   "source": [
    "from pyspark.sql import SparkSession\n",
    "from IPython.core.display import HTML\n",
    "\n",
    "display(HTML(\"<style>pre { white-space: pre !important; }</style>\"))"
   ]
  },
  {
   "cell_type": "code",
   "execution_count": 223,
   "id": "82e48213",
   "metadata": {},
   "outputs": [],
   "source": [
    "from pyspark.sql.types import StructType, StructField, IntegerType, StringType, FloatType, DoubleType , LongType, DateType\n",
    "from pyspark.sql.functions import col, desc, asc, isnan, when, count, avg, min, max, variance, percentile_approx, stddev"
   ]
  },
  {
   "cell_type": "code",
   "execution_count": 224,
   "id": "ea4fdcc5",
   "metadata": {},
   "outputs": [],
   "source": [
    "spark = SparkSession.builder.appName(\"PysparkSession\")\\\n",
    "                            .config(\"spark.shuffle.sql.partitions\", 5)\\\n",
    "                            .getOrCreate()"
   ]
  },
  {
   "cell_type": "code",
   "execution_count": 225,
   "id": "638901e7",
   "metadata": {},
   "outputs": [
    {
     "data": {
      "text/html": [
       "\n",
       "            <div>\n",
       "                <p><b>SparkSession - in-memory</b></p>\n",
       "                \n",
       "        <div>\n",
       "            <p><b>SparkContext</b></p>\n",
       "\n",
       "            <p><a href=\"http://10.161.34.248:4041\">Spark UI</a></p>\n",
       "\n",
       "            <dl>\n",
       "              <dt>Version</dt>\n",
       "                <dd><code>v3.2.2</code></dd>\n",
       "              <dt>Master</dt>\n",
       "                <dd><code>local[*]</code></dd>\n",
       "              <dt>AppName</dt>\n",
       "                <dd><code>PysparkSession</code></dd>\n",
       "            </dl>\n",
       "        </div>\n",
       "        \n",
       "            </div>\n",
       "        "
      ],
      "text/plain": [
       "<pyspark.sql.session.SparkSession at 0x1dee65654c0>"
      ]
     },
     "execution_count": 225,
     "metadata": {},
     "output_type": "execute_result"
    }
   ],
   "source": [
    "spark"
   ]
  },
  {
   "cell_type": "code",
   "execution_count": 226,
   "id": "b57a755d",
   "metadata": {},
   "outputs": [],
   "source": [
    "file_name='Caso 01 - Cobranza Sector Financiero.xlsx'"
   ]
  },
  {
   "cell_type": "code",
   "execution_count": 227,
   "id": "1d213936",
   "metadata": {},
   "outputs": [],
   "source": [
    "file_base_name: str = file_name.rsplit('.', maxsplit=1)[0]"
   ]
  },
  {
   "cell_type": "code",
   "execution_count": 228,
   "id": "11ddd04a",
   "metadata": {},
   "outputs": [],
   "source": [
    "files_path: str = path.join(getcwd(), 'data')"
   ]
  },
  {
   "cell_type": "code",
   "execution_count": 229,
   "id": "a4f5622e",
   "metadata": {},
   "outputs": [
    {
     "data": {
      "text/plain": [
       "'C:\\\\Users\\\\LENOVO\\\\hackathon\\\\data'"
      ]
     },
     "execution_count": 229,
     "metadata": {},
     "output_type": "execute_result"
    }
   ],
   "source": [
    "files_path"
   ]
  },
  {
   "cell_type": "code",
   "execution_count": 230,
   "id": "e0fe036f",
   "metadata": {},
   "outputs": [],
   "source": [
    "cols_schemas: Dict[str, dict] = {\n",
    "    \"Consecutivo Documento Deudor\": {\n",
    "        \"new_name\": \"consecutivo_documento_deudor\",\n",
    "        \"type\": IntegerType(),\n",
    "        \"nullable\": False\n",
    "    },\n",
    "    \"Nit\": {\n",
    "        \"new_name\": \"nit\",\n",
    "        \"type\": IntegerType(),\n",
    "        \"nullable\": False\n",
    "    },\n",
    "    \"Nombres\": {\n",
    "        \"new_name\": \"nombres\",\n",
    "        \"type\": StringType(),\n",
    "        \"nullable\": True\n",
    "    },\n",
    "    \"Numero Documento\": {\n",
    "        \"new_name\": \"numero_documento\",\n",
    "        \"type\": IntegerType(),\n",
    "        \"nullable\": True\n",
    "    },\n",
    "    \"Tipo De Producto\": {\n",
    "        \"new_name\": \"tipo_producto\",\n",
    "        \"type\": IntegerType(),\n",
    "        \"nullable\": True\n",
    "    },\n",
    "    \"PRODUCTO\": {\n",
    "        \"new_name\": \"producto\",\n",
    "        \"type\": StringType(),\n",
    "        \"nullable\": False\n",
    "    },\n",
    "    \"Valor Obligacion\": {\n",
    "        \"new_name\": \"valor_obligacion\",\n",
    "        \"type\": DoubleType(),\n",
    "        \"nullable\": False\n",
    "    },\n",
    "    \"Valor Vencido\": {\n",
    "        \"new_name\": \"valor_vencido\",\n",
    "        \"type\": DoubleType(),\n",
    "        \"nullable\": False\n",
    "    },\n",
    "    \"Regional\": {\n",
    "        \"new_name\": \"regional\",\n",
    "        \"type\": IntegerType(),\n",
    "        \"nullable\": False\n",
    "    },\n",
    "    \"REGION\": {\n",
    "        \"new_name\": \"region\",\n",
    "        \"type\": StringType(),\n",
    "        \"nullable\": False\n",
    "    },\n",
    "    \"Abogado\": {\n",
    "        \"new_name\": \"abogado\",\n",
    "        \"type\": IntegerType(),\n",
    "        \"nullable\": False\n",
    "    },\n",
    "    \"Dias Mora\": {\n",
    "        \"new_name\": \"dias_mora\",\n",
    "        \"type\": IntegerType(),\n",
    "        \"nullable\": False\n",
    "    },\n",
    "    \"FRANJA\": {\n",
    "        \"new_name\": \"franja\",\n",
    "        \"type\": StringType(),\n",
    "        \"nullable\": False\n",
    "    },\n",
    "    \"Fecha Traslado Para Cobro\": {\n",
    "        \"new_name\": \"fecha_traslado_cobro\",\n",
    "        \"type\": DateType(),\n",
    "        \"nullable\": False\n",
    "    },\n",
    "    \"Fecha Ultima Facturacion\": {\n",
    "        \"new_name\": \"fecha_ultima_facturacion\",\n",
    "        \"type\": DateType(),\n",
    "        \"nullable\": False\n",
    "    },\n",
    "    \"Segmento\": {\n",
    "        \"new_name\": \"segmento\",\n",
    "        \"type\": StringType(),\n",
    "        \"nullable\": False\n",
    "    },\n",
    "    \"Oficina Radicacion\": {\n",
    "        \"new_name\": \"oficina_radicacion\",\n",
    "        \"type\": IntegerType(),\n",
    "        \"nullable\": False\n",
    "    },\n",
    "    \"Red\": {\n",
    "        \"new_name\": \"red\",\n",
    "        \"type\": IntegerType(),\n",
    "        \"nullable\": False\n",
    "    },\n",
    "    \"Cuadrante\": {\n",
    "        \"new_name\": \"cuadrante\",\n",
    "        \"type\": StringType(),\n",
    "        \"nullable\": False\n",
    "    },\n",
    "    \"Descripcion Causal\": {\n",
    "        \"new_name\": \"descripcion_causal\",\n",
    "        \"type\": StringType(),\n",
    "        \"nullable\": False\n",
    "    },\n",
    "    \"Calificacion Real\": {\n",
    "        \"new_name\": \"calificacion_real\",\n",
    "        \"type\": IntegerType(),\n",
    "        \"nullable\": False\n",
    "    },\n",
    "    \"Fecha De Perfeccionamiento\": {\n",
    "        \"new_name\": \"fecha_Perfeccionamiento\",\n",
    "        \"type\": DateType(),\n",
    "        \"nullable\": False\n",
    "    },\n",
    "    \"Endeudamiento\": {\n",
    "        \"new_name\": \"endeudamiento\",\n",
    "        \"type\": FloatType(),\n",
    "        \"nullable\": False\n",
    "    },\n",
    "    \"Rango endeudamiento\": {\n",
    "        \"new_name\": \"rango_endeudamiento\",\n",
    "        \"type\": StringType(),\n",
    "        \"nullable\": False\n",
    "    },\n",
    "    \"Sector Economico\": {\n",
    "        \"new_name\": \"sector_economico\",\n",
    "        \"type\": StringType(),\n",
    "        \"nullable\": False\n",
    "    },\n",
    "    \"Profesion\": {\n",
    "        \"new_name\": \"profesion\",\n",
    "        \"type\": StringType(),\n",
    "        \"nullable\": False\n",
    "    },\n",
    "    \"Ocupacion\": {\n",
    "        \"new_name\": \"ocupacion\",\n",
    "        \"type\": StringType(),\n",
    "        \"nullable\": False\n",
    "    },\n",
    "}"
   ]
  },
  {
   "cell_type": "code",
   "execution_count": 231,
   "id": "f07c4a5c",
   "metadata": {},
   "outputs": [],
   "source": [
    "df: pd.DataFrame = pd.read_excel(path.join(files_path, file_name), engine='openpyxl')"
   ]
  },
  {
   "cell_type": "code",
   "execution_count": 232,
   "id": "43325fb9",
   "metadata": {},
   "outputs": [],
   "source": [
    "csv_path = path.join(files_path, file_base_name + \".csv\")"
   ]
  },
  {
   "cell_type": "code",
   "execution_count": 233,
   "id": "57ece10c",
   "metadata": {},
   "outputs": [],
   "source": [
    "df.to_csv(csv_path, index=False)"
   ]
  },
  {
   "cell_type": "code",
   "execution_count": 234,
   "id": "0d90d862",
   "metadata": {},
   "outputs": [
    {
     "data": {
      "text/plain": [
       "Index(['Consecutivo Documento Deudor', 'Nit', 'Nombres', 'Numero Documento',\n",
       "       'Tipo De Producto', 'PRODUCTO', 'Valor Obligacion', 'Valor Vencido',\n",
       "       'Regional', 'REGION', 'Abogado', 'Dias Mora', 'FRANJA',\n",
       "       'Fecha Traslado Para Cobro', 'Fecha Ultima Facturacion', 'Segmento',\n",
       "       'Oficina Radicacion', 'Red', 'Cuadrante', 'Descripcion Causal',\n",
       "       'Calificacion Real', 'Fecha De Perfeccionamiento', 'Endeudamiento',\n",
       "       'Rango endeudamiento', 'Sector Economico', 'Profesion', 'Ocupacion'],\n",
       "      dtype='object')"
      ]
     },
     "execution_count": 234,
     "metadata": {},
     "output_type": "execute_result"
    }
   ],
   "source": [
    "df.columns"
   ]
  },
  {
   "cell_type": "code",
   "execution_count": 235,
   "id": "7fbcb588",
   "metadata": {},
   "outputs": [],
   "source": [
    "del df"
   ]
  },
  {
   "cell_type": "code",
   "execution_count": 236,
   "id": "aff70932",
   "metadata": {},
   "outputs": [],
   "source": [
    "def schema() -> StructType:\n",
    "    return StructType([\n",
    "        StructField(cols_schemas[key]['new_name'], \n",
    "                    cols_schemas[key][\"type\"], \n",
    "                    cols_schemas[key][\"nullable\"]) \n",
    "        for key in cols_schemas.keys()\n",
    "    ])"
   ]
  },
  {
   "cell_type": "code",
   "execution_count": 237,
   "id": "5f762c72",
   "metadata": {},
   "outputs": [],
   "source": [
    "df_spark = spark.read.format('csv')\\\n",
    "                     .options(header='True') \\\n",
    "                     .option('delimiter', ',') \\\n",
    "                     .schema(schema())\\\n",
    "                     .csv(csv_path)"
   ]
  },
  {
   "cell_type": "code",
   "execution_count": 238,
   "id": "c26f8094",
   "metadata": {},
   "outputs": [
    {
     "name": "stdout",
     "output_type": "stream",
     "text": [
      "root\n",
      " |-- consecutivo_documento_deudor: integer (nullable = true)\n",
      " |-- nit: integer (nullable = true)\n",
      " |-- nombres: string (nullable = true)\n",
      " |-- numero_documento: integer (nullable = true)\n",
      " |-- tipo_producto: integer (nullable = true)\n",
      " |-- producto: string (nullable = true)\n",
      " |-- valor_obligacion: double (nullable = true)\n",
      " |-- valor_vencido: double (nullable = true)\n",
      " |-- regional: integer (nullable = true)\n",
      " |-- region: string (nullable = true)\n",
      " |-- abogado: integer (nullable = true)\n",
      " |-- dias_mora: integer (nullable = true)\n",
      " |-- franja: string (nullable = true)\n",
      " |-- fecha_traslado_cobro: date (nullable = true)\n",
      " |-- fecha_ultima_facturacion: date (nullable = true)\n",
      " |-- segmento: string (nullable = true)\n",
      " |-- oficina_radicacion: integer (nullable = true)\n",
      " |-- red: integer (nullable = true)\n",
      " |-- cuadrante: string (nullable = true)\n",
      " |-- descripcion_causal: string (nullable = true)\n",
      " |-- calificacion_real: integer (nullable = true)\n",
      " |-- fecha_Perfeccionamiento: date (nullable = true)\n",
      " |-- endeudamiento: float (nullable = true)\n",
      " |-- rango_endeudamiento: string (nullable = true)\n",
      " |-- sector_economico: string (nullable = true)\n",
      " |-- profesion: string (nullable = true)\n",
      " |-- ocupacion: string (nullable = true)\n",
      "\n"
     ]
    }
   ],
   "source": [
    "df_spark.printSchema()"
   ]
  },
  {
   "cell_type": "code",
   "execution_count": 239,
   "id": "e64c533e",
   "metadata": {},
   "outputs": [
    {
     "name": "stdout",
     "output_type": "stream",
     "text": [
      "+----------------------------+---+-------+----------------+-------------+-------------------+----------------+-------------+--------+---------+-------+---------+------+--------------------+------------------------+-------------+------------------+---+--------------------+--------------------+-----------------+-----------------------+-------------+-------------------+--------------------+-------------+-------------+\n",
      "|consecutivo_documento_deudor|nit|nombres|numero_documento|tipo_producto|           producto|valor_obligacion|valor_vencido|regional|   region|abogado|dias_mora|franja|fecha_traslado_cobro|fecha_ultima_facturacion|     segmento|oficina_radicacion|red|           cuadrante|  descripcion_causal|calificacion_real|fecha_Perfeccionamiento|endeudamiento|rango_endeudamiento|    sector_economico|    profesion|    ocupacion|\n",
      "+----------------------------+---+-------+----------------+-------------+-------------------+----------------+-------------+--------+---------+-------+---------+------+--------------------+------------------------+-------------+------------------+---+--------------------+--------------------+-----------------+-----------------------+-------------+-------------------+--------------------+-------------+-------------+\n",
      "|                    28768192| 18|   null|            null|            3|TARJETAS DE CREDITO|       5637605.0|     152093.0|    2099|   BOGOTA| 109978|       30|   <30|          2015-06-03|              2015-05-29|PERSONAL PLUS|                31|  1|TIENE VOLUNTAD Y ...|           CALAMIDAD|                2|             1978-12-06|    5637605.0|2015-01-01 00:00:00|                null|SIN PROFESION|   SIN OFICIO|\n",
      "|                     2712044| 22|   null|            null|            5|            CONSUMO|         40584.0|      40584.0|    2099|   BOGOTA| 109976|      110|91-120|          2015-06-23|              0001-01-01|PERSONAL PLUS|               461|  1|       SIN CUADRANTE|  SIN CAUSAL DE MORA|                3|             2015-03-11|      40584.0|                <1M|                null|SIN PROFESION|   SIN OFICIO|\n",
      "|                    13587837| 23|   null|            null|            3|TARJETAS DE CREDITO|       2786178.0|     547088.0|    3099|      SUR| 109978|       60| 31-60|          2015-05-31|              2015-06-26|     PERSONAS|               813|  1|TIENE VOLUNTAD Y ...|RETRASO EN PAGO D...|                1|             2003-03-27|    7747280.0|2015-01-01 00:00:00|                null|SIN PROFESION|     JUBILADO|\n",
      "|                    23479925| 46|   null|            null|            3|TARJETAS DE CREDITO|       5904653.0|    1455631.0|    2099|   BOGOTA| 109978|       90| 61-90|          2015-05-31|              2015-06-26|        PYMES|               612|  1|NO TIENE VOLUNTAD...|            DESCUIDO|                1|             1990-09-01|    5904653.0|2015-01-01 00:00:00|                null|SIN PROFESION|   SIN OFICIO|\n",
      "|                     2712382| 92|   null|            null|            5|            CONSUMO|       2221125.0|    2221125.0|    6399|   CENTRO| 109978|       48| 31-60|          2015-05-29|              0001-01-01|PERSONAL PLUS|                57|  1|TIENE VOLUNTAD Y ...|            DESCUIDO|                2|             2015-05-12|    2221125.0|2015-01-01 00:00:00|        AGROPECUARIO|   AGRICULTOR|      TAXISTA|\n",
      "|                     1683416|104|   null|            null|            3|TARJETAS DE CREDITO|        610840.0|     349729.0|    4599|   CARIBE| 109978|       60| 31-60|          2015-05-31|              2015-06-26|PERSONAL PLUS|               516|  1|NO TIENE VOLUNTAD...|INGRESOS INSUFICI...|                0|             1972-10-01|     610840.0|                <1M|MADERAS Y SUS PRO...|     CONTADOR|   SIN OFICIO|\n",
      "|                     4270407|106|   null|            null|            3|TARJETAS DE CREDITO|       1527464.0|    1527464.0|    1099|ANTIOQUIA| 109978|       60| 31-60|          2015-05-01|              2015-06-26|PERSONAL PLUS|                 6|  1|TIENE VOLUNTAD Y ...|            DESCUIDO|                1|             2004-12-03|    1574242.0|2015-01-01 00:00:00|TEXTILES Y CONFEC...|ADMINISTRADOR|   SIN OFICIO|\n",
      "|                    21947686|119|   null|            null|            3|TARJETAS DE CREDITO|       4310924.0|    1239257.0|    2099|   BOGOTA| 109978|       60| 31-60|          2015-05-30|              2015-06-25|PERSONAL PLUS|                54|  1|TIENE VOLUNTAD Y ...|            DESCUIDO|                1|             1998-08-27|    4310924.0|2015-01-01 00:00:00|                null|SIN PROFESION|   SIN OFICIO|\n",
      "|                     2712477|120|   null|            null|            5|            CONSUMO|       1110042.0|    1110042.0|    6199|   CENTRO| 109978|       19|   <30|          2015-06-27|              0001-01-01|    MICROPYME|                88|  1|TIENE VOLUNTAD Y ...|INGRESOS INSUFICI...|                1|             2015-06-10|    8878707.0|2015-01-01 00:00:00|CONSTRUCCION, CEM...|SIN PROFESION|INDEPENDIENTE|\n",
      "|                    19927288|129|   null|            null|            3|TARJETAS DE CREDITO|       5228504.0|     547011.0|    3099|      SUR| 109978|       60| 31-60|          2015-05-23|              2015-06-19|PERSONAL PLUS|               829|  1|TIENE VOLUNTAD Y ...|EXTRACTO NO ENTRE...|                1|             2011-04-29|  1.3101168E7|2015-01-01 00:00:00|                null|SIN PROFESION|   SIN OFICIO|\n",
      "|                    27276578|156|   null|            null|            3|TARJETAS DE CREDITO|       5565488.0|     882256.0|    1099|ANTIOQUIA| 109978|       30|   <30|          2015-06-03|              2015-05-29|PERSONAL PLUS|               430|  1|TIENE VOLUNTAD Y ...|DISMINUCION DE SA...|                2|             2014-05-16|    5565488.0|2015-01-01 00:00:00|                null|SIN PROFESION|   SIN OFICIO|\n",
      "|                    24078684|178|   null|            null|            6|            CONSUMO|       3846462.0|     148001.0|    2099|   BOGOTA| 109970|       32| 31-60|          2015-06-27|              2015-06-26|PERSONAL PLUS|               233|  1|       SIN CUADRANTE|            DESCUIDO|                2|             2013-01-09|    3846462.0|2015-01-01 00:00:00|                null|SIN PROFESION|   SIN OFICIO|\n",
      "|                    27276891|224|   null|            null|            3|TARJETAS DE CREDITO|        874684.0|     874684.0|    2099|   BOGOTA| 109976|      120|91-120|          2015-06-25|              2015-06-19|     PERSONAS|               229|  1|       SIN CUADRANTE|  SIN CAUSAL DE MORA|                2|             2014-05-16|     874684.0|                <1M|                null|SIN PROFESION|   SIN OFICIO|\n",
      "|                    22239451|252|   null|            null|            3|TARJETAS DE CREDITO|       3056330.0|     584128.0|    2099|   BOGOTA| 109978|       30|   <30|          2015-06-28|              2015-06-26|    MICROPYME|                40|  1|       SIN CUADRANTE|  SIN CAUSAL DE MORA|                1|             2008-11-14|    3056330.0|2015-01-01 00:00:00|                null|SIN PROFESION|   SIN OFICIO|\n",
      "|                    25865935|277|   null|            null|            3|TARJETAS DE CREDITO|       1449341.0|     125650.0|    3099|      SUR| 109978|       60| 31-60|          2015-05-23|              2015-06-19|PERSONAL PLUS|               813|  1|TIENE VOLUNTAD Y ...|  RECLAMO EN TRAMITE|                1|             2013-10-09|    6654086.0|2015-01-01 00:00:00|                null|SIN PROFESION|   SIN OFICIO|\n",
      "|                    20431067|291|   null|            null|            3|TARJETAS DE CREDITO|       4249842.0|    4249842.0|    2099|   BOGOTA| 109976|      120|91-120|          2015-06-03|              2015-05-29|PERSONAL PLUS|               201|  1|TIENE VOLUNTAD Y ...|INGRESOS INSUFICI...|                2|             2010-03-16|    4277895.0|2015-01-01 00:00:00|SERVICIOS FINANCI...|     PROFESOR|INDEPENDIENTE|\n",
      "|                     1930041|306|   null|            null|            3|TARJETAS DE CREDITO|       2985123.0|     240968.0|    2099|   BOGOTA| 109978|       30|   <30|          2015-06-28|              2015-06-26|PERSONAL PLUS|               223|  1|TIENE VOLUNTAD Y ...|            DESCUIDO|                2|             2003-06-06|    4502557.0|2015-01-01 00:00:00|  SERVICIOS PUBLICOS|ADMINISTRADOR|     JUBILADO|\n",
      "|                    29240426|306|   null|            null|            3|TARJETAS DE CREDITO|        671155.0|      74622.0|    2099|   BOGOTA| 109978|       30|   <30|          2015-06-28|              2015-06-26|PERSONAL PLUS|               223|  1|TIENE VOLUNTAD Y ...|            DESCUIDO|                2|             2001-04-03|    4502557.0|2015-01-01 00:00:00|  SERVICIOS PUBLICOS|ADMINISTRADOR|     JUBILADO|\n",
      "|                    21362395|310|   null|            null|            3|TARJETAS DE CREDITO|       9798237.0|    3187717.0|    2099|   BOGOTA| 109978|       60| 31-60|          2015-06-27|              2015-06-25|        PYMES|                35|  1|TIENE VOLUNTAD Y ...|  CUENTAS POR COBRAR|                3|             1994-09-01|  4.8463048E7|              15-50|                null|SIN PROFESION|   SIN OFICIO|\n",
      "|                    17682668|310|   null|            null|            4|            CONSUMO|     2.0167562E7|    5764921.0|    2099|   BOGOTA| 109978|       73| 61-90|          2015-06-08|              2015-06-26|        PYMES|                35|  1|TIENE VOLUNTAD Y ...|  CUENTAS POR COBRAR|                3|             2011-03-18|  4.8463048E7|              15-50|                null|SIN PROFESION|   SIN OFICIO|\n",
      "+----------------------------+---+-------+----------------+-------------+-------------------+----------------+-------------+--------+---------+-------+---------+------+--------------------+------------------------+-------------+------------------+---+--------------------+--------------------+-----------------+-----------------------+-------------+-------------------+--------------------+-------------+-------------+\n",
      "only showing top 20 rows\n",
      "\n"
     ]
    }
   ],
   "source": [
    "df_spark.show()"
   ]
  },
  {
   "cell_type": "code",
   "execution_count": 240,
   "id": "b81a54df",
   "metadata": {},
   "outputs": [
    {
     "name": "stdout",
     "output_type": "stream",
     "text": [
      "+----------------------------+---+-------+----------------+-------------+--------+----------------+-------------+--------+------+-------+---------+------+--------------------+------------------------+--------+------------------+---+---------+------------------+-----------------+-----------------------+-------------+-------------------+----------------+---------+---------+\n",
      "|consecutivo_documento_deudor|nit|nombres|numero_documento|tipo_producto|producto|valor_obligacion|valor_vencido|regional|region|abogado|dias_mora|franja|fecha_traslado_cobro|fecha_ultima_facturacion|segmento|oficina_radicacion|red|cuadrante|descripcion_causal|calificacion_real|fecha_Perfeccionamiento|endeudamiento|rango_endeudamiento|sector_economico|profesion|ocupacion|\n",
      "+----------------------------+---+-------+----------------+-------------+--------+----------------+-------------+--------+------+-------+---------+------+--------------------+------------------------+--------+------------------+---+---------+------------------+-----------------+-----------------------+-------------+-------------------+----------------+---------+---------+\n",
      "|                           0|  0|  89247|           89247|            0|       0|               0|            0|       0|     0|      0|        0|     0|                   7|                    8859|       9|                 0|  0|     1500|               285|                0|                      0|            0|                  0|           50701|      587|      185|\n",
      "+----------------------------+---+-------+----------------+-------------+--------+----------------+-------------+--------+------+-------+---------+------+--------------------+------------------------+--------+------------------+---+---------+------------------+-----------------+-----------------------+-------------+-------------------+----------------+---------+---------+\n",
      "\n"
     ]
    }
   ],
   "source": [
    "from pyspark.sql.functions import col, desc, asc, isnan, when, count, avg, min, max\n",
    "\n",
    "df_spark.select([\n",
    "    count(when(col(column).isNull(), column)).alias(column) for column in df_spark.columns   \n",
    "]).show()"
   ]
  },
  {
   "cell_type": "code",
   "execution_count": 241,
   "id": "450dc602",
   "metadata": {},
   "outputs": [],
   "source": [
    "# drop_cols = ['consecutivo_documento_deudor', 'regional']"
   ]
  },
  {
   "cell_type": "code",
   "execution_count": 242,
   "id": "a540cee3",
   "metadata": {},
   "outputs": [],
   "source": [
    "# for col in drop_cols:\n",
    "#     df_spark = df_spark.drop(col)"
   ]
  },
  {
   "cell_type": "code",
   "execution_count": null,
   "id": "ab605b65",
   "metadata": {},
   "outputs": [],
   "source": []
  },
  {
   "cell_type": "markdown",
   "id": "fd7521b0",
   "metadata": {},
   "source": [
    "### Medidas de tendencia central"
   ]
  },
  {
   "cell_type": "code",
   "execution_count": 243,
   "id": "3ae79872",
   "metadata": {},
   "outputs": [],
   "source": [
    "def median_pyspark(df_spark):\n",
    "    return {\n",
    "        'median_' + cols_schemas[col]['new_name']: df_spark.select(\n",
    "            percentile_approx(cols_schemas[col]['new_name'], 0.5).alias('median_'+cols_schemas[col]['new_name'])\n",
    "        ).collect()[0][0] if cols_schemas[col]['new_name'] in df_spark.columns else None\n",
    "        for col in cols_schemas.keys()\n",
    "    }\n",
    "        "
   ]
  },
  {
   "cell_type": "code",
   "execution_count": 244,
   "id": "4dedd657",
   "metadata": {},
   "outputs": [],
   "source": [
    "def mean_pyspark(df_spark):\n",
    "    not_useful = ['fecha_traslado_cobro', 'fecha_ultima_facturacion', 'fecha_Perfeccionamiento']\n",
    "    return {\n",
    "        'avg_' + cols_schemas[col]['new_name']: df_spark.select(\n",
    "            avg(cols_schemas[col]['new_name']).alias('avg_'+cols_schemas[col]['new_name'])\n",
    "        ).collect()[0][0] if cols_schemas[col]['new_name'] in df_spark.columns and cols_schemas[col]['new_name'] not in not_useful else None\n",
    "        for col in cols_schemas.keys()\n",
    "    }  "
   ]
  },
  {
   "cell_type": "code",
   "execution_count": 245,
   "id": "f4d68088",
   "metadata": {},
   "outputs": [],
   "source": [
    "def mode_pyspark(df_spark):\n",
    "    dic_moda = {}\n",
    "\n",
    "    list_dic = []\n",
    "\n",
    "    for item,_ in df_spark.dtypes:\n",
    "\n",
    "        try:\n",
    "            key , value = item+'_Moda', df_spark.filter(col(item).isNotNull()).groupBy(item)\\\n",
    "                                                                              .count()\\\n",
    "                                                                              .orderBy(\"count\", ascending=False)\\\n",
    "                                                                              .collect()[0]\\\n",
    "                                                                              .__getitem__(item)\n",
    "            dic_moda[key] = value\n",
    "        except:\n",
    "            pass\n",
    "\n",
    "    return dic_moda"
   ]
  },
  {
   "cell_type": "code",
   "execution_count": 265,
   "id": "3f6c73e7",
   "metadata": {},
   "outputs": [],
   "source": [
    "def variance_pyspark(df_spark) -> dict:\n",
    "    not_useful = ['fecha_traslado_cobro', 'fecha_ultima_facturacion', 'fecha_Perfeccionamiento']\n",
    "    return {\n",
    "        'var_' + cols_schemas[col]['new_name']: df_spark.select(\n",
    "            variance(cols_schemas[col]['new_name']).alias('var_'+cols_schemas[col]['new_name'])\n",
    "        ).collect()[0][0] if cols_schemas[col]['new_name'] in df_spark.columns and cols_schemas[col]['new_name'] not in not_useful else None\n",
    "        for col in cols_schemas.keys()\n",
    "    }"
   ]
  },
  {
   "cell_type": "code",
   "execution_count": 258,
   "id": "b0314904",
   "metadata": {},
   "outputs": [],
   "source": [
    "def stddev_pyspark(df_spark) -> dict:\n",
    "    not_useful = ['fecha_traslado_cobro', 'fecha_ultima_facturacion', 'fecha_Perfeccionamiento']\n",
    "    \n",
    "    return {\n",
    "        'std_' + cols_schemas[col]['new_name']: df_spark.select(\n",
    "            stddev(cols_schemas[col]['new_name']).alias('std_'+cols_schemas[col]['new_name'])\n",
    "        ).collect()[0][0] if cols_schemas[col]['new_name'] in df_spark.columns and cols_schemas[col]['new_name'] not in not_useful else None\n",
    "        for col in cols_schemas.keys()\n",
    "    }"
   ]
  },
  {
   "cell_type": "code",
   "execution_count": 248,
   "id": "02f78f45",
   "metadata": {},
   "outputs": [],
   "source": [
    "def coef_var_pyspark(df_spark) -> dict:\n",
    "        variables_numericas = [c for c,t in df_spark.dtypes if t in ['bigint', 'int', 'float']]\n",
    "        cv = [(stddev(col)/avg(col)).alias('cv_' + col) for col in variables_numericas]\n",
    "        results = df_spark.select(cv).first()\n",
    "        coef_var_dict = dict()\n",
    "\n",
    "        for col in variables_numericas:\n",
    "            cvi = results['cv_'+ col]\n",
    "            coef_var_dict[col] = cvi\n",
    "        return coef_var_dict"
   ]
  },
  {
   "cell_type": "code",
   "execution_count": 249,
   "id": "286904f9",
   "metadata": {},
   "outputs": [
    {
     "data": {
      "text/plain": [
       "DataFrame[consecutivo_documento_deudor: int, nit: int, nombres: string, numero_documento: int, tipo_producto: int, producto: string, valor_obligacion: double, valor_vencido: double, regional: int, region: string, abogado: int, dias_mora: int, franja: string, fecha_traslado_cobro: date, fecha_ultima_facturacion: date, segmento: string, oficina_radicacion: int, red: int, cuadrante: string, descripcion_causal: string, calificacion_real: int, fecha_Perfeccionamiento: date, endeudamiento: float, rango_endeudamiento: string, sector_economico: string, profesion: string, ocupacion: string]"
      ]
     },
     "execution_count": 249,
     "metadata": {},
     "output_type": "execute_result"
    }
   ],
   "source": [
    "df_spark"
   ]
  },
  {
   "cell_type": "code",
   "execution_count": 250,
   "id": "f1db13be",
   "metadata": {},
   "outputs": [
    {
     "data": {
      "text/plain": [
       "{'median_consecutivo_documento_deudor': 25785404,\n",
       " 'median_nit': 563943,\n",
       " 'median_nombres': None,\n",
       " 'median_numero_documento': None,\n",
       " 'median_tipo_producto': 3,\n",
       " 'median_producto': None,\n",
       " 'median_valor_obligacion': 1926412.0,\n",
       " 'median_valor_vencido': 241898.0,\n",
       " 'median_regional': 2099,\n",
       " 'median_region': None,\n",
       " 'median_abogado': 109978,\n",
       " 'median_dias_mora': 30,\n",
       " 'median_franja': None,\n",
       " 'median_fecha_traslado_cobro': datetime.date(2015, 6, 21),\n",
       " 'median_fecha_ultima_facturacion': datetime.date(2015, 6, 25),\n",
       " 'median_segmento': None,\n",
       " 'median_oficina_radicacion': 426,\n",
       " 'median_red': 1,\n",
       " 'median_cuadrante': None,\n",
       " 'median_descripcion_causal': None,\n",
       " 'median_calificacion_real': 2,\n",
       " 'median_fecha_Perfeccionamiento': datetime.date(2013, 8, 2),\n",
       " 'median_endeudamiento': 4598956.0,\n",
       " 'median_rango_endeudamiento': None,\n",
       " 'median_sector_economico': None,\n",
       " 'median_profesion': None,\n",
       " 'median_ocupacion': None}"
      ]
     },
     "execution_count": 250,
     "metadata": {},
     "output_type": "execute_result"
    }
   ],
   "source": [
    "median_pyspark(df_spark)"
   ]
  },
  {
   "cell_type": "code",
   "execution_count": 251,
   "id": "148ba5e2",
   "metadata": {},
   "outputs": [
    {
     "data": {
      "text/plain": [
       "{'avg_consecutivo_documento_deudor': 23155282.778928142,\n",
       " 'avg_nit': 485493.68977108476,\n",
       " 'avg_nombres': None,\n",
       " 'avg_numero_documento': None,\n",
       " 'avg_tipo_producto': 11.400696942194136,\n",
       " 'avg_producto': None,\n",
       " 'avg_valor_obligacion': 7069209.776261843,\n",
       " 'avg_valor_vencido': 706280.6968713797,\n",
       " 'avg_regional': 3589.738725111208,\n",
       " 'avg_region': None,\n",
       " 'avg_abogado': 109977.5451051576,\n",
       " 'avg_dias_mora': 47.099319865093506,\n",
       " 'avg_franja': None,\n",
       " 'avg_fecha_traslado_cobro': None,\n",
       " 'avg_fecha_ultima_facturacion': None,\n",
       " 'avg_segmento': None,\n",
       " 'avg_oficina_radicacion': 443.38626508454064,\n",
       " 'avg_red': 1.2986879110782434,\n",
       " 'avg_cuadrante': None,\n",
       " 'avg_descripcion_causal': None,\n",
       " 'avg_calificacion_real': 1.7216601118244872,\n",
       " 'avg_fecha_Perfeccionamiento': None,\n",
       " 'avg_endeudamiento': 14320682.09399108,\n",
       " 'avg_rango_endeudamiento': None,\n",
       " 'avg_sector_economico': None,\n",
       " 'avg_profesion': None,\n",
       " 'avg_ocupacion': None}"
      ]
     },
     "execution_count": 251,
     "metadata": {},
     "output_type": "execute_result"
    }
   ],
   "source": [
    "mean_pyspark(df_spark)"
   ]
  },
  {
   "cell_type": "code",
   "execution_count": 252,
   "id": "93a2548c",
   "metadata": {},
   "outputs": [
    {
     "data": {
      "text/plain": [
       "{'consecutivo_documento_deudor_Moda': 19927288,\n",
       " 'nit_Moda': 246428,\n",
       " 'tipo_producto_Moda': 3,\n",
       " 'producto_Moda': 'TARJETAS DE CREDITO',\n",
       " 'valor_obligacion_Moda': 46869.0,\n",
       " 'valor_vencido_Moda': 21274.0,\n",
       " 'regional_Moda': 2099,\n",
       " 'region_Moda': 'BOGOTA',\n",
       " 'abogado_Moda': 109978,\n",
       " 'dias_mora_Moda': 30,\n",
       " 'franja_Moda': '<30',\n",
       " 'fecha_traslado_cobro_Moda': datetime.date(2015, 6, 21),\n",
       " 'fecha_ultima_facturacion_Moda': datetime.date(2015, 6, 26),\n",
       " 'segmento_Moda': 'PERSONAL PLUS',\n",
       " 'oficina_radicacion_Moda': 999,\n",
       " 'red_Moda': 1,\n",
       " 'cuadrante_Moda': 'TIENE VOLUNTAD Y TIENE CAPACIDAD REDUCIDA',\n",
       " 'descripcion_causal_Moda': 'DESCUIDO',\n",
       " 'calificacion_real_Moda': 2,\n",
       " 'fecha_Perfeccionamiento_Moda': datetime.date(2015, 6, 12),\n",
       " 'endeudamiento_Moda': 29422040.0,\n",
       " 'rango_endeudamiento_Moda': '2015-01-01 00:00:00',\n",
       " 'sector_economico_Moda': 'SERVICIOS SOCIALES Y DE SALUD',\n",
       " 'profesion_Moda': 'SIN PROFESION',\n",
       " 'ocupacion_Moda': 'SIN OFICIO'}"
      ]
     },
     "execution_count": 252,
     "metadata": {},
     "output_type": "execute_result"
    }
   ],
   "source": [
    "mode_pyspark(df_spark)"
   ]
  },
  {
   "cell_type": "code",
   "execution_count": 266,
   "id": "4f72f586",
   "metadata": {},
   "outputs": [
    {
     "data": {
      "text/plain": [
       "{'var_consecutivo_documento_deudor': 55936900723296.28,\n",
       " 'var_nit': 73678321193.9615,\n",
       " 'var_nombres': None,\n",
       " 'var_numero_documento': None,\n",
       " 'var_tipo_producto': 549.0277399171964,\n",
       " 'var_producto': None,\n",
       " 'var_valor_obligacion': 230740311094255.62,\n",
       " 'var_valor_vencido': 3529358596766.2466,\n",
       " 'var_regional': 5393963.712385901,\n",
       " 'var_region': None,\n",
       " 'var_abogado': 1.6870916252927441,\n",
       " 'var_dias_mora': 4914.784636047714,\n",
       " 'var_franja': None,\n",
       " 'var_fecha_traslado_cobro': None,\n",
       " 'var_fecha_ultima_facturacion': None,\n",
       " 'var_segmento': None,\n",
       " 'var_oficina_radicacion': 91496.6734115112,\n",
       " 'var_red': 0.4089020948209133,\n",
       " 'var_cuadrante': None,\n",
       " 'var_descripcion_causal': None,\n",
       " 'var_calificacion_real': 0.8498168975397471,\n",
       " 'var_fecha_Perfeccionamiento': None,\n",
       " 'var_endeudamiento': 850730475757888.0,\n",
       " 'var_rango_endeudamiento': None,\n",
       " 'var_sector_economico': None,\n",
       " 'var_profesion': None,\n",
       " 'var_ocupacion': None}"
      ]
     },
     "execution_count": 266,
     "metadata": {},
     "output_type": "execute_result"
    }
   ],
   "source": [
    "variance_pyspark(df_spark)"
   ]
  },
  {
   "cell_type": "code",
   "execution_count": 263,
   "id": "8cd62b36",
   "metadata": {},
   "outputs": [
    {
     "data": {
      "text/plain": [
       "{'std_consecutivo_documento_deudor': 7479097.587496521,\n",
       " 'std_nit': 271437.5088191783,\n",
       " 'std_nombres': None,\n",
       " 'std_numero_documento': None,\n",
       " 'std_tipo_producto': 23.431340975650464,\n",
       " 'std_producto': None,\n",
       " 'std_valor_obligacion': 15190138.613398353,\n",
       " 'std_valor_vencido': 1878658.7228036514,\n",
       " 'std_regional': 2322.4908422609337,\n",
       " 'std_region': None,\n",
       " 'std_abogado': 1.2988809126678027,\n",
       " 'std_dias_mora': 70.1055250037236,\n",
       " 'std_franja': None,\n",
       " 'std_fecha_traslado_cobro': None,\n",
       " 'std_fecha_ultima_facturacion': None,\n",
       " 'std_segmento': None,\n",
       " 'std_oficina_radicacion': 302.4841705139481,\n",
       " 'std_red': 0.6394545291269061,\n",
       " 'std_cuadrante': None,\n",
       " 'std_descripcion_causal': None,\n",
       " 'std_calificacion_real': 0.9218551391296504,\n",
       " 'std_fecha_Perfeccionamiento': None,\n",
       " 'std_endeudamiento': 29167284.339785356,\n",
       " 'std_rango_endeudamiento': None,\n",
       " 'std_sector_economico': None,\n",
       " 'std_profesion': None,\n",
       " 'std_ocupacion': None}"
      ]
     },
     "execution_count": 263,
     "metadata": {},
     "output_type": "execute_result"
    }
   ],
   "source": [
    "stddev_pyspark(df_spark)"
   ]
  },
  {
   "cell_type": "code",
   "execution_count": 260,
   "id": "4621c46c",
   "metadata": {},
   "outputs": [
    {
     "data": {
      "text/plain": [
       "{'consecutivo_documento_deudor': 0.3229974627778106,\n",
       " 'nit': 0.5590958534335717,\n",
       " 'numero_documento': None,\n",
       " 'tipo_producto': 2.0552551387389966,\n",
       " 'regional': 0.6469804685267126,\n",
       " 'abogado': 1.1810419221722465e-05,\n",
       " 'dias_mora': 1.4884615150394258,\n",
       " 'oficina_radicacion': 0.6822136686085062,\n",
       " 'red': 0.49238506316424796,\n",
       " 'calificacion_real': 0.5354454882228392,\n",
       " 'endeudamiento': 2.036724518312146}"
      ]
     },
     "execution_count": 260,
     "metadata": {},
     "output_type": "execute_result"
    }
   ],
   "source": [
    "coef_var_pyspark(df_spark)"
   ]
  },
  {
   "cell_type": "markdown",
   "id": "df5ab26a",
   "metadata": {},
   "source": [
    "### Endeudamiento"
   ]
  },
  {
   "cell_type": "code",
   "execution_count": 270,
   "id": "a25b2c5f",
   "metadata": {},
   "outputs": [],
   "source": [
    "minimo= df_spark.select(min('endeudamiento').alias('minimo valor endeudado')).collect()[0][0]"
   ]
  },
  {
   "cell_type": "code",
   "execution_count": 271,
   "id": "2389570a",
   "metadata": {},
   "outputs": [
    {
     "data": {
      "text/plain": [
       "18044.0"
      ]
     },
     "execution_count": 271,
     "metadata": {},
     "output_type": "execute_result"
    }
   ],
   "source": [
    "minimo"
   ]
  },
  {
   "cell_type": "code",
   "execution_count": 275,
   "id": "760aba6a",
   "metadata": {},
   "outputs": [],
   "source": [
    "maximo= df_spark.select(max('endeudamiento').alias('maximo valor endeudado')).collect()[0][0]"
   ]
  },
  {
   "cell_type": "code",
   "execution_count": 276,
   "id": "907e600e",
   "metadata": {},
   "outputs": [
    {
     "data": {
      "text/plain": [
       "2012549248.0"
      ]
     },
     "execution_count": 276,
     "metadata": {},
     "output_type": "execute_result"
    }
   ],
   "source": [
    "maximo"
   ]
  },
  {
   "cell_type": "code",
   "execution_count": 287,
   "id": "30b974a8",
   "metadata": {},
   "outputs": [
    {
     "name": "stdout",
     "output_type": "stream",
     "text": [
      "+---------+--------------------+\n",
      "|   region|  avg(endeudamiento)|\n",
      "+---------+--------------------+\n",
      "|ANTIOQUIA|1.2605151593091443E7|\n",
      "|   CARIBE|1.6659379660953851E7|\n",
      "|      SUR|1.3142652615603926E7|\n",
      "|   BOGOTA|1.4238203487278929E7|\n",
      "|   CENTRO|1.5640429774039075E7|\n",
      "+---------+--------------------+\n",
      "\n"
     ]
    }
   ],
   "source": [
    "df_region_deuda=df_spark.groupBy('region').avg('endeudamiento').show()"
   ]
  },
  {
   "cell_type": "code",
   "execution_count": 293,
   "id": "44c363b0",
   "metadata": {},
   "outputs": [
    {
     "name": "stdout",
     "output_type": "stream",
     "text": [
      "+---------+-----+\n",
      "|   region|count|\n",
      "+---------+-----+\n",
      "|ANTIOQUIA|17498|\n",
      "|   CARIBE|12709|\n",
      "|      SUR|15348|\n",
      "|   BOGOTA|28017|\n",
      "|   CENTRO|15675|\n",
      "+---------+-----+\n",
      "\n"
     ]
    }
   ],
   "source": [
    "df_region_moda=df_spark.groupBy('region').count().alias('counts')\n",
    "df_region_moda.show()"
   ]
  },
  {
   "cell_type": "code",
   "execution_count": 294,
   "id": "bff6ed97",
   "metadata": {},
   "outputs": [
    {
     "name": "stdout",
     "output_type": "stream",
     "text": [
      "+--------------------+--------------------+\n",
      "|           ocupacion|  avg(endeudamiento)|\n",
      "+--------------------+--------------------+\n",
      "|EMPLEADO SECTOR P...|1.2410469460981164E7|\n",
      "|             TAXISTA|  2.04866593046875E7|\n",
      "|                null|1.3825151085135136E7|\n",
      "|NO APLICA A ESTE ...| 1.770801854432159E7|\n",
      "|         AMA DE CASA| 1.020864353488372E7|\n",
      "|          SIN OFICIO|1.2819059342742719E7|\n",
      "|  TRABAJADOR OFICIAL|1.2332329344594594E7|\n",
      "|EMPLEADO SECTOR P...|1.2243880926898362E7|\n",
      "|EMPLEADO BANCOLOMBIA|           6437636.5|\n",
      "|       INDEPENDIENTE|2.4730633660613343E7|\n",
      "|     EMPLEADO FILIAL| 1.075199542857143E7|\n",
      "|            JUBILADO| 1.622143445371367E7|\n",
      "+--------------------+--------------------+\n",
      "\n"
     ]
    }
   ],
   "source": [
    "df_ocuacion_deuda= df_spark.groupBy('ocupacion').avg('endeudamiento').show()"
   ]
  },
  {
   "cell_type": "code",
   "execution_count": 296,
   "id": "af327102",
   "metadata": {},
   "outputs": [
    {
     "name": "stdout",
     "output_type": "stream",
     "text": [
      "+--------------------+--------------------+\n",
      "|           cuadrante|  avg(endeudamiento)|\n",
      "+--------------------+--------------------+\n",
      "|TIENE VOLUNTAD Y ...| 1.719154621889488E7|\n",
      "|TIENE VOLUNTAD Y ...| 1.489277308024154E7|\n",
      "|                null|1.0842978152859375E7|\n",
      "|NO TIENE VOLUNTAD...| 1.226303705357143E7|\n",
      "|       SIN CUADRANTE|   8642141.573870536|\n",
      "|TIENE VOLUNTAD Y ...| 2.109910006039823E7|\n",
      "|NO TIENE VOLUNTAD...|1.6026260628087219E7|\n",
      "+--------------------+--------------------+\n",
      "\n"
     ]
    }
   ],
   "source": [
    "df_cuadrante_deuda= df_spark.groupBy('cuadrante').avg('endeudamiento').show()"
   ]
  }
 ],
 "metadata": {
  "kernelspec": {
   "display_name": "Python 3 (ipykernel)",
   "language": "python",
   "name": "python3"
  },
  "language_info": {
   "codemirror_mode": {
    "name": "ipython",
    "version": 3
   },
   "file_extension": ".py",
   "mimetype": "text/x-python",
   "name": "python",
   "nbconvert_exporter": "python",
   "pygments_lexer": "ipython3",
   "version": "3.9.7"
  }
 },
 "nbformat": 4,
 "nbformat_minor": 5
}
