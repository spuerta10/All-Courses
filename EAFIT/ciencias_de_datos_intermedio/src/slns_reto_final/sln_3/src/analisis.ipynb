{
 "cells": [
  {
   "cell_type": "code",
   "execution_count": 229,
   "metadata": {},
   "outputs": [],
   "source": [
    "import pandas as pd\n",
    "import numpy as np\n",
    "import matplotlib.pyplot as plt\n",
    "import datetime\n",
    "from sklearn.cluster import KMeans\n",
    "from sklearn.preprocessing import StandardScaler, LabelEncoder\n",
    "from sklearn.decomposition import PCA"
   ]
  },
  {
   "cell_type": "markdown",
   "metadata": {},
   "source": [
    "# 1. Analizando columnas"
   ]
  },
  {
   "cell_type": "code",
   "execution_count": 230,
   "metadata": {},
   "outputs": [],
   "source": [
    "def get_null_cols_vals(df:pd.DataFrame) -> dict:\n",
    "    cols = df.columns\n",
    "    nulls = {}\n",
    "    for col in cols:\n",
    "        nulls[col] = round((df[col].isnull().sum() / len(df[col]))*100, 2)\n",
    "    return nulls    \n"
   ]
  },
  {
   "cell_type": "code",
   "execution_count": 251,
   "metadata": {},
   "outputs": [],
   "source": [
    "df = pd.read_excel(\"./Caso 01 - Cobranza Sector Financiero.xlsx\")"
   ]
  },
  {
   "cell_type": "code",
   "execution_count": 232,
   "metadata": {},
   "outputs": [
    {
     "data": {
      "text/plain": [
       "{'Consecutivo Documento Deudor': 0.0,\n",
       " 'Nit': 0.0,\n",
       " 'Nombres': 100.0,\n",
       " 'Numero Documento': 100.0,\n",
       " 'Tipo De Producto': 0.0,\n",
       " 'PRODUCTO': 0.0,\n",
       " 'Valor Obligacion': 0.0,\n",
       " 'Valor Vencido': 0.0,\n",
       " 'Regional': 0.0,\n",
       " 'REGION': 0.0,\n",
       " 'Abogado': 0.0,\n",
       " 'Dias Mora': 0.0,\n",
       " 'FRANJA': 0.0,\n",
       " 'Fecha Traslado Para Cobro': 0.01,\n",
       " 'Fecha Ultima Facturacion': 9.93,\n",
       " 'Segmento': 0.01,\n",
       " 'Oficina Radicacion': 0.0,\n",
       " 'Red': 0.0,\n",
       " 'Cuadrante': 1.68,\n",
       " 'Descripcion Causal': 0.32,\n",
       " 'Calificacion Real': 0.0,\n",
       " 'Fecha De Perfeccionamiento': 0.0,\n",
       " 'Endeudamiento': 0.0,\n",
       " 'Rango endeudamiento': 0.0,\n",
       " 'Sector Economico': 56.81,\n",
       " 'Profesion': 0.66,\n",
       " 'Ocupacion': 0.21}"
      ]
     },
     "execution_count": 232,
     "metadata": {},
     "output_type": "execute_result"
    }
   ],
   "source": [
    "get_null_cols_vals(df)"
   ]
  },
  {
   "cell_type": "code",
   "execution_count": 252,
   "metadata": {},
   "outputs": [],
   "source": [
    "df = df.drop(columns = [\"Nombres\", \"Numero Documento\", \"Consecutivo Documento Deudor\", \"Nit\", \"Tipo De Producto\", \"Valor Vencido\",\n",
    "             \"Valor Obligacion\", \"Abogado\", \"Fecha Ultima Facturacion\", \"Oficina Radicacion\", \"Fecha Traslado Para Cobro\", \n",
    "             \"Red\", \"Sector Economico\", \"Profesion\", \"Regional\", \"REGION\"]) #elimino columnas no relevantes para el modelo"
   ]
  },
  {
   "cell_type": "code",
   "execution_count": 234,
   "metadata": {},
   "outputs": [
    {
     "data": {
      "text/plain": [
       "{'PRODUCTO': 0.0,\n",
       " 'Dias Mora': 0.0,\n",
       " 'FRANJA': 0.0,\n",
       " 'Segmento': 0.01,\n",
       " 'Cuadrante': 1.68,\n",
       " 'Descripcion Causal': 0.32,\n",
       " 'Calificacion Real': 0.0,\n",
       " 'Fecha De Perfeccionamiento': 0.0,\n",
       " 'Rango endeudamiento': 0.0,\n",
       " 'Ocupacion': 0.21}"
      ]
     },
     "execution_count": 234,
     "metadata": {},
     "output_type": "execute_result"
    }
   ],
   "source": [
    "get_null_cols_vals(df)"
   ]
  },
  {
   "cell_type": "code",
   "execution_count": 235,
   "metadata": {},
   "outputs": [],
   "source": [
    "df = df.dropna() #dropeo nulos ya que en el peor de los casos representan solo un 2% de mis datos"
   ]
  },
  {
   "cell_type": "markdown",
   "metadata": {},
   "source": [
    "# 2. Preprocesamiento"
   ]
  },
  {
   "cell_type": "code",
   "execution_count": 110,
   "metadata": {},
   "outputs": [],
   "source": [
    "def date_to_str(row):\n",
    "    if isinstance(row, datetime.datetime):\n",
    "        return \"1-15\"\n",
    "    return row\n",
    "\n",
    "def trim_spaces(row:str) -> str:\n",
    "    return row.replace(\" \", \"\")"
   ]
  },
  {
   "cell_type": "code",
   "execution_count": 111,
   "metadata": {},
   "outputs": [],
   "source": [
    "df[\"Rango Endeudamiento\"] = df[\"Rango endeudamiento\"].apply(date_to_str) #convertir fecha a rango str\n",
    "df = df.drop(columns = [\"Rango endeudamiento\"])"
   ]
  },
  {
   "cell_type": "code",
   "execution_count": 132,
   "metadata": {},
   "outputs": [],
   "source": [
    "cat_cols = df.select_dtypes(\"object\") #obtener columnas categoricas\n",
    "encoders = {}\n",
    "for col in cat_cols: \n",
    "    encoder = LabelEncoder()\n",
    "    df[f\"{col} num\"] = encoder.fit_transform(df[col]) #convertir columna cat a num\n",
    "    encoders[col] = encoder #almaceno el scaler de la columna"
   ]
  },
  {
   "cell_type": "code",
   "execution_count": 150,
   "metadata": {},
   "outputs": [],
   "source": [
    "df_num = df.select_dtypes(np.number) #selecciono columnas num"
   ]
  },
  {
   "cell_type": "code",
   "execution_count": 151,
   "metadata": {},
   "outputs": [],
   "source": [
    "scaler = StandardScaler()\n",
    "scaled_data = scaler.fit_transform(df_num.to_numpy())\n",
    "df_num_scaled = pd.DataFrame(scaled_data, columns = df_num.columns)"
   ]
  },
  {
   "cell_type": "markdown",
   "metadata": {},
   "source": [
    "# 3. Modelos de ML"
   ]
  },
  {
   "cell_type": "code",
   "execution_count": 114,
   "metadata": {},
   "outputs": [],
   "source": [
    "evualate_cols = [\"Calificacion Real\", \"Regional\", \"Dias Mora\"] #evaluar desempeño del modelo con y sin estas columnas"
   ]
  },
  {
   "cell_type": "markdown",
   "metadata": {},
   "source": [
    "## 3.1 KMeans"
   ]
  },
  {
   "cell_type": "markdown",
   "metadata": {},
   "source": [
    "### 3.1.1 Grafica de codo"
   ]
  },
  {
   "cell_type": "code",
   "execution_count": 168,
   "metadata": {},
   "outputs": [],
   "source": [
    "def elbows_data(interval:list) -> dict or int:\n",
    "    if len(interval) > 2:\n",
    "        raise ValueError(f\"Interval must contain only 2 values not {len(interval)}\")\n",
    "    try:\n",
    "        data = {}\n",
    "        clusters = []\n",
    "        inertias = []\n",
    "        for i in range(interval[0], interval[1]):\n",
    "            k_model = KMeans(n_clusters= i)\n",
    "            k_model.fit(df_num_scaled)\n",
    "            clusters.append(i)\n",
    "            inertias.append(k_model.inertia_)\n",
    "        data[\"clusters\"] = clusters\n",
    "        data[\"inertias\"] = inertias\n",
    "        return data\n",
    "    except ValueError as error:\n",
    "        print(error)\n",
    "        return 0"
   ]
  },
  {
   "cell_type": "markdown",
   "metadata": {},
   "source": [
    "Intervalo 1 a 30"
   ]
  },
  {
   "cell_type": "code",
   "execution_count": 169,
   "metadata": {},
   "outputs": [
    {
     "data": {
      "image/png": "[encoded data removed]",
      "text/plain": [
       "<Figure size 640x480 with 1 Axes>"
      ]
     },
     "metadata": {},
     "output_type": "display_data"
    }
   ],
   "source": [
    "#grafica del codo con intervalo 1 a 30\n",
    "data = elbows_data([1, 30])\n",
    "plt.plot(data[\"clusters\"], data[\"inertias\"])\n",
    "plt.show()"
   ]
  },
  {
   "cell_type": "markdown",
   "metadata": {},
   "source": [
    "Intervalo 1 a 10"
   ]
  },
  {
   "cell_type": "code",
   "execution_count": 170,
   "metadata": {},
   "outputs": [
    {
     "data": {
      "image/png": "[encoded data removed]",
      "text/plain": [
       "<Figure size 640x480 with 1 Axes>"
      ]
     },
     "metadata": {},
     "output_type": "display_data"
    }
   ],
   "source": [
    "data = elbows_data([1,10])\n",
    "plt.plot(data[\"clusters\"], data[\"inertias\"])\n",
    "plt.show()"
   ]
  },
  {
   "cell_type": "markdown",
   "metadata": {},
   "source": [
    "Intervalo 2 a 5"
   ]
  },
  {
   "cell_type": "code",
   "execution_count": 171,
   "metadata": {},
   "outputs": [
    {
     "data": {
      "image/png": "[encoded data removed]",
      "text/plain": [
       "<Figure size 640x480 with 1 Axes>"
      ]
     },
     "metadata": {},
     "output_type": "display_data"
    }
   ],
   "source": [
    "data = elbows_data([2,5])\n",
    "plt.plot(data[\"clusters\"], data[\"inertias\"])\n",
    "plt.show()"
   ]
  },
  {
   "cell_type": "markdown",
   "metadata": {},
   "source": [
    "El codo esta en 3 intervalos"
   ]
  },
  {
   "cell_type": "code",
   "execution_count": 175,
   "metadata": {},
   "outputs": [],
   "source": [
    "kmeans = KMeans(n_clusters= 3)\n",
    "kmeans.fit(df_num_scaled)\n",
    "df_num_scaled[\"Group\"] = kmeans.predict(df_num_scaled)"
   ]
  },
  {
   "cell_type": "markdown",
   "metadata": {},
   "source": [
    "### 3.1.2 PCA"
   ]
  },
  {
   "cell_type": "markdown",
   "metadata": {},
   "source": [
    "Grafica de la varianza acumulada"
   ]
  },
  {
   "cell_type": "code",
   "execution_count": 190,
   "metadata": {},
   "outputs": [
    {
     "data": {
      "text/html": [
       "<style>#sk-container-id-6 {color: black;background-color: white;}#sk-container-id-6 pre{padding: 0;}#sk-container-id-6 div.sk-toggleable {background-color: white;}#sk-container-id-6 label.sk-toggleable__label {cursor: pointer;display: block;width: 100%;margin-bottom: 0;padding: 0.3em;box-sizing: border-box;text-align: center;}#sk-container-id-6 label.sk-toggleable__label-arrow:before {content: \"▸\";float: left;margin-right: 0.25em;color: #696969;}#sk-container-id-6 label.sk-toggleable__label-arrow:hover:before {color: black;}#sk-container-id-6 div.sk-estimator:hover label.sk-toggleable__label-arrow:before {color: black;}#sk-container-id-6 div.sk-toggleable__content {max-height: 0;max-width: 0;overflow: hidden;text-align: left;background-color: #f0f8ff;}#sk-container-id-6 div.sk-toggleable__content pre {margin: 0.2em;color: black;border-radius: 0.25em;background-color: #f0f8ff;}#sk-container-id-6 input.sk-toggleable__control:checked~div.sk-toggleable__content {max-height: 200px;max-width: 100%;overflow: auto;}#sk-container-id-6 input.sk-toggleable__control:checked~label.sk-toggleable__label-arrow:before {content: \"▾\";}#sk-container-id-6 div.sk-estimator input.sk-toggleable__control:checked~label.sk-toggleable__label {background-color: #d4ebff;}#sk-container-id-6 div.sk-label input.sk-toggleable__control:checked~label.sk-toggleable__label {background-color: #d4ebff;}#sk-container-id-6 input.sk-hidden--visually {border: 0;clip: rect(1px 1px 1px 1px);clip: rect(1px, 1px, 1px, 1px);height: 1px;margin: -1px;overflow: hidden;padding: 0;position: absolute;width: 1px;}#sk-container-id-6 div.sk-estimator {font-family: monospace;background-color: #f0f8ff;border: 1px dotted black;border-radius: 0.25em;box-sizing: border-box;margin-bottom: 0.5em;}#sk-container-id-6 div.sk-estimator:hover {background-color: #d4ebff;}#sk-container-id-6 div.sk-parallel-item::after {content: \"\";width: 100%;border-bottom: 1px solid gray;flex-grow: 1;}#sk-container-id-6 div.sk-label:hover label.sk-toggleable__label {background-color: #d4ebff;}#sk-container-id-6 div.sk-serial::before {content: \"\";position: absolute;border-left: 1px solid gray;box-sizing: border-box;top: 0;bottom: 0;left: 50%;z-index: 0;}#sk-container-id-6 div.sk-serial {display: flex;flex-direction: column;align-items: center;background-color: white;padding-right: 0.2em;padding-left: 0.2em;position: relative;}#sk-container-id-6 div.sk-item {position: relative;z-index: 1;}#sk-container-id-6 div.sk-parallel {display: flex;align-items: stretch;justify-content: center;background-color: white;position: relative;}#sk-container-id-6 div.sk-item::before, #sk-container-id-6 div.sk-parallel-item::before {content: \"\";position: absolute;border-left: 1px solid gray;box-sizing: border-box;top: 0;bottom: 0;left: 50%;z-index: -1;}#sk-container-id-6 div.sk-parallel-item {display: flex;flex-direction: column;z-index: 1;position: relative;background-color: white;}#sk-container-id-6 div.sk-parallel-item:first-child::after {align-self: flex-end;width: 50%;}#sk-container-id-6 div.sk-parallel-item:last-child::after {align-self: flex-start;width: 50%;}#sk-container-id-6 div.sk-parallel-item:only-child::after {width: 0;}#sk-container-id-6 div.sk-dashed-wrapped {border: 1px dashed gray;margin: 0 0.4em 0.5em 0.4em;box-sizing: border-box;padding-bottom: 0.4em;background-color: white;}#sk-container-id-6 div.sk-label label {font-family: monospace;font-weight: bold;display: inline-block;line-height: 1.2em;}#sk-container-id-6 div.sk-label-container {text-align: center;}#sk-container-id-6 div.sk-container {/* jupyter's `normalize.less` sets `[hidden] { display: none; }` but bootstrap.min.css set `[hidden] { display: none !important; }` so we also need the `!important` here to be able to override the default hidden behavior on the sphinx rendered scikit-learn.org. See: https://github.com/scikit-learn/scikit-learn/issues/21755 */display: inline-block !important;position: relative;}#sk-container-id-6 div.sk-text-repr-fallback {display: none;}</style><div id=\"sk-container-id-6\" class=\"sk-top-container\"><div class=\"sk-text-repr-fallback\"><pre>PCA()</pre><b>In a Jupyter environment, please rerun this cell to show the HTML representation or trust the notebook. <br />On GitHub, the HTML representation is unable to render, please try loading this page with nbviewer.org.</b></div><div class=\"sk-container\" hidden><div class=\"sk-item\"><div class=\"sk-estimator sk-toggleable\"><input class=\"sk-toggleable__control sk-hidden--visually\" id=\"sk-estimator-id-6\" type=\"checkbox\" checked><label for=\"sk-estimator-id-6\" class=\"sk-toggleable__label sk-toggleable__label-arrow\">PCA</label><div class=\"sk-toggleable__content\"><pre>PCA()</pre></div></div></div></div></div>"
      ],
      "text/plain": [
       "PCA()"
      ]
     },
     "execution_count": 190,
     "metadata": {},
     "output_type": "execute_result"
    }
   ],
   "source": [
    "pca = PCA()\n",
    "pca.fit(df_num_scaled)"
   ]
  },
  {
   "cell_type": "code",
   "execution_count": 191,
   "metadata": {},
   "outputs": [
    {
     "data": {
      "image/png": "[encoded data removed]",
      "text/plain": [
       "<Figure size 640x480 with 1 Axes>"
      ]
     },
     "metadata": {},
     "output_type": "display_data"
    }
   ],
   "source": [
    "#graficando la varianza acumulada\n",
    "plt.plot(range(1, len(pca.explained_variance_ratio_) + 1), pca.explained_variance_ratio_.cumsum(), marker = \"o\", linestyle = \"--\")\n",
    "plt.title(\"Varianza segun numero de componentes\")\n",
    "plt.xlabel(\"Numero de componentes\")\n",
    "plt.ylabel(\"Varianza acumulada\")\n",
    "plt.show()"
   ]
  },
  {
   "cell_type": "code",
   "execution_count": null,
   "metadata": {},
   "outputs": [],
   "source": [
    "#una de las reglas es quedarse con el 80% de la varianza\n"
   ]
  },
  {
   "cell_type": "markdown",
   "metadata": {},
   "source": [
    "### 3.1.3 Graficando KMeans"
   ]
  },
  {
   "cell_type": "code",
   "execution_count": 205,
   "metadata": {},
   "outputs": [],
   "source": [
    "pca = PCA(n_components= 2)\n",
    "pca_data = pca.fit_transform(df_num_scaled)\n",
    "df_pca = pd.DataFrame(pca_data, columns = [\"Col1\", \"Col2\"])"
   ]
  },
  {
   "cell_type": "code",
   "execution_count": 219,
   "metadata": {},
   "outputs": [
    {
     "data": {
      "text/plain": [
       "<matplotlib.collections.PathCollection at 0x209e5a07580>"
      ]
     },
     "execution_count": 219,
     "metadata": {},
     "output_type": "execute_result"
    },
    {
     "data": {
      "image/png": "[encoded data removed]",
      "text/plain": [
       "<Figure size 640x480 with 1 Axes>"
      ]
     },
     "metadata": {},
     "output_type": "display_data"
    }
   ],
   "source": [
    "colors = [\"red\", \"green\", \"purple\"]\n",
    "groups = df_num_scaled[\"Group\"]\n",
    "points_colors = []\n",
    "for group in groups: #asignar un color a cada uno de los grupos    \n",
    "    points_colors.append(colors[group])\n",
    "plt.scatter(df_pca[\"Col1\"], df_pca[\"Col2\"], c=points_colors, s = 20) \n",
    "plt.scatter()"
   ]
  },
  {
   "cell_type": "code",
   "execution_count": 221,
   "metadata": {},
   "outputs": [
    {
     "data": {
      "text/html": [
       "<div>\n",
       "<style scoped>\n",
       "    .dataframe tbody tr th:only-of-type {\n",
       "        vertical-align: middle;\n",
       "    }\n",
       "\n",
       "    .dataframe tbody tr th {\n",
       "        vertical-align: top;\n",
       "    }\n",
       "\n",
       "    .dataframe thead th {\n",
       "        text-align: right;\n",
       "    }\n",
       "</style>\n",
       "<table border=\"1\" class=\"dataframe\">\n",
       "  <thead>\n",
       "    <tr style=\"text-align: right;\">\n",
       "      <th></th>\n",
       "      <th>Regional</th>\n",
       "      <th>Dias Mora</th>\n",
       "      <th>Calificacion Real</th>\n",
       "      <th>PRODUCTO num</th>\n",
       "      <th>REGION num</th>\n",
       "      <th>FRANJA num</th>\n",
       "      <th>Segmento num</th>\n",
       "      <th>Cuadrante num</th>\n",
       "      <th>Descripcion Causal num</th>\n",
       "      <th>Ocupacion num</th>\n",
       "      <th>Rango Endeudamiento num</th>\n",
       "      <th>Group</th>\n",
       "    </tr>\n",
       "  </thead>\n",
       "  <tbody>\n",
       "    <tr>\n",
       "      <th>Regional</th>\n",
       "      <td>1.000000</td>\n",
       "      <td>0.059138</td>\n",
       "      <td>0.042854</td>\n",
       "      <td>-0.037308</td>\n",
       "      <td>0.759456</td>\n",
       "      <td>-0.064903</td>\n",
       "      <td>-0.065697</td>\n",
       "      <td>0.013171</td>\n",
       "      <td>-0.019056</td>\n",
       "      <td>-0.007337</td>\n",
       "      <td>0.020463</td>\n",
       "      <td>-0.430544</td>\n",
       "    </tr>\n",
       "    <tr>\n",
       "      <th>Dias Mora</th>\n",
       "      <td>0.059138</td>\n",
       "      <td>1.000000</td>\n",
       "      <td>0.175446</td>\n",
       "      <td>0.001158</td>\n",
       "      <td>0.071044</td>\n",
       "      <td>-0.105370</td>\n",
       "      <td>-0.004739</td>\n",
       "      <td>0.078543</td>\n",
       "      <td>-0.083010</td>\n",
       "      <td>0.005186</td>\n",
       "      <td>0.030825</td>\n",
       "      <td>-0.139799</td>\n",
       "    </tr>\n",
       "    <tr>\n",
       "      <th>Calificacion Real</th>\n",
       "      <td>0.042854</td>\n",
       "      <td>0.175446</td>\n",
       "      <td>1.000000</td>\n",
       "      <td>-0.095056</td>\n",
       "      <td>0.045388</td>\n",
       "      <td>-0.130462</td>\n",
       "      <td>-0.009985</td>\n",
       "      <td>0.152736</td>\n",
       "      <td>-0.155594</td>\n",
       "      <td>-0.117475</td>\n",
       "      <td>-0.039758</td>\n",
       "      <td>-0.233088</td>\n",
       "    </tr>\n",
       "    <tr>\n",
       "      <th>PRODUCTO num</th>\n",
       "      <td>-0.037308</td>\n",
       "      <td>0.001158</td>\n",
       "      <td>-0.095056</td>\n",
       "      <td>1.000000</td>\n",
       "      <td>-0.045849</td>\n",
       "      <td>0.115570</td>\n",
       "      <td>-0.009846</td>\n",
       "      <td>-0.118815</td>\n",
       "      <td>0.134783</td>\n",
       "      <td>0.058882</td>\n",
       "      <td>0.044648</td>\n",
       "      <td>0.156562</td>\n",
       "    </tr>\n",
       "    <tr>\n",
       "      <th>REGION num</th>\n",
       "      <td>0.759456</td>\n",
       "      <td>0.071044</td>\n",
       "      <td>0.045388</td>\n",
       "      <td>-0.045849</td>\n",
       "      <td>1.000000</td>\n",
       "      <td>-0.071416</td>\n",
       "      <td>-0.067940</td>\n",
       "      <td>0.013412</td>\n",
       "      <td>-0.014857</td>\n",
       "      <td>-0.009362</td>\n",
       "      <td>0.004235</td>\n",
       "      <td>-0.447285</td>\n",
       "    </tr>\n",
       "    <tr>\n",
       "      <th>FRANJA num</th>\n",
       "      <td>-0.064903</td>\n",
       "      <td>-0.105370</td>\n",
       "      <td>-0.130462</td>\n",
       "      <td>0.115570</td>\n",
       "      <td>-0.071416</td>\n",
       "      <td>1.000000</td>\n",
       "      <td>-0.006245</td>\n",
       "      <td>-0.088071</td>\n",
       "      <td>0.142232</td>\n",
       "      <td>0.002130</td>\n",
       "      <td>0.058177</td>\n",
       "      <td>0.174135</td>\n",
       "    </tr>\n",
       "    <tr>\n",
       "      <th>Segmento num</th>\n",
       "      <td>-0.065697</td>\n",
       "      <td>-0.004739</td>\n",
       "      <td>-0.009985</td>\n",
       "      <td>-0.009846</td>\n",
       "      <td>-0.067940</td>\n",
       "      <td>-0.006245</td>\n",
       "      <td>1.000000</td>\n",
       "      <td>-0.073122</td>\n",
       "      <td>0.050472</td>\n",
       "      <td>0.049378</td>\n",
       "      <td>0.225997</td>\n",
       "      <td>0.115048</td>\n",
       "    </tr>\n",
       "    <tr>\n",
       "      <th>Cuadrante num</th>\n",
       "      <td>0.013171</td>\n",
       "      <td>0.078543</td>\n",
       "      <td>0.152736</td>\n",
       "      <td>-0.118815</td>\n",
       "      <td>0.013412</td>\n",
       "      <td>-0.088071</td>\n",
       "      <td>-0.073122</td>\n",
       "      <td>1.000000</td>\n",
       "      <td>-0.476749</td>\n",
       "      <td>-0.290216</td>\n",
       "      <td>-0.068991</td>\n",
       "      <td>-0.635567</td>\n",
       "    </tr>\n",
       "    <tr>\n",
       "      <th>Descripcion Causal num</th>\n",
       "      <td>-0.019056</td>\n",
       "      <td>-0.083010</td>\n",
       "      <td>-0.155594</td>\n",
       "      <td>0.134783</td>\n",
       "      <td>-0.014857</td>\n",
       "      <td>0.142232</td>\n",
       "      <td>0.050472</td>\n",
       "      <td>-0.476749</td>\n",
       "      <td>1.000000</td>\n",
       "      <td>0.261517</td>\n",
       "      <td>0.059153</td>\n",
       "      <td>0.582005</td>\n",
       "    </tr>\n",
       "    <tr>\n",
       "      <th>Ocupacion num</th>\n",
       "      <td>-0.007337</td>\n",
       "      <td>0.005186</td>\n",
       "      <td>-0.117475</td>\n",
       "      <td>0.058882</td>\n",
       "      <td>-0.009362</td>\n",
       "      <td>0.002130</td>\n",
       "      <td>0.049378</td>\n",
       "      <td>-0.290216</td>\n",
       "      <td>0.261517</td>\n",
       "      <td>1.000000</td>\n",
       "      <td>0.054108</td>\n",
       "      <td>0.344487</td>\n",
       "    </tr>\n",
       "    <tr>\n",
       "      <th>Rango Endeudamiento num</th>\n",
       "      <td>0.020463</td>\n",
       "      <td>0.030825</td>\n",
       "      <td>-0.039758</td>\n",
       "      <td>0.044648</td>\n",
       "      <td>0.004235</td>\n",
       "      <td>0.058177</td>\n",
       "      <td>0.225997</td>\n",
       "      <td>-0.068991</td>\n",
       "      <td>0.059153</td>\n",
       "      <td>0.054108</td>\n",
       "      <td>1.000000</td>\n",
       "      <td>0.085109</td>\n",
       "    </tr>\n",
       "    <tr>\n",
       "      <th>Group</th>\n",
       "      <td>-0.430544</td>\n",
       "      <td>-0.139799</td>\n",
       "      <td>-0.233088</td>\n",
       "      <td>0.156562</td>\n",
       "      <td>-0.447285</td>\n",
       "      <td>0.174135</td>\n",
       "      <td>0.115048</td>\n",
       "      <td>-0.635567</td>\n",
       "      <td>0.582005</td>\n",
       "      <td>0.344487</td>\n",
       "      <td>0.085109</td>\n",
       "      <td>1.000000</td>\n",
       "    </tr>\n",
       "  </tbody>\n",
       "</table>\n",
       "</div>"
      ],
      "text/plain": [
       "                         Regional  Dias Mora  Calificacion Real  PRODUCTO num  \\\n",
       "Regional                 1.000000   0.059138           0.042854     -0.037308   \n",
       "Dias Mora                0.059138   1.000000           0.175446      0.001158   \n",
       "Calificacion Real        0.042854   0.175446           1.000000     -0.095056   \n",
       "PRODUCTO num            -0.037308   0.001158          -0.095056      1.000000   \n",
       "REGION num               0.759456   0.071044           0.045388     -0.045849   \n",
       "FRANJA num              -0.064903  -0.105370          -0.130462      0.115570   \n",
       "Segmento num            -0.065697  -0.004739          -0.009985     -0.009846   \n",
       "Cuadrante num            0.013171   0.078543           0.152736     -0.118815   \n",
       "Descripcion Causal num  -0.019056  -0.083010          -0.155594      0.134783   \n",
       "Ocupacion num           -0.007337   0.005186          -0.117475      0.058882   \n",
       "Rango Endeudamiento num  0.020463   0.030825          -0.039758      0.044648   \n",
       "Group                   -0.430544  -0.139799          -0.233088      0.156562   \n",
       "\n",
       "                         REGION num  FRANJA num  Segmento num  Cuadrante num  \\\n",
       "Regional                   0.759456   -0.064903     -0.065697       0.013171   \n",
       "Dias Mora                  0.071044   -0.105370     -0.004739       0.078543   \n",
       "Calificacion Real          0.045388   -0.130462     -0.009985       0.152736   \n",
       "PRODUCTO num              -0.045849    0.115570     -0.009846      -0.118815   \n",
       "REGION num                 1.000000   -0.071416     -0.067940       0.013412   \n",
       "FRANJA num                -0.071416    1.000000     -0.006245      -0.088071   \n",
       "Segmento num              -0.067940   -0.006245      1.000000      -0.073122   \n",
       "Cuadrante num              0.013412   -0.088071     -0.073122       1.000000   \n",
       "Descripcion Causal num    -0.014857    0.142232      0.050472      -0.476749   \n",
       "Ocupacion num             -0.009362    0.002130      0.049378      -0.290216   \n",
       "Rango Endeudamiento num    0.004235    0.058177      0.225997      -0.068991   \n",
       "Group                     -0.447285    0.174135      0.115048      -0.635567   \n",
       "\n",
       "                         Descripcion Causal num  Ocupacion num  \\\n",
       "Regional                              -0.019056      -0.007337   \n",
       "Dias Mora                             -0.083010       0.005186   \n",
       "Calificacion Real                     -0.155594      -0.117475   \n",
       "PRODUCTO num                           0.134783       0.058882   \n",
       "REGION num                            -0.014857      -0.009362   \n",
       "FRANJA num                             0.142232       0.002130   \n",
       "Segmento num                           0.050472       0.049378   \n",
       "Cuadrante num                         -0.476749      -0.290216   \n",
       "Descripcion Causal num                 1.000000       0.261517   \n",
       "Ocupacion num                          0.261517       1.000000   \n",
       "Rango Endeudamiento num                0.059153       0.054108   \n",
       "Group                                  0.582005       0.344487   \n",
       "\n",
       "                         Rango Endeudamiento num     Group  \n",
       "Regional                                0.020463 -0.430544  \n",
       "Dias Mora                               0.030825 -0.139799  \n",
       "Calificacion Real                      -0.039758 -0.233088  \n",
       "PRODUCTO num                            0.044648  0.156562  \n",
       "REGION num                              0.004235 -0.447285  \n",
       "FRANJA num                              0.058177  0.174135  \n",
       "Segmento num                            0.225997  0.115048  \n",
       "Cuadrante num                          -0.068991 -0.635567  \n",
       "Descripcion Causal num                  0.059153  0.582005  \n",
       "Ocupacion num                           0.054108  0.344487  \n",
       "Rango Endeudamiento num                 1.000000  0.085109  \n",
       "Group                                   0.085109  1.000000  "
      ]
     },
     "execution_count": 221,
     "metadata": {},
     "output_type": "execute_result"
    }
   ],
   "source": [
    "df_num_scaled.corr(method = \"pearson\")"
   ]
  },
  {
   "cell_type": "markdown",
   "metadata": {},
   "source": [
    "# 4. Further Analisis "
   ]
  },
  {
   "cell_type": "code",
   "execution_count": 256,
   "metadata": {},
   "outputs": [],
   "source": [
    "df = df[df[\"Ocupacion\"] != \"NO APLICA A ESTE PRODUCTO\"] #quito todas las filas que no tengan ocupacion"
   ]
  },
  {
   "cell_type": "markdown",
   "metadata": {},
   "source": [
    "## 4.1 Analizando rangos de endeudamiento"
   ]
  },
  {
   "cell_type": "code",
   "execution_count": 307,
   "metadata": {},
   "outputs": [],
   "source": [
    "def get_employed(row:str) -> int:\n",
    "    if row == \"SIN OFICIO\":\n",
    "        return 0\n",
    "    else:\n",
    "        return 1\n",
    "\n",
    "\n",
    "\n",
    "def get_debt_groups(row:float) -> str:\n",
    "    if row > 0 and row <= 100000000:\n",
    "        return \"[0 - 100M]\"\n",
    "    elif row > 100000000 and row <= 500000000:\n",
    "        return \"[100M - 500M]\"\n",
    "    else:\n",
    "        return \"[500M - 2000M]\"\n",
    "\n",
    "\n",
    "\n",
    "def get_new_debt_groups(row:float) -> str:\n",
    "    if row > 0 and row < 30000000: \n",
    "        return \"[0 - 30M]\"\n",
    "    elif row > 30000000 and row < 60000000:\n",
    "        return \"[30M - 60M]\"\n",
    "    else:\n",
    "        return \"[60M - inf]\""
   ]
  },
  {
   "cell_type": "code",
   "execution_count": 288,
   "metadata": {},
   "outputs": [
    {
     "name": "stderr",
     "output_type": "stream",
     "text": [
      "C:\\Users\\puert\\AppData\\Local\\Temp\\ipykernel_10008\\866127153.py:1: SettingWithCopyWarning: \n",
      "A value is trying to be set on a copy of a slice from a DataFrame.\n",
      "Try using .loc[row_indexer,col_indexer] = value instead\n",
      "\n",
      "See the caveats in the documentation: https://pandas.pydata.org/pandas-docs/stable/user_guide/indexing.html#returning-a-view-versus-a-copy\n",
      "  df[\"Employeed\"] = df[\"Ocupacion\"].apply(get_employed) #obtengo personas que tienen empleo y que noM\n"
     ]
    }
   ],
   "source": [
    "df[\"Employeed\"] = df[\"Ocupacion\"].apply(get_employed) #obtengo personas que tienen empleo y que noM"
   ]
  },
  {
   "cell_type": "code",
   "execution_count": 289,
   "metadata": {},
   "outputs": [
    {
     "name": "stderr",
     "output_type": "stream",
     "text": [
      "C:\\Users\\puert\\AppData\\Local\\Temp\\ipykernel_10008\\2147055644.py:1: SettingWithCopyWarning: \n",
      "A value is trying to be set on a copy of a slice from a DataFrame.\n",
      "Try using .loc[row_indexer,col_indexer] = value instead\n",
      "\n",
      "See the caveats in the documentation: https://pandas.pydata.org/pandas-docs/stable/user_guide/indexing.html#returning-a-view-versus-a-copy\n",
      "  df[\"Debt Group\"] = df[\"Endeudamiento\"].apply(get_debt_groups)\n"
     ]
    }
   ],
   "source": [
    "df[\"Debt Group\"] = df[\"Endeudamiento\"].apply(get_debt_groups)"
   ]
  },
  {
   "cell_type": "code",
   "execution_count": 290,
   "metadata": {},
   "outputs": [
    {
     "data": {
      "text/plain": [
       "[0 - 100M]        87423\n",
       "[100M - 500M]      1134\n",
       "[500M - 2000M]       23\n",
       "Name: Debt Group, dtype: int64"
      ]
     },
     "execution_count": 290,
     "metadata": {},
     "output_type": "execute_result"
    }
   ],
   "source": [
    "df[\"Debt Group\"].value_counts() #hallar personas de los diferentes grupos de endeudamiento"
   ]
  },
  {
   "cell_type": "code",
   "execution_count": 291,
   "metadata": {},
   "outputs": [
    {
     "data": {
      "text/plain": [
       "{'[500M - 2000M]': 19381000917.870003,\n",
       " '[100M - 500M]': 181623708430.57,\n",
       " '[0 - 100M]': 1065261956489.9298}"
      ]
     },
     "execution_count": 291,
     "metadata": {},
     "output_type": "execute_result"
    }
   ],
   "source": [
    "#endeudamiento por grupo\n",
    "debts = {}\n",
    "for group in set(df[\"Debt Group\"]):\n",
    "    debt = df[\"Endeudamiento\"][df[\"Debt Group\"] == group].sum()\n",
    "    debts[group] = debt\n",
    "debts "
   ]
  },
  {
   "cell_type": "markdown",
   "metadata": {},
   "source": [
    "La mayor deuda se encuentra en el grupo que mas debe"
   ]
  },
  {
   "cell_type": "code",
   "execution_count": 292,
   "metadata": {},
   "outputs": [],
   "source": [
    "debt_100_500 = debts[\"[100M - 500M]\"] + debts[\"[500M - 2000M]\"]\n",
    "debt_100_500_percentage = (debt_100_500 / df[\"Endeudamiento\"].sum()) * 100"
   ]
  },
  {
   "cell_type": "code",
   "execution_count": 294,
   "metadata": {},
   "outputs": [
    {
     "name": "stdout",
     "output_type": "stream",
     "text": [
      "Las personas que deben entre 100M y 2000M correponden al 15.87% del endeudamiento total de la compañia\n"
     ]
    }
   ],
   "source": [
    "print(f\"Las personas que deben entre 100M y 2000M correponden al {round(debt_100_500_percentage, 2)}% del endeudamiento total de la compañia\")"
   ]
  },
  {
   "cell_type": "code",
   "execution_count": 308,
   "metadata": {},
   "outputs": [
    {
     "name": "stderr",
     "output_type": "stream",
     "text": [
      "C:\\Users\\puert\\AppData\\Local\\Temp\\ipykernel_10008\\3723120675.py:2: SettingWithCopyWarning: \n",
      "A value is trying to be set on a copy of a slice from a DataFrame.\n",
      "Try using .loc[row_indexer,col_indexer] = value instead\n",
      "\n",
      "See the caveats in the documentation: https://pandas.pydata.org/pandas-docs/stable/user_guide/indexing.html#returning-a-view-versus-a-copy\n",
      "  new_debt[\"Debt Group\"] = new_debt[\"Endeudamiento\"].apply(get_new_debt_groups)\n"
     ]
    }
   ],
   "source": [
    "new_debt = df[df[\"Debt Group\"] == \"[0 - 100M]\"]\n",
    "new_debt[\"Debt Group\"] = new_debt[\"Endeudamiento\"].apply(get_new_debt_groups)"
   ]
  },
  {
   "cell_type": "code",
   "execution_count": 309,
   "metadata": {},
   "outputs": [
    {
     "data": {
      "text/plain": [
       "[0 - 30M]      76386\n",
       "[30M - 60M]     8189\n",
       "[60M - inf]     2848\n",
       "Name: Debt Group, dtype: int64"
      ]
     },
     "execution_count": 309,
     "metadata": {},
     "output_type": "execute_result"
    }
   ],
   "source": [
    "new_debt[\"Debt Group\"].value_counts()"
   ]
  },
  {
   "cell_type": "code",
   "execution_count": 311,
   "metadata": {},
   "outputs": [
    {
     "data": {
      "text/plain": [
       "{'[30M - 60M]': 340069421288.44995,\n",
       " '[60M - inf]': 217247922792.12,\n",
       " '[0 - 30M]': 507944612409.3599}"
      ]
     },
     "execution_count": 311,
     "metadata": {},
     "output_type": "execute_result"
    }
   ],
   "source": [
    "debts = {}\n",
    "for group in set(new_debt[\"Debt Group\"]):\n",
    "    debt = new_debt[\"Endeudamiento\"][new_debt[\"Debt Group\"] == group].sum()\n",
    "    debts[group] = debt\n",
    "debts "
   ]
  },
  {
   "cell_type": "code",
   "execution_count": 314,
   "metadata": {},
   "outputs": [],
   "source": [
    "debt_30_inf = debts[\"[60M - inf]\"] + debts[\"[30M - 60M]\"]\n",
    "debt_30_inf_percentage = (debt_100_500 / df[\"Endeudamiento\"].sum()) * 100"
   ]
  },
  {
   "cell_type": "code",
   "execution_count": 320,
   "metadata": {},
   "outputs": [
    {
     "name": "stdout",
     "output_type": "stream",
     "text": [
      "El endeudamiento total del grupo de 30M a 100M es de: 557317344080.57 lo cual corresponde a 44.01263644665093% del endeudamiento\n"
     ]
    }
   ],
   "source": [
    "print(f\"El endeudamiento total del grupo de 30M a 100M es de: {debt_30_inf} lo cual corresponde a {debt_30_inf_percentage}% del endeudamiento\")"
   ]
  },
  {
   "cell_type": "code",
   "execution_count": 331,
   "metadata": {},
   "outputs": [],
   "source": [
    "optimal_group = new_debt[new_debt[\"Debt Group\"] != \"[0 - 30M]\"]"
   ]
  },
  {
   "cell_type": "markdown",
   "metadata": {},
   "source": [
    "## 4.2 Analizando cuadrante"
   ]
  },
  {
   "cell_type": "code",
   "execution_count": 332,
   "metadata": {},
   "outputs": [
    {
     "data": {
      "text/plain": [
       "3503"
      ]
     },
     "execution_count": 332,
     "metadata": {},
     "output_type": "execute_result"
    }
   ],
   "source": [
    "len(optimal_group[optimal_group[\"Cuadrante\"] == \"TIENE VOLUNTAD Y TIENE CAPACIDAD\"]) #numero de personas que tiene capacidad y voluntad para pagar"
   ]
  },
  {
   "cell_type": "code",
   "execution_count": 333,
   "metadata": {},
   "outputs": [],
   "source": [
    "reasons = optimal_group[\"Descripcion Causal\"][optimal_group[\"Cuadrante\"] == \"TIENE VOLUNTAD Y TIENE CAPACIDAD\"].value_counts()"
   ]
  },
  {
   "cell_type": "code",
   "execution_count": 347,
   "metadata": {},
   "outputs": [
    {
     "data": {
      "text/plain": [
       "62130708700.36"
      ]
     },
     "execution_count": 347,
     "metadata": {},
     "output_type": "execute_result"
    }
   ],
   "source": [
    "optimal_group[\"Endeudamiento\"][(optimal_group[\"Descripcion Causal\"] == \"DESCUIDO\") & (optimal_group[\"Cuadrante\"] == \"TIENE VOLUNTAD Y TIENE CAPACIDAD\")].sum() "
   ]
  },
  {
   "cell_type": "code",
   "execution_count": 341,
   "metadata": {},
   "outputs": [
    {
     "data": {
      "text/plain": [
       "34.37053953753925"
      ]
     },
     "execution_count": 341,
     "metadata": {},
     "output_type": "execute_result"
    }
   ],
   "source": [
    "#las personas que no pagan por descuido son: %\n",
    "(reasons[\"DESCUIDO\"] / len(optimal_group[optimal_group[\"Cuadrante\"] == \"TIENE VOLUNTAD Y TIENE CAPACIDAD\"])) * 100"
   ]
  }
 ],
 "metadata": {
  "kernelspec": {
   "display_name": "Python 3.9.13 64-bit (microsoft store)",
   "language": "python",
   "name": "python3"
  },
  "language_info": {
   "codemirror_mode": {
    "name": "ipython",
    "version": 3
   },
   "file_extension": ".py",
   "mimetype": "text/x-python",
   "name": "python",
   "nbconvert_exporter": "python",
   "pygments_lexer": "ipython3",
   "version": "3.9.13"
  },
  "orig_nbformat": 4,
  "vscode": {
   "interpreter": {
    "hash": "4b5f06bd50d7817547348b63c182d0d1cbac86248b3a5b27901e5974acced38f"
   }
  }
 },
 "nbformat": 4,
 "nbformat_minor": 2
}
