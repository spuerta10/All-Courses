{
 "cells": [
  {
   "cell_type": "code",
   "execution_count": 1,
   "id": "a180ceac",
   "metadata": {
    "ExecuteTime": {
     "end_time": "2022-11-21T23:28:24.951433Z",
     "start_time": "2022-11-21T23:28:24.931237Z"
    }
   },
   "outputs": [],
   "source": [
    "import pandas as pd\n",
    "import numpy as np\n",
    "from nltk.sentiment import SentimentIntensityAnalyzer\n",
    "from tqdm.notebook import tqdm\n",
    "\n",
    "from sklearn.metrics import accuracy_score\n",
    "\n",
    "from nltk import download\n",
    "from nltk.tokenize import word_tokenize, sent_tokenize\n",
    "from nltk.corpus import stopwords\n",
    "from nltk.stem import PorterStemmer, WordNetLemmatizer"
   ]
  },
  {
   "cell_type": "code",
   "execution_count": 2,
   "id": "14046e46",
   "metadata": {
    "ExecuteTime": {
     "end_time": "2022-11-21T23:28:33.810199Z",
     "start_time": "2022-11-21T23:28:33.774424Z"
    }
   },
   "outputs": [],
   "source": [
    "sia = SentimentIntensityAnalyzer()"
   ]
  },
  {
   "cell_type": "code",
   "execution_count": 3,
   "id": "5972f0b3",
   "metadata": {},
   "outputs": [],
   "source": [
    "def clean_words(string, leng = \"english\"):\n",
    "    \n",
    "    stop_words = stopwords.words(leng)\n",
    "    stop_words.extend([\"-\", \".\", \",\", \";\", \"(\", \")\"])\n",
    "    \n",
    "    words = word_tokenize(string)\n",
    "       \n",
    "    return [word.lower() for word in words if not word in stop_words and len(word) >= 3]"
   ]
  },
  {
   "cell_type": "code",
   "execution_count": 4,
   "id": "f549a197",
   "metadata": {},
   "outputs": [],
   "source": [
    "def sentimiento(df, col):\n",
    "    result = {}\n",
    "    for _, row in tqdm(df.iterrows(), total = len(df)):\n",
    "        result[row[\"Id\"]] = sia.polarity_scores(row[col])\n",
    "        \n",
    "    vader_result = pd.DataFrame(result).T\n",
    "    vader_result = vader_result.reset_index().rename(columns = {\"index\": \"Id\"})\n",
    "    df_result_end = pd.concat([df, vader_result], axis = 1).dropna()\n",
    "\n",
    "    return df_result_end"
   ]
  },
  {
   "cell_type": "code",
   "execution_count": 5,
   "id": "a1d72a6c",
   "metadata": {
    "ExecuteTime": {
     "end_time": "2022-11-21T23:56:53.707101Z",
     "start_time": "2022-11-21T23:56:53.694680Z"
    }
   },
   "outputs": [],
   "source": [
    "def stop_words_clean(string, word_token = True, leng = \"english\"):\n",
    "    \n",
    "    stop_words = stopwords.words(leng)\n",
    "    stop_words.extend([\"-\", \".\", \",\", \";\", \"(\", \")\"])\n",
    "    \n",
    "    if word_token == True:\n",
    "        words = word_tokenize(string)\n",
    "    else:\n",
    "        words = sent_tokenize(string)\n",
    "        \n",
    "    result = [word.lower() for word in words if not word in stop_words and len(word) >= 3] \n",
    "    \n",
    "    result_end = \" \".join(result)\n",
    "    \n",
    "    return result_end"
   ]
  },
  {
   "cell_type": "code",
   "execution_count": 6,
   "id": "e6531da7",
   "metadata": {},
   "outputs": [],
   "source": [
    "def string_stemmer(words_list):\n",
    "    stemmer=PorterStemmer()\n",
    "    stemmer_words = [stemmer.stem(word) for word in words_list]\n",
    "    return \" \".join(stemmer_words)"
   ]
  },
  {
   "cell_type": "code",
   "execution_count": 7,
   "id": "c6289357",
   "metadata": {},
   "outputs": [],
   "source": [
    "def lemma(words):\n",
    "    \n",
    "    lemmatizer = WordNetLemmatizer()\n",
    "    lemma_words = [lemmatizer.lemmatize(word) for word in words]\n",
    "\n",
    "    return \" \".join(lemma_words)"
   ]
  },
  {
   "cell_type": "code",
   "execution_count": 8,
   "id": "08f769ea",
   "metadata": {},
   "outputs": [],
   "source": [
    "def scale(value):\n",
    "    if value > 0:\n",
    "        return 5\n",
    "    elif value == 0:\n",
    "        return 3\n",
    "    else:\n",
    "        return 1"
   ]
  },
  {
   "cell_type": "code",
   "execution_count": 9,
   "id": "190a893b",
   "metadata": {},
   "outputs": [],
   "source": [
    "def predict(df):\n",
    "    df['Predict'] = np.vectorize(scale)(df['compound'])\n",
    "    df = df[(df[\"Score\"] != 2) & (df[\"Score\"] != 4)]\n",
    "    \n",
    "    return \"El accurracy es: {}\".format(accuracy_score(df[\"Score\"], df[\"Predict\"]))"
   ]
  },
  {
   "cell_type": "code",
   "execution_count": 10,
   "id": "f2a4d1ee",
   "metadata": {
    "ExecuteTime": {
     "end_time": "2022-11-21T23:53:03.196296Z",
     "start_time": "2022-11-21T23:53:03.175353Z"
    }
   },
   "outputs": [
    {
     "name": "stderr",
     "output_type": "stream",
     "text": [
      "[nltk_data] Downloading package names to\n",
      "[nltk_data]     C:\\Users\\juan.avendano\\AppData\\Roaming\\nltk_data...\n",
      "[nltk_data]   Package names is already up-to-date!\n",
      "[nltk_data] Downloading package stopwords to\n",
      "[nltk_data]     C:\\Users\\juan.avendano\\AppData\\Roaming\\nltk_data...\n",
      "[nltk_data]   Package stopwords is already up-to-date!\n",
      "[nltk_data] Downloading package vader_lexicon to\n",
      "[nltk_data]     C:\\Users\\juan.avendano\\AppData\\Roaming\\nltk_data...\n",
      "[nltk_data]   Package vader_lexicon is already up-to-date!\n"
     ]
    },
    {
     "data": {
      "text/plain": [
       "True"
      ]
     },
     "execution_count": 10,
     "metadata": {},
     "output_type": "execute_result"
    }
   ],
   "source": [
    "download([\"names\", \"stopwords\", \"vader_lexicon\"])"
   ]
  },
  {
   "cell_type": "code",
   "execution_count": 11,
   "id": "93700e81",
   "metadata": {
    "ExecuteTime": {
     "end_time": "2022-11-21T23:56:53.491365Z",
     "start_time": "2022-11-21T23:56:49.103432Z"
    }
   },
   "outputs": [
    {
     "name": "stdout",
     "output_type": "stream",
     "text": [
      "(568454, 10)\n"
     ]
    },
    {
     "data": {
      "text/html": [
       "<div>\n",
       "<style scoped>\n",
       "    .dataframe tbody tr th:only-of-type {\n",
       "        vertical-align: middle;\n",
       "    }\n",
       "\n",
       "    .dataframe tbody tr th {\n",
       "        vertical-align: top;\n",
       "    }\n",
       "\n",
       "    .dataframe thead th {\n",
       "        text-align: right;\n",
       "    }\n",
       "</style>\n",
       "<table border=\"1\" class=\"dataframe\">\n",
       "  <thead>\n",
       "    <tr style=\"text-align: right;\">\n",
       "      <th></th>\n",
       "      <th>Id</th>\n",
       "      <th>ProductId</th>\n",
       "      <th>UserId</th>\n",
       "      <th>ProfileName</th>\n",
       "      <th>HelpfulnessNumerator</th>\n",
       "      <th>HelpfulnessDenominator</th>\n",
       "      <th>Score</th>\n",
       "      <th>Time</th>\n",
       "      <th>Summary</th>\n",
       "      <th>Text</th>\n",
       "    </tr>\n",
       "  </thead>\n",
       "  <tbody>\n",
       "    <tr>\n",
       "      <th>0</th>\n",
       "      <td>1</td>\n",
       "      <td>B001E4KFG0</td>\n",
       "      <td>A3SGXH7AUHU8GW</td>\n",
       "      <td>delmartian</td>\n",
       "      <td>1</td>\n",
       "      <td>1</td>\n",
       "      <td>5</td>\n",
       "      <td>1303862400</td>\n",
       "      <td>Good Quality Dog Food</td>\n",
       "      <td>I have bought several of the Vitality canned d...</td>\n",
       "    </tr>\n",
       "    <tr>\n",
       "      <th>1</th>\n",
       "      <td>2</td>\n",
       "      <td>B00813GRG4</td>\n",
       "      <td>A1D87F6ZCVE5NK</td>\n",
       "      <td>dll pa</td>\n",
       "      <td>0</td>\n",
       "      <td>0</td>\n",
       "      <td>1</td>\n",
       "      <td>1346976000</td>\n",
       "      <td>Not as Advertised</td>\n",
       "      <td>Product arrived labeled as Jumbo Salted Peanut...</td>\n",
       "    </tr>\n",
       "    <tr>\n",
       "      <th>2</th>\n",
       "      <td>3</td>\n",
       "      <td>B000LQOCH0</td>\n",
       "      <td>ABXLMWJIXXAIN</td>\n",
       "      <td>Natalia Corres \"Natalia Corres\"</td>\n",
       "      <td>1</td>\n",
       "      <td>1</td>\n",
       "      <td>4</td>\n",
       "      <td>1219017600</td>\n",
       "      <td>\"Delight\" says it all</td>\n",
       "      <td>This is a confection that has been around a fe...</td>\n",
       "    </tr>\n",
       "  </tbody>\n",
       "</table>\n",
       "</div>"
      ],
      "text/plain": [
       "   Id   ProductId          UserId                      ProfileName  \\\n",
       "0   1  B001E4KFG0  A3SGXH7AUHU8GW                       delmartian   \n",
       "1   2  B00813GRG4  A1D87F6ZCVE5NK                           dll pa   \n",
       "2   3  B000LQOCH0   ABXLMWJIXXAIN  Natalia Corres \"Natalia Corres\"   \n",
       "\n",
       "   HelpfulnessNumerator  HelpfulnessDenominator  Score        Time  \\\n",
       "0                     1                       1      5  1303862400   \n",
       "1                     0                       0      1  1346976000   \n",
       "2                     1                       1      4  1219017600   \n",
       "\n",
       "                 Summary                                               Text  \n",
       "0  Good Quality Dog Food  I have bought several of the Vitality canned d...  \n",
       "1      Not as Advertised  Product arrived labeled as Jumbo Salted Peanut...  \n",
       "2  \"Delight\" says it all  This is a confection that has been around a fe...  "
      ]
     },
     "execution_count": 11,
     "metadata": {},
     "output_type": "execute_result"
    }
   ],
   "source": [
    "df_amazon = pd.read_csv(\"Reviews.csv\")\n",
    "print(df_amazon.shape)\n",
    "df_amazon.head(3)"
   ]
  },
  {
   "cell_type": "code",
   "execution_count": 12,
   "id": "ce8ddbf5",
   "metadata": {
    "ExecuteTime": {
     "end_time": "2022-11-21T23:56:53.862223Z",
     "start_time": "2022-11-21T23:56:53.847544Z"
    }
   },
   "outputs": [
    {
     "data": {
      "text/plain": [
       "(10000, 10)"
      ]
     },
     "execution_count": 12,
     "metadata": {},
     "output_type": "execute_result"
    }
   ],
   "source": [
    "df_amazon_new = df_amazon.iloc[0:10000, :]\n",
    "df_amazon_new.shape"
   ]
  },
  {
   "cell_type": "code",
   "execution_count": 13,
   "id": "9adeec60",
   "metadata": {},
   "outputs": [],
   "source": [
    "methods = {'lemma' : lemma, \n",
    "           'stemmer': string_stemmer, \n",
    "           'stop': stop_words_clean}"
   ]
  },
  {
   "cell_type": "code",
   "execution_count": 14,
   "id": "c033c61b",
   "metadata": {},
   "outputs": [
    {
     "name": "stderr",
     "output_type": "stream",
     "text": [
      "C:\\Users\\juan.avendano\\AppData\\Local\\Temp\\ipykernel_23460\\2598477053.py:7: SettingWithCopyWarning: \n",
      "A value is trying to be set on a copy of a slice from a DataFrame.\n",
      "Try using .loc[row_indexer,col_indexer] = value instead\n",
      "\n",
      "See the caveats in the documentation: https://pandas.pydata.org/pandas-docs/stable/user_guide/indexing.html#returning-a-view-versus-a-copy\n",
      "  df_amazon_new[\"Text_\"+key] = df_amazon_new[\"Text\"].apply(lambda x: value(clean_words(x)))\n",
      "C:\\Users\\juan.avendano\\AppData\\Local\\Temp\\ipykernel_23460\\2598477053.py:7: SettingWithCopyWarning: \n",
      "A value is trying to be set on a copy of a slice from a DataFrame.\n",
      "Try using .loc[row_indexer,col_indexer] = value instead\n",
      "\n",
      "See the caveats in the documentation: https://pandas.pydata.org/pandas-docs/stable/user_guide/indexing.html#returning-a-view-versus-a-copy\n",
      "  df_amazon_new[\"Text_\"+key] = df_amazon_new[\"Text\"].apply(lambda x: value(clean_words(x)))\n",
      "C:\\Users\\juan.avendano\\AppData\\Local\\Temp\\ipykernel_23460\\2598477053.py:3: SettingWithCopyWarning: \n",
      "A value is trying to be set on a copy of a slice from a DataFrame.\n",
      "Try using .loc[row_indexer,col_indexer] = value instead\n",
      "\n",
      "See the caveats in the documentation: https://pandas.pydata.org/pandas-docs/stable/user_guide/indexing.html#returning-a-view-versus-a-copy\n",
      "  df_amazon_new[\"Text_\"+key] = df_amazon_new[\"Text\"].apply(lambda x: value(string = x,\n"
     ]
    }
   ],
   "source": [
    "for key, value in methods.items():\n",
    "    if key == 'stop':\n",
    "        df_amazon_new[\"Text_\"+key] = df_amazon_new[\"Text\"].apply(lambda x: value(string = x, \n",
    "                                                                                word_token = True, \n",
    "                                                                                leng = \"english\"))\n",
    "    else:\n",
    "        df_amazon_new[\"Text_\"+key] = df_amazon_new[\"Text\"].apply(lambda x: value(clean_words(x)))"
   ]
  },
  {
   "cell_type": "code",
   "execution_count": 15,
   "id": "929ae9aa",
   "metadata": {},
   "outputs": [
    {
     "data": {
      "application/vnd.jupyter.widget-view+json": {
       "model_id": "23a883f2572a4b62a69ab7df97812333",
       "version_major": 2,
       "version_minor": 0
      },
      "text/plain": [
       "  0%|          | 0/10000 [00:00<?, ?it/s]"
      ]
     },
     "metadata": {},
     "output_type": "display_data"
    },
    {
     "data": {
      "text/html": [
       "<div>\n",
       "<style scoped>\n",
       "    .dataframe tbody tr th:only-of-type {\n",
       "        vertical-align: middle;\n",
       "    }\n",
       "\n",
       "    .dataframe tbody tr th {\n",
       "        vertical-align: top;\n",
       "    }\n",
       "\n",
       "    .dataframe thead th {\n",
       "        text-align: right;\n",
       "    }\n",
       "</style>\n",
       "<table border=\"1\" class=\"dataframe\">\n",
       "  <thead>\n",
       "    <tr style=\"text-align: right;\">\n",
       "      <th></th>\n",
       "      <th>Id</th>\n",
       "      <th>ProductId</th>\n",
       "      <th>UserId</th>\n",
       "      <th>ProfileName</th>\n",
       "      <th>HelpfulnessNumerator</th>\n",
       "      <th>HelpfulnessDenominator</th>\n",
       "      <th>Score</th>\n",
       "      <th>Time</th>\n",
       "      <th>Summary</th>\n",
       "      <th>Text</th>\n",
       "      <th>Text_lemma</th>\n",
       "      <th>Text_stemmer</th>\n",
       "      <th>Text_stop</th>\n",
       "      <th>Id</th>\n",
       "      <th>neg</th>\n",
       "      <th>neu</th>\n",
       "      <th>pos</th>\n",
       "      <th>compound</th>\n",
       "    </tr>\n",
       "  </thead>\n",
       "  <tbody>\n",
       "    <tr>\n",
       "      <th>0</th>\n",
       "      <td>1</td>\n",
       "      <td>B001E4KFG0</td>\n",
       "      <td>A3SGXH7AUHU8GW</td>\n",
       "      <td>delmartian</td>\n",
       "      <td>1</td>\n",
       "      <td>1</td>\n",
       "      <td>5</td>\n",
       "      <td>1303862400</td>\n",
       "      <td>Good Quality Dog Food</td>\n",
       "      <td>I have bought several of the Vitality canned d...</td>\n",
       "      <td>bought several vitality canned dog food produc...</td>\n",
       "      <td>bought sever vital can dog food product found ...</td>\n",
       "      <td>bought several vitality canned dog food produc...</td>\n",
       "      <td>1</td>\n",
       "      <td>0.000</td>\n",
       "      <td>0.517</td>\n",
       "      <td>0.483</td>\n",
       "      <td>0.9413</td>\n",
       "    </tr>\n",
       "    <tr>\n",
       "      <th>1</th>\n",
       "      <td>2</td>\n",
       "      <td>B00813GRG4</td>\n",
       "      <td>A1D87F6ZCVE5NK</td>\n",
       "      <td>dll pa</td>\n",
       "      <td>0</td>\n",
       "      <td>0</td>\n",
       "      <td>1</td>\n",
       "      <td>1346976000</td>\n",
       "      <td>Not as Advertised</td>\n",
       "      <td>Product arrived labeled as Jumbo Salted Peanut...</td>\n",
       "      <td>product arrived labeled jumbo salted peanut .....</td>\n",
       "      <td>product arriv label jumbo salt peanut ... pean...</td>\n",
       "      <td>product arrived labeled jumbo salted peanuts ....</td>\n",
       "      <td>2</td>\n",
       "      <td>0.088</td>\n",
       "      <td>0.810</td>\n",
       "      <td>0.102</td>\n",
       "      <td>0.0762</td>\n",
       "    </tr>\n",
       "    <tr>\n",
       "      <th>2</th>\n",
       "      <td>3</td>\n",
       "      <td>B000LQOCH0</td>\n",
       "      <td>ABXLMWJIXXAIN</td>\n",
       "      <td>Natalia Corres \"Natalia Corres\"</td>\n",
       "      <td>1</td>\n",
       "      <td>1</td>\n",
       "      <td>4</td>\n",
       "      <td>1219017600</td>\n",
       "      <td>\"Delight\" says it all</td>\n",
       "      <td>This is a confection that has been around a fe...</td>\n",
       "      <td>this confection around century light pillowy c...</td>\n",
       "      <td>thi confect around centuri light pillowi citru...</td>\n",
       "      <td>this confection around centuries light pillowy...</td>\n",
       "      <td>3</td>\n",
       "      <td>0.115</td>\n",
       "      <td>0.631</td>\n",
       "      <td>0.254</td>\n",
       "      <td>0.8624</td>\n",
       "    </tr>\n",
       "  </tbody>\n",
       "</table>\n",
       "</div>"
      ],
      "text/plain": [
       "   Id   ProductId          UserId                      ProfileName  \\\n",
       "0   1  B001E4KFG0  A3SGXH7AUHU8GW                       delmartian   \n",
       "1   2  B00813GRG4  A1D87F6ZCVE5NK                           dll pa   \n",
       "2   3  B000LQOCH0   ABXLMWJIXXAIN  Natalia Corres \"Natalia Corres\"   \n",
       "\n",
       "   HelpfulnessNumerator  HelpfulnessDenominator  Score        Time  \\\n",
       "0                     1                       1      5  1303862400   \n",
       "1                     0                       0      1  1346976000   \n",
       "2                     1                       1      4  1219017600   \n",
       "\n",
       "                 Summary                                               Text  \\\n",
       "0  Good Quality Dog Food  I have bought several of the Vitality canned d...   \n",
       "1      Not as Advertised  Product arrived labeled as Jumbo Salted Peanut...   \n",
       "2  \"Delight\" says it all  This is a confection that has been around a fe...   \n",
       "\n",
       "                                          Text_lemma  \\\n",
       "0  bought several vitality canned dog food produc...   \n",
       "1  product arrived labeled jumbo salted peanut .....   \n",
       "2  this confection around century light pillowy c...   \n",
       "\n",
       "                                        Text_stemmer  \\\n",
       "0  bought sever vital can dog food product found ...   \n",
       "1  product arriv label jumbo salt peanut ... pean...   \n",
       "2  thi confect around centuri light pillowi citru...   \n",
       "\n",
       "                                           Text_stop  Id    neg    neu    pos  \\\n",
       "0  bought several vitality canned dog food produc...   1  0.000  0.517  0.483   \n",
       "1  product arrived labeled jumbo salted peanuts ....   2  0.088  0.810  0.102   \n",
       "2  this confection around centuries light pillowy...   3  0.115  0.631  0.254   \n",
       "\n",
       "   compound  \n",
       "0    0.9413  \n",
       "1    0.0762  \n",
       "2    0.8624  "
      ]
     },
     "execution_count": 15,
     "metadata": {},
     "output_type": "execute_result"
    }
   ],
   "source": [
    "df_result_end = sentimiento(df_amazon_new, \"Text_lemma\")\n",
    "df_result_end.head(3)"
   ]
  },
  {
   "cell_type": "code",
   "execution_count": 16,
   "id": "4de8ee90",
   "metadata": {},
   "outputs": [
    {
     "name": "stdout",
     "output_type": "stream",
     "text": [
      "El accurracy es: 0.7937821236053654 en lemmatizer\n"
     ]
    }
   ],
   "source": [
    "print(predict(df_result_end) + f\" en lemmatizer\")"
   ]
  },
  {
   "cell_type": "code",
   "execution_count": 17,
   "id": "b16c2187",
   "metadata": {},
   "outputs": [
    {
     "data": {
      "application/vnd.jupyter.widget-view+json": {
       "model_id": "f1012d39b04a400f96053763c869c9e7",
       "version_major": 2,
       "version_minor": 0
      },
      "text/plain": [
       "  0%|          | 0/10000 [00:00<?, ?it/s]"
      ]
     },
     "metadata": {},
     "output_type": "display_data"
    },
    {
     "data": {
      "text/html": [
       "<div>\n",
       "<style scoped>\n",
       "    .dataframe tbody tr th:only-of-type {\n",
       "        vertical-align: middle;\n",
       "    }\n",
       "\n",
       "    .dataframe tbody tr th {\n",
       "        vertical-align: top;\n",
       "    }\n",
       "\n",
       "    .dataframe thead th {\n",
       "        text-align: right;\n",
       "    }\n",
       "</style>\n",
       "<table border=\"1\" class=\"dataframe\">\n",
       "  <thead>\n",
       "    <tr style=\"text-align: right;\">\n",
       "      <th></th>\n",
       "      <th>Id</th>\n",
       "      <th>ProductId</th>\n",
       "      <th>UserId</th>\n",
       "      <th>ProfileName</th>\n",
       "      <th>HelpfulnessNumerator</th>\n",
       "      <th>HelpfulnessDenominator</th>\n",
       "      <th>Score</th>\n",
       "      <th>Time</th>\n",
       "      <th>Summary</th>\n",
       "      <th>Text</th>\n",
       "      <th>Text_lemma</th>\n",
       "      <th>Text_stemmer</th>\n",
       "      <th>Text_stop</th>\n",
       "      <th>Id</th>\n",
       "      <th>neg</th>\n",
       "      <th>neu</th>\n",
       "      <th>pos</th>\n",
       "      <th>compound</th>\n",
       "    </tr>\n",
       "  </thead>\n",
       "  <tbody>\n",
       "    <tr>\n",
       "      <th>0</th>\n",
       "      <td>1</td>\n",
       "      <td>B001E4KFG0</td>\n",
       "      <td>A3SGXH7AUHU8GW</td>\n",
       "      <td>delmartian</td>\n",
       "      <td>1</td>\n",
       "      <td>1</td>\n",
       "      <td>5</td>\n",
       "      <td>1303862400</td>\n",
       "      <td>Good Quality Dog Food</td>\n",
       "      <td>I have bought several of the Vitality canned d...</td>\n",
       "      <td>bought several vitality canned dog food produc...</td>\n",
       "      <td>bought sever vital can dog food product found ...</td>\n",
       "      <td>bought several vitality canned dog food produc...</td>\n",
       "      <td>1</td>\n",
       "      <td>0.000</td>\n",
       "      <td>0.517</td>\n",
       "      <td>0.483</td>\n",
       "      <td>0.9413</td>\n",
       "    </tr>\n",
       "    <tr>\n",
       "      <th>1</th>\n",
       "      <td>2</td>\n",
       "      <td>B00813GRG4</td>\n",
       "      <td>A1D87F6ZCVE5NK</td>\n",
       "      <td>dll pa</td>\n",
       "      <td>0</td>\n",
       "      <td>0</td>\n",
       "      <td>1</td>\n",
       "      <td>1346976000</td>\n",
       "      <td>Not as Advertised</td>\n",
       "      <td>Product arrived labeled as Jumbo Salted Peanut...</td>\n",
       "      <td>product arrived labeled jumbo salted peanut .....</td>\n",
       "      <td>product arriv label jumbo salt peanut ... pean...</td>\n",
       "      <td>product arrived labeled jumbo salted peanuts ....</td>\n",
       "      <td>2</td>\n",
       "      <td>0.088</td>\n",
       "      <td>0.810</td>\n",
       "      <td>0.102</td>\n",
       "      <td>0.0762</td>\n",
       "    </tr>\n",
       "    <tr>\n",
       "      <th>2</th>\n",
       "      <td>3</td>\n",
       "      <td>B000LQOCH0</td>\n",
       "      <td>ABXLMWJIXXAIN</td>\n",
       "      <td>Natalia Corres \"Natalia Corres\"</td>\n",
       "      <td>1</td>\n",
       "      <td>1</td>\n",
       "      <td>4</td>\n",
       "      <td>1219017600</td>\n",
       "      <td>\"Delight\" says it all</td>\n",
       "      <td>This is a confection that has been around a fe...</td>\n",
       "      <td>this confection around century light pillowy c...</td>\n",
       "      <td>thi confect around centuri light pillowi citru...</td>\n",
       "      <td>this confection around centuries light pillowy...</td>\n",
       "      <td>3</td>\n",
       "      <td>0.149</td>\n",
       "      <td>0.602</td>\n",
       "      <td>0.249</td>\n",
       "      <td>0.8073</td>\n",
       "    </tr>\n",
       "  </tbody>\n",
       "</table>\n",
       "</div>"
      ],
      "text/plain": [
       "   Id   ProductId          UserId                      ProfileName  \\\n",
       "0   1  B001E4KFG0  A3SGXH7AUHU8GW                       delmartian   \n",
       "1   2  B00813GRG4  A1D87F6ZCVE5NK                           dll pa   \n",
       "2   3  B000LQOCH0   ABXLMWJIXXAIN  Natalia Corres \"Natalia Corres\"   \n",
       "\n",
       "   HelpfulnessNumerator  HelpfulnessDenominator  Score        Time  \\\n",
       "0                     1                       1      5  1303862400   \n",
       "1                     0                       0      1  1346976000   \n",
       "2                     1                       1      4  1219017600   \n",
       "\n",
       "                 Summary                                               Text  \\\n",
       "0  Good Quality Dog Food  I have bought several of the Vitality canned d...   \n",
       "1      Not as Advertised  Product arrived labeled as Jumbo Salted Peanut...   \n",
       "2  \"Delight\" says it all  This is a confection that has been around a fe...   \n",
       "\n",
       "                                          Text_lemma  \\\n",
       "0  bought several vitality canned dog food produc...   \n",
       "1  product arrived labeled jumbo salted peanut .....   \n",
       "2  this confection around century light pillowy c...   \n",
       "\n",
       "                                        Text_stemmer  \\\n",
       "0  bought sever vital can dog food product found ...   \n",
       "1  product arriv label jumbo salt peanut ... pean...   \n",
       "2  thi confect around centuri light pillowi citru...   \n",
       "\n",
       "                                           Text_stop  Id    neg    neu    pos  \\\n",
       "0  bought several vitality canned dog food produc...   1  0.000  0.517  0.483   \n",
       "1  product arrived labeled jumbo salted peanuts ....   2  0.088  0.810  0.102   \n",
       "2  this confection around centuries light pillowy...   3  0.149  0.602  0.249   \n",
       "\n",
       "   compound  \n",
       "0    0.9413  \n",
       "1    0.0762  \n",
       "2    0.8073  "
      ]
     },
     "execution_count": 17,
     "metadata": {},
     "output_type": "execute_result"
    }
   ],
   "source": [
    "df_result_end = sentimiento(df_amazon_new, \"Text_stop\")\n",
    "df_result_end.head(3)"
   ]
  },
  {
   "cell_type": "code",
   "execution_count": 18,
   "id": "6d465806",
   "metadata": {},
   "outputs": [
    {
     "name": "stdout",
     "output_type": "stream",
     "text": [
      "El accurracy es: 0.7944089256612762 en combinación stop words\n"
     ]
    }
   ],
   "source": [
    "print(predict(df_result_end) + f\" en combinación stop words\")"
   ]
  },
  {
   "cell_type": "code",
   "execution_count": 19,
   "id": "9bcb4394",
   "metadata": {},
   "outputs": [
    {
     "data": {
      "application/vnd.jupyter.widget-view+json": {
       "model_id": "ba6d59c63c0641da8bd6df8d4f9bbe51",
       "version_major": 2,
       "version_minor": 0
      },
      "text/plain": [
       "  0%|          | 0/10000 [00:00<?, ?it/s]"
      ]
     },
     "metadata": {},
     "output_type": "display_data"
    },
    {
     "data": {
      "text/html": [
       "<div>\n",
       "<style scoped>\n",
       "    .dataframe tbody tr th:only-of-type {\n",
       "        vertical-align: middle;\n",
       "    }\n",
       "\n",
       "    .dataframe tbody tr th {\n",
       "        vertical-align: top;\n",
       "    }\n",
       "\n",
       "    .dataframe thead th {\n",
       "        text-align: right;\n",
       "    }\n",
       "</style>\n",
       "<table border=\"1\" class=\"dataframe\">\n",
       "  <thead>\n",
       "    <tr style=\"text-align: right;\">\n",
       "      <th></th>\n",
       "      <th>Id</th>\n",
       "      <th>ProductId</th>\n",
       "      <th>UserId</th>\n",
       "      <th>ProfileName</th>\n",
       "      <th>HelpfulnessNumerator</th>\n",
       "      <th>HelpfulnessDenominator</th>\n",
       "      <th>Score</th>\n",
       "      <th>Time</th>\n",
       "      <th>Summary</th>\n",
       "      <th>Text</th>\n",
       "      <th>Text_lemma</th>\n",
       "      <th>Text_stemmer</th>\n",
       "      <th>Text_stop</th>\n",
       "      <th>Id</th>\n",
       "      <th>neg</th>\n",
       "      <th>neu</th>\n",
       "      <th>pos</th>\n",
       "      <th>compound</th>\n",
       "    </tr>\n",
       "  </thead>\n",
       "  <tbody>\n",
       "    <tr>\n",
       "      <th>0</th>\n",
       "      <td>1</td>\n",
       "      <td>B001E4KFG0</td>\n",
       "      <td>A3SGXH7AUHU8GW</td>\n",
       "      <td>delmartian</td>\n",
       "      <td>1</td>\n",
       "      <td>1</td>\n",
       "      <td>5</td>\n",
       "      <td>1303862400</td>\n",
       "      <td>Good Quality Dog Food</td>\n",
       "      <td>I have bought several of the Vitality canned d...</td>\n",
       "      <td>bought several vitality canned dog food produc...</td>\n",
       "      <td>bought sever vital can dog food product found ...</td>\n",
       "      <td>bought several vitality canned dog food produc...</td>\n",
       "      <td>1</td>\n",
       "      <td>0.000</td>\n",
       "      <td>0.586</td>\n",
       "      <td>0.414</td>\n",
       "      <td>0.9081</td>\n",
       "    </tr>\n",
       "    <tr>\n",
       "      <th>1</th>\n",
       "      <td>2</td>\n",
       "      <td>B00813GRG4</td>\n",
       "      <td>A1D87F6ZCVE5NK</td>\n",
       "      <td>dll pa</td>\n",
       "      <td>0</td>\n",
       "      <td>0</td>\n",
       "      <td>1</td>\n",
       "      <td>1346976000</td>\n",
       "      <td>Not as Advertised</td>\n",
       "      <td>Product arrived labeled as Jumbo Salted Peanut...</td>\n",
       "      <td>product arrived labeled jumbo salted peanut .....</td>\n",
       "      <td>product arriv label jumbo salt peanut ... pean...</td>\n",
       "      <td>product arrived labeled jumbo salted peanuts ....</td>\n",
       "      <td>2</td>\n",
       "      <td>0.088</td>\n",
       "      <td>0.810</td>\n",
       "      <td>0.102</td>\n",
       "      <td>0.0762</td>\n",
       "    </tr>\n",
       "    <tr>\n",
       "      <th>2</th>\n",
       "      <td>3</td>\n",
       "      <td>B000LQOCH0</td>\n",
       "      <td>ABXLMWJIXXAIN</td>\n",
       "      <td>Natalia Corres \"Natalia Corres\"</td>\n",
       "      <td>1</td>\n",
       "      <td>1</td>\n",
       "      <td>4</td>\n",
       "      <td>1219017600</td>\n",
       "      <td>\"Delight\" says it all</td>\n",
       "      <td>This is a confection that has been around a fe...</td>\n",
       "      <td>this confection around century light pillowy c...</td>\n",
       "      <td>thi confect around centuri light pillowi citru...</td>\n",
       "      <td>this confection around centuries light pillowy...</td>\n",
       "      <td>3</td>\n",
       "      <td>0.122</td>\n",
       "      <td>0.686</td>\n",
       "      <td>0.192</td>\n",
       "      <td>0.6249</td>\n",
       "    </tr>\n",
       "  </tbody>\n",
       "</table>\n",
       "</div>"
      ],
      "text/plain": [
       "   Id   ProductId          UserId                      ProfileName  \\\n",
       "0   1  B001E4KFG0  A3SGXH7AUHU8GW                       delmartian   \n",
       "1   2  B00813GRG4  A1D87F6ZCVE5NK                           dll pa   \n",
       "2   3  B000LQOCH0   ABXLMWJIXXAIN  Natalia Corres \"Natalia Corres\"   \n",
       "\n",
       "   HelpfulnessNumerator  HelpfulnessDenominator  Score        Time  \\\n",
       "0                     1                       1      5  1303862400   \n",
       "1                     0                       0      1  1346976000   \n",
       "2                     1                       1      4  1219017600   \n",
       "\n",
       "                 Summary                                               Text  \\\n",
       "0  Good Quality Dog Food  I have bought several of the Vitality canned d...   \n",
       "1      Not as Advertised  Product arrived labeled as Jumbo Salted Peanut...   \n",
       "2  \"Delight\" says it all  This is a confection that has been around a fe...   \n",
       "\n",
       "                                          Text_lemma  \\\n",
       "0  bought several vitality canned dog food produc...   \n",
       "1  product arrived labeled jumbo salted peanut .....   \n",
       "2  this confection around century light pillowy c...   \n",
       "\n",
       "                                        Text_stemmer  \\\n",
       "0  bought sever vital can dog food product found ...   \n",
       "1  product arriv label jumbo salt peanut ... pean...   \n",
       "2  thi confect around centuri light pillowi citru...   \n",
       "\n",
       "                                           Text_stop  Id    neg    neu    pos  \\\n",
       "0  bought several vitality canned dog food produc...   1  0.000  0.586  0.414   \n",
       "1  product arrived labeled jumbo salted peanuts ....   2  0.088  0.810  0.102   \n",
       "2  this confection around centuries light pillowy...   3  0.122  0.686  0.192   \n",
       "\n",
       "   compound  \n",
       "0    0.9081  \n",
       "1    0.0762  \n",
       "2    0.6249  "
      ]
     },
     "execution_count": 19,
     "metadata": {},
     "output_type": "execute_result"
    }
   ],
   "source": [
    "df_result_end = sentimiento(df_amazon_new, \"Text_stemmer\")\n",
    "df_result_end.head(3)"
   ]
  },
  {
   "cell_type": "code",
   "execution_count": 20,
   "id": "84151284",
   "metadata": {},
   "outputs": [
    {
     "name": "stdout",
     "output_type": "stream",
     "text": [
      "El accurracy es: 0.7668296352012035 en combinación stemmer\n"
     ]
    }
   ],
   "source": [
    "print(predict(df_result_end) + f\" en combinación stemmer\")"
   ]
  },
  {
   "cell_type": "code",
   "execution_count": 21,
   "id": "4ed024c4",
   "metadata": {},
   "outputs": [
    {
     "name": "stderr",
     "output_type": "stream",
     "text": [
      "C:\\Users\\juan.avendano\\AppData\\Local\\Temp\\ipykernel_23460\\3072027765.py:1: SettingWithCopyWarning: \n",
      "A value is trying to be set on a copy of a slice from a DataFrame.\n",
      "Try using .loc[row_indexer,col_indexer] = value instead\n",
      "\n",
      "See the caveats in the documentation: https://pandas.pydata.org/pandas-docs/stable/user_guide/indexing.html#returning-a-view-versus-a-copy\n",
      "  df_amazon_new[\"Text_lemma_stop\"] = df_amazon_new[\"Text\"].apply(lambda x: stop_words_clean(string = x,\n",
      "C:\\Users\\juan.avendano\\AppData\\Local\\Temp\\ipykernel_23460\\3072027765.py:4: SettingWithCopyWarning: \n",
      "A value is trying to be set on a copy of a slice from a DataFrame.\n",
      "Try using .loc[row_indexer,col_indexer] = value instead\n",
      "\n",
      "See the caveats in the documentation: https://pandas.pydata.org/pandas-docs/stable/user_guide/indexing.html#returning-a-view-versus-a-copy\n",
      "  df_amazon_new[\"Text_lemma_stop\"] = df_amazon_new[\"Text_lemma_stop\"].apply(lambda x: lemma(clean_words(x)))\n"
     ]
    }
   ],
   "source": [
    "df_amazon_new[\"Text_lemma_stop\"] = df_amazon_new[\"Text\"].apply(lambda x: stop_words_clean(string = x, \n",
    "                                                                                          word_token = True, \n",
    "                                                                                          leng = \"english\"))\n",
    "df_amazon_new[\"Text_lemma_stop\"] = df_amazon_new[\"Text_lemma_stop\"].apply(lambda x: lemma(clean_words(x)))"
   ]
  },
  {
   "cell_type": "code",
   "execution_count": 22,
   "id": "9d0c50ba",
   "metadata": {},
   "outputs": [
    {
     "data": {
      "application/vnd.jupyter.widget-view+json": {
       "model_id": "70beebaa8e384b088101e2417535e035",
       "version_major": 2,
       "version_minor": 0
      },
      "text/plain": [
       "  0%|          | 0/10000 [00:00<?, ?it/s]"
      ]
     },
     "metadata": {},
     "output_type": "display_data"
    },
    {
     "data": {
      "text/html": [
       "<div>\n",
       "<style scoped>\n",
       "    .dataframe tbody tr th:only-of-type {\n",
       "        vertical-align: middle;\n",
       "    }\n",
       "\n",
       "    .dataframe tbody tr th {\n",
       "        vertical-align: top;\n",
       "    }\n",
       "\n",
       "    .dataframe thead th {\n",
       "        text-align: right;\n",
       "    }\n",
       "</style>\n",
       "<table border=\"1\" class=\"dataframe\">\n",
       "  <thead>\n",
       "    <tr style=\"text-align: right;\">\n",
       "      <th></th>\n",
       "      <th>Id</th>\n",
       "      <th>ProductId</th>\n",
       "      <th>UserId</th>\n",
       "      <th>ProfileName</th>\n",
       "      <th>HelpfulnessNumerator</th>\n",
       "      <th>HelpfulnessDenominator</th>\n",
       "      <th>Score</th>\n",
       "      <th>Time</th>\n",
       "      <th>Summary</th>\n",
       "      <th>Text</th>\n",
       "      <th>Text_lemma</th>\n",
       "      <th>Text_stemmer</th>\n",
       "      <th>Text_stop</th>\n",
       "      <th>Text_lemma_stop</th>\n",
       "      <th>Id</th>\n",
       "      <th>neg</th>\n",
       "      <th>neu</th>\n",
       "      <th>pos</th>\n",
       "      <th>compound</th>\n",
       "    </tr>\n",
       "  </thead>\n",
       "  <tbody>\n",
       "    <tr>\n",
       "      <th>0</th>\n",
       "      <td>1</td>\n",
       "      <td>B001E4KFG0</td>\n",
       "      <td>A3SGXH7AUHU8GW</td>\n",
       "      <td>delmartian</td>\n",
       "      <td>1</td>\n",
       "      <td>1</td>\n",
       "      <td>5</td>\n",
       "      <td>1303862400</td>\n",
       "      <td>Good Quality Dog Food</td>\n",
       "      <td>I have bought several of the Vitality canned d...</td>\n",
       "      <td>bought several vitality canned dog food produc...</td>\n",
       "      <td>bought sever vital can dog food product found ...</td>\n",
       "      <td>bought several vitality canned dog food produc...</td>\n",
       "      <td>bought several vitality canned dog food produc...</td>\n",
       "      <td>1</td>\n",
       "      <td>0.000</td>\n",
       "      <td>0.503</td>\n",
       "      <td>0.497</td>\n",
       "      <td>0.9413</td>\n",
       "    </tr>\n",
       "    <tr>\n",
       "      <th>1</th>\n",
       "      <td>2</td>\n",
       "      <td>B00813GRG4</td>\n",
       "      <td>A1D87F6ZCVE5NK</td>\n",
       "      <td>dll pa</td>\n",
       "      <td>0</td>\n",
       "      <td>0</td>\n",
       "      <td>1</td>\n",
       "      <td>1346976000</td>\n",
       "      <td>Not as Advertised</td>\n",
       "      <td>Product arrived labeled as Jumbo Salted Peanut...</td>\n",
       "      <td>product arrived labeled jumbo salted peanut .....</td>\n",
       "      <td>product arriv label jumbo salt peanut ... pean...</td>\n",
       "      <td>product arrived labeled jumbo salted peanuts ....</td>\n",
       "      <td>product arrived labeled jumbo salted peanut .....</td>\n",
       "      <td>2</td>\n",
       "      <td>0.123</td>\n",
       "      <td>0.773</td>\n",
       "      <td>0.105</td>\n",
       "      <td>-0.1027</td>\n",
       "    </tr>\n",
       "    <tr>\n",
       "      <th>2</th>\n",
       "      <td>3</td>\n",
       "      <td>B000LQOCH0</td>\n",
       "      <td>ABXLMWJIXXAIN</td>\n",
       "      <td>Natalia Corres \"Natalia Corres\"</td>\n",
       "      <td>1</td>\n",
       "      <td>1</td>\n",
       "      <td>4</td>\n",
       "      <td>1219017600</td>\n",
       "      <td>\"Delight\" says it all</td>\n",
       "      <td>This is a confection that has been around a fe...</td>\n",
       "      <td>this confection around century light pillowy c...</td>\n",
       "      <td>thi confect around centuri light pillowi citru...</td>\n",
       "      <td>this confection around centuries light pillowy...</td>\n",
       "      <td>confection around century light pillowy citrus...</td>\n",
       "      <td>3</td>\n",
       "      <td>0.130</td>\n",
       "      <td>0.584</td>\n",
       "      <td>0.286</td>\n",
       "      <td>0.8624</td>\n",
       "    </tr>\n",
       "  </tbody>\n",
       "</table>\n",
       "</div>"
      ],
      "text/plain": [
       "   Id   ProductId          UserId                      ProfileName  \\\n",
       "0   1  B001E4KFG0  A3SGXH7AUHU8GW                       delmartian   \n",
       "1   2  B00813GRG4  A1D87F6ZCVE5NK                           dll pa   \n",
       "2   3  B000LQOCH0   ABXLMWJIXXAIN  Natalia Corres \"Natalia Corres\"   \n",
       "\n",
       "   HelpfulnessNumerator  HelpfulnessDenominator  Score        Time  \\\n",
       "0                     1                       1      5  1303862400   \n",
       "1                     0                       0      1  1346976000   \n",
       "2                     1                       1      4  1219017600   \n",
       "\n",
       "                 Summary                                               Text  \\\n",
       "0  Good Quality Dog Food  I have bought several of the Vitality canned d...   \n",
       "1      Not as Advertised  Product arrived labeled as Jumbo Salted Peanut...   \n",
       "2  \"Delight\" says it all  This is a confection that has been around a fe...   \n",
       "\n",
       "                                          Text_lemma  \\\n",
       "0  bought several vitality canned dog food produc...   \n",
       "1  product arrived labeled jumbo salted peanut .....   \n",
       "2  this confection around century light pillowy c...   \n",
       "\n",
       "                                        Text_stemmer  \\\n",
       "0  bought sever vital can dog food product found ...   \n",
       "1  product arriv label jumbo salt peanut ... pean...   \n",
       "2  thi confect around centuri light pillowi citru...   \n",
       "\n",
       "                                           Text_stop  \\\n",
       "0  bought several vitality canned dog food produc...   \n",
       "1  product arrived labeled jumbo salted peanuts ....   \n",
       "2  this confection around centuries light pillowy...   \n",
       "\n",
       "                                     Text_lemma_stop  Id    neg    neu    pos  \\\n",
       "0  bought several vitality canned dog food produc...   1  0.000  0.503  0.497   \n",
       "1  product arrived labeled jumbo salted peanut .....   2  0.123  0.773  0.105   \n",
       "2  confection around century light pillowy citrus...   3  0.130  0.584  0.286   \n",
       "\n",
       "   compound  \n",
       "0    0.9413  \n",
       "1   -0.1027  \n",
       "2    0.8624  "
      ]
     },
     "execution_count": 22,
     "metadata": {},
     "output_type": "execute_result"
    }
   ],
   "source": [
    "df_result_end = sentimiento(df_amazon_new, \"Text_lemma_stop\")\n",
    "df_result_end.head(3)"
   ]
  },
  {
   "cell_type": "code",
   "execution_count": 23,
   "id": "58a29514",
   "metadata": {},
   "outputs": [
    {
     "name": "stdout",
     "output_type": "stream",
     "text": [
      "El accurracy es: 0.7922777986711796 en combinación lemmatizer + stop_words\n"
     ]
    }
   ],
   "source": [
    "print(predict(df_result_end) + f\" en combinación lemmatizer + stop_words\")"
   ]
  },
  {
   "cell_type": "code",
   "execution_count": 24,
   "id": "ee1ae624",
   "metadata": {},
   "outputs": [
    {
     "name": "stderr",
     "output_type": "stream",
     "text": [
      "C:\\Users\\juan.avendano\\AppData\\Local\\Temp\\ipykernel_23460\\3571216410.py:1: SettingWithCopyWarning: \n",
      "A value is trying to be set on a copy of a slice from a DataFrame.\n",
      "Try using .loc[row_indexer,col_indexer] = value instead\n",
      "\n",
      "See the caveats in the documentation: https://pandas.pydata.org/pandas-docs/stable/user_guide/indexing.html#returning-a-view-versus-a-copy\n",
      "  df_amazon_new[\"Text_lemma_stop_stemmer\"] = df_amazon_new[\"Text\"].apply(lambda x: stop_words_clean(string = x,\n",
      "C:\\Users\\juan.avendano\\AppData\\Local\\Temp\\ipykernel_23460\\3571216410.py:5: SettingWithCopyWarning: \n",
      "A value is trying to be set on a copy of a slice from a DataFrame.\n",
      "Try using .loc[row_indexer,col_indexer] = value instead\n",
      "\n",
      "See the caveats in the documentation: https://pandas.pydata.org/pandas-docs/stable/user_guide/indexing.html#returning-a-view-versus-a-copy\n",
      "  df_amazon_new[\"Text_lemma_stop_stemmer\"] = df_amazon_new[\"Text_lemma_stop_stemmer\"].apply(lambda x: lemma(clean_words(x)))\n",
      "C:\\Users\\juan.avendano\\AppData\\Local\\Temp\\ipykernel_23460\\3571216410.py:6: SettingWithCopyWarning: \n",
      "A value is trying to be set on a copy of a slice from a DataFrame.\n",
      "Try using .loc[row_indexer,col_indexer] = value instead\n",
      "\n",
      "See the caveats in the documentation: https://pandas.pydata.org/pandas-docs/stable/user_guide/indexing.html#returning-a-view-versus-a-copy\n",
      "  df_amazon_new[\"Text_lemma_stop_stemmer\"] = df_amazon_new[\"Text_lemma_stop_stemmer\"].apply(lambda x: string_stemmer(clean_words(x)))\n"
     ]
    }
   ],
   "source": [
    "df_amazon_new[\"Text_lemma_stop_stemmer\"] = df_amazon_new[\"Text\"].apply(lambda x: stop_words_clean(string = x, \n",
    "                                                                                          word_token = True, \n",
    "                                                                                          leng = \"english\"))\n",
    "\n",
    "df_amazon_new[\"Text_lemma_stop_stemmer\"] = df_amazon_new[\"Text_lemma_stop_stemmer\"].apply(lambda x: lemma(clean_words(x)))\n",
    "df_amazon_new[\"Text_lemma_stop_stemmer\"] = df_amazon_new[\"Text_lemma_stop_stemmer\"].apply(lambda x: string_stemmer(clean_words(x)))"
   ]
  },
  {
   "cell_type": "code",
   "execution_count": 25,
   "id": "338d0865",
   "metadata": {},
   "outputs": [
    {
     "data": {
      "application/vnd.jupyter.widget-view+json": {
       "model_id": "d32c4fe6e71f422ba8c92a53264946d2",
       "version_major": 2,
       "version_minor": 0
      },
      "text/plain": [
       "  0%|          | 0/10000 [00:00<?, ?it/s]"
      ]
     },
     "metadata": {},
     "output_type": "display_data"
    },
    {
     "data": {
      "text/html": [
       "<div>\n",
       "<style scoped>\n",
       "    .dataframe tbody tr th:only-of-type {\n",
       "        vertical-align: middle;\n",
       "    }\n",
       "\n",
       "    .dataframe tbody tr th {\n",
       "        vertical-align: top;\n",
       "    }\n",
       "\n",
       "    .dataframe thead th {\n",
       "        text-align: right;\n",
       "    }\n",
       "</style>\n",
       "<table border=\"1\" class=\"dataframe\">\n",
       "  <thead>\n",
       "    <tr style=\"text-align: right;\">\n",
       "      <th></th>\n",
       "      <th>Id</th>\n",
       "      <th>ProductId</th>\n",
       "      <th>UserId</th>\n",
       "      <th>ProfileName</th>\n",
       "      <th>HelpfulnessNumerator</th>\n",
       "      <th>HelpfulnessDenominator</th>\n",
       "      <th>Score</th>\n",
       "      <th>Time</th>\n",
       "      <th>Summary</th>\n",
       "      <th>Text</th>\n",
       "      <th>Text_lemma</th>\n",
       "      <th>Text_stemmer</th>\n",
       "      <th>Text_stop</th>\n",
       "      <th>Text_lemma_stop</th>\n",
       "      <th>Text_lemma_stop_stemmer</th>\n",
       "      <th>Id</th>\n",
       "      <th>neg</th>\n",
       "      <th>neu</th>\n",
       "      <th>pos</th>\n",
       "      <th>compound</th>\n",
       "    </tr>\n",
       "  </thead>\n",
       "  <tbody>\n",
       "    <tr>\n",
       "      <th>0</th>\n",
       "      <td>1</td>\n",
       "      <td>B001E4KFG0</td>\n",
       "      <td>A3SGXH7AUHU8GW</td>\n",
       "      <td>delmartian</td>\n",
       "      <td>1</td>\n",
       "      <td>1</td>\n",
       "      <td>5</td>\n",
       "      <td>1303862400</td>\n",
       "      <td>Good Quality Dog Food</td>\n",
       "      <td>I have bought several of the Vitality canned d...</td>\n",
       "      <td>bought several vitality canned dog food produc...</td>\n",
       "      <td>bought sever vital can dog food product found ...</td>\n",
       "      <td>bought several vitality canned dog food produc...</td>\n",
       "      <td>bought several vitality canned dog food produc...</td>\n",
       "      <td>bought sever vital can dog food product found ...</td>\n",
       "      <td>1</td>\n",
       "      <td>0.000</td>\n",
       "      <td>0.573</td>\n",
       "      <td>0.427</td>\n",
       "      <td>0.9081</td>\n",
       "    </tr>\n",
       "    <tr>\n",
       "      <th>1</th>\n",
       "      <td>2</td>\n",
       "      <td>B00813GRG4</td>\n",
       "      <td>A1D87F6ZCVE5NK</td>\n",
       "      <td>dll pa</td>\n",
       "      <td>0</td>\n",
       "      <td>0</td>\n",
       "      <td>1</td>\n",
       "      <td>1346976000</td>\n",
       "      <td>Not as Advertised</td>\n",
       "      <td>Product arrived labeled as Jumbo Salted Peanut...</td>\n",
       "      <td>product arrived labeled jumbo salted peanut .....</td>\n",
       "      <td>product arriv label jumbo salt peanut ... pean...</td>\n",
       "      <td>product arrived labeled jumbo salted peanuts ....</td>\n",
       "      <td>product arrived labeled jumbo salted peanut .....</td>\n",
       "      <td>product arriv label jumbo salt peanut ... pean...</td>\n",
       "      <td>2</td>\n",
       "      <td>0.123</td>\n",
       "      <td>0.773</td>\n",
       "      <td>0.105</td>\n",
       "      <td>-0.1027</td>\n",
       "    </tr>\n",
       "    <tr>\n",
       "      <th>2</th>\n",
       "      <td>3</td>\n",
       "      <td>B000LQOCH0</td>\n",
       "      <td>ABXLMWJIXXAIN</td>\n",
       "      <td>Natalia Corres \"Natalia Corres\"</td>\n",
       "      <td>1</td>\n",
       "      <td>1</td>\n",
       "      <td>4</td>\n",
       "      <td>1219017600</td>\n",
       "      <td>\"Delight\" says it all</td>\n",
       "      <td>This is a confection that has been around a fe...</td>\n",
       "      <td>this confection around century light pillowy c...</td>\n",
       "      <td>thi confect around centuri light pillowi citru...</td>\n",
       "      <td>this confection around centuries light pillowy...</td>\n",
       "      <td>confection around century light pillowy citrus...</td>\n",
       "      <td>confect around centuri light pillowi citru gel...</td>\n",
       "      <td>3</td>\n",
       "      <td>0.138</td>\n",
       "      <td>0.643</td>\n",
       "      <td>0.218</td>\n",
       "      <td>0.6249</td>\n",
       "    </tr>\n",
       "  </tbody>\n",
       "</table>\n",
       "</div>"
      ],
      "text/plain": [
       "   Id   ProductId          UserId                      ProfileName  \\\n",
       "0   1  B001E4KFG0  A3SGXH7AUHU8GW                       delmartian   \n",
       "1   2  B00813GRG4  A1D87F6ZCVE5NK                           dll pa   \n",
       "2   3  B000LQOCH0   ABXLMWJIXXAIN  Natalia Corres \"Natalia Corres\"   \n",
       "\n",
       "   HelpfulnessNumerator  HelpfulnessDenominator  Score        Time  \\\n",
       "0                     1                       1      5  1303862400   \n",
       "1                     0                       0      1  1346976000   \n",
       "2                     1                       1      4  1219017600   \n",
       "\n",
       "                 Summary                                               Text  \\\n",
       "0  Good Quality Dog Food  I have bought several of the Vitality canned d...   \n",
       "1      Not as Advertised  Product arrived labeled as Jumbo Salted Peanut...   \n",
       "2  \"Delight\" says it all  This is a confection that has been around a fe...   \n",
       "\n",
       "                                          Text_lemma  \\\n",
       "0  bought several vitality canned dog food produc...   \n",
       "1  product arrived labeled jumbo salted peanut .....   \n",
       "2  this confection around century light pillowy c...   \n",
       "\n",
       "                                        Text_stemmer  \\\n",
       "0  bought sever vital can dog food product found ...   \n",
       "1  product arriv label jumbo salt peanut ... pean...   \n",
       "2  thi confect around centuri light pillowi citru...   \n",
       "\n",
       "                                           Text_stop  \\\n",
       "0  bought several vitality canned dog food produc...   \n",
       "1  product arrived labeled jumbo salted peanuts ....   \n",
       "2  this confection around centuries light pillowy...   \n",
       "\n",
       "                                     Text_lemma_stop  \\\n",
       "0  bought several vitality canned dog food produc...   \n",
       "1  product arrived labeled jumbo salted peanut .....   \n",
       "2  confection around century light pillowy citrus...   \n",
       "\n",
       "                             Text_lemma_stop_stemmer  Id    neg    neu    pos  \\\n",
       "0  bought sever vital can dog food product found ...   1  0.000  0.573  0.427   \n",
       "1  product arriv label jumbo salt peanut ... pean...   2  0.123  0.773  0.105   \n",
       "2  confect around centuri light pillowi citru gel...   3  0.138  0.643  0.218   \n",
       "\n",
       "   compound  \n",
       "0    0.9081  \n",
       "1   -0.1027  \n",
       "2    0.6249  "
      ]
     },
     "execution_count": 25,
     "metadata": {},
     "output_type": "execute_result"
    }
   ],
   "source": [
    "df_result_end = sentimiento(df_amazon_new, \"Text_lemma_stop_stemmer\")\n",
    "df_result_end.head(3)"
   ]
  },
  {
   "cell_type": "code",
   "execution_count": 26,
   "id": "be5ff39b",
   "metadata": {},
   "outputs": [
    {
     "name": "stdout",
     "output_type": "stream",
     "text": [
      "El accurracy es: 0.7668296352012035 en combinación  lemmatizer + stop words + stemmer\n"
     ]
    }
   ],
   "source": [
    "print(predict(df_result_end) + f\" en combinación  lemmatizer + stop words + stemmer\")"
   ]
  },
  {
   "cell_type": "code",
   "execution_count": 27,
   "id": "ee1ae624",
   "metadata": {},
   "outputs": [
    {
     "name": "stderr",
     "output_type": "stream",
     "text": [
      "C:\\Users\\juan.avendano\\AppData\\Local\\Temp\\ipykernel_23460\\4262908865.py:1: SettingWithCopyWarning: \n",
      "A value is trying to be set on a copy of a slice from a DataFrame.\n",
      "Try using .loc[row_indexer,col_indexer] = value instead\n",
      "\n",
      "See the caveats in the documentation: https://pandas.pydata.org/pandas-docs/stable/user_guide/indexing.html#returning-a-view-versus-a-copy\n",
      "  df_amazon_new[\"Text_stop_stemmer\"] = df_amazon_new[\"Text\"].apply(lambda x: stop_words_clean(string = x,\n",
      "C:\\Users\\juan.avendano\\AppData\\Local\\Temp\\ipykernel_23460\\4262908865.py:5: SettingWithCopyWarning: \n",
      "A value is trying to be set on a copy of a slice from a DataFrame.\n",
      "Try using .loc[row_indexer,col_indexer] = value instead\n",
      "\n",
      "See the caveats in the documentation: https://pandas.pydata.org/pandas-docs/stable/user_guide/indexing.html#returning-a-view-versus-a-copy\n",
      "  df_amazon_new[\"Text_stop_stemmer\"] = df_amazon_new[\"Text_stop_stemmer\"].apply(lambda x: string_stemmer(clean_words(x)))\n"
     ]
    }
   ],
   "source": [
    "df_amazon_new[\"Text_stop_stemmer\"] = df_amazon_new[\"Text\"].apply(lambda x: stop_words_clean(string = x, \n",
    "                                                                                          word_token = True, \n",
    "                                                                                          leng = \"english\"))\n",
    "\n",
    "df_amazon_new[\"Text_stop_stemmer\"] = df_amazon_new[\"Text_stop_stemmer\"].apply(lambda x: string_stemmer(clean_words(x)))"
   ]
  },
  {
   "cell_type": "code",
   "execution_count": 28,
   "id": "338d0865",
   "metadata": {},
   "outputs": [
    {
     "data": {
      "application/vnd.jupyter.widget-view+json": {
       "model_id": "9059f2c22d9b43b59e7a0a350f42821e",
       "version_major": 2,
       "version_minor": 0
      },
      "text/plain": [
       "  0%|          | 0/10000 [00:00<?, ?it/s]"
      ]
     },
     "metadata": {},
     "output_type": "display_data"
    },
    {
     "data": {
      "text/html": [
       "<div>\n",
       "<style scoped>\n",
       "    .dataframe tbody tr th:only-of-type {\n",
       "        vertical-align: middle;\n",
       "    }\n",
       "\n",
       "    .dataframe tbody tr th {\n",
       "        vertical-align: top;\n",
       "    }\n",
       "\n",
       "    .dataframe thead th {\n",
       "        text-align: right;\n",
       "    }\n",
       "</style>\n",
       "<table border=\"1\" class=\"dataframe\">\n",
       "  <thead>\n",
       "    <tr style=\"text-align: right;\">\n",
       "      <th></th>\n",
       "      <th>Id</th>\n",
       "      <th>ProductId</th>\n",
       "      <th>UserId</th>\n",
       "      <th>ProfileName</th>\n",
       "      <th>HelpfulnessNumerator</th>\n",
       "      <th>HelpfulnessDenominator</th>\n",
       "      <th>Score</th>\n",
       "      <th>Time</th>\n",
       "      <th>Summary</th>\n",
       "      <th>Text</th>\n",
       "      <th>...</th>\n",
       "      <th>Text_stemmer</th>\n",
       "      <th>Text_stop</th>\n",
       "      <th>Text_lemma_stop</th>\n",
       "      <th>Text_lemma_stop_stemmer</th>\n",
       "      <th>Text_stop_stemmer</th>\n",
       "      <th>Id</th>\n",
       "      <th>neg</th>\n",
       "      <th>neu</th>\n",
       "      <th>pos</th>\n",
       "      <th>compound</th>\n",
       "    </tr>\n",
       "  </thead>\n",
       "  <tbody>\n",
       "    <tr>\n",
       "      <th>0</th>\n",
       "      <td>1</td>\n",
       "      <td>B001E4KFG0</td>\n",
       "      <td>A3SGXH7AUHU8GW</td>\n",
       "      <td>delmartian</td>\n",
       "      <td>1</td>\n",
       "      <td>1</td>\n",
       "      <td>5</td>\n",
       "      <td>1303862400</td>\n",
       "      <td>Good Quality Dog Food</td>\n",
       "      <td>I have bought several of the Vitality canned d...</td>\n",
       "      <td>...</td>\n",
       "      <td>bought sever vital can dog food product found ...</td>\n",
       "      <td>bought several vitality canned dog food produc...</td>\n",
       "      <td>bought several vitality canned dog food produc...</td>\n",
       "      <td>bought sever vital can dog food product found ...</td>\n",
       "      <td>bought sever vital can dog food product found ...</td>\n",
       "      <td>1</td>\n",
       "      <td>0.000</td>\n",
       "      <td>0.573</td>\n",
       "      <td>0.427</td>\n",
       "      <td>0.9081</td>\n",
       "    </tr>\n",
       "    <tr>\n",
       "      <th>1</th>\n",
       "      <td>2</td>\n",
       "      <td>B00813GRG4</td>\n",
       "      <td>A1D87F6ZCVE5NK</td>\n",
       "      <td>dll pa</td>\n",
       "      <td>0</td>\n",
       "      <td>0</td>\n",
       "      <td>1</td>\n",
       "      <td>1346976000</td>\n",
       "      <td>Not as Advertised</td>\n",
       "      <td>Product arrived labeled as Jumbo Salted Peanut...</td>\n",
       "      <td>...</td>\n",
       "      <td>product arriv label jumbo salt peanut ... pean...</td>\n",
       "      <td>product arrived labeled jumbo salted peanuts ....</td>\n",
       "      <td>product arrived labeled jumbo salted peanut .....</td>\n",
       "      <td>product arriv label jumbo salt peanut ... pean...</td>\n",
       "      <td>product arriv label jumbo salt peanut ... pean...</td>\n",
       "      <td>2</td>\n",
       "      <td>0.123</td>\n",
       "      <td>0.773</td>\n",
       "      <td>0.105</td>\n",
       "      <td>-0.1027</td>\n",
       "    </tr>\n",
       "    <tr>\n",
       "      <th>2</th>\n",
       "      <td>3</td>\n",
       "      <td>B000LQOCH0</td>\n",
       "      <td>ABXLMWJIXXAIN</td>\n",
       "      <td>Natalia Corres \"Natalia Corres\"</td>\n",
       "      <td>1</td>\n",
       "      <td>1</td>\n",
       "      <td>4</td>\n",
       "      <td>1219017600</td>\n",
       "      <td>\"Delight\" says it all</td>\n",
       "      <td>This is a confection that has been around a fe...</td>\n",
       "      <td>...</td>\n",
       "      <td>thi confect around centuri light pillowi citru...</td>\n",
       "      <td>this confection around centuries light pillowy...</td>\n",
       "      <td>confection around century light pillowy citrus...</td>\n",
       "      <td>confect around centuri light pillowi citru gel...</td>\n",
       "      <td>confect around centuri light pillowi citru gel...</td>\n",
       "      <td>3</td>\n",
       "      <td>0.138</td>\n",
       "      <td>0.643</td>\n",
       "      <td>0.218</td>\n",
       "      <td>0.6249</td>\n",
       "    </tr>\n",
       "  </tbody>\n",
       "</table>\n",
       "<p>3 rows × 21 columns</p>\n",
       "</div>"
      ],
      "text/plain": [
       "  Id   ProductId          UserId                      ProfileName  \\\n",
       "0  1  B001E4KFG0  A3SGXH7AUHU8GW                       delmartian   \n",
       "1  2  B00813GRG4  A1D87F6ZCVE5NK                           dll pa   \n",
       "2  3  B000LQOCH0   ABXLMWJIXXAIN  Natalia Corres \"Natalia Corres\"   \n",
       "\n",
       "   HelpfulnessNumerator  HelpfulnessDenominator  Score        Time  \\\n",
       "0                     1                       1      5  1303862400   \n",
       "1                     0                       0      1  1346976000   \n",
       "2                     1                       1      4  1219017600   \n",
       "\n",
       "                 Summary                                               Text  \\\n",
       "0  Good Quality Dog Food  I have bought several of the Vitality canned d...   \n",
       "1      Not as Advertised  Product arrived labeled as Jumbo Salted Peanut...   \n",
       "2  \"Delight\" says it all  This is a confection that has been around a fe...   \n",
       "\n",
       "   ...                                       Text_stemmer  \\\n",
       "0  ...  bought sever vital can dog food product found ...   \n",
       "1  ...  product arriv label jumbo salt peanut ... pean...   \n",
       "2  ...  thi confect around centuri light pillowi citru...   \n",
       "\n",
       "                                           Text_stop  \\\n",
       "0  bought several vitality canned dog food produc...   \n",
       "1  product arrived labeled jumbo salted peanuts ....   \n",
       "2  this confection around centuries light pillowy...   \n",
       "\n",
       "                                     Text_lemma_stop  \\\n",
       "0  bought several vitality canned dog food produc...   \n",
       "1  product arrived labeled jumbo salted peanut .....   \n",
       "2  confection around century light pillowy citrus...   \n",
       "\n",
       "                             Text_lemma_stop_stemmer  \\\n",
       "0  bought sever vital can dog food product found ...   \n",
       "1  product arriv label jumbo salt peanut ... pean...   \n",
       "2  confect around centuri light pillowi citru gel...   \n",
       "\n",
       "                                   Text_stop_stemmer Id    neg    neu    pos  \\\n",
       "0  bought sever vital can dog food product found ...  1  0.000  0.573  0.427   \n",
       "1  product arriv label jumbo salt peanut ... pean...  2  0.123  0.773  0.105   \n",
       "2  confect around centuri light pillowi citru gel...  3  0.138  0.643  0.218   \n",
       "\n",
       "   compound  \n",
       "0    0.9081  \n",
       "1   -0.1027  \n",
       "2    0.6249  \n",
       "\n",
       "[3 rows x 21 columns]"
      ]
     },
     "execution_count": 28,
     "metadata": {},
     "output_type": "execute_result"
    }
   ],
   "source": [
    "df_result_end = sentimiento(df_amazon_new, \"Text_stop_stemmer\")\n",
    "df_result_end.head(3)"
   ]
  },
  {
   "cell_type": "code",
   "execution_count": 29,
   "id": "407fe874",
   "metadata": {},
   "outputs": [
    {
     "name": "stdout",
     "output_type": "stream",
     "text": [
      "El accurracy es: 0.7668296352012035 en combinación  stop words + stemmer\n"
     ]
    }
   ],
   "source": [
    "print(predict(df_result_end) + f\" en combinación  stop words + stemmer\")"
   ]
  },
  {
   "cell_type": "code",
   "execution_count": 30,
   "id": "ee1ae624",
   "metadata": {},
   "outputs": [
    {
     "name": "stderr",
     "output_type": "stream",
     "text": [
      "C:\\Users\\juan.avendano\\AppData\\Local\\Temp\\ipykernel_23460\\3194792437.py:1: SettingWithCopyWarning: \n",
      "A value is trying to be set on a copy of a slice from a DataFrame.\n",
      "Try using .loc[row_indexer,col_indexer] = value instead\n",
      "\n",
      "See the caveats in the documentation: https://pandas.pydata.org/pandas-docs/stable/user_guide/indexing.html#returning-a-view-versus-a-copy\n",
      "  df_amazon_new[\"Text_lemma_stemmer\"] = df_amazon_new[\"Text\"].apply(lambda x: lemma(clean_words(x)))\n",
      "C:\\Users\\juan.avendano\\AppData\\Local\\Temp\\ipykernel_23460\\3194792437.py:2: SettingWithCopyWarning: \n",
      "A value is trying to be set on a copy of a slice from a DataFrame.\n",
      "Try using .loc[row_indexer,col_indexer] = value instead\n",
      "\n",
      "See the caveats in the documentation: https://pandas.pydata.org/pandas-docs/stable/user_guide/indexing.html#returning-a-view-versus-a-copy\n",
      "  df_amazon_new[\"Text_lemma_stemmer\"] = df_amazon_new[\"Text_lemma_stemmer\"].apply(lambda x: string_stemmer(clean_words(x)))\n"
     ]
    }
   ],
   "source": [
    "df_amazon_new[\"Text_lemma_stemmer\"] = df_amazon_new[\"Text\"].apply(lambda x: lemma(clean_words(x)))\n",
    "df_amazon_new[\"Text_lemma_stemmer\"] = df_amazon_new[\"Text_lemma_stemmer\"].apply(lambda x: string_stemmer(clean_words(x)))"
   ]
  },
  {
   "cell_type": "code",
   "execution_count": 31,
   "id": "338d0865",
   "metadata": {},
   "outputs": [
    {
     "data": {
      "application/vnd.jupyter.widget-view+json": {
       "model_id": "4d6774c869e34f5cab389f179c1ee5c1",
       "version_major": 2,
       "version_minor": 0
      },
      "text/plain": [
       "  0%|          | 0/10000 [00:00<?, ?it/s]"
      ]
     },
     "metadata": {},
     "output_type": "display_data"
    },
    {
     "data": {
      "text/html": [
       "<div>\n",
       "<style scoped>\n",
       "    .dataframe tbody tr th:only-of-type {\n",
       "        vertical-align: middle;\n",
       "    }\n",
       "\n",
       "    .dataframe tbody tr th {\n",
       "        vertical-align: top;\n",
       "    }\n",
       "\n",
       "    .dataframe thead th {\n",
       "        text-align: right;\n",
       "    }\n",
       "</style>\n",
       "<table border=\"1\" class=\"dataframe\">\n",
       "  <thead>\n",
       "    <tr style=\"text-align: right;\">\n",
       "      <th></th>\n",
       "      <th>Id</th>\n",
       "      <th>ProductId</th>\n",
       "      <th>UserId</th>\n",
       "      <th>ProfileName</th>\n",
       "      <th>HelpfulnessNumerator</th>\n",
       "      <th>HelpfulnessDenominator</th>\n",
       "      <th>Score</th>\n",
       "      <th>Time</th>\n",
       "      <th>Summary</th>\n",
       "      <th>Text</th>\n",
       "      <th>...</th>\n",
       "      <th>Text_stop</th>\n",
       "      <th>Text_lemma_stop</th>\n",
       "      <th>Text_lemma_stop_stemmer</th>\n",
       "      <th>Text_stop_stemmer</th>\n",
       "      <th>Text_lemma_stemmer</th>\n",
       "      <th>Id</th>\n",
       "      <th>neg</th>\n",
       "      <th>neu</th>\n",
       "      <th>pos</th>\n",
       "      <th>compound</th>\n",
       "    </tr>\n",
       "  </thead>\n",
       "  <tbody>\n",
       "    <tr>\n",
       "      <th>0</th>\n",
       "      <td>1</td>\n",
       "      <td>B001E4KFG0</td>\n",
       "      <td>A3SGXH7AUHU8GW</td>\n",
       "      <td>delmartian</td>\n",
       "      <td>1</td>\n",
       "      <td>1</td>\n",
       "      <td>5</td>\n",
       "      <td>1303862400</td>\n",
       "      <td>Good Quality Dog Food</td>\n",
       "      <td>I have bought several of the Vitality canned d...</td>\n",
       "      <td>...</td>\n",
       "      <td>bought several vitality canned dog food produc...</td>\n",
       "      <td>bought several vitality canned dog food produc...</td>\n",
       "      <td>bought sever vital can dog food product found ...</td>\n",
       "      <td>bought sever vital can dog food product found ...</td>\n",
       "      <td>bought sever vital can dog food product found ...</td>\n",
       "      <td>1</td>\n",
       "      <td>0.000</td>\n",
       "      <td>0.573</td>\n",
       "      <td>0.427</td>\n",
       "      <td>0.9081</td>\n",
       "    </tr>\n",
       "    <tr>\n",
       "      <th>1</th>\n",
       "      <td>2</td>\n",
       "      <td>B00813GRG4</td>\n",
       "      <td>A1D87F6ZCVE5NK</td>\n",
       "      <td>dll pa</td>\n",
       "      <td>0</td>\n",
       "      <td>0</td>\n",
       "      <td>1</td>\n",
       "      <td>1346976000</td>\n",
       "      <td>Not as Advertised</td>\n",
       "      <td>Product arrived labeled as Jumbo Salted Peanut...</td>\n",
       "      <td>...</td>\n",
       "      <td>product arrived labeled jumbo salted peanuts ....</td>\n",
       "      <td>product arrived labeled jumbo salted peanut .....</td>\n",
       "      <td>product arriv label jumbo salt peanut ... pean...</td>\n",
       "      <td>product arriv label jumbo salt peanut ... pean...</td>\n",
       "      <td>product arriv label jumbo salt peanut ... pean...</td>\n",
       "      <td>2</td>\n",
       "      <td>0.123</td>\n",
       "      <td>0.773</td>\n",
       "      <td>0.105</td>\n",
       "      <td>-0.1027</td>\n",
       "    </tr>\n",
       "    <tr>\n",
       "      <th>2</th>\n",
       "      <td>3</td>\n",
       "      <td>B000LQOCH0</td>\n",
       "      <td>ABXLMWJIXXAIN</td>\n",
       "      <td>Natalia Corres \"Natalia Corres\"</td>\n",
       "      <td>1</td>\n",
       "      <td>1</td>\n",
       "      <td>4</td>\n",
       "      <td>1219017600</td>\n",
       "      <td>\"Delight\" says it all</td>\n",
       "      <td>This is a confection that has been around a fe...</td>\n",
       "      <td>...</td>\n",
       "      <td>this confection around centuries light pillowy...</td>\n",
       "      <td>confection around century light pillowy citrus...</td>\n",
       "      <td>confect around centuri light pillowi citru gel...</td>\n",
       "      <td>confect around centuri light pillowi citru gel...</td>\n",
       "      <td>confect around centuri light pillowi citru gel...</td>\n",
       "      <td>3</td>\n",
       "      <td>0.138</td>\n",
       "      <td>0.643</td>\n",
       "      <td>0.218</td>\n",
       "      <td>0.6249</td>\n",
       "    </tr>\n",
       "  </tbody>\n",
       "</table>\n",
       "<p>3 rows × 22 columns</p>\n",
       "</div>"
      ],
      "text/plain": [
       "  Id   ProductId          UserId                      ProfileName  \\\n",
       "0  1  B001E4KFG0  A3SGXH7AUHU8GW                       delmartian   \n",
       "1  2  B00813GRG4  A1D87F6ZCVE5NK                           dll pa   \n",
       "2  3  B000LQOCH0   ABXLMWJIXXAIN  Natalia Corres \"Natalia Corres\"   \n",
       "\n",
       "   HelpfulnessNumerator  HelpfulnessDenominator  Score        Time  \\\n",
       "0                     1                       1      5  1303862400   \n",
       "1                     0                       0      1  1346976000   \n",
       "2                     1                       1      4  1219017600   \n",
       "\n",
       "                 Summary                                               Text  \\\n",
       "0  Good Quality Dog Food  I have bought several of the Vitality canned d...   \n",
       "1      Not as Advertised  Product arrived labeled as Jumbo Salted Peanut...   \n",
       "2  \"Delight\" says it all  This is a confection that has been around a fe...   \n",
       "\n",
       "   ...                                          Text_stop  \\\n",
       "0  ...  bought several vitality canned dog food produc...   \n",
       "1  ...  product arrived labeled jumbo salted peanuts ....   \n",
       "2  ...  this confection around centuries light pillowy...   \n",
       "\n",
       "                                     Text_lemma_stop  \\\n",
       "0  bought several vitality canned dog food produc...   \n",
       "1  product arrived labeled jumbo salted peanut .....   \n",
       "2  confection around century light pillowy citrus...   \n",
       "\n",
       "                             Text_lemma_stop_stemmer  \\\n",
       "0  bought sever vital can dog food product found ...   \n",
       "1  product arriv label jumbo salt peanut ... pean...   \n",
       "2  confect around centuri light pillowi citru gel...   \n",
       "\n",
       "                                   Text_stop_stemmer  \\\n",
       "0  bought sever vital can dog food product found ...   \n",
       "1  product arriv label jumbo salt peanut ... pean...   \n",
       "2  confect around centuri light pillowi citru gel...   \n",
       "\n",
       "                                  Text_lemma_stemmer Id    neg    neu    pos  \\\n",
       "0  bought sever vital can dog food product found ...  1  0.000  0.573  0.427   \n",
       "1  product arriv label jumbo salt peanut ... pean...  2  0.123  0.773  0.105   \n",
       "2  confect around centuri light pillowi citru gel...  3  0.138  0.643  0.218   \n",
       "\n",
       "   compound  \n",
       "0    0.9081  \n",
       "1   -0.1027  \n",
       "2    0.6249  \n",
       "\n",
       "[3 rows x 22 columns]"
      ]
     },
     "execution_count": 31,
     "metadata": {},
     "output_type": "execute_result"
    }
   ],
   "source": [
    "df_result_end = sentimiento(df_amazon_new, \"Text_lemma_stemmer\")\n",
    "df_result_end.head(3)"
   ]
  },
  {
   "cell_type": "code",
   "execution_count": 32,
   "id": "223eb961",
   "metadata": {},
   "outputs": [
    {
     "name": "stdout",
     "output_type": "stream",
     "text": [
      "El accurracy es: 0.7668296352012035 en combinación  lemmatizer + stemmer\n"
     ]
    }
   ],
   "source": [
    "print(predict(df_result_end) + f\" en combinación  lemmatizer + stemmer\")"
   ]
  }
 ],
 "metadata": {
  "kernelspec": {
   "display_name": "Python 3.9.12 ('base')",
   "language": "python",
   "name": "python3"
  },
  "language_info": {
   "codemirror_mode": {
    "name": "ipython",
    "version": 3
   },
   "file_extension": ".py",
   "mimetype": "text/x-python",
   "name": "python",
   "nbconvert_exporter": "python",
   "pygments_lexer": "ipython3",
   "version": "3.9.12"
  },
  "toc": {
   "base_numbering": 1,
   "nav_menu": {},
   "number_sections": true,
   "sideBar": true,
   "skip_h1_title": false,
   "title_cell": "Table of Contents",
   "title_sidebar": "Contents",
   "toc_cell": false,
   "toc_position": {
    "height": "calc(100% - 180px)",
    "left": "10px",
    "top": "150px",
    "width": "165px"
   },
   "toc_section_display": true,
   "toc_window_display": true
  },
  "varInspector": {
   "cols": {
    "lenName": 16,
    "lenType": 16,
    "lenVar": 40
   },
   "kernels_config": {
    "python": {
     "delete_cmd_postfix": "",
     "delete_cmd_prefix": "del ",
     "library": "var_list.py",
     "varRefreshCmd": "print(var_dic_list())"
    },
    "r": {
     "delete_cmd_postfix": ") ",
     "delete_cmd_prefix": "rm(",
     "library": "var_list.r",
     "varRefreshCmd": "cat(var_dic_list()) "
    }
   },
   "types_to_exclude": [
    "module",
    "function",
    "builtin_function_or_method",
    "instance",
    "_Feature"
   ],
   "window_display": false
  },
  "vscode": {
   "interpreter": {
    "hash": "d63a4a7f5ccd9940975e3d8a6c9db3c8a9c6b75b594e83b1aa93ae4234cec3fc"
   }
  }
 },
 "nbformat": 4,
 "nbformat_minor": 5
}
