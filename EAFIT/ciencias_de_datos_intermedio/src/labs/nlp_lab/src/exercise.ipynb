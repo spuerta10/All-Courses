{
 "cells": [
  {
   "cell_type": "code",
   "execution_count": 2,
   "metadata": {},
   "outputs": [],
   "source": [
    "import pandas as pd\n",
    "from nltk.corpus import stopwords #stopwords\n",
    "from nltk.tokenize import word_tokenize, sent_tokenize #tokenizer\n",
    "from nltk.stem import PorterStemmer, SnowballStemmer, WordNetLemmatizer #stemmers\n",
    "from nltk.sentiment import SentimentIntensityAnalyzer #anlasis de sentimientos\n",
    "from nltk import download"
   ]
  },
  {
   "cell_type": "code",
   "execution_count": 3,
   "metadata": {},
   "outputs": [
    {
     "name": "stderr",
     "output_type": "stream",
     "text": [
      "[nltk_data] Downloading package names to\n",
      "[nltk_data]     C:\\Users\\Admin\\AppData\\Roaming\\nltk_data...\n",
      "[nltk_data]   Package names is already up-to-date!\n",
      "[nltk_data] Downloading package stopwords to\n",
      "[nltk_data]     C:\\Users\\Admin\\AppData\\Roaming\\nltk_data...\n",
      "[nltk_data]   Package stopwords is already up-to-date!\n",
      "[nltk_data] Downloading package vader_lexicon to\n",
      "[nltk_data]     C:\\Users\\Admin\\AppData\\Roaming\\nltk_data...\n",
      "[nltk_data]   Package vader_lexicon is already up-to-date!\n",
      "[nltk_data] Downloading package wordnet to\n",
      "[nltk_data]     C:\\Users\\Admin\\AppData\\Roaming\\nltk_data...\n",
      "[nltk_data]   Package wordnet is already up-to-date!\n",
      "[nltk_data] Downloading package punkt to\n",
      "[nltk_data]     C:\\Users\\Admin\\AppData\\Roaming\\nltk_data...\n",
      "[nltk_data]   Package punkt is already up-to-date!\n",
      "[nltk_data] Downloading package omw-1.4 to\n",
      "[nltk_data]     C:\\Users\\Admin\\AppData\\Roaming\\nltk_data...\n",
      "[nltk_data]   Package omw-1.4 is already up-to-date!\n"
     ]
    },
    {
     "data": {
      "text/plain": [
       "True"
      ]
     },
     "execution_count": 3,
     "metadata": {},
     "output_type": "execute_result"
    }
   ],
   "source": [
    "#descargando los recursos\n",
    "download([\"names\", \"stopwords\", \"vader_lexicon\", \"wordnet\", \"punkt\", \"omw-1.4\"])"
   ]
  },
  {
   "cell_type": "code",
   "execution_count": 38,
   "metadata": {},
   "outputs": [],
   "source": [
    "def get_words_list(entry_text: str, token = True, leng = \"english\") -> list:\n",
    "    stop_words = stopwords.words(leng)\n",
    "    stop_words.extend([\"-\", \".\", \",\", \";\", \"(\", \")\"])\n",
    "    if token is True:\n",
    "        words_list = word_tokenize(entry_text)\n",
    "    else:\n",
    "        words_list = sent_tokenize(entry_text)\n",
    "    return [word.lower() for word in words_list if not word in stop_words and len(word) >= 3]\n",
    "\n",
    "\n",
    "\n",
    "def stop_words(entry_text:str) -> str:\n",
    "    assert isinstance(entry_text, str), f\"entry_text must be type string, not type {type(entry_text)}\"\n",
    "    try:\n",
    "        words_list = get_words_list(entry_text)\n",
    "        if not isinstance(words_list, list):\n",
    "            raise AssertionError(\"\")\n",
    "        final_text = \" \".join(words_list)\n",
    "        return final_text\n",
    "    except AssertionError as error:\n",
    "        print(error)\n",
    "        return 0\n",
    "\n",
    "\n",
    "\n",
    "def lemmatizer(entry_text: str) -> str:\n",
    "    assert isinstance(entry_text, str), f\"entry_text must be type string, not type {type(entry_text)}\"\n",
    "    try:\n",
    "        words_list = get_words_list(entry_text)\n",
    "        if not isinstance(words_list, list):\n",
    "            raise AssertionError(\"\")\n",
    "        lemmatizer = WordNetLemmatizer()\n",
    "        lemma_words = [lemmatizer.lemmatize(word) for word in words_list]\n",
    "        final_text = \" \".join(lemma_words)\n",
    "        return final_text\n",
    "    except AssertionError as error:\n",
    "        print(error)\n",
    "        return 0\n",
    "\n",
    "\n",
    "\n",
    "def stemmer(entry_text: str) -> str:\n",
    "    assert isinstance(entry_text, str), f\"entry_text must be type string, not type {type(entry_text)}\"\n",
    "    try:\n",
    "        words_list = get_words_list(entry_text)\n",
    "        if not isinstance(words_list, list):\n",
    "            raise AssertionError(\"\")\n",
    "        stemmer = PorterStemmer()\n",
    "        stem_words = [stemmer.stem(word) for word in words_list]\n",
    "        final_text = \" \".join(stem_words)\n",
    "        return final_text\n",
    "    except AssertionError as error:\n",
    "        print(error)\n",
    "        return 0\n",
    "    \n",
    "\n",
    "\n",
    "def to_str(entry_dict:dict) -> str:\n",
    "    assert isinstance(entry_dict, dict), f\"\"\n",
    "    try:\n",
    "        final_str = \"\"\n",
    "        for key in entry_dict.keys():\n",
    "            final_str += f\"{key} : {entry_dict[key]} \"\n",
    "        return final_str\n",
    "    except AssertionError as error:\n",
    "        print(error)\n",
    "        return 0\n",
    "\n",
    "\n",
    "\n",
    "def get_sentiment_analysis(entry_text: str) -> dict:\n",
    "    assert isinstance(entry_text, str), f\"entry_text must be type string, not type {type(entry_text)}\"\n",
    "    try:\n",
    "        analyzer = SentimentIntensityAnalyzer()\n",
    "        string_dict = analyzer.polarity_scores(entry_text)\n",
    "        return string_dict\n",
    "    except AssertionError as error:\n",
    "        print(error)\n",
    "        return 0\n",
    "    "
   ]
  },
  {
   "cell_type": "code",
   "execution_count": 61,
   "metadata": {},
   "outputs": [
    {
     "name": "stderr",
     "output_type": "stream",
     "text": [
      "C:\\Users\\Admin\\AppData\\Local\\Temp\\ipykernel_8748\\218813406.py:1: FutureWarning: The error_bad_lines argument has been deprecated and will be removed in a future version. Use on_bad_lines in the future.\n",
      "\n",
      "\n",
      "  df = pd.read_csv(\"reviews.csv\", encoding=\"utf-8\", error_bad_lines = False, engine = \"python\")\n",
      "Skipping line 62803: unexpected end of data\n"
     ]
    }
   ],
   "source": [
    "df = pd.read_csv(\"reviews.csv\", encoding=\"utf-8\", error_bad_lines = False, engine = \"python\")"
   ]
  },
  {
   "cell_type": "code",
   "execution_count": null,
   "metadata": {},
   "outputs": [],
   "source": []
  }
 ],
 "metadata": {
  "kernelspec": {
   "display_name": "Python 3.9.5 64-bit",
   "language": "python",
   "name": "python3"
  },
  "language_info": {
   "codemirror_mode": {
    "name": "ipython",
    "version": 3
   },
   "file_extension": ".py",
   "mimetype": "text/x-python",
   "name": "python",
   "nbconvert_exporter": "python",
   "pygments_lexer": "ipython3",
   "version": "3.9.5"
  },
  "orig_nbformat": 4,
  "vscode": {
   "interpreter": {
    "hash": "0d591c6e422414675974e227c13f5382000c440fedd3c5006ef2be5d887f0ba7"
   }
  }
 },
 "nbformat": 4,
 "nbformat_minor": 2
}
